{
 "cells": [
  {
   "cell_type": "markdown",
   "id": "ef3825b1",
   "metadata": {},
   "source": [
    "# Cars and Fuel Efficiency\n",
    "\n",
    "The fuel efficiency of a car is meseaured in miles per gallon (mpg). \n",
    "\n",
    "In this case study, we will use a data set about different car models to investigate what variables influence fuel efficiency."
   ]
  },
  {
   "cell_type": "markdown",
   "id": "adb0b63a",
   "metadata": {},
   "source": [
    "## Question 0\n",
    "\n",
    "Read in the data set, which is available at https://datasci112.stanford.edu/data/auto-mpg-clean.tsv. Note that this file is tab-delimited, not comma-delimited!"
   ]
  },
  {
   "cell_type": "code",
   "execution_count": 21,
   "id": "36150e9b",
   "metadata": {},
   "outputs": [
    {
     "data": {
      "text/html": [
       "<div>\n",
       "<style scoped>\n",
       "    .dataframe tbody tr th:only-of-type {\n",
       "        vertical-align: middle;\n",
       "    }\n",
       "\n",
       "    .dataframe tbody tr th {\n",
       "        vertical-align: top;\n",
       "    }\n",
       "\n",
       "    .dataframe thead th {\n",
       "        text-align: right;\n",
       "    }\n",
       "</style>\n",
       "<table border=\"1\" class=\"dataframe\">\n",
       "  <thead>\n",
       "    <tr style=\"text-align: right;\">\n",
       "      <th></th>\n",
       "      <th>car name</th>\n",
       "      <th>mpg</th>\n",
       "      <th>cylinders</th>\n",
       "      <th>displacement</th>\n",
       "      <th>horsepower</th>\n",
       "      <th>weight</th>\n",
       "      <th>acceleration</th>\n",
       "      <th>model year</th>\n",
       "      <th>origin</th>\n",
       "    </tr>\n",
       "  </thead>\n",
       "  <tbody>\n",
       "    <tr>\n",
       "      <th>0</th>\n",
       "      <td>chevrolet chevelle malibu</td>\n",
       "      <td>18.0</td>\n",
       "      <td>8</td>\n",
       "      <td>307.0</td>\n",
       "      <td>130.0</td>\n",
       "      <td>3504</td>\n",
       "      <td>12.0</td>\n",
       "      <td>1970</td>\n",
       "      <td>USA</td>\n",
       "    </tr>\n",
       "    <tr>\n",
       "      <th>1</th>\n",
       "      <td>buick skylark 320</td>\n",
       "      <td>15.0</td>\n",
       "      <td>8</td>\n",
       "      <td>350.0</td>\n",
       "      <td>165.0</td>\n",
       "      <td>3693</td>\n",
       "      <td>11.5</td>\n",
       "      <td>1970</td>\n",
       "      <td>USA</td>\n",
       "    </tr>\n",
       "    <tr>\n",
       "      <th>2</th>\n",
       "      <td>plymouth satellite</td>\n",
       "      <td>18.0</td>\n",
       "      <td>8</td>\n",
       "      <td>318.0</td>\n",
       "      <td>150.0</td>\n",
       "      <td>3436</td>\n",
       "      <td>11.0</td>\n",
       "      <td>1970</td>\n",
       "      <td>USA</td>\n",
       "    </tr>\n",
       "    <tr>\n",
       "      <th>3</th>\n",
       "      <td>amc rebel sst</td>\n",
       "      <td>16.0</td>\n",
       "      <td>8</td>\n",
       "      <td>304.0</td>\n",
       "      <td>150.0</td>\n",
       "      <td>3433</td>\n",
       "      <td>12.0</td>\n",
       "      <td>1970</td>\n",
       "      <td>USA</td>\n",
       "    </tr>\n",
       "    <tr>\n",
       "      <th>4</th>\n",
       "      <td>ford torino</td>\n",
       "      <td>17.0</td>\n",
       "      <td>8</td>\n",
       "      <td>302.0</td>\n",
       "      <td>140.0</td>\n",
       "      <td>3449</td>\n",
       "      <td>10.5</td>\n",
       "      <td>1970</td>\n",
       "      <td>USA</td>\n",
       "    </tr>\n",
       "    <tr>\n",
       "      <th>...</th>\n",
       "      <td>...</td>\n",
       "      <td>...</td>\n",
       "      <td>...</td>\n",
       "      <td>...</td>\n",
       "      <td>...</td>\n",
       "      <td>...</td>\n",
       "      <td>...</td>\n",
       "      <td>...</td>\n",
       "      <td>...</td>\n",
       "    </tr>\n",
       "    <tr>\n",
       "      <th>387</th>\n",
       "      <td>ford mustang gl</td>\n",
       "      <td>27.0</td>\n",
       "      <td>4</td>\n",
       "      <td>140.0</td>\n",
       "      <td>86.0</td>\n",
       "      <td>2790</td>\n",
       "      <td>15.6</td>\n",
       "      <td>1982</td>\n",
       "      <td>USA</td>\n",
       "    </tr>\n",
       "    <tr>\n",
       "      <th>388</th>\n",
       "      <td>vw pickup</td>\n",
       "      <td>44.0</td>\n",
       "      <td>4</td>\n",
       "      <td>97.0</td>\n",
       "      <td>52.0</td>\n",
       "      <td>2130</td>\n",
       "      <td>24.6</td>\n",
       "      <td>1982</td>\n",
       "      <td>Europe</td>\n",
       "    </tr>\n",
       "    <tr>\n",
       "      <th>389</th>\n",
       "      <td>dodge rampage</td>\n",
       "      <td>32.0</td>\n",
       "      <td>4</td>\n",
       "      <td>135.0</td>\n",
       "      <td>84.0</td>\n",
       "      <td>2295</td>\n",
       "      <td>11.6</td>\n",
       "      <td>1982</td>\n",
       "      <td>USA</td>\n",
       "    </tr>\n",
       "    <tr>\n",
       "      <th>390</th>\n",
       "      <td>ford ranger</td>\n",
       "      <td>28.0</td>\n",
       "      <td>4</td>\n",
       "      <td>120.0</td>\n",
       "      <td>79.0</td>\n",
       "      <td>2625</td>\n",
       "      <td>18.6</td>\n",
       "      <td>1982</td>\n",
       "      <td>USA</td>\n",
       "    </tr>\n",
       "    <tr>\n",
       "      <th>391</th>\n",
       "      <td>chevy s-10</td>\n",
       "      <td>31.0</td>\n",
       "      <td>4</td>\n",
       "      <td>119.0</td>\n",
       "      <td>82.0</td>\n",
       "      <td>2720</td>\n",
       "      <td>19.4</td>\n",
       "      <td>1982</td>\n",
       "      <td>USA</td>\n",
       "    </tr>\n",
       "  </tbody>\n",
       "</table>\n",
       "<p>392 rows × 9 columns</p>\n",
       "</div>"
      ],
      "text/plain": [
       "                      car name   mpg  cylinders  displacement  horsepower  \\\n",
       "0    chevrolet chevelle malibu  18.0          8         307.0       130.0   \n",
       "1            buick skylark 320  15.0          8         350.0       165.0   \n",
       "2           plymouth satellite  18.0          8         318.0       150.0   \n",
       "3                amc rebel sst  16.0          8         304.0       150.0   \n",
       "4                  ford torino  17.0          8         302.0       140.0   \n",
       "..                         ...   ...        ...           ...         ...   \n",
       "387            ford mustang gl  27.0          4         140.0        86.0   \n",
       "388                  vw pickup  44.0          4          97.0        52.0   \n",
       "389              dodge rampage  32.0          4         135.0        84.0   \n",
       "390                ford ranger  28.0          4         120.0        79.0   \n",
       "391                 chevy s-10  31.0          4         119.0        82.0   \n",
       "\n",
       "     weight  acceleration  model year  origin  \n",
       "0      3504          12.0        1970     USA  \n",
       "1      3693          11.5        1970     USA  \n",
       "2      3436          11.0        1970     USA  \n",
       "3      3433          12.0        1970     USA  \n",
       "4      3449          10.5        1970     USA  \n",
       "..      ...           ...         ...     ...  \n",
       "387    2790          15.6        1982     USA  \n",
       "388    2130          24.6        1982  Europe  \n",
       "389    2295          11.6        1982     USA  \n",
       "390    2625          18.6        1982     USA  \n",
       "391    2720          19.4        1982     USA  \n",
       "\n",
       "[392 rows x 9 columns]"
      ]
     },
     "execution_count": 21,
     "metadata": {},
     "output_type": "execute_result"
    }
   ],
   "source": [
    "# load the tsv file\n",
    "import pandas as pd\n",
    "\n",
    "df = pd.read_csv('data/auto-mpg-clean.tsv', sep='\\t')\n",
    "df"
   ]
  },
  {
   "cell_type": "markdown",
   "id": "e148d9ad",
   "metadata": {},
   "source": [
    "## Question 1\n",
    "\n",
    "The horsepower is a measure of how quickly force can be produced by an engine. What is the relationship between horsepower and fuel efficiency?"
   ]
  },
  {
   "cell_type": "code",
   "execution_count": 22,
   "id": "649e2f0f",
   "metadata": {},
   "outputs": [
    {
     "data": {
      "application/vnd.plotly.v1+json": {
       "config": {
        "plotlyServerURL": "https://plot.ly"
       },
       "data": [
        {
         "hovertemplate": "horsepower=%{x}<br>mpg=%{y}<extra></extra>",
         "legendgroup": "",
         "marker": {
          "color": "#636efa",
          "symbol": "circle"
         },
         "mode": "markers",
         "name": "",
         "orientation": "v",
         "showlegend": false,
         "type": "scatter",
         "x": {
          "bdata": "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",
          "dtype": "f8"
         },
         "xaxis": "x",
         "y": {
          "bdata": "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",
          "dtype": "f8"
         },
         "yaxis": "y"
        }
       ],
       "layout": {
        "legend": {
         "tracegroupgap": 0
        },
        "template": {
         "data": {
          "bar": [
           {
            "error_x": {
             "color": "#2a3f5f"
            },
            "error_y": {
             "color": "#2a3f5f"
            },
            "marker": {
             "line": {
              "color": "#E5ECF6",
              "width": 0.5
             },
             "pattern": {
              "fillmode": "overlay",
              "size": 10,
              "solidity": 0.2
             }
            },
            "type": "bar"
           }
          ],
          "barpolar": [
           {
            "marker": {
             "line": {
              "color": "#E5ECF6",
              "width": 0.5
             },
             "pattern": {
              "fillmode": "overlay",
              "size": 10,
              "solidity": 0.2
             }
            },
            "type": "barpolar"
           }
          ],
          "carpet": [
           {
            "aaxis": {
             "endlinecolor": "#2a3f5f",
             "gridcolor": "white",
             "linecolor": "white",
             "minorgridcolor": "white",
             "startlinecolor": "#2a3f5f"
            },
            "baxis": {
             "endlinecolor": "#2a3f5f",
             "gridcolor": "white",
             "linecolor": "white",
             "minorgridcolor": "white",
             "startlinecolor": "#2a3f5f"
            },
            "type": "carpet"
           }
          ],
          "choropleth": [
           {
            "colorbar": {
             "outlinewidth": 0,
             "ticks": ""
            },
            "type": "choropleth"
           }
          ],
          "contour": [
           {
            "colorbar": {
             "outlinewidth": 0,
             "ticks": ""
            },
            "colorscale": [
             [
              0,
              "#0d0887"
             ],
             [
              0.1111111111111111,
              "#46039f"
             ],
             [
              0.2222222222222222,
              "#7201a8"
             ],
             [
              0.3333333333333333,
              "#9c179e"
             ],
             [
              0.4444444444444444,
              "#bd3786"
             ],
             [
              0.5555555555555556,
              "#d8576b"
             ],
             [
              0.6666666666666666,
              "#ed7953"
             ],
             [
              0.7777777777777778,
              "#fb9f3a"
             ],
             [
              0.8888888888888888,
              "#fdca26"
             ],
             [
              1,
              "#f0f921"
             ]
            ],
            "type": "contour"
           }
          ],
          "contourcarpet": [
           {
            "colorbar": {
             "outlinewidth": 0,
             "ticks": ""
            },
            "type": "contourcarpet"
           }
          ],
          "heatmap": [
           {
            "colorbar": {
             "outlinewidth": 0,
             "ticks": ""
            },
            "colorscale": [
             [
              0,
              "#0d0887"
             ],
             [
              0.1111111111111111,
              "#46039f"
             ],
             [
              0.2222222222222222,
              "#7201a8"
             ],
             [
              0.3333333333333333,
              "#9c179e"
             ],
             [
              0.4444444444444444,
              "#bd3786"
             ],
             [
              0.5555555555555556,
              "#d8576b"
             ],
             [
              0.6666666666666666,
              "#ed7953"
             ],
             [
              0.7777777777777778,
              "#fb9f3a"
             ],
             [
              0.8888888888888888,
              "#fdca26"
             ],
             [
              1,
              "#f0f921"
             ]
            ],
            "type": "heatmap"
           }
          ],
          "histogram": [
           {
            "marker": {
             "pattern": {
              "fillmode": "overlay",
              "size": 10,
              "solidity": 0.2
             }
            },
            "type": "histogram"
           }
          ],
          "histogram2d": [
           {
            "colorbar": {
             "outlinewidth": 0,
             "ticks": ""
            },
            "colorscale": [
             [
              0,
              "#0d0887"
             ],
             [
              0.1111111111111111,
              "#46039f"
             ],
             [
              0.2222222222222222,
              "#7201a8"
             ],
             [
              0.3333333333333333,
              "#9c179e"
             ],
             [
              0.4444444444444444,
              "#bd3786"
             ],
             [
              0.5555555555555556,
              "#d8576b"
             ],
             [
              0.6666666666666666,
              "#ed7953"
             ],
             [
              0.7777777777777778,
              "#fb9f3a"
             ],
             [
              0.8888888888888888,
              "#fdca26"
             ],
             [
              1,
              "#f0f921"
             ]
            ],
            "type": "histogram2d"
           }
          ],
          "histogram2dcontour": [
           {
            "colorbar": {
             "outlinewidth": 0,
             "ticks": ""
            },
            "colorscale": [
             [
              0,
              "#0d0887"
             ],
             [
              0.1111111111111111,
              "#46039f"
             ],
             [
              0.2222222222222222,
              "#7201a8"
             ],
             [
              0.3333333333333333,
              "#9c179e"
             ],
             [
              0.4444444444444444,
              "#bd3786"
             ],
             [
              0.5555555555555556,
              "#d8576b"
             ],
             [
              0.6666666666666666,
              "#ed7953"
             ],
             [
              0.7777777777777778,
              "#fb9f3a"
             ],
             [
              0.8888888888888888,
              "#fdca26"
             ],
             [
              1,
              "#f0f921"
             ]
            ],
            "type": "histogram2dcontour"
           }
          ],
          "mesh3d": [
           {
            "colorbar": {
             "outlinewidth": 0,
             "ticks": ""
            },
            "type": "mesh3d"
           }
          ],
          "parcoords": [
           {
            "line": {
             "colorbar": {
              "outlinewidth": 0,
              "ticks": ""
             }
            },
            "type": "parcoords"
           }
          ],
          "pie": [
           {
            "automargin": true,
            "type": "pie"
           }
          ],
          "scatter": [
           {
            "fillpattern": {
             "fillmode": "overlay",
             "size": 10,
             "solidity": 0.2
            },
            "type": "scatter"
           }
          ],
          "scatter3d": [
           {
            "line": {
             "colorbar": {
              "outlinewidth": 0,
              "ticks": ""
             }
            },
            "marker": {
             "colorbar": {
              "outlinewidth": 0,
              "ticks": ""
             }
            },
            "type": "scatter3d"
           }
          ],
          "scattercarpet": [
           {
            "marker": {
             "colorbar": {
              "outlinewidth": 0,
              "ticks": ""
             }
            },
            "type": "scattercarpet"
           }
          ],
          "scattergeo": [
           {
            "marker": {
             "colorbar": {
              "outlinewidth": 0,
              "ticks": ""
             }
            },
            "type": "scattergeo"
           }
          ],
          "scattergl": [
           {
            "marker": {
             "colorbar": {
              "outlinewidth": 0,
              "ticks": ""
             }
            },
            "type": "scattergl"
           }
          ],
          "scattermap": [
           {
            "marker": {
             "colorbar": {
              "outlinewidth": 0,
              "ticks": ""
             }
            },
            "type": "scattermap"
           }
          ],
          "scattermapbox": [
           {
            "marker": {
             "colorbar": {
              "outlinewidth": 0,
              "ticks": ""
             }
            },
            "type": "scattermapbox"
           }
          ],
          "scatterpolar": [
           {
            "marker": {
             "colorbar": {
              "outlinewidth": 0,
              "ticks": ""
             }
            },
            "type": "scatterpolar"
           }
          ],
          "scatterpolargl": [
           {
            "marker": {
             "colorbar": {
              "outlinewidth": 0,
              "ticks": ""
             }
            },
            "type": "scatterpolargl"
           }
          ],
          "scatterternary": [
           {
            "marker": {
             "colorbar": {
              "outlinewidth": 0,
              "ticks": ""
             }
            },
            "type": "scatterternary"
           }
          ],
          "surface": [
           {
            "colorbar": {
             "outlinewidth": 0,
             "ticks": ""
            },
            "colorscale": [
             [
              0,
              "#0d0887"
             ],
             [
              0.1111111111111111,
              "#46039f"
             ],
             [
              0.2222222222222222,
              "#7201a8"
             ],
             [
              0.3333333333333333,
              "#9c179e"
             ],
             [
              0.4444444444444444,
              "#bd3786"
             ],
             [
              0.5555555555555556,
              "#d8576b"
             ],
             [
              0.6666666666666666,
              "#ed7953"
             ],
             [
              0.7777777777777778,
              "#fb9f3a"
             ],
             [
              0.8888888888888888,
              "#fdca26"
             ],
             [
              1,
              "#f0f921"
             ]
            ],
            "type": "surface"
           }
          ],
          "table": [
           {
            "cells": {
             "fill": {
              "color": "#EBF0F8"
             },
             "line": {
              "color": "white"
             }
            },
            "header": {
             "fill": {
              "color": "#C8D4E3"
             },
             "line": {
              "color": "white"
             }
            },
            "type": "table"
           }
          ]
         },
         "layout": {
          "annotationdefaults": {
           "arrowcolor": "#2a3f5f",
           "arrowhead": 0,
           "arrowwidth": 1
          },
          "autotypenumbers": "strict",
          "coloraxis": {
           "colorbar": {
            "outlinewidth": 0,
            "ticks": ""
           }
          },
          "colorscale": {
           "diverging": [
            [
             0,
             "#8e0152"
            ],
            [
             0.1,
             "#c51b7d"
            ],
            [
             0.2,
             "#de77ae"
            ],
            [
             0.3,
             "#f1b6da"
            ],
            [
             0.4,
             "#fde0ef"
            ],
            [
             0.5,
             "#f7f7f7"
            ],
            [
             0.6,
             "#e6f5d0"
            ],
            [
             0.7,
             "#b8e186"
            ],
            [
             0.8,
             "#7fbc41"
            ],
            [
             0.9,
             "#4d9221"
            ],
            [
             1,
             "#276419"
            ]
           ],
           "sequential": [
            [
             0,
             "#0d0887"
            ],
            [
             0.1111111111111111,
             "#46039f"
            ],
            [
             0.2222222222222222,
             "#7201a8"
            ],
            [
             0.3333333333333333,
             "#9c179e"
            ],
            [
             0.4444444444444444,
             "#bd3786"
            ],
            [
             0.5555555555555556,
             "#d8576b"
            ],
            [
             0.6666666666666666,
             "#ed7953"
            ],
            [
             0.7777777777777778,
             "#fb9f3a"
            ],
            [
             0.8888888888888888,
             "#fdca26"
            ],
            [
             1,
             "#f0f921"
            ]
           ],
           "sequentialminus": [
            [
             0,
             "#0d0887"
            ],
            [
             0.1111111111111111,
             "#46039f"
            ],
            [
             0.2222222222222222,
             "#7201a8"
            ],
            [
             0.3333333333333333,
             "#9c179e"
            ],
            [
             0.4444444444444444,
             "#bd3786"
            ],
            [
             0.5555555555555556,
             "#d8576b"
            ],
            [
             0.6666666666666666,
             "#ed7953"
            ],
            [
             0.7777777777777778,
             "#fb9f3a"
            ],
            [
             0.8888888888888888,
             "#fdca26"
            ],
            [
             1,
             "#f0f921"
            ]
           ]
          },
          "colorway": [
           "#636efa",
           "#EF553B",
           "#00cc96",
           "#ab63fa",
           "#FFA15A",
           "#19d3f3",
           "#FF6692",
           "#B6E880",
           "#FF97FF",
           "#FECB52"
          ],
          "font": {
           "color": "#2a3f5f"
          },
          "geo": {
           "bgcolor": "white",
           "lakecolor": "white",
           "landcolor": "#E5ECF6",
           "showlakes": true,
           "showland": true,
           "subunitcolor": "white"
          },
          "hoverlabel": {
           "align": "left"
          },
          "hovermode": "closest",
          "mapbox": {
           "style": "light"
          },
          "paper_bgcolor": "white",
          "plot_bgcolor": "#E5ECF6",
          "polar": {
           "angularaxis": {
            "gridcolor": "white",
            "linecolor": "white",
            "ticks": ""
           },
           "bgcolor": "#E5ECF6",
           "radialaxis": {
            "gridcolor": "white",
            "linecolor": "white",
            "ticks": ""
           }
          },
          "scene": {
           "xaxis": {
            "backgroundcolor": "#E5ECF6",
            "gridcolor": "white",
            "gridwidth": 2,
            "linecolor": "white",
            "showbackground": true,
            "ticks": "",
            "zerolinecolor": "white"
           },
           "yaxis": {
            "backgroundcolor": "#E5ECF6",
            "gridcolor": "white",
            "gridwidth": 2,
            "linecolor": "white",
            "showbackground": true,
            "ticks": "",
            "zerolinecolor": "white"
           },
           "zaxis": {
            "backgroundcolor": "#E5ECF6",
            "gridcolor": "white",
            "gridwidth": 2,
            "linecolor": "white",
            "showbackground": true,
            "ticks": "",
            "zerolinecolor": "white"
           }
          },
          "shapedefaults": {
           "line": {
            "color": "#2a3f5f"
           }
          },
          "ternary": {
           "aaxis": {
            "gridcolor": "white",
            "linecolor": "white",
            "ticks": ""
           },
           "baxis": {
            "gridcolor": "white",
            "linecolor": "white",
            "ticks": ""
           },
           "bgcolor": "#E5ECF6",
           "caxis": {
            "gridcolor": "white",
            "linecolor": "white",
            "ticks": ""
           }
          },
          "title": {
           "x": 0.05
          },
          "xaxis": {
           "automargin": true,
           "gridcolor": "white",
           "linecolor": "white",
           "ticks": "",
           "title": {
            "standoff": 15
           },
           "zerolinecolor": "white",
           "zerolinewidth": 2
          },
          "yaxis": {
           "automargin": true,
           "gridcolor": "white",
           "linecolor": "white",
           "ticks": "",
           "title": {
            "standoff": 15
           },
           "zerolinecolor": "white",
           "zerolinewidth": 2
          }
         }
        },
        "title": {
         "text": "Horsepower vs MPG"
        },
        "xaxis": {
         "anchor": "y",
         "domain": [
          0,
          1
         ],
         "title": {
          "text": "horsepower"
         }
        },
        "yaxis": {
         "anchor": "x",
         "domain": [
          0,
          1
         ],
         "title": {
          "text": "mpg"
         }
        }
       }
      }
     },
     "metadata": {},
     "output_type": "display_data"
    }
   ],
   "source": [
    "# find the relationship between horsepower and fuel efficiency\n",
    "import plotly.express as px\n",
    "fig1 = px.scatter(df, x='horsepower', y='mpg', title='Horsepower vs MPG')\n",
    "fig1.show()\n",
    "\n",
    "# 대체적으로 반비례 관계를 보인다."
   ]
  },
  {
   "cell_type": "markdown",
   "id": "9591b5c3",
   "metadata": {},
   "source": [
    "## Question 2\n",
    "\n",
    "Incorporate the origin of the car (USA, Europe, or Japan) into your visualization above. What do you notice?"
   ]
  },
  {
   "cell_type": "code",
   "execution_count": 23,
   "id": "6fb8b887",
   "metadata": {},
   "outputs": [
    {
     "data": {
      "application/vnd.plotly.v1+json": {
       "config": {
        "plotlyServerURL": "https://plot.ly"
       },
       "data": [
        {
         "hovertemplate": "origin=USA<br>horsepower=%{x}<br>mpg=%{y}<extra></extra>",
         "legendgroup": "USA",
         "marker": {
          "color": "#636efa",
          "symbol": "circle"
         },
         "mode": "markers",
         "name": "USA",
         "orientation": "v",
         "showlegend": true,
         "type": "scatter",
         "x": {
          "bdata": "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",
          "dtype": "f8"
         },
         "xaxis": "x",
         "y": {
          "bdata": "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",
          "dtype": "f8"
         },
         "yaxis": "y"
        },
        {
         "hovertemplate": "origin=Japan<br>horsepower=%{x}<br>mpg=%{y}<extra></extra>",
         "legendgroup": "Japan",
         "marker": {
          "color": "#EF553B",
          "symbol": "circle"
         },
         "mode": "markers",
         "name": "Japan",
         "orientation": "v",
         "showlegend": true,
         "type": "scatter",
         "x": {
          "bdata": "AAAAAADAV0AAAAAAAABWQAAAAAAAAFZAAAAAAADAV0AAAAAAAEBQQAAAAAAAQFFAAAAAAADAV0AAAAAAAEBYQAAAAAAAAFdAAAAAAABAWEAAAAAAAABWQAAAAAAAAFZAAAAAAACAV0AAAAAAAIBWQAAAAAAAgF5AAAAAAADAUEAAAAAAAEBQQAAAAAAAAEpAAAAAAACATkAAAAAAAEBYQAAAAAAAQFdAAAAAAADAUkAAAAAAAABYQAAAAAAAQFhAAAAAAACASkAAAAAAAIBKQAAAAAAAgFFAAAAAAADAUkAAAAAAAABbQAAAAAAAAFFAAAAAAACAUUAAAAAAAMBSQAAAAAAAwFBAAAAAAABAWEAAAAAAAIBbQAAAAAAAAEpAAAAAAACAUUAAAAAAAABOQAAAAAAAwFdAAAAAAABAWEAAAAAAAMBXQAAAAAAAQFhAAAAAAAAAUUAAAAAAAEBQQAAAAAAAQFBAAAAAAAAATkAAAAAAAEBQQAAAAAAAgFZAAAAAAADAUkAAAAAAAABXQAAAAAAAwFJAAAAAAABAUEAAAAAAAEBQQAAAAAAAwFBAAAAAAADAUEAAAAAAAIBgQAAAAAAAAFlAAAAAAAAAUkAAAAAAAABNQAAAAAAAAE5AAAAAAADAUEAAAAAAAEBQQAAAAAAAAE9AAAAAAAAAUUAAAAAAAMBSQAAAAAAAwFJAAAAAAAAAWUAAAAAAAIBSQAAAAAAAAF1AAAAAAAAAXkAAAAAAAABRQAAAAAAAAFFAAAAAAAAAVkAAAAAAAMBSQAAAAAAAgFFAAAAAAADAUEAAAAAAAMBQQAAAAAAAwFBAAAAAAAAAWEA=",
          "dtype": "f8"
         },
         "xaxis": "x",
         "y": {
          "bdata": "AAAAAAAAOEAAAAAAAAA7QAAAAAAAADtAAAAAAAAAOUAAAAAAAAA/QAAAAAAAgEFAAAAAAAAAOEAAAAAAAAAzQAAAAAAAADxAAAAAAAAAN0AAAAAAAAA7QAAAAAAAADRAAAAAAAAANkAAAAAAAAAyQAAAAAAAADRAAAAAAAAAP0AAAAAAAABAQAAAAAAAAD9AAAAAAAAAQEAAAAAAAAA4QAAAAAAAADpAAAAAAAAAPUAAAAAAAAA4QAAAAAAAADhAAAAAAACAQEAAAAAAAIBAQAAAAAAAAEBAAAAAAAAAPEAAAAAAAAAzQAAAAAAAgD9AAAAAAADAQEAAAAAAAAA6QAAAAAAAAD5AAAAAAAAANkAAAAAAAIA1QGZmZmZmZkBAMzMzMzOzQ0DNzMzMzAxCQAAAAAAAgDtAMzMzMzMzO0CamZmZmRk1QGZmZmZm5jdAAAAAAACAPUDNzMzMzAxBQM3MzMzMzD9AzczMzMwMQ0CamZmZmZlCQM3MzMzMzD1AzczMzMxMP0AAAAAAAIBCQJqZmZmZGUBAzczMzMxMR0BmZmZmZmZEQM3MzMzMTEZAZmZmZmbmQECamZmZmVlAQDMzMzMzszdAMzMzMzMzQEDNzMzMzIxDQM3MzMzMjEFAZmZmZmYmQEAAAAAAAIBCQJqZmZmZ2UJAzczMzMwMQUCamZmZmdlAQDMzMzMzM0BAMzMzMzNzQECamZmZmZk/QGZmZmZmZjlAMzMzMzMzOEAAAAAAAIBCQAAAAAAAAD9AAAAAAAAAQkAAAAAAAABCQAAAAAAAAEFAAAAAAAAAQ0AAAAAAAABAQAAAAAAAAENAAAAAAAAAQEA=",
          "dtype": "f8"
         },
         "yaxis": "y"
        },
        {
         "hovertemplate": "origin=Europe<br>horsepower=%{x}<br>mpg=%{y}<extra></extra>",
         "legendgroup": "Europe",
         "marker": {
          "color": "#00cc96",
          "symbol": "circle"
         },
         "mode": "markers",
         "name": "Europe",
         "orientation": "v",
         "showlegend": true,
         "type": "scatter",
         "x": {
          "bdata": "AAAAAAAAR0AAAAAAAMBVQAAAAAAAgFZAAAAAAADAV0AAAAAAAEBcQAAAAAAAgFZAAAAAAACAUUAAAAAAAABTQAAAAAAAAE5AAAAAAAAAS0AAAAAAAABcQAAAAAAAAFNAAAAAAADAVUAAAAAAAEBRQAAAAAAAAEdAAAAAAACAVkAAAAAAAIBIQAAAAAAAwFJAAAAAAADAVkAAAAAAAABcQAAAAAAAgFtAAAAAAADAVEAAAAAAAMBQQAAAAAAAgFNAAAAAAADAUkAAAAAAAMBSQAAAAAAAwFBAAAAAAADAUUAAAAAAAIBRQAAAAAAAwFdAAAAAAAAAVkAAAAAAAIBYQAAAAAAAwFxAAAAAAACAVUAAAAAAAEBUQAAAAAAAwFRAAAAAAACAUUAAAAAAAMBRQAAAAAAAgFlAAAAAAAAAVkAAAAAAAABeQAAAAAAAAE1AAAAAAACAU0AAAAAAAIBTQAAAAAAAgFtAAAAAAAAASEAAAAAAAMBZQAAAAAAAQF9AAAAAAADAXEAAAAAAAKBgQAAAAAAAwFFAAAAAAADAUUAAAAAAAEBTQAAAAAAAwFFAAAAAAABAUUAAAAAAAABTQAAAAAAAgFNAAAAAAAAASEAAAAAAAABIQAAAAAAAwFBAAAAAAADAUEAAAAAAAABPQAAAAAAAAFZAAAAAAACAUkAAAAAAAABUQAAAAAAAAFNAAAAAAACAUkAAAAAAAABKQA==",
          "dtype": "f8"
         },
         "xaxis": "x",
         "y": {
          "bdata": "AAAAAAAAOkAAAAAAAAA5QAAAAAAAADhAAAAAAAAAOUAAAAAAAAA6QAAAAAAAADxAAAAAAAAAPkAAAAAAAAA+QAAAAAAAADtAAAAAAAAAN0AAAAAAAAAyQAAAAAAAADZAAAAAAAAANUAAAAAAAAA6QAAAAAAAADpAAAAAAAAAOkAAAAAAAAA9QAAAAAAAADhAAAAAAAAANEAAAAAAAAAzQAAAAAAAADhAAAAAAAAAPUAAAAAAAAA6QAAAAAAAADpAAAAAAAAAOEAAAAAAAAA6QAAAAAAAAD9AAAAAAAAAOUAAAAAAAAA9QAAAAAAAADdAAAAAAAAAN0AAAAAAAAA2QAAAAAAAADlAAAAAAAAAPEAAAAAAAAA5QAAAAAAAADtAAAAAAAAAPUAAAAAAAIA9QAAAAAAAADRAAAAAAAAAM0AAAAAAAIAwQAAAAAAAAEJAAAAAAAAAPUAAAAAAAIA+QAAAAAAAgDVAzczMzMyMRUDNzMzMzEw0QAAAAAAAADFAmpmZmZmZNUAzMzMzMzMwQAAAAAAAgD9AZmZmZmbmP0BmZmZmZmY5QDMzMzMzMztAZmZmZmamQkAAAAAAAMBEQGZmZmZmJkFAZmZmZmYmRkAzMzMzM7NFQDMzMzMzM0JAAAAAAAAAPkDNzMzMzMw9QAAAAAAAgEFAAAAAAACAQECamZmZmRk8QDMzMzMzsz5AAAAAAAAAQkAAAAAAAABGQA==",
          "dtype": "f8"
         },
         "yaxis": "y"
        }
       ],
       "layout": {
        "legend": {
         "title": {
          "text": "origin"
         },
         "tracegroupgap": 0
        },
        "template": {
         "data": {
          "bar": [
           {
            "error_x": {
             "color": "#2a3f5f"
            },
            "error_y": {
             "color": "#2a3f5f"
            },
            "marker": {
             "line": {
              "color": "#E5ECF6",
              "width": 0.5
             },
             "pattern": {
              "fillmode": "overlay",
              "size": 10,
              "solidity": 0.2
             }
            },
            "type": "bar"
           }
          ],
          "barpolar": [
           {
            "marker": {
             "line": {
              "color": "#E5ECF6",
              "width": 0.5
             },
             "pattern": {
              "fillmode": "overlay",
              "size": 10,
              "solidity": 0.2
             }
            },
            "type": "barpolar"
           }
          ],
          "carpet": [
           {
            "aaxis": {
             "endlinecolor": "#2a3f5f",
             "gridcolor": "white",
             "linecolor": "white",
             "minorgridcolor": "white",
             "startlinecolor": "#2a3f5f"
            },
            "baxis": {
             "endlinecolor": "#2a3f5f",
             "gridcolor": "white",
             "linecolor": "white",
             "minorgridcolor": "white",
             "startlinecolor": "#2a3f5f"
            },
            "type": "carpet"
           }
          ],
          "choropleth": [
           {
            "colorbar": {
             "outlinewidth": 0,
             "ticks": ""
            },
            "type": "choropleth"
           }
          ],
          "contour": [
           {
            "colorbar": {
             "outlinewidth": 0,
             "ticks": ""
            },
            "colorscale": [
             [
              0,
              "#0d0887"
             ],
             [
              0.1111111111111111,
              "#46039f"
             ],
             [
              0.2222222222222222,
              "#7201a8"
             ],
             [
              0.3333333333333333,
              "#9c179e"
             ],
             [
              0.4444444444444444,
              "#bd3786"
             ],
             [
              0.5555555555555556,
              "#d8576b"
             ],
             [
              0.6666666666666666,
              "#ed7953"
             ],
             [
              0.7777777777777778,
              "#fb9f3a"
             ],
             [
              0.8888888888888888,
              "#fdca26"
             ],
             [
              1,
              "#f0f921"
             ]
            ],
            "type": "contour"
           }
          ],
          "contourcarpet": [
           {
            "colorbar": {
             "outlinewidth": 0,
             "ticks": ""
            },
            "type": "contourcarpet"
           }
          ],
          "heatmap": [
           {
            "colorbar": {
             "outlinewidth": 0,
             "ticks": ""
            },
            "colorscale": [
             [
              0,
              "#0d0887"
             ],
             [
              0.1111111111111111,
              "#46039f"
             ],
             [
              0.2222222222222222,
              "#7201a8"
             ],
             [
              0.3333333333333333,
              "#9c179e"
             ],
             [
              0.4444444444444444,
              "#bd3786"
             ],
             [
              0.5555555555555556,
              "#d8576b"
             ],
             [
              0.6666666666666666,
              "#ed7953"
             ],
             [
              0.7777777777777778,
              "#fb9f3a"
             ],
             [
              0.8888888888888888,
              "#fdca26"
             ],
             [
              1,
              "#f0f921"
             ]
            ],
            "type": "heatmap"
           }
          ],
          "histogram": [
           {
            "marker": {
             "pattern": {
              "fillmode": "overlay",
              "size": 10,
              "solidity": 0.2
             }
            },
            "type": "histogram"
           }
          ],
          "histogram2d": [
           {
            "colorbar": {
             "outlinewidth": 0,
             "ticks": ""
            },
            "colorscale": [
             [
              0,
              "#0d0887"
             ],
             [
              0.1111111111111111,
              "#46039f"
             ],
             [
              0.2222222222222222,
              "#7201a8"
             ],
             [
              0.3333333333333333,
              "#9c179e"
             ],
             [
              0.4444444444444444,
              "#bd3786"
             ],
             [
              0.5555555555555556,
              "#d8576b"
             ],
             [
              0.6666666666666666,
              "#ed7953"
             ],
             [
              0.7777777777777778,
              "#fb9f3a"
             ],
             [
              0.8888888888888888,
              "#fdca26"
             ],
             [
              1,
              "#f0f921"
             ]
            ],
            "type": "histogram2d"
           }
          ],
          "histogram2dcontour": [
           {
            "colorbar": {
             "outlinewidth": 0,
             "ticks": ""
            },
            "colorscale": [
             [
              0,
              "#0d0887"
             ],
             [
              0.1111111111111111,
              "#46039f"
             ],
             [
              0.2222222222222222,
              "#7201a8"
             ],
             [
              0.3333333333333333,
              "#9c179e"
             ],
             [
              0.4444444444444444,
              "#bd3786"
             ],
             [
              0.5555555555555556,
              "#d8576b"
             ],
             [
              0.6666666666666666,
              "#ed7953"
             ],
             [
              0.7777777777777778,
              "#fb9f3a"
             ],
             [
              0.8888888888888888,
              "#fdca26"
             ],
             [
              1,
              "#f0f921"
             ]
            ],
            "type": "histogram2dcontour"
           }
          ],
          "mesh3d": [
           {
            "colorbar": {
             "outlinewidth": 0,
             "ticks": ""
            },
            "type": "mesh3d"
           }
          ],
          "parcoords": [
           {
            "line": {
             "colorbar": {
              "outlinewidth": 0,
              "ticks": ""
             }
            },
            "type": "parcoords"
           }
          ],
          "pie": [
           {
            "automargin": true,
            "type": "pie"
           }
          ],
          "scatter": [
           {
            "fillpattern": {
             "fillmode": "overlay",
             "size": 10,
             "solidity": 0.2
            },
            "type": "scatter"
           }
          ],
          "scatter3d": [
           {
            "line": {
             "colorbar": {
              "outlinewidth": 0,
              "ticks": ""
             }
            },
            "marker": {
             "colorbar": {
              "outlinewidth": 0,
              "ticks": ""
             }
            },
            "type": "scatter3d"
           }
          ],
          "scattercarpet": [
           {
            "marker": {
             "colorbar": {
              "outlinewidth": 0,
              "ticks": ""
             }
            },
            "type": "scattercarpet"
           }
          ],
          "scattergeo": [
           {
            "marker": {
             "colorbar": {
              "outlinewidth": 0,
              "ticks": ""
             }
            },
            "type": "scattergeo"
           }
          ],
          "scattergl": [
           {
            "marker": {
             "colorbar": {
              "outlinewidth": 0,
              "ticks": ""
             }
            },
            "type": "scattergl"
           }
          ],
          "scattermap": [
           {
            "marker": {
             "colorbar": {
              "outlinewidth": 0,
              "ticks": ""
             }
            },
            "type": "scattermap"
           }
          ],
          "scattermapbox": [
           {
            "marker": {
             "colorbar": {
              "outlinewidth": 0,
              "ticks": ""
             }
            },
            "type": "scattermapbox"
           }
          ],
          "scatterpolar": [
           {
            "marker": {
             "colorbar": {
              "outlinewidth": 0,
              "ticks": ""
             }
            },
            "type": "scatterpolar"
           }
          ],
          "scatterpolargl": [
           {
            "marker": {
             "colorbar": {
              "outlinewidth": 0,
              "ticks": ""
             }
            },
            "type": "scatterpolargl"
           }
          ],
          "scatterternary": [
           {
            "marker": {
             "colorbar": {
              "outlinewidth": 0,
              "ticks": ""
             }
            },
            "type": "scatterternary"
           }
          ],
          "surface": [
           {
            "colorbar": {
             "outlinewidth": 0,
             "ticks": ""
            },
            "colorscale": [
             [
              0,
              "#0d0887"
             ],
             [
              0.1111111111111111,
              "#46039f"
             ],
             [
              0.2222222222222222,
              "#7201a8"
             ],
             [
              0.3333333333333333,
              "#9c179e"
             ],
             [
              0.4444444444444444,
              "#bd3786"
             ],
             [
              0.5555555555555556,
              "#d8576b"
             ],
             [
              0.6666666666666666,
              "#ed7953"
             ],
             [
              0.7777777777777778,
              "#fb9f3a"
             ],
             [
              0.8888888888888888,
              "#fdca26"
             ],
             [
              1,
              "#f0f921"
             ]
            ],
            "type": "surface"
           }
          ],
          "table": [
           {
            "cells": {
             "fill": {
              "color": "#EBF0F8"
             },
             "line": {
              "color": "white"
             }
            },
            "header": {
             "fill": {
              "color": "#C8D4E3"
             },
             "line": {
              "color": "white"
             }
            },
            "type": "table"
           }
          ]
         },
         "layout": {
          "annotationdefaults": {
           "arrowcolor": "#2a3f5f",
           "arrowhead": 0,
           "arrowwidth": 1
          },
          "autotypenumbers": "strict",
          "coloraxis": {
           "colorbar": {
            "outlinewidth": 0,
            "ticks": ""
           }
          },
          "colorscale": {
           "diverging": [
            [
             0,
             "#8e0152"
            ],
            [
             0.1,
             "#c51b7d"
            ],
            [
             0.2,
             "#de77ae"
            ],
            [
             0.3,
             "#f1b6da"
            ],
            [
             0.4,
             "#fde0ef"
            ],
            [
             0.5,
             "#f7f7f7"
            ],
            [
             0.6,
             "#e6f5d0"
            ],
            [
             0.7,
             "#b8e186"
            ],
            [
             0.8,
             "#7fbc41"
            ],
            [
             0.9,
             "#4d9221"
            ],
            [
             1,
             "#276419"
            ]
           ],
           "sequential": [
            [
             0,
             "#0d0887"
            ],
            [
             0.1111111111111111,
             "#46039f"
            ],
            [
             0.2222222222222222,
             "#7201a8"
            ],
            [
             0.3333333333333333,
             "#9c179e"
            ],
            [
             0.4444444444444444,
             "#bd3786"
            ],
            [
             0.5555555555555556,
             "#d8576b"
            ],
            [
             0.6666666666666666,
             "#ed7953"
            ],
            [
             0.7777777777777778,
             "#fb9f3a"
            ],
            [
             0.8888888888888888,
             "#fdca26"
            ],
            [
             1,
             "#f0f921"
            ]
           ],
           "sequentialminus": [
            [
             0,
             "#0d0887"
            ],
            [
             0.1111111111111111,
             "#46039f"
            ],
            [
             0.2222222222222222,
             "#7201a8"
            ],
            [
             0.3333333333333333,
             "#9c179e"
            ],
            [
             0.4444444444444444,
             "#bd3786"
            ],
            [
             0.5555555555555556,
             "#d8576b"
            ],
            [
             0.6666666666666666,
             "#ed7953"
            ],
            [
             0.7777777777777778,
             "#fb9f3a"
            ],
            [
             0.8888888888888888,
             "#fdca26"
            ],
            [
             1,
             "#f0f921"
            ]
           ]
          },
          "colorway": [
           "#636efa",
           "#EF553B",
           "#00cc96",
           "#ab63fa",
           "#FFA15A",
           "#19d3f3",
           "#FF6692",
           "#B6E880",
           "#FF97FF",
           "#FECB52"
          ],
          "font": {
           "color": "#2a3f5f"
          },
          "geo": {
           "bgcolor": "white",
           "lakecolor": "white",
           "landcolor": "#E5ECF6",
           "showlakes": true,
           "showland": true,
           "subunitcolor": "white"
          },
          "hoverlabel": {
           "align": "left"
          },
          "hovermode": "closest",
          "mapbox": {
           "style": "light"
          },
          "paper_bgcolor": "white",
          "plot_bgcolor": "#E5ECF6",
          "polar": {
           "angularaxis": {
            "gridcolor": "white",
            "linecolor": "white",
            "ticks": ""
           },
           "bgcolor": "#E5ECF6",
           "radialaxis": {
            "gridcolor": "white",
            "linecolor": "white",
            "ticks": ""
           }
          },
          "scene": {
           "xaxis": {
            "backgroundcolor": "#E5ECF6",
            "gridcolor": "white",
            "gridwidth": 2,
            "linecolor": "white",
            "showbackground": true,
            "ticks": "",
            "zerolinecolor": "white"
           },
           "yaxis": {
            "backgroundcolor": "#E5ECF6",
            "gridcolor": "white",
            "gridwidth": 2,
            "linecolor": "white",
            "showbackground": true,
            "ticks": "",
            "zerolinecolor": "white"
           },
           "zaxis": {
            "backgroundcolor": "#E5ECF6",
            "gridcolor": "white",
            "gridwidth": 2,
            "linecolor": "white",
            "showbackground": true,
            "ticks": "",
            "zerolinecolor": "white"
           }
          },
          "shapedefaults": {
           "line": {
            "color": "#2a3f5f"
           }
          },
          "ternary": {
           "aaxis": {
            "gridcolor": "white",
            "linecolor": "white",
            "ticks": ""
           },
           "baxis": {
            "gridcolor": "white",
            "linecolor": "white",
            "ticks": ""
           },
           "bgcolor": "#E5ECF6",
           "caxis": {
            "gridcolor": "white",
            "linecolor": "white",
            "ticks": ""
           }
          },
          "title": {
           "x": 0.05
          },
          "xaxis": {
           "automargin": true,
           "gridcolor": "white",
           "linecolor": "white",
           "ticks": "",
           "title": {
            "standoff": 15
           },
           "zerolinecolor": "white",
           "zerolinewidth": 2
          },
          "yaxis": {
           "automargin": true,
           "gridcolor": "white",
           "linecolor": "white",
           "ticks": "",
           "title": {
            "standoff": 15
           },
           "zerolinecolor": "white",
           "zerolinewidth": 2
          }
         }
        },
        "title": {
         "text": "Horsepower vs MPG"
        },
        "xaxis": {
         "anchor": "y",
         "domain": [
          0,
          1
         ],
         "title": {
          "text": "horsepower"
         }
        },
        "yaxis": {
         "anchor": "x",
         "domain": [
          0,
          1
         ],
         "title": {
          "text": "mpg"
         }
        }
       }
      }
     },
     "metadata": {},
     "output_type": "display_data"
    }
   ],
   "source": [
    "# incorporate the origin of the car (USA, Europe, or Japan) into your visualization\n",
    "fig1 = px.scatter(df, x='horsepower', y='mpg', color=df['origin'], title='Horsepower vs MPG')\n",
    "fig1.show()\n",
    "\n",
    "# 여전히 반비례 관계를 보이며, 전반적으로 일본차와 유럽차 연비가 더 좋은 경향을 보인다."
   ]
  },
  {
   "cell_type": "markdown",
   "id": "6d891d52",
   "metadata": {},
   "source": [
    "## Question 3\n",
    "\n",
    "The power in a car is generated by the cylinders. Incorporate the number of cylinders into your analysis of the relationship between horsepower and efficiency. How does this change your conclusions, if at all?"
   ]
  },
  {
   "cell_type": "code",
   "execution_count": 24,
   "id": "63e595f0",
   "metadata": {},
   "outputs": [
    {
     "data": {
      "application/vnd.plotly.v1+json": {
       "config": {
        "plotlyServerURL": "https://plot.ly"
       },
       "data": [
        {
         "hovertemplate": "horsepower=%{x}<br>mpg=%{y}<br>cylinders=%{marker.color}<extra></extra>",
         "legendgroup": "",
         "marker": {
          "color": {
           "bdata": "CAgICAgICAgICAgICAgEBgYGBAQEBAQEBggICAgEBAQGBgYGBggICAgICAgGBAYGBAQEBAQEBAQEBAQEBAgICAgICAgICAMICAgIBAQEBAQEBAQECAgICAgICAgICAgIBgYGBgYECAgICAYEBAQDBAYECAgEBAQECAQGCAYGBgQEBAQGBgYICAgICAQEBAQEBAQEBAQEBgYGBggICAgGBgYGBggIBAQGBAQEBAYEBgQEBAQEBAQEBAQICAgIBgYGBgQEBAQGBgYGBAQEBAQIBAYGCAgICAQEBAQECAgICAYGBgYICAgIBAQEBAQEBAQGBAMEBAQEBAgICAYGBgQGBgYGBgYIBggIBAQEBAQEBAQFBgQGBAQGBgQGBggICAgICAgIBAQEBAUIBAgEBAQEBAYGBAQEBAQEBAQGBAQEBAQEBAQEBAUEBAQEBgMEBAQEBAYEBAQEBAQEBAQEBAQEBAQEBAYGBgYIBgYEBAQEBAQEBAQEBAQEBAQEBAQGBgQGBAQEBAQEBAQ=",
           "dtype": "i1"
          },
          "coloraxis": "coloraxis",
          "symbol": "circle"
         },
         "mode": "markers",
         "name": "",
         "orientation": "v",
         "showlegend": false,
         "type": "scatter",
         "x": {
          "bdata": "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",
          "dtype": "f8"
         },
         "xaxis": "x",
         "y": {
          "bdata": "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",
          "dtype": "f8"
         },
         "yaxis": "y"
        }
       ],
       "layout": {
        "coloraxis": {
         "colorbar": {
          "title": {
           "text": "cylinders"
          }
         },
         "colorscale": [
          [
           0,
           "#0d0887"
          ],
          [
           0.1111111111111111,
           "#46039f"
          ],
          [
           0.2222222222222222,
           "#7201a8"
          ],
          [
           0.3333333333333333,
           "#9c179e"
          ],
          [
           0.4444444444444444,
           "#bd3786"
          ],
          [
           0.5555555555555556,
           "#d8576b"
          ],
          [
           0.6666666666666666,
           "#ed7953"
          ],
          [
           0.7777777777777778,
           "#fb9f3a"
          ],
          [
           0.8888888888888888,
           "#fdca26"
          ],
          [
           1,
           "#f0f921"
          ]
         ]
        },
        "legend": {
         "tracegroupgap": 0
        },
        "template": {
         "data": {
          "bar": [
           {
            "error_x": {
             "color": "#2a3f5f"
            },
            "error_y": {
             "color": "#2a3f5f"
            },
            "marker": {
             "line": {
              "color": "#E5ECF6",
              "width": 0.5
             },
             "pattern": {
              "fillmode": "overlay",
              "size": 10,
              "solidity": 0.2
             }
            },
            "type": "bar"
           }
          ],
          "barpolar": [
           {
            "marker": {
             "line": {
              "color": "#E5ECF6",
              "width": 0.5
             },
             "pattern": {
              "fillmode": "overlay",
              "size": 10,
              "solidity": 0.2
             }
            },
            "type": "barpolar"
           }
          ],
          "carpet": [
           {
            "aaxis": {
             "endlinecolor": "#2a3f5f",
             "gridcolor": "white",
             "linecolor": "white",
             "minorgridcolor": "white",
             "startlinecolor": "#2a3f5f"
            },
            "baxis": {
             "endlinecolor": "#2a3f5f",
             "gridcolor": "white",
             "linecolor": "white",
             "minorgridcolor": "white",
             "startlinecolor": "#2a3f5f"
            },
            "type": "carpet"
           }
          ],
          "choropleth": [
           {
            "colorbar": {
             "outlinewidth": 0,
             "ticks": ""
            },
            "type": "choropleth"
           }
          ],
          "contour": [
           {
            "colorbar": {
             "outlinewidth": 0,
             "ticks": ""
            },
            "colorscale": [
             [
              0,
              "#0d0887"
             ],
             [
              0.1111111111111111,
              "#46039f"
             ],
             [
              0.2222222222222222,
              "#7201a8"
             ],
             [
              0.3333333333333333,
              "#9c179e"
             ],
             [
              0.4444444444444444,
              "#bd3786"
             ],
             [
              0.5555555555555556,
              "#d8576b"
             ],
             [
              0.6666666666666666,
              "#ed7953"
             ],
             [
              0.7777777777777778,
              "#fb9f3a"
             ],
             [
              0.8888888888888888,
              "#fdca26"
             ],
             [
              1,
              "#f0f921"
             ]
            ],
            "type": "contour"
           }
          ],
          "contourcarpet": [
           {
            "colorbar": {
             "outlinewidth": 0,
             "ticks": ""
            },
            "type": "contourcarpet"
           }
          ],
          "heatmap": [
           {
            "colorbar": {
             "outlinewidth": 0,
             "ticks": ""
            },
            "colorscale": [
             [
              0,
              "#0d0887"
             ],
             [
              0.1111111111111111,
              "#46039f"
             ],
             [
              0.2222222222222222,
              "#7201a8"
             ],
             [
              0.3333333333333333,
              "#9c179e"
             ],
             [
              0.4444444444444444,
              "#bd3786"
             ],
             [
              0.5555555555555556,
              "#d8576b"
             ],
             [
              0.6666666666666666,
              "#ed7953"
             ],
             [
              0.7777777777777778,
              "#fb9f3a"
             ],
             [
              0.8888888888888888,
              "#fdca26"
             ],
             [
              1,
              "#f0f921"
             ]
            ],
            "type": "heatmap"
           }
          ],
          "histogram": [
           {
            "marker": {
             "pattern": {
              "fillmode": "overlay",
              "size": 10,
              "solidity": 0.2
             }
            },
            "type": "histogram"
           }
          ],
          "histogram2d": [
           {
            "colorbar": {
             "outlinewidth": 0,
             "ticks": ""
            },
            "colorscale": [
             [
              0,
              "#0d0887"
             ],
             [
              0.1111111111111111,
              "#46039f"
             ],
             [
              0.2222222222222222,
              "#7201a8"
             ],
             [
              0.3333333333333333,
              "#9c179e"
             ],
             [
              0.4444444444444444,
              "#bd3786"
             ],
             [
              0.5555555555555556,
              "#d8576b"
             ],
             [
              0.6666666666666666,
              "#ed7953"
             ],
             [
              0.7777777777777778,
              "#fb9f3a"
             ],
             [
              0.8888888888888888,
              "#fdca26"
             ],
             [
              1,
              "#f0f921"
             ]
            ],
            "type": "histogram2d"
           }
          ],
          "histogram2dcontour": [
           {
            "colorbar": {
             "outlinewidth": 0,
             "ticks": ""
            },
            "colorscale": [
             [
              0,
              "#0d0887"
             ],
             [
              0.1111111111111111,
              "#46039f"
             ],
             [
              0.2222222222222222,
              "#7201a8"
             ],
             [
              0.3333333333333333,
              "#9c179e"
             ],
             [
              0.4444444444444444,
              "#bd3786"
             ],
             [
              0.5555555555555556,
              "#d8576b"
             ],
             [
              0.6666666666666666,
              "#ed7953"
             ],
             [
              0.7777777777777778,
              "#fb9f3a"
             ],
             [
              0.8888888888888888,
              "#fdca26"
             ],
             [
              1,
              "#f0f921"
             ]
            ],
            "type": "histogram2dcontour"
           }
          ],
          "mesh3d": [
           {
            "colorbar": {
             "outlinewidth": 0,
             "ticks": ""
            },
            "type": "mesh3d"
           }
          ],
          "parcoords": [
           {
            "line": {
             "colorbar": {
              "outlinewidth": 0,
              "ticks": ""
             }
            },
            "type": "parcoords"
           }
          ],
          "pie": [
           {
            "automargin": true,
            "type": "pie"
           }
          ],
          "scatter": [
           {
            "fillpattern": {
             "fillmode": "overlay",
             "size": 10,
             "solidity": 0.2
            },
            "type": "scatter"
           }
          ],
          "scatter3d": [
           {
            "line": {
             "colorbar": {
              "outlinewidth": 0,
              "ticks": ""
             }
            },
            "marker": {
             "colorbar": {
              "outlinewidth": 0,
              "ticks": ""
             }
            },
            "type": "scatter3d"
           }
          ],
          "scattercarpet": [
           {
            "marker": {
             "colorbar": {
              "outlinewidth": 0,
              "ticks": ""
             }
            },
            "type": "scattercarpet"
           }
          ],
          "scattergeo": [
           {
            "marker": {
             "colorbar": {
              "outlinewidth": 0,
              "ticks": ""
             }
            },
            "type": "scattergeo"
           }
          ],
          "scattergl": [
           {
            "marker": {
             "colorbar": {
              "outlinewidth": 0,
              "ticks": ""
             }
            },
            "type": "scattergl"
           }
          ],
          "scattermap": [
           {
            "marker": {
             "colorbar": {
              "outlinewidth": 0,
              "ticks": ""
             }
            },
            "type": "scattermap"
           }
          ],
          "scattermapbox": [
           {
            "marker": {
             "colorbar": {
              "outlinewidth": 0,
              "ticks": ""
             }
            },
            "type": "scattermapbox"
           }
          ],
          "scatterpolar": [
           {
            "marker": {
             "colorbar": {
              "outlinewidth": 0,
              "ticks": ""
             }
            },
            "type": "scatterpolar"
           }
          ],
          "scatterpolargl": [
           {
            "marker": {
             "colorbar": {
              "outlinewidth": 0,
              "ticks": ""
             }
            },
            "type": "scatterpolargl"
           }
          ],
          "scatterternary": [
           {
            "marker": {
             "colorbar": {
              "outlinewidth": 0,
              "ticks": ""
             }
            },
            "type": "scatterternary"
           }
          ],
          "surface": [
           {
            "colorbar": {
             "outlinewidth": 0,
             "ticks": ""
            },
            "colorscale": [
             [
              0,
              "#0d0887"
             ],
             [
              0.1111111111111111,
              "#46039f"
             ],
             [
              0.2222222222222222,
              "#7201a8"
             ],
             [
              0.3333333333333333,
              "#9c179e"
             ],
             [
              0.4444444444444444,
              "#bd3786"
             ],
             [
              0.5555555555555556,
              "#d8576b"
             ],
             [
              0.6666666666666666,
              "#ed7953"
             ],
             [
              0.7777777777777778,
              "#fb9f3a"
             ],
             [
              0.8888888888888888,
              "#fdca26"
             ],
             [
              1,
              "#f0f921"
             ]
            ],
            "type": "surface"
           }
          ],
          "table": [
           {
            "cells": {
             "fill": {
              "color": "#EBF0F8"
             },
             "line": {
              "color": "white"
             }
            },
            "header": {
             "fill": {
              "color": "#C8D4E3"
             },
             "line": {
              "color": "white"
             }
            },
            "type": "table"
           }
          ]
         },
         "layout": {
          "annotationdefaults": {
           "arrowcolor": "#2a3f5f",
           "arrowhead": 0,
           "arrowwidth": 1
          },
          "autotypenumbers": "strict",
          "coloraxis": {
           "colorbar": {
            "outlinewidth": 0,
            "ticks": ""
           }
          },
          "colorscale": {
           "diverging": [
            [
             0,
             "#8e0152"
            ],
            [
             0.1,
             "#c51b7d"
            ],
            [
             0.2,
             "#de77ae"
            ],
            [
             0.3,
             "#f1b6da"
            ],
            [
             0.4,
             "#fde0ef"
            ],
            [
             0.5,
             "#f7f7f7"
            ],
            [
             0.6,
             "#e6f5d0"
            ],
            [
             0.7,
             "#b8e186"
            ],
            [
             0.8,
             "#7fbc41"
            ],
            [
             0.9,
             "#4d9221"
            ],
            [
             1,
             "#276419"
            ]
           ],
           "sequential": [
            [
             0,
             "#0d0887"
            ],
            [
             0.1111111111111111,
             "#46039f"
            ],
            [
             0.2222222222222222,
             "#7201a8"
            ],
            [
             0.3333333333333333,
             "#9c179e"
            ],
            [
             0.4444444444444444,
             "#bd3786"
            ],
            [
             0.5555555555555556,
             "#d8576b"
            ],
            [
             0.6666666666666666,
             "#ed7953"
            ],
            [
             0.7777777777777778,
             "#fb9f3a"
            ],
            [
             0.8888888888888888,
             "#fdca26"
            ],
            [
             1,
             "#f0f921"
            ]
           ],
           "sequentialminus": [
            [
             0,
             "#0d0887"
            ],
            [
             0.1111111111111111,
             "#46039f"
            ],
            [
             0.2222222222222222,
             "#7201a8"
            ],
            [
             0.3333333333333333,
             "#9c179e"
            ],
            [
             0.4444444444444444,
             "#bd3786"
            ],
            [
             0.5555555555555556,
             "#d8576b"
            ],
            [
             0.6666666666666666,
             "#ed7953"
            ],
            [
             0.7777777777777778,
             "#fb9f3a"
            ],
            [
             0.8888888888888888,
             "#fdca26"
            ],
            [
             1,
             "#f0f921"
            ]
           ]
          },
          "colorway": [
           "#636efa",
           "#EF553B",
           "#00cc96",
           "#ab63fa",
           "#FFA15A",
           "#19d3f3",
           "#FF6692",
           "#B6E880",
           "#FF97FF",
           "#FECB52"
          ],
          "font": {
           "color": "#2a3f5f"
          },
          "geo": {
           "bgcolor": "white",
           "lakecolor": "white",
           "landcolor": "#E5ECF6",
           "showlakes": true,
           "showland": true,
           "subunitcolor": "white"
          },
          "hoverlabel": {
           "align": "left"
          },
          "hovermode": "closest",
          "mapbox": {
           "style": "light"
          },
          "paper_bgcolor": "white",
          "plot_bgcolor": "#E5ECF6",
          "polar": {
           "angularaxis": {
            "gridcolor": "white",
            "linecolor": "white",
            "ticks": ""
           },
           "bgcolor": "#E5ECF6",
           "radialaxis": {
            "gridcolor": "white",
            "linecolor": "white",
            "ticks": ""
           }
          },
          "scene": {
           "xaxis": {
            "backgroundcolor": "#E5ECF6",
            "gridcolor": "white",
            "gridwidth": 2,
            "linecolor": "white",
            "showbackground": true,
            "ticks": "",
            "zerolinecolor": "white"
           },
           "yaxis": {
            "backgroundcolor": "#E5ECF6",
            "gridcolor": "white",
            "gridwidth": 2,
            "linecolor": "white",
            "showbackground": true,
            "ticks": "",
            "zerolinecolor": "white"
           },
           "zaxis": {
            "backgroundcolor": "#E5ECF6",
            "gridcolor": "white",
            "gridwidth": 2,
            "linecolor": "white",
            "showbackground": true,
            "ticks": "",
            "zerolinecolor": "white"
           }
          },
          "shapedefaults": {
           "line": {
            "color": "#2a3f5f"
           }
          },
          "ternary": {
           "aaxis": {
            "gridcolor": "white",
            "linecolor": "white",
            "ticks": ""
           },
           "baxis": {
            "gridcolor": "white",
            "linecolor": "white",
            "ticks": ""
           },
           "bgcolor": "#E5ECF6",
           "caxis": {
            "gridcolor": "white",
            "linecolor": "white",
            "ticks": ""
           }
          },
          "title": {
           "x": 0.05
          },
          "xaxis": {
           "automargin": true,
           "gridcolor": "white",
           "linecolor": "white",
           "ticks": "",
           "title": {
            "standoff": 15
           },
           "zerolinecolor": "white",
           "zerolinewidth": 2
          },
          "yaxis": {
           "automargin": true,
           "gridcolor": "white",
           "linecolor": "white",
           "ticks": "",
           "title": {
            "standoff": 15
           },
           "zerolinecolor": "white",
           "zerolinewidth": 2
          }
         }
        },
        "title": {
         "text": "Horsepower vs MPG"
        },
        "xaxis": {
         "anchor": "y",
         "domain": [
          0,
          1
         ],
         "title": {
          "text": "horsepower"
         }
        },
        "yaxis": {
         "anchor": "x",
         "domain": [
          0,
          1
         ],
         "title": {
          "text": "mpg"
         }
        }
       }
      }
     },
     "metadata": {},
     "output_type": "display_data"
    }
   ],
   "source": [
    "# incorporate the number of cylinders into your visualization\n",
    "fig1 = px.scatter(df, x='horsepower', y='mpg', color=df['cylinders'], title='Horsepower vs MPG')\n",
    "fig1.show()\n",
    "\n",
    "# 대체적으로 실린더 "
   ]
  },
  {
   "cell_type": "markdown",
   "id": "82190455",
   "metadata": {},
   "source": [
    "## Question 4\n",
    "\n",
    "How has the fuel efficiency of cars changed over time? Does the trend differ for American, European, and Japanese cars?"
   ]
  },
  {
   "cell_type": "code",
   "execution_count": 25,
   "id": "9ae251b4",
   "metadata": {},
   "outputs": [
    {
     "data": {
      "application/vnd.plotly.v1+json": {
       "config": {
        "plotlyServerURL": "https://plot.ly"
       },
       "data": [
        {
         "hovertemplate": "origin=USA<br>model year=%{x}<br>mpg=%{y}<extra></extra>",
         "legendgroup": "USA",
         "marker": {
          "color": "#636efa",
          "symbol": "circle"
         },
         "mode": "markers",
         "name": "USA",
         "orientation": "v",
         "showlegend": true,
         "type": "scatter",
         "x": {
          "bdata": "sgeyB7IHsgeyB7IHsgeyB7IHsgeyB7IHsgeyB7IHsgeyB7IHsgeyB7IHsgezB7MHswezB7MHswezB7MHswezB7MHswezB7MHswezB7MHswezB7QHtAe0B7QHtAe0B7QHtAe0B7QHtAe0B7QHtAe0B7QHtAe0B7UHtQe1B7UHtQe1B7UHtQe1B7UHtQe1B7UHtQe1B7UHtQe1B7UHtQe1B7UHtQe1B7UHtQe1B7UHtQe2B7YHtge2B7YHtge2B7YHtge2B7YHtge2B7YHtwe3B7cHtwe3B7cHtwe3B7cHtwe3B7cHtwe3B7cHtwe3B7cHtwe3B7gHuAe4B7gHuAe4B7gHuAe4B7gHuAe4B7gHuAe4B7gHuAe4B7gHuAe4B7gHuQe5B7kHuQe5B7kHuQe5B7kHuQe5B7kHuQe5B7kHuQe5B7kHuge6B7oHuge6B7oHuge6B7oHuge6B7oHuge6B7oHuge6B7oHuge6B7oHuge7B7sHuwe7B7sHuwe7B7sHuwe7B7sHuwe7B7sHuwe7B7sHuwe7B7sHuwe7B7sHvAe8B7wHvAe8B7wHvQe9B70HvQe9B70HvQe9B70HvQe9B70HvQe+B74Hvge+B74Hvge+B74Hvge+B74Hvge+B74Hvge+B74Hvge+Bw==",
          "dtype": "i2"
         },
         "xaxis": "x",
         "y": {
          "bdata": "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",
          "dtype": "f8"
         },
         "yaxis": "y"
        },
        {
         "hovertemplate": "origin=Japan<br>model year=%{x}<br>mpg=%{y}<extra></extra>",
         "legendgroup": "Japan",
         "marker": {
          "color": "#EF553B",
          "symbol": "circle"
         },
         "mode": "markers",
         "name": "Japan",
         "orientation": "v",
         "showlegend": true,
         "type": "scatter",
         "x": {
          "bdata": "sgeyB7MHswezB7MHtAe0B7QHtAe0B7UHtQe1B7UHtge2B7YHtge2B7YHtwe3B7cHtwe4B7gHuAe4B7kHuQe5B7kHuQe5B7oHuge6B7oHuge6B7oHuge7B7sHvAe8B7wHvAe8B7wHvAe8B7wHvAe8B7wHvAe9B70HvQe9B70HvQe9B70HvQe9B70HvQe+B74Hvge+B74Hvge+B74Hvgc=",
          "dtype": "i2"
         },
         "xaxis": "x",
         "y": {
          "bdata": "AAAAAAAAOEAAAAAAAAA7QAAAAAAAADtAAAAAAAAAOUAAAAAAAAA/QAAAAAAAgEFAAAAAAAAAOEAAAAAAAAAzQAAAAAAAADxAAAAAAAAAN0AAAAAAAAA7QAAAAAAAADRAAAAAAAAANkAAAAAAAAAyQAAAAAAAADRAAAAAAAAAP0AAAAAAAABAQAAAAAAAAD9AAAAAAAAAQEAAAAAAAAA4QAAAAAAAADpAAAAAAAAAPUAAAAAAAAA4QAAAAAAAADhAAAAAAACAQEAAAAAAAIBAQAAAAAAAAEBAAAAAAAAAPEAAAAAAAAAzQAAAAAAAgD9AAAAAAADAQEAAAAAAAAA6QAAAAAAAAD5AAAAAAAAANkAAAAAAAIA1QGZmZmZmZkBAMzMzMzOzQ0DNzMzMzAxCQAAAAAAAgDtAMzMzMzMzO0CamZmZmRk1QGZmZmZm5jdAAAAAAACAPUDNzMzMzAxBQM3MzMzMzD9AzczMzMwMQ0CamZmZmZlCQM3MzMzMzD1AzczMzMxMP0AAAAAAAIBCQJqZmZmZGUBAzczMzMxMR0BmZmZmZmZEQM3MzMzMTEZAZmZmZmbmQECamZmZmVlAQDMzMzMzszdAMzMzMzMzQEDNzMzMzIxDQM3MzMzMjEFAZmZmZmYmQEAAAAAAAIBCQJqZmZmZ2UJAzczMzMwMQUCamZmZmdlAQDMzMzMzM0BAMzMzMzNzQECamZmZmZk/QGZmZmZmZjlAMzMzMzMzOEAAAAAAAIBCQAAAAAAAAD9AAAAAAAAAQkAAAAAAAABCQAAAAAAAAEFAAAAAAAAAQ0AAAAAAAABAQAAAAAAAAENAAAAAAAAAQEA=",
          "dtype": "f8"
         },
         "yaxis": "y"
        },
        {
         "hovertemplate": "origin=Europe<br>model year=%{x}<br>mpg=%{y}<extra></extra>",
         "legendgroup": "Europe",
         "marker": {
          "color": "#00cc96",
          "symbol": "circle"
         },
         "mode": "markers",
         "name": "Europe",
         "orientation": "v",
         "showlegend": true,
         "type": "scatter",
         "x": {
          "bdata": "sgeyB7IHsgeyB7MHswezB7MHtAe0B7QHtAe0B7UHtQe1B7UHtQe1B7UHtge2B7YHtge2B7YHtwe3B7cHtwe3B7cHuAe4B7gHuAe4B7gHuAe4B7kHuQe5B7kHuge6B7oHuge6B7oHuwe7B7sHuwe8B7wHvAe8B7wHvAe8B7wHvQe9B70Hvge+Bw==",
          "dtype": "i2"
         },
         "xaxis": "x",
         "y": {
          "bdata": "AAAAAAAAOkAAAAAAAAA5QAAAAAAAADhAAAAAAAAAOUAAAAAAAAA6QAAAAAAAADxAAAAAAAAAPkAAAAAAAAA+QAAAAAAAADtAAAAAAAAAN0AAAAAAAAAyQAAAAAAAADZAAAAAAAAANUAAAAAAAAA6QAAAAAAAADpAAAAAAAAAOkAAAAAAAAA9QAAAAAAAADhAAAAAAAAANEAAAAAAAAAzQAAAAAAAADhAAAAAAAAAPUAAAAAAAAA6QAAAAAAAADpAAAAAAAAAOEAAAAAAAAA6QAAAAAAAAD9AAAAAAAAAOUAAAAAAAAA9QAAAAAAAADdAAAAAAAAAN0AAAAAAAAA2QAAAAAAAADlAAAAAAAAAPEAAAAAAAAA5QAAAAAAAADtAAAAAAAAAPUAAAAAAAIA9QAAAAAAAADRAAAAAAAAAM0AAAAAAAIAwQAAAAAAAAEJAAAAAAAAAPUAAAAAAAIA+QAAAAAAAgDVAzczMzMyMRUDNzMzMzEw0QAAAAAAAADFAmpmZmZmZNUAzMzMzMzMwQAAAAAAAgD9AZmZmZmbmP0BmZmZmZmY5QDMzMzMzMztAZmZmZmamQkAAAAAAAMBEQGZmZmZmJkFAZmZmZmYmRkAzMzMzM7NFQDMzMzMzM0JAAAAAAAAAPkDNzMzMzMw9QAAAAAAAgEFAAAAAAACAQECamZmZmRk8QDMzMzMzsz5AAAAAAAAAQkAAAAAAAABGQA==",
          "dtype": "f8"
         },
         "yaxis": "y"
        }
       ],
       "layout": {
        "legend": {
         "title": {
          "text": "origin"
         },
         "tracegroupgap": 0
        },
        "template": {
         "data": {
          "bar": [
           {
            "error_x": {
             "color": "#2a3f5f"
            },
            "error_y": {
             "color": "#2a3f5f"
            },
            "marker": {
             "line": {
              "color": "#E5ECF6",
              "width": 0.5
             },
             "pattern": {
              "fillmode": "overlay",
              "size": 10,
              "solidity": 0.2
             }
            },
            "type": "bar"
           }
          ],
          "barpolar": [
           {
            "marker": {
             "line": {
              "color": "#E5ECF6",
              "width": 0.5
             },
             "pattern": {
              "fillmode": "overlay",
              "size": 10,
              "solidity": 0.2
             }
            },
            "type": "barpolar"
           }
          ],
          "carpet": [
           {
            "aaxis": {
             "endlinecolor": "#2a3f5f",
             "gridcolor": "white",
             "linecolor": "white",
             "minorgridcolor": "white",
             "startlinecolor": "#2a3f5f"
            },
            "baxis": {
             "endlinecolor": "#2a3f5f",
             "gridcolor": "white",
             "linecolor": "white",
             "minorgridcolor": "white",
             "startlinecolor": "#2a3f5f"
            },
            "type": "carpet"
           }
          ],
          "choropleth": [
           {
            "colorbar": {
             "outlinewidth": 0,
             "ticks": ""
            },
            "type": "choropleth"
           }
          ],
          "contour": [
           {
            "colorbar": {
             "outlinewidth": 0,
             "ticks": ""
            },
            "colorscale": [
             [
              0,
              "#0d0887"
             ],
             [
              0.1111111111111111,
              "#46039f"
             ],
             [
              0.2222222222222222,
              "#7201a8"
             ],
             [
              0.3333333333333333,
              "#9c179e"
             ],
             [
              0.4444444444444444,
              "#bd3786"
             ],
             [
              0.5555555555555556,
              "#d8576b"
             ],
             [
              0.6666666666666666,
              "#ed7953"
             ],
             [
              0.7777777777777778,
              "#fb9f3a"
             ],
             [
              0.8888888888888888,
              "#fdca26"
             ],
             [
              1,
              "#f0f921"
             ]
            ],
            "type": "contour"
           }
          ],
          "contourcarpet": [
           {
            "colorbar": {
             "outlinewidth": 0,
             "ticks": ""
            },
            "type": "contourcarpet"
           }
          ],
          "heatmap": [
           {
            "colorbar": {
             "outlinewidth": 0,
             "ticks": ""
            },
            "colorscale": [
             [
              0,
              "#0d0887"
             ],
             [
              0.1111111111111111,
              "#46039f"
             ],
             [
              0.2222222222222222,
              "#7201a8"
             ],
             [
              0.3333333333333333,
              "#9c179e"
             ],
             [
              0.4444444444444444,
              "#bd3786"
             ],
             [
              0.5555555555555556,
              "#d8576b"
             ],
             [
              0.6666666666666666,
              "#ed7953"
             ],
             [
              0.7777777777777778,
              "#fb9f3a"
             ],
             [
              0.8888888888888888,
              "#fdca26"
             ],
             [
              1,
              "#f0f921"
             ]
            ],
            "type": "heatmap"
           }
          ],
          "histogram": [
           {
            "marker": {
             "pattern": {
              "fillmode": "overlay",
              "size": 10,
              "solidity": 0.2
             }
            },
            "type": "histogram"
           }
          ],
          "histogram2d": [
           {
            "colorbar": {
             "outlinewidth": 0,
             "ticks": ""
            },
            "colorscale": [
             [
              0,
              "#0d0887"
             ],
             [
              0.1111111111111111,
              "#46039f"
             ],
             [
              0.2222222222222222,
              "#7201a8"
             ],
             [
              0.3333333333333333,
              "#9c179e"
             ],
             [
              0.4444444444444444,
              "#bd3786"
             ],
             [
              0.5555555555555556,
              "#d8576b"
             ],
             [
              0.6666666666666666,
              "#ed7953"
             ],
             [
              0.7777777777777778,
              "#fb9f3a"
             ],
             [
              0.8888888888888888,
              "#fdca26"
             ],
             [
              1,
              "#f0f921"
             ]
            ],
            "type": "histogram2d"
           }
          ],
          "histogram2dcontour": [
           {
            "colorbar": {
             "outlinewidth": 0,
             "ticks": ""
            },
            "colorscale": [
             [
              0,
              "#0d0887"
             ],
             [
              0.1111111111111111,
              "#46039f"
             ],
             [
              0.2222222222222222,
              "#7201a8"
             ],
             [
              0.3333333333333333,
              "#9c179e"
             ],
             [
              0.4444444444444444,
              "#bd3786"
             ],
             [
              0.5555555555555556,
              "#d8576b"
             ],
             [
              0.6666666666666666,
              "#ed7953"
             ],
             [
              0.7777777777777778,
              "#fb9f3a"
             ],
             [
              0.8888888888888888,
              "#fdca26"
             ],
             [
              1,
              "#f0f921"
             ]
            ],
            "type": "histogram2dcontour"
           }
          ],
          "mesh3d": [
           {
            "colorbar": {
             "outlinewidth": 0,
             "ticks": ""
            },
            "type": "mesh3d"
           }
          ],
          "parcoords": [
           {
            "line": {
             "colorbar": {
              "outlinewidth": 0,
              "ticks": ""
             }
            },
            "type": "parcoords"
           }
          ],
          "pie": [
           {
            "automargin": true,
            "type": "pie"
           }
          ],
          "scatter": [
           {
            "fillpattern": {
             "fillmode": "overlay",
             "size": 10,
             "solidity": 0.2
            },
            "type": "scatter"
           }
          ],
          "scatter3d": [
           {
            "line": {
             "colorbar": {
              "outlinewidth": 0,
              "ticks": ""
             }
            },
            "marker": {
             "colorbar": {
              "outlinewidth": 0,
              "ticks": ""
             }
            },
            "type": "scatter3d"
           }
          ],
          "scattercarpet": [
           {
            "marker": {
             "colorbar": {
              "outlinewidth": 0,
              "ticks": ""
             }
            },
            "type": "scattercarpet"
           }
          ],
          "scattergeo": [
           {
            "marker": {
             "colorbar": {
              "outlinewidth": 0,
              "ticks": ""
             }
            },
            "type": "scattergeo"
           }
          ],
          "scattergl": [
           {
            "marker": {
             "colorbar": {
              "outlinewidth": 0,
              "ticks": ""
             }
            },
            "type": "scattergl"
           }
          ],
          "scattermap": [
           {
            "marker": {
             "colorbar": {
              "outlinewidth": 0,
              "ticks": ""
             }
            },
            "type": "scattermap"
           }
          ],
          "scattermapbox": [
           {
            "marker": {
             "colorbar": {
              "outlinewidth": 0,
              "ticks": ""
             }
            },
            "type": "scattermapbox"
           }
          ],
          "scatterpolar": [
           {
            "marker": {
             "colorbar": {
              "outlinewidth": 0,
              "ticks": ""
             }
            },
            "type": "scatterpolar"
           }
          ],
          "scatterpolargl": [
           {
            "marker": {
             "colorbar": {
              "outlinewidth": 0,
              "ticks": ""
             }
            },
            "type": "scatterpolargl"
           }
          ],
          "scatterternary": [
           {
            "marker": {
             "colorbar": {
              "outlinewidth": 0,
              "ticks": ""
             }
            },
            "type": "scatterternary"
           }
          ],
          "surface": [
           {
            "colorbar": {
             "outlinewidth": 0,
             "ticks": ""
            },
            "colorscale": [
             [
              0,
              "#0d0887"
             ],
             [
              0.1111111111111111,
              "#46039f"
             ],
             [
              0.2222222222222222,
              "#7201a8"
             ],
             [
              0.3333333333333333,
              "#9c179e"
             ],
             [
              0.4444444444444444,
              "#bd3786"
             ],
             [
              0.5555555555555556,
              "#d8576b"
             ],
             [
              0.6666666666666666,
              "#ed7953"
             ],
             [
              0.7777777777777778,
              "#fb9f3a"
             ],
             [
              0.8888888888888888,
              "#fdca26"
             ],
             [
              1,
              "#f0f921"
             ]
            ],
            "type": "surface"
           }
          ],
          "table": [
           {
            "cells": {
             "fill": {
              "color": "#EBF0F8"
             },
             "line": {
              "color": "white"
             }
            },
            "header": {
             "fill": {
              "color": "#C8D4E3"
             },
             "line": {
              "color": "white"
             }
            },
            "type": "table"
           }
          ]
         },
         "layout": {
          "annotationdefaults": {
           "arrowcolor": "#2a3f5f",
           "arrowhead": 0,
           "arrowwidth": 1
          },
          "autotypenumbers": "strict",
          "coloraxis": {
           "colorbar": {
            "outlinewidth": 0,
            "ticks": ""
           }
          },
          "colorscale": {
           "diverging": [
            [
             0,
             "#8e0152"
            ],
            [
             0.1,
             "#c51b7d"
            ],
            [
             0.2,
             "#de77ae"
            ],
            [
             0.3,
             "#f1b6da"
            ],
            [
             0.4,
             "#fde0ef"
            ],
            [
             0.5,
             "#f7f7f7"
            ],
            [
             0.6,
             "#e6f5d0"
            ],
            [
             0.7,
             "#b8e186"
            ],
            [
             0.8,
             "#7fbc41"
            ],
            [
             0.9,
             "#4d9221"
            ],
            [
             1,
             "#276419"
            ]
           ],
           "sequential": [
            [
             0,
             "#0d0887"
            ],
            [
             0.1111111111111111,
             "#46039f"
            ],
            [
             0.2222222222222222,
             "#7201a8"
            ],
            [
             0.3333333333333333,
             "#9c179e"
            ],
            [
             0.4444444444444444,
             "#bd3786"
            ],
            [
             0.5555555555555556,
             "#d8576b"
            ],
            [
             0.6666666666666666,
             "#ed7953"
            ],
            [
             0.7777777777777778,
             "#fb9f3a"
            ],
            [
             0.8888888888888888,
             "#fdca26"
            ],
            [
             1,
             "#f0f921"
            ]
           ],
           "sequentialminus": [
            [
             0,
             "#0d0887"
            ],
            [
             0.1111111111111111,
             "#46039f"
            ],
            [
             0.2222222222222222,
             "#7201a8"
            ],
            [
             0.3333333333333333,
             "#9c179e"
            ],
            [
             0.4444444444444444,
             "#bd3786"
            ],
            [
             0.5555555555555556,
             "#d8576b"
            ],
            [
             0.6666666666666666,
             "#ed7953"
            ],
            [
             0.7777777777777778,
             "#fb9f3a"
            ],
            [
             0.8888888888888888,
             "#fdca26"
            ],
            [
             1,
             "#f0f921"
            ]
           ]
          },
          "colorway": [
           "#636efa",
           "#EF553B",
           "#00cc96",
           "#ab63fa",
           "#FFA15A",
           "#19d3f3",
           "#FF6692",
           "#B6E880",
           "#FF97FF",
           "#FECB52"
          ],
          "font": {
           "color": "#2a3f5f"
          },
          "geo": {
           "bgcolor": "white",
           "lakecolor": "white",
           "landcolor": "#E5ECF6",
           "showlakes": true,
           "showland": true,
           "subunitcolor": "white"
          },
          "hoverlabel": {
           "align": "left"
          },
          "hovermode": "closest",
          "mapbox": {
           "style": "light"
          },
          "paper_bgcolor": "white",
          "plot_bgcolor": "#E5ECF6",
          "polar": {
           "angularaxis": {
            "gridcolor": "white",
            "linecolor": "white",
            "ticks": ""
           },
           "bgcolor": "#E5ECF6",
           "radialaxis": {
            "gridcolor": "white",
            "linecolor": "white",
            "ticks": ""
           }
          },
          "scene": {
           "xaxis": {
            "backgroundcolor": "#E5ECF6",
            "gridcolor": "white",
            "gridwidth": 2,
            "linecolor": "white",
            "showbackground": true,
            "ticks": "",
            "zerolinecolor": "white"
           },
           "yaxis": {
            "backgroundcolor": "#E5ECF6",
            "gridcolor": "white",
            "gridwidth": 2,
            "linecolor": "white",
            "showbackground": true,
            "ticks": "",
            "zerolinecolor": "white"
           },
           "zaxis": {
            "backgroundcolor": "#E5ECF6",
            "gridcolor": "white",
            "gridwidth": 2,
            "linecolor": "white",
            "showbackground": true,
            "ticks": "",
            "zerolinecolor": "white"
           }
          },
          "shapedefaults": {
           "line": {
            "color": "#2a3f5f"
           }
          },
          "ternary": {
           "aaxis": {
            "gridcolor": "white",
            "linecolor": "white",
            "ticks": ""
           },
           "baxis": {
            "gridcolor": "white",
            "linecolor": "white",
            "ticks": ""
           },
           "bgcolor": "#E5ECF6",
           "caxis": {
            "gridcolor": "white",
            "linecolor": "white",
            "ticks": ""
           }
          },
          "title": {
           "x": 0.05
          },
          "xaxis": {
           "automargin": true,
           "gridcolor": "white",
           "linecolor": "white",
           "ticks": "",
           "title": {
            "standoff": 15
           },
           "zerolinecolor": "white",
           "zerolinewidth": 2
          },
          "yaxis": {
           "automargin": true,
           "gridcolor": "white",
           "linecolor": "white",
           "ticks": "",
           "title": {
            "standoff": 15
           },
           "zerolinecolor": "white",
           "zerolinewidth": 2
          }
         }
        },
        "title": {
         "text": "Year vs MPG by Origin"
        },
        "xaxis": {
         "anchor": "y",
         "domain": [
          0,
          1
         ],
         "title": {
          "text": "model year"
         }
        },
        "yaxis": {
         "anchor": "x",
         "domain": [
          0,
          1
         ],
         "title": {
          "text": "mpg"
         }
        }
       }
      }
     },
     "metadata": {},
     "output_type": "display_data"
    }
   ],
   "source": [
    "# display the change of fuel efficiency over the years grouped by origin\n",
    "fig = px.scatter(df, x='model year', y='mpg', color='origin', title='Year vs MPG by Origin')\n",
    "fig.show()\n",
    "\n",
    "# 대체적으로 MPG는 시간에 따라 증가하나, 국가별 차이가 존재함."
   ]
  },
  {
   "cell_type": "markdown",
   "id": "330deaca",
   "metadata": {},
   "source": [
    "## Question 5\n",
    "You really liked your 1973 Volkswagen Super Beetle (row #101 in this data set), and are looking for a more recent car that has similar features. Use the data set to recommend some similar cars that are newer.\n",
    "\n",
    "*Suggestion:* You can do this using Scikit-Learn or in Pandas. Try both approaches for extra practice!"
   ]
  },
  {
   "cell_type": "markdown",
   "id": "5ba2849f",
   "metadata": {},
   "source": [
    "## My note\n",
    "- categorical variables: cylinders, model year, origin\n",
    "- numerical variables: mpg, displacement, horsepower, weight, acceleration"
   ]
  },
  {
   "cell_type": "code",
   "execution_count": 38,
   "id": "e952f71c",
   "metadata": {},
   "outputs": [
    {
     "data": {
      "text/html": [
       "<div>\n",
       "<style scoped>\n",
       "    .dataframe tbody tr th:only-of-type {\n",
       "        vertical-align: middle;\n",
       "    }\n",
       "\n",
       "    .dataframe tbody tr th {\n",
       "        vertical-align: top;\n",
       "    }\n",
       "\n",
       "    .dataframe thead th {\n",
       "        text-align: right;\n",
       "    }\n",
       "</style>\n",
       "<table border=\"1\" class=\"dataframe\">\n",
       "  <thead>\n",
       "    <tr style=\"text-align: right;\">\n",
       "      <th></th>\n",
       "      <th>mpg</th>\n",
       "      <th>displacement</th>\n",
       "      <th>horsepower</th>\n",
       "      <th>weight</th>\n",
       "      <th>acceleration</th>\n",
       "      <th>cylinders_3</th>\n",
       "      <th>cylinders_4</th>\n",
       "      <th>cylinders_5</th>\n",
       "      <th>cylinders_6</th>\n",
       "      <th>cylinders_8</th>\n",
       "      <th>origin_Europe</th>\n",
       "      <th>origin_Japan</th>\n",
       "      <th>origin_USA</th>\n",
       "    </tr>\n",
       "  </thead>\n",
       "  <tbody>\n",
       "    <tr>\n",
       "      <th>0</th>\n",
       "      <td>18.0</td>\n",
       "      <td>307.0</td>\n",
       "      <td>130.0</td>\n",
       "      <td>3504</td>\n",
       "      <td>12.0</td>\n",
       "      <td>0</td>\n",
       "      <td>0</td>\n",
       "      <td>0</td>\n",
       "      <td>0</td>\n",
       "      <td>1</td>\n",
       "      <td>0</td>\n",
       "      <td>0</td>\n",
       "      <td>1</td>\n",
       "    </tr>\n",
       "    <tr>\n",
       "      <th>1</th>\n",
       "      <td>15.0</td>\n",
       "      <td>350.0</td>\n",
       "      <td>165.0</td>\n",
       "      <td>3693</td>\n",
       "      <td>11.5</td>\n",
       "      <td>0</td>\n",
       "      <td>0</td>\n",
       "      <td>0</td>\n",
       "      <td>0</td>\n",
       "      <td>1</td>\n",
       "      <td>0</td>\n",
       "      <td>0</td>\n",
       "      <td>1</td>\n",
       "    </tr>\n",
       "    <tr>\n",
       "      <th>2</th>\n",
       "      <td>18.0</td>\n",
       "      <td>318.0</td>\n",
       "      <td>150.0</td>\n",
       "      <td>3436</td>\n",
       "      <td>11.0</td>\n",
       "      <td>0</td>\n",
       "      <td>0</td>\n",
       "      <td>0</td>\n",
       "      <td>0</td>\n",
       "      <td>1</td>\n",
       "      <td>0</td>\n",
       "      <td>0</td>\n",
       "      <td>1</td>\n",
       "    </tr>\n",
       "    <tr>\n",
       "      <th>3</th>\n",
       "      <td>16.0</td>\n",
       "      <td>304.0</td>\n",
       "      <td>150.0</td>\n",
       "      <td>3433</td>\n",
       "      <td>12.0</td>\n",
       "      <td>0</td>\n",
       "      <td>0</td>\n",
       "      <td>0</td>\n",
       "      <td>0</td>\n",
       "      <td>1</td>\n",
       "      <td>0</td>\n",
       "      <td>0</td>\n",
       "      <td>1</td>\n",
       "    </tr>\n",
       "    <tr>\n",
       "      <th>4</th>\n",
       "      <td>17.0</td>\n",
       "      <td>302.0</td>\n",
       "      <td>140.0</td>\n",
       "      <td>3449</td>\n",
       "      <td>10.5</td>\n",
       "      <td>0</td>\n",
       "      <td>0</td>\n",
       "      <td>0</td>\n",
       "      <td>0</td>\n",
       "      <td>1</td>\n",
       "      <td>0</td>\n",
       "      <td>0</td>\n",
       "      <td>1</td>\n",
       "    </tr>\n",
       "    <tr>\n",
       "      <th>...</th>\n",
       "      <td>...</td>\n",
       "      <td>...</td>\n",
       "      <td>...</td>\n",
       "      <td>...</td>\n",
       "      <td>...</td>\n",
       "      <td>...</td>\n",
       "      <td>...</td>\n",
       "      <td>...</td>\n",
       "      <td>...</td>\n",
       "      <td>...</td>\n",
       "      <td>...</td>\n",
       "      <td>...</td>\n",
       "      <td>...</td>\n",
       "    </tr>\n",
       "    <tr>\n",
       "      <th>387</th>\n",
       "      <td>27.0</td>\n",
       "      <td>140.0</td>\n",
       "      <td>86.0</td>\n",
       "      <td>2790</td>\n",
       "      <td>15.6</td>\n",
       "      <td>0</td>\n",
       "      <td>1</td>\n",
       "      <td>0</td>\n",
       "      <td>0</td>\n",
       "      <td>0</td>\n",
       "      <td>0</td>\n",
       "      <td>0</td>\n",
       "      <td>1</td>\n",
       "    </tr>\n",
       "    <tr>\n",
       "      <th>388</th>\n",
       "      <td>44.0</td>\n",
       "      <td>97.0</td>\n",
       "      <td>52.0</td>\n",
       "      <td>2130</td>\n",
       "      <td>24.6</td>\n",
       "      <td>0</td>\n",
       "      <td>1</td>\n",
       "      <td>0</td>\n",
       "      <td>0</td>\n",
       "      <td>0</td>\n",
       "      <td>1</td>\n",
       "      <td>0</td>\n",
       "      <td>0</td>\n",
       "    </tr>\n",
       "    <tr>\n",
       "      <th>389</th>\n",
       "      <td>32.0</td>\n",
       "      <td>135.0</td>\n",
       "      <td>84.0</td>\n",
       "      <td>2295</td>\n",
       "      <td>11.6</td>\n",
       "      <td>0</td>\n",
       "      <td>1</td>\n",
       "      <td>0</td>\n",
       "      <td>0</td>\n",
       "      <td>0</td>\n",
       "      <td>0</td>\n",
       "      <td>0</td>\n",
       "      <td>1</td>\n",
       "    </tr>\n",
       "    <tr>\n",
       "      <th>390</th>\n",
       "      <td>28.0</td>\n",
       "      <td>120.0</td>\n",
       "      <td>79.0</td>\n",
       "      <td>2625</td>\n",
       "      <td>18.6</td>\n",
       "      <td>0</td>\n",
       "      <td>1</td>\n",
       "      <td>0</td>\n",
       "      <td>0</td>\n",
       "      <td>0</td>\n",
       "      <td>0</td>\n",
       "      <td>0</td>\n",
       "      <td>1</td>\n",
       "    </tr>\n",
       "    <tr>\n",
       "      <th>391</th>\n",
       "      <td>31.0</td>\n",
       "      <td>119.0</td>\n",
       "      <td>82.0</td>\n",
       "      <td>2720</td>\n",
       "      <td>19.4</td>\n",
       "      <td>0</td>\n",
       "      <td>1</td>\n",
       "      <td>0</td>\n",
       "      <td>0</td>\n",
       "      <td>0</td>\n",
       "      <td>0</td>\n",
       "      <td>0</td>\n",
       "      <td>1</td>\n",
       "    </tr>\n",
       "  </tbody>\n",
       "</table>\n",
       "<p>392 rows × 13 columns</p>\n",
       "</div>"
      ],
      "text/plain": [
       "      mpg  displacement  horsepower  weight  acceleration  cylinders_3  \\\n",
       "0    18.0         307.0       130.0    3504          12.0            0   \n",
       "1    15.0         350.0       165.0    3693          11.5            0   \n",
       "2    18.0         318.0       150.0    3436          11.0            0   \n",
       "3    16.0         304.0       150.0    3433          12.0            0   \n",
       "4    17.0         302.0       140.0    3449          10.5            0   \n",
       "..    ...           ...         ...     ...           ...          ...   \n",
       "387  27.0         140.0        86.0    2790          15.6            0   \n",
       "388  44.0          97.0        52.0    2130          24.6            0   \n",
       "389  32.0         135.0        84.0    2295          11.6            0   \n",
       "390  28.0         120.0        79.0    2625          18.6            0   \n",
       "391  31.0         119.0        82.0    2720          19.4            0   \n",
       "\n",
       "     cylinders_4  cylinders_5  cylinders_6  cylinders_8  origin_Europe  \\\n",
       "0              0            0            0            1              0   \n",
       "1              0            0            0            1              0   \n",
       "2              0            0            0            1              0   \n",
       "3              0            0            0            1              0   \n",
       "4              0            0            0            1              0   \n",
       "..           ...          ...          ...          ...            ...   \n",
       "387            1            0            0            0              0   \n",
       "388            1            0            0            0              1   \n",
       "389            1            0            0            0              0   \n",
       "390            1            0            0            0              0   \n",
       "391            1            0            0            0              0   \n",
       "\n",
       "     origin_Japan  origin_USA  \n",
       "0               0           1  \n",
       "1               0           1  \n",
       "2               0           1  \n",
       "3               0           1  \n",
       "4               0           1  \n",
       "..            ...         ...  \n",
       "387             0           1  \n",
       "388             0           0  \n",
       "389             0           1  \n",
       "390             0           1  \n",
       "391             0           1  \n",
       "\n",
       "[392 rows x 13 columns]"
      ]
     },
     "execution_count": 38,
     "metadata": {},
     "output_type": "execute_result"
    }
   ],
   "source": [
    "\"\"\"\n",
    "Question 5 (pandas ver.)\n",
    "\"\"\"\n",
    "# drop car name column (it is not necessary for the analysis)\n",
    "df_encoded = df.drop(columns=['car name', 'model year'])\n",
    "\n",
    "# do one-hot encoding for categorical variables\n",
    "df_encoded = pd.get_dummies(df_encoded, columns=['cylinders', 'origin'], dtype=int)\n",
    "\n",
    "# check df_encoded\n",
    "df_encoded"
   ]
  },
  {
   "cell_type": "code",
   "execution_count": 39,
   "id": "cbcfbf3b",
   "metadata": {},
   "outputs": [
    {
     "data": {
      "text/html": [
       "<div>\n",
       "<style scoped>\n",
       "    .dataframe tbody tr th:only-of-type {\n",
       "        vertical-align: middle;\n",
       "    }\n",
       "\n",
       "    .dataframe tbody tr th {\n",
       "        vertical-align: top;\n",
       "    }\n",
       "\n",
       "    .dataframe thead th {\n",
       "        text-align: right;\n",
       "    }\n",
       "</style>\n",
       "<table border=\"1\" class=\"dataframe\">\n",
       "  <thead>\n",
       "    <tr style=\"text-align: right;\">\n",
       "      <th></th>\n",
       "      <th>mpg</th>\n",
       "      <th>displacement</th>\n",
       "      <th>horsepower</th>\n",
       "      <th>weight</th>\n",
       "      <th>acceleration</th>\n",
       "      <th>cylinders_3</th>\n",
       "      <th>cylinders_4</th>\n",
       "      <th>cylinders_5</th>\n",
       "      <th>cylinders_6</th>\n",
       "      <th>cylinders_8</th>\n",
       "      <th>origin_Europe</th>\n",
       "      <th>origin_Japan</th>\n",
       "      <th>origin_USA</th>\n",
       "    </tr>\n",
       "  </thead>\n",
       "  <tbody>\n",
       "    <tr>\n",
       "      <th>0</th>\n",
       "      <td>-0.697747</td>\n",
       "      <td>1.075915</td>\n",
       "      <td>0.663285</td>\n",
       "      <td>0.619748</td>\n",
       "      <td>-1.283618</td>\n",
       "      <td>-0.101405</td>\n",
       "      <td>-1.014129</td>\n",
       "      <td>-0.087706</td>\n",
       "      <td>-0.517613</td>\n",
       "      <td>1.672922</td>\n",
       "      <td>-0.457538</td>\n",
       "      <td>-0.501749</td>\n",
       "      <td>0.773608</td>\n",
       "    </tr>\n",
       "    <tr>\n",
       "      <th>1</th>\n",
       "      <td>-1.082115</td>\n",
       "      <td>1.486832</td>\n",
       "      <td>1.572585</td>\n",
       "      <td>0.842258</td>\n",
       "      <td>-1.464852</td>\n",
       "      <td>-0.101405</td>\n",
       "      <td>-1.014129</td>\n",
       "      <td>-0.087706</td>\n",
       "      <td>-0.517613</td>\n",
       "      <td>1.672922</td>\n",
       "      <td>-0.457538</td>\n",
       "      <td>-0.501749</td>\n",
       "      <td>0.773608</td>\n",
       "    </tr>\n",
       "    <tr>\n",
       "      <th>2</th>\n",
       "      <td>-0.697747</td>\n",
       "      <td>1.181033</td>\n",
       "      <td>1.182885</td>\n",
       "      <td>0.539692</td>\n",
       "      <td>-1.646086</td>\n",
       "      <td>-0.101405</td>\n",
       "      <td>-1.014129</td>\n",
       "      <td>-0.087706</td>\n",
       "      <td>-0.517613</td>\n",
       "      <td>1.672922</td>\n",
       "      <td>-0.457538</td>\n",
       "      <td>-0.501749</td>\n",
       "      <td>0.773608</td>\n",
       "    </tr>\n",
       "    <tr>\n",
       "      <th>3</th>\n",
       "      <td>-0.953992</td>\n",
       "      <td>1.047246</td>\n",
       "      <td>1.182885</td>\n",
       "      <td>0.536160</td>\n",
       "      <td>-1.283618</td>\n",
       "      <td>-0.101405</td>\n",
       "      <td>-1.014129</td>\n",
       "      <td>-0.087706</td>\n",
       "      <td>-0.517613</td>\n",
       "      <td>1.672922</td>\n",
       "      <td>-0.457538</td>\n",
       "      <td>-0.501749</td>\n",
       "      <td>0.773608</td>\n",
       "    </tr>\n",
       "    <tr>\n",
       "      <th>4</th>\n",
       "      <td>-0.825870</td>\n",
       "      <td>1.028134</td>\n",
       "      <td>0.923085</td>\n",
       "      <td>0.554997</td>\n",
       "      <td>-1.827320</td>\n",
       "      <td>-0.101405</td>\n",
       "      <td>-1.014129</td>\n",
       "      <td>-0.087706</td>\n",
       "      <td>-0.517613</td>\n",
       "      <td>1.672922</td>\n",
       "      <td>-0.457538</td>\n",
       "      <td>-0.501749</td>\n",
       "      <td>0.773608</td>\n",
       "    </tr>\n",
       "    <tr>\n",
       "      <th>...</th>\n",
       "      <td>...</td>\n",
       "      <td>...</td>\n",
       "      <td>...</td>\n",
       "      <td>...</td>\n",
       "      <td>...</td>\n",
       "      <td>...</td>\n",
       "      <td>...</td>\n",
       "      <td>...</td>\n",
       "      <td>...</td>\n",
       "      <td>...</td>\n",
       "      <td>...</td>\n",
       "      <td>...</td>\n",
       "      <td>...</td>\n",
       "    </tr>\n",
       "    <tr>\n",
       "      <th>387</th>\n",
       "      <td>0.455359</td>\n",
       "      <td>-0.519972</td>\n",
       "      <td>-0.479835</td>\n",
       "      <td>-0.220842</td>\n",
       "      <td>0.021267</td>\n",
       "      <td>-0.101405</td>\n",
       "      <td>0.983552</td>\n",
       "      <td>-0.087706</td>\n",
       "      <td>-0.517613</td>\n",
       "      <td>-0.596232</td>\n",
       "      <td>-0.457538</td>\n",
       "      <td>-0.501749</td>\n",
       "      <td>0.773608</td>\n",
       "    </tr>\n",
       "    <tr>\n",
       "      <th>388</th>\n",
       "      <td>2.633448</td>\n",
       "      <td>-0.930889</td>\n",
       "      <td>-1.363154</td>\n",
       "      <td>-0.997859</td>\n",
       "      <td>3.283479</td>\n",
       "      <td>-0.101405</td>\n",
       "      <td>0.983552</td>\n",
       "      <td>-0.087706</td>\n",
       "      <td>-0.517613</td>\n",
       "      <td>-0.596232</td>\n",
       "      <td>2.180035</td>\n",
       "      <td>-0.501749</td>\n",
       "      <td>-1.289347</td>\n",
       "    </tr>\n",
       "    <tr>\n",
       "      <th>389</th>\n",
       "      <td>1.095974</td>\n",
       "      <td>-0.567753</td>\n",
       "      <td>-0.531795</td>\n",
       "      <td>-0.803605</td>\n",
       "      <td>-1.428605</td>\n",
       "      <td>-0.101405</td>\n",
       "      <td>0.983552</td>\n",
       "      <td>-0.087706</td>\n",
       "      <td>-0.517613</td>\n",
       "      <td>-0.596232</td>\n",
       "      <td>-0.457538</td>\n",
       "      <td>-0.501749</td>\n",
       "      <td>0.773608</td>\n",
       "    </tr>\n",
       "    <tr>\n",
       "      <th>390</th>\n",
       "      <td>0.583482</td>\n",
       "      <td>-0.711097</td>\n",
       "      <td>-0.661694</td>\n",
       "      <td>-0.415097</td>\n",
       "      <td>1.108671</td>\n",
       "      <td>-0.101405</td>\n",
       "      <td>0.983552</td>\n",
       "      <td>-0.087706</td>\n",
       "      <td>-0.517613</td>\n",
       "      <td>-0.596232</td>\n",
       "      <td>-0.457538</td>\n",
       "      <td>-0.501749</td>\n",
       "      <td>0.773608</td>\n",
       "    </tr>\n",
       "    <tr>\n",
       "      <th>391</th>\n",
       "      <td>0.967851</td>\n",
       "      <td>-0.720653</td>\n",
       "      <td>-0.583754</td>\n",
       "      <td>-0.303253</td>\n",
       "      <td>1.398646</td>\n",
       "      <td>-0.101405</td>\n",
       "      <td>0.983552</td>\n",
       "      <td>-0.087706</td>\n",
       "      <td>-0.517613</td>\n",
       "      <td>-0.596232</td>\n",
       "      <td>-0.457538</td>\n",
       "      <td>-0.501749</td>\n",
       "      <td>0.773608</td>\n",
       "    </tr>\n",
       "  </tbody>\n",
       "</table>\n",
       "<p>392 rows × 13 columns</p>\n",
       "</div>"
      ],
      "text/plain": [
       "          mpg  displacement  horsepower    weight  acceleration  cylinders_3  \\\n",
       "0   -0.697747      1.075915    0.663285  0.619748     -1.283618    -0.101405   \n",
       "1   -1.082115      1.486832    1.572585  0.842258     -1.464852    -0.101405   \n",
       "2   -0.697747      1.181033    1.182885  0.539692     -1.646086    -0.101405   \n",
       "3   -0.953992      1.047246    1.182885  0.536160     -1.283618    -0.101405   \n",
       "4   -0.825870      1.028134    0.923085  0.554997     -1.827320    -0.101405   \n",
       "..        ...           ...         ...       ...           ...          ...   \n",
       "387  0.455359     -0.519972   -0.479835 -0.220842      0.021267    -0.101405   \n",
       "388  2.633448     -0.930889   -1.363154 -0.997859      3.283479    -0.101405   \n",
       "389  1.095974     -0.567753   -0.531795 -0.803605     -1.428605    -0.101405   \n",
       "390  0.583482     -0.711097   -0.661694 -0.415097      1.108671    -0.101405   \n",
       "391  0.967851     -0.720653   -0.583754 -0.303253      1.398646    -0.101405   \n",
       "\n",
       "     cylinders_4  cylinders_5  cylinders_6  cylinders_8  origin_Europe  \\\n",
       "0      -1.014129    -0.087706    -0.517613     1.672922      -0.457538   \n",
       "1      -1.014129    -0.087706    -0.517613     1.672922      -0.457538   \n",
       "2      -1.014129    -0.087706    -0.517613     1.672922      -0.457538   \n",
       "3      -1.014129    -0.087706    -0.517613     1.672922      -0.457538   \n",
       "4      -1.014129    -0.087706    -0.517613     1.672922      -0.457538   \n",
       "..           ...          ...          ...          ...            ...   \n",
       "387     0.983552    -0.087706    -0.517613    -0.596232      -0.457538   \n",
       "388     0.983552    -0.087706    -0.517613    -0.596232       2.180035   \n",
       "389     0.983552    -0.087706    -0.517613    -0.596232      -0.457538   \n",
       "390     0.983552    -0.087706    -0.517613    -0.596232      -0.457538   \n",
       "391     0.983552    -0.087706    -0.517613    -0.596232      -0.457538   \n",
       "\n",
       "     origin_Japan  origin_USA  \n",
       "0       -0.501749    0.773608  \n",
       "1       -0.501749    0.773608  \n",
       "2       -0.501749    0.773608  \n",
       "3       -0.501749    0.773608  \n",
       "4       -0.501749    0.773608  \n",
       "..            ...         ...  \n",
       "387     -0.501749    0.773608  \n",
       "388     -0.501749   -1.289347  \n",
       "389     -0.501749    0.773608  \n",
       "390     -0.501749    0.773608  \n",
       "391     -0.501749    0.773608  \n",
       "\n",
       "[392 rows x 13 columns]"
      ]
     },
     "execution_count": 39,
     "metadata": {},
     "output_type": "execute_result"
    }
   ],
   "source": [
    "# standardize the numerical variables\n",
    "df_standardized = (df_encoded - df_encoded.mean(axis='rows')) / df_encoded.std(axis='rows')\n",
    "df_standardized"
   ]
  },
  {
   "cell_type": "code",
   "execution_count": 40,
   "id": "9da24d19",
   "metadata": {},
   "outputs": [
    {
     "data": {
      "text/plain": [
       "101     0.000000\n",
       "19      0.226221\n",
       "116     0.731967\n",
       "54      0.832400\n",
       "50      0.998967\n",
       "         ...    \n",
       "241    11.280042\n",
       "331    11.305928\n",
       "325    11.789825\n",
       "295    11.841692\n",
       "272    11.943688\n",
       "Length: 392, dtype: float64"
      ]
     },
     "execution_count": 40,
     "metadata": {},
     "output_type": "execute_result"
    }
   ],
   "source": [
    "# find the most similar cars to row #101 based on euclidean distance\n",
    "import numpy as np\n",
    "\n",
    "# find the index of Super Beetle\n",
    "index_super_beetle = df.index[df['car name'] == 'volkswagen super beetle'][0]\n",
    "\n",
    "# get the differences\n",
    "diffs = df_standardized - df_standardized.iloc[index_super_beetle]\n",
    "\n",
    "# calculate the euclidean distance\n",
    "dists_euclidean = np.sqrt((diffs ** 2).sum(axis='columns'))\n",
    "\n",
    "# sort the distances\n",
    "dists_euclidean.sort_values(inplace=True)\n",
    "\n",
    "dists_euclidean"
   ]
  },
  {
   "cell_type": "code",
   "execution_count": null,
   "id": "3ab5cceb",
   "metadata": {},
   "outputs": [
    {
     "data": {
      "text/html": [
       "<div>\n",
       "<style scoped>\n",
       "    .dataframe tbody tr th:only-of-type {\n",
       "        vertical-align: middle;\n",
       "    }\n",
       "\n",
       "    .dataframe tbody tr th {\n",
       "        vertical-align: top;\n",
       "    }\n",
       "\n",
       "    .dataframe thead th {\n",
       "        text-align: right;\n",
       "    }\n",
       "</style>\n",
       "<table border=\"1\" class=\"dataframe\">\n",
       "  <thead>\n",
       "    <tr style=\"text-align: right;\">\n",
       "      <th></th>\n",
       "      <th>car name</th>\n",
       "      <th>mpg</th>\n",
       "      <th>cylinders</th>\n",
       "      <th>displacement</th>\n",
       "      <th>horsepower</th>\n",
       "      <th>weight</th>\n",
       "      <th>acceleration</th>\n",
       "      <th>model year</th>\n",
       "      <th>origin</th>\n",
       "    </tr>\n",
       "  </thead>\n",
       "  <tbody>\n",
       "    <tr>\n",
       "      <th>101</th>\n",
       "      <td>volkswagen super beetle</td>\n",
       "      <td>26.0</td>\n",
       "      <td>4</td>\n",
       "      <td>97.0</td>\n",
       "      <td>46.0</td>\n",
       "      <td>1950</td>\n",
       "      <td>21.0</td>\n",
       "      <td>1973</td>\n",
       "      <td>Europe</td>\n",
       "    </tr>\n",
       "    <tr>\n",
       "      <th>19</th>\n",
       "      <td>volkswagen 1131 deluxe sedan</td>\n",
       "      <td>26.0</td>\n",
       "      <td>4</td>\n",
       "      <td>97.0</td>\n",
       "      <td>46.0</td>\n",
       "      <td>1835</td>\n",
       "      <td>20.5</td>\n",
       "      <td>1970</td>\n",
       "      <td>Europe</td>\n",
       "    </tr>\n",
       "    <tr>\n",
       "      <th>116</th>\n",
       "      <td>fiat 128</td>\n",
       "      <td>29.0</td>\n",
       "      <td>4</td>\n",
       "      <td>68.0</td>\n",
       "      <td>49.0</td>\n",
       "      <td>1867</td>\n",
       "      <td>19.5</td>\n",
       "      <td>1973</td>\n",
       "      <td>Europe</td>\n",
       "    </tr>\n",
       "    <tr>\n",
       "      <th>54</th>\n",
       "      <td>volkswagen model 111</td>\n",
       "      <td>27.0</td>\n",
       "      <td>4</td>\n",
       "      <td>97.0</td>\n",
       "      <td>60.0</td>\n",
       "      <td>1834</td>\n",
       "      <td>19.0</td>\n",
       "      <td>1971</td>\n",
       "      <td>Europe</td>\n",
       "    </tr>\n",
       "    <tr>\n",
       "      <th>50</th>\n",
       "      <td>peugeot 304</td>\n",
       "      <td>30.0</td>\n",
       "      <td>4</td>\n",
       "      <td>79.0</td>\n",
       "      <td>70.0</td>\n",
       "      <td>2074</td>\n",
       "      <td>19.5</td>\n",
       "      <td>1971</td>\n",
       "      <td>Europe</td>\n",
       "    </tr>\n",
       "    <tr>\n",
       "      <th>58</th>\n",
       "      <td>volkswagen type 3</td>\n",
       "      <td>23.0</td>\n",
       "      <td>4</td>\n",
       "      <td>97.0</td>\n",
       "      <td>54.0</td>\n",
       "      <td>2254</td>\n",
       "      <td>23.5</td>\n",
       "      <td>1972</td>\n",
       "      <td>Europe</td>\n",
       "    </tr>\n",
       "  </tbody>\n",
       "</table>\n",
       "</div>"
      ],
      "text/plain": [
       "                         car name   mpg  cylinders  displacement  horsepower  \\\n",
       "101       volkswagen super beetle  26.0          4          97.0        46.0   \n",
       "19   volkswagen 1131 deluxe sedan  26.0          4          97.0        46.0   \n",
       "116                      fiat 128  29.0          4          68.0        49.0   \n",
       "54           volkswagen model 111  27.0          4          97.0        60.0   \n",
       "50                    peugeot 304  30.0          4          79.0        70.0   \n",
       "58              volkswagen type 3  23.0          4          97.0        54.0   \n",
       "\n",
       "     weight  acceleration  model year  origin  \n",
       "101    1950          21.0        1973  Europe  \n",
       "19     1835          20.5        1970  Europe  \n",
       "116    1867          19.5        1973  Europe  \n",
       "54     1834          19.0        1971  Europe  \n",
       "50     2074          19.5        1971  Europe  \n",
       "58     2254          23.5        1972  Europe  "
      ]
     },
     "execution_count": 41,
     "metadata": {},
     "output_type": "execute_result"
    }
   ],
   "source": [
    "df.loc[dists_euclidean.head(6).index]\n",
    "\n",
    "# the most similar cars to Super Beetle are: volkswagen 1131 deluxe sedan"
   ]
  },
  {
   "cell_type": "code",
   "execution_count": 53,
   "id": "576d7160",
   "metadata": {},
   "outputs": [
    {
     "data": {
      "text/plain": [
       "array([[-0.69863841,  1.07728956,  0.66413273, ..., -0.08781846,\n",
       "        -0.51827446,  1.67505977],\n",
       "       [-1.08349824,  1.48873169,  1.57459447, ..., -0.08781846,\n",
       "        -0.51827446,  1.67505977],\n",
       "       [-0.69863841,  1.1825422 ,  1.18439658, ..., -0.08781846,\n",
       "        -0.51827446,  1.67505977],\n",
       "       ...,\n",
       "       [ 1.09737414, -0.56847897, -0.53247413, ..., -0.08781846,\n",
       "        -0.51827446, -0.59699362],\n",
       "       [ 0.5842277 , -0.7120053 , -0.66254009, ..., -0.08781846,\n",
       "        -0.51827446, -0.59699362],\n",
       "       [ 0.96908753, -0.72157372, -0.58450051, ..., -0.08781846,\n",
       "        -0.51827446, -0.59699362]], shape=(392, 13))"
      ]
     },
     "execution_count": 53,
     "metadata": {},
     "output_type": "execute_result"
    }
   ],
   "source": [
    "\"\"\"\n",
    "Question 5 (scikit-learn ver.)\n",
    "\"\"\"\n",
    "# drop \"car name\" and \"model year\" column (it is not necessary for the analysis)\n",
    "df_encoded_scikit_learn = df.drop(columns=['car name', 'model year'])\n",
    "\n",
    "# use make_column_transformer for making the preprocessing pipeline\n",
    "from sklearn.compose import make_column_transformer\n",
    "from sklearn.preprocessing import StandardScaler, OneHotEncoder\n",
    "\n",
    "# declare the encoder\n",
    "transformer = make_column_transformer(\n",
    "    (StandardScaler(), ['mpg', 'displacement', 'horsepower', 'weight', 'acceleration']),\n",
    "    (OneHotEncoder(sparse_output=False), ['origin', 'cylinders'])\n",
    ")\n",
    "\n",
    "transformer.fit(df_encoded_scikit_learn)\n",
    "array_transformed = transformer.transform(df_encoded_scikit_learn)\n",
    "array_transformed\n",
    "\n",
    "# do column-wise standardization once more (after one-hot encoding)\n",
    "scaler = StandardScaler()\n",
    "array_transformed = scaler.fit_transform(array_transformed)\n",
    "array_transformed\n"
   ]
  },
  {
   "cell_type": "code",
   "execution_count": 58,
   "id": "dd887319",
   "metadata": {},
   "outputs": [
    {
     "data": {
      "text/plain": [
       "array([[6.65544166e+00, 7.34492261e+00, 7.03482153e+00, 6.85693424e+00,\n",
       "        7.01488833e+00, 8.48548727e+00, 9.05143064e+00, 9.01143986e+00,\n",
       "        8.97997951e+00, 8.35971787e+00, 7.73580396e+00, 7.94101632e+00,\n",
       "        7.75226523e+00, 8.59774707e+00, 4.46008333e+00, 5.39663021e+00,\n",
       "        5.47060782e+00, 5.24428164e+00, 4.47317439e+00, 2.26510281e-01,\n",
       "        1.87279522e+00, 2.69635663e+00, 1.87355758e+00, 3.56639326e+00,\n",
       "        5.41540542e+00, 8.16090777e+00, 7.59101928e+00, 7.89981836e+00,\n",
       "        7.43532475e+00, 4.47317439e+00, 4.11192616e+00, 4.62766137e+00,\n",
       "        5.89593464e+00, 5.81380839e+00, 5.77149348e+00, 5.64814066e+00,\n",
       "        5.69218291e+00, 7.48181303e+00, 7.94421823e+00, 7.11249831e+00,\n",
       "        7.02811517e+00, 8.22830531e+00, 7.97047103e+00, 8.22567373e+00,\n",
       "        6.02197501e+00, 3.59856251e+00, 5.77614297e+00, 5.75790284e+00,\n",
       "        4.36861771e+00, 2.81154211e+00, 1.00024411e+00, 2.54229444e+00,\n",
       "        3.80486863e+00, 4.03491398e+00, 8.33464094e-01, 3.41574016e+00,\n",
       "        4.36314033e+00, 3.76703165e+00, 1.06915306e+00, 3.72839341e+00,\n",
       "        3.94534773e+00, 7.53677054e+00, 7.83255501e+00, 6.94476568e+00,\n",
       "        7.17329717e+00, 6.99911887e+00, 8.66790458e+00, 7.31743456e+00,\n",
       "        7.37701804e+00, 7.97691246e+00, 1.12447020e+01, 6.95666075e+00,\n",
       "        6.69802851e+00, 6.62874650e+00, 6.87792129e+00, 3.31081868e+00,\n",
       "        1.59620571e+00, 1.83441702e+00, 1.27393258e+00, 4.02649173e+00,\n",
       "        4.11739695e+00, 4.59785963e+00, 4.11034592e+00, 4.13493804e+00,\n",
       "        7.42698569e+00, 7.07279892e+00, 7.06256285e+00, 6.62359944e+00,\n",
       "        6.95280043e+00, 8.58872890e+00, 7.63949875e+00, 7.35538836e+00,\n",
       "        6.88462572e+00, 8.78826741e+00, 9.09572532e+00, 7.66912756e+00,\n",
       "        5.54213809e+00, 5.53461449e+00, 5.53149675e+00, 5.46672235e+00,\n",
       "        5.33836383e+00, 8.42936970e-08, 7.69332621e+00, 7.97506787e+00,\n",
       "        7.64939609e+00, 7.75798357e+00, 5.62572689e+00, 3.95631547e+00,\n",
       "        3.58586376e+00, 4.23621724e+00, 1.12286065e+01, 3.75998125e+00,\n",
       "        5.59499187e+00, 2.33078073e+00, 7.04517722e+00, 8.84965315e+00,\n",
       "        7.32902093e-01, 2.17085119e+00, 2.99974698e+00, 2.99371453e+00,\n",
       "        7.09054920e+00, 3.16938352e+00, 6.03580330e+00, 7.70535135e+00,\n",
       "        5.37552327e+00, 5.49832824e+00, 5.66730391e+00, 3.80202563e+00,\n",
       "        3.88546217e+00, 3.75575637e+00, 3.81976253e+00, 5.81050728e+00,\n",
       "        5.75682908e+00, 5.71426450e+00, 6.70833883e+00, 7.24094195e+00,\n",
       "        7.12093365e+00, 6.77747817e+00, 6.73769403e+00, 1.96021797e+00,\n",
       "        2.07673285e+00, 2.53540545e+00, 4.05689350e+00, 3.80558156e+00,\n",
       "        4.18190687e+00, 2.15837916e+00, 2.67920292e+00, 4.49543265e+00,\n",
       "        4.35311728e+00, 2.00897228e+00, 5.55491404e+00, 5.76566259e+00,\n",
       "        5.37379199e+00, 5.30563923e+00, 7.93811062e+00, 7.06809970e+00,\n",
       "        6.95898681e+00, 7.30158001e+00, 5.68368434e+00, 5.78524331e+00,\n",
       "        5.77057552e+00, 5.53331809e+00, 5.69654274e+00, 5.99292418e+00,\n",
       "        6.66551578e+00, 4.15536513e+00, 3.90540653e+00, 5.48199416e+00,\n",
       "        3.69425970e+00, 4.82357713e+00, 1.79297171e+00, 4.20222045e+00,\n",
       "        5.62131497e+00, 2.64515486e+00, 5.41625784e+00, 2.70436154e+00,\n",
       "        2.21513588e+00, 3.01440872e+00, 3.37971190e+00, 3.95964848e+00,\n",
       "        2.34719102e+00, 1.78716174e+00, 4.27758468e+00, 3.67993722e+00,\n",
       "        2.30479982e+00, 6.86240061e+00, 7.01734812e+00, 6.48941977e+00,\n",
       "        7.21640675e+00, 5.60252891e+00, 5.85629049e+00, 5.11758318e+00,\n",
       "        5.26561464e+00, 3.40978385e+00, 3.41086756e+00, 2.57551929e+00,\n",
       "        3.97144012e+00, 5.54566714e+00, 5.36543822e+00, 5.83964226e+00,\n",
       "        5.46959011e+00, 3.29341317e+00, 4.03660203e+00, 4.08282983e+00,\n",
       "        4.42838537e+00, 2.91808792e+00, 6.96369374e+00, 2.13925480e+00,\n",
       "        5.67686451e+00, 4.78951731e+00, 7.65110274e+00, 7.24601533e+00,\n",
       "        6.45541826e+00, 6.77922491e+00, 3.85360023e+00, 4.17449885e+00,\n",
       "        1.59789424e+00, 4.14113822e+00, 4.10380922e+00, 6.84685485e+00,\n",
       "        5.80130123e+00, 6.85613045e+00, 6.60004747e+00, 5.79223519e+00,\n",
       "        5.56492751e+00, 5.55605162e+00, 5.48691842e+00, 7.91684354e+00,\n",
       "        7.57896428e+00, 7.91798948e+00, 6.97174402e+00, 2.53106970e+00,\n",
       "        4.11085604e+00, 3.86376180e+00, 4.13859934e+00, 3.72717678e+00,\n",
       "        4.06708510e+00, 4.06689313e+00, 2.71613237e+00, 5.65946026e+00,\n",
       "        3.54987214e+00, 1.12944569e+01, 2.20321338e+00, 4.35428394e+00,\n",
       "        3.78765252e+00, 4.16242373e+00, 4.22163434e+00, 5.74349749e+00,\n",
       "        6.63426040e+00, 6.56977015e+00, 5.46917509e+00, 5.23239217e+00,\n",
       "        5.36480363e+00, 4.19191226e+00, 5.49094922e+00, 5.38863021e+00,\n",
       "        5.66712568e+00, 5.27804972e+00, 5.56586172e+00, 5.99054917e+00,\n",
       "        6.54183564e+00, 6.65640893e+00, 6.78016846e+00, 6.73557432e+00,\n",
       "        3.81547957e+00, 4.64584184e+00, 4.51832150e+00, 4.22911563e+00,\n",
       "        4.56520295e+00, 4.16632384e+00, 3.90869365e+00, 4.50054423e+00,\n",
       "        1.19589510e+01, 5.01280527e+00, 2.87840849e+00, 4.85977000e+00,\n",
       "        2.41456345e+00, 4.03928892e+00, 5.73530053e+00, 5.13833601e+00,\n",
       "        3.98253360e+00, 5.31051131e+00, 5.59446343e+00, 6.29027823e+00,\n",
       "        6.48544939e+00, 6.86467991e+00, 6.37021856e+00, 6.97419162e+00,\n",
       "        6.81367705e+00, 6.04834722e+00, 6.99391226e+00, 2.73070975e+00,\n",
       "        4.35385320e+00, 4.39448030e+00, 4.19174585e+00, 1.18568252e+01,\n",
       "        6.13408457e+00, 2.15928517e+00, 5.23564522e+00, 4.56553571e+00,\n",
       "        4.21696347e+00, 3.79916820e+00, 2.78130686e+00, 4.11417245e+00,\n",
       "        6.17128691e+00, 5.86672542e+00, 4.71890982e+00, 3.13739397e+00,\n",
       "        4.04660356e+00, 4.03338005e+00, 4.27815151e+00, 4.03582471e+00,\n",
       "        3.85885159e+00, 3.80963456e+00, 5.32631533e+00, 2.33817787e+00,\n",
       "        4.43297721e+00, 4.04590834e+00, 4.66089472e+00, 4.35553787e+00,\n",
       "        4.66150669e+00, 4.55154463e+00, 4.18493193e+00, 2.36822660e+00,\n",
       "        2.48113961e+00, 1.18048915e+01, 1.79283119e+00, 5.10162251e+00,\n",
       "        3.96572873e+00, 2.17062428e+00, 6.54265832e+00, 1.13203768e+01,\n",
       "        2.75489341e+00, 4.07404428e+00, 4.05949219e+00, 3.99130072e+00,\n",
       "        4.39931141e+00, 5.89625170e+00, 4.63885109e+00, 4.29038583e+00,\n",
       "        4.12890729e+00, 4.23327922e+00, 3.93799434e+00, 3.97188781e+00,\n",
       "        4.17589343e+00, 4.23016179e+00, 4.20561357e+00, 3.96159196e+00,\n",
       "        3.46478419e+00, 2.74108127e+00, 4.53592696e+00, 4.12178713e+00,\n",
       "        4.65487478e+00, 3.98701891e+00, 1.83198690e+00, 3.66995764e+00,\n",
       "        6.12477311e+00, 5.94331433e+00, 5.69268509e+00, 5.79060572e+00,\n",
       "        5.26002249e+00, 5.53747833e+00, 3.65727839e+00, 3.72723217e+00,\n",
       "        3.86903642e+00, 4.03486499e+00, 4.03126673e+00, 3.85700757e+00,\n",
       "        4.10594626e+00, 2.54222942e+00, 4.06837338e+00, 3.93121874e+00,\n",
       "        4.36841280e+00, 3.88878481e+00, 4.65867660e+00, 4.59004207e+00,\n",
       "        4.12046792e+00, 4.53902979e+00, 4.21704736e+00, 4.34720754e+00,\n",
       "        5.36942741e+00, 5.55058310e+00, 4.37232909e+00, 5.69469188e+00,\n",
       "        4.79851817e+00, 4.76145740e+00, 4.00344280e+00, 4.16306401e+00,\n",
       "        2.66621032e+00, 4.97465068e+00, 3.67209067e+00, 3.70608465e+00]])"
      ]
     },
     "execution_count": 58,
     "metadata": {},
     "output_type": "execute_result"
    }
   ],
   "source": [
    "# calcluate the euclidean distance\n",
    "from sklearn.metrics import pairwise_distances\n",
    "\n",
    "# find the index of Super Beetle\n",
    "index_super_beetle = df.index[df['car name'] == 'volkswagen super beetle'][0]\n",
    "\n",
    "# get the euclidean distances from the Super Beetle      \n",
    "dists_euclidean_scikit_learn = pairwise_distances(array_transformed[[index_super_beetle]], array_transformed)\n",
    "dists_euclidean_scikit_learn"
   ]
  },
  {
   "cell_type": "code",
   "execution_count": 59,
   "id": "e34af0ea",
   "metadata": {},
   "outputs": [
    {
     "data": {
      "text/plain": [
       "'volkswagen 1131 deluxe sedan'"
      ]
     },
     "execution_count": 59,
     "metadata": {},
     "output_type": "execute_result"
    }
   ],
   "source": [
    "# get the name of the most similar car\n",
    "index_most_similar = dists_euclidean_scikit_learn[0].argsort()[1]\n",
    "df.iloc[index_most_similar]['car name']"
   ]
  },
  {
   "cell_type": "markdown",
   "id": "89717fca",
   "metadata": {},
   "source": [
    "## Question 6\n",
    "\n",
    "What recommendations do you get if you instead use min-max scaling? What recommendations do you get if you use Manhattan distance instead of Euclidean distance?"
   ]
  },
  {
   "cell_type": "code",
   "execution_count": null,
   "id": "aa2866c4",
   "metadata": {},
   "outputs": [
    {
     "data": {
      "text/html": [
       "<div>\n",
       "<style scoped>\n",
       "    .dataframe tbody tr th:only-of-type {\n",
       "        vertical-align: middle;\n",
       "    }\n",
       "\n",
       "    .dataframe tbody tr th {\n",
       "        vertical-align: top;\n",
       "    }\n",
       "\n",
       "    .dataframe thead th {\n",
       "        text-align: right;\n",
       "    }\n",
       "</style>\n",
       "<table border=\"1\" class=\"dataframe\">\n",
       "  <thead>\n",
       "    <tr style=\"text-align: right;\">\n",
       "      <th></th>\n",
       "      <th>mpg</th>\n",
       "      <th>displacement</th>\n",
       "      <th>horsepower</th>\n",
       "      <th>weight</th>\n",
       "      <th>acceleration</th>\n",
       "      <th>cylinders_3</th>\n",
       "      <th>cylinders_4</th>\n",
       "      <th>cylinders_5</th>\n",
       "      <th>cylinders_6</th>\n",
       "      <th>cylinders_8</th>\n",
       "      <th>origin_Europe</th>\n",
       "      <th>origin_Japan</th>\n",
       "      <th>origin_USA</th>\n",
       "    </tr>\n",
       "  </thead>\n",
       "  <tbody>\n",
       "    <tr>\n",
       "      <th>0</th>\n",
       "      <td>18.0</td>\n",
       "      <td>307.0</td>\n",
       "      <td>130.0</td>\n",
       "      <td>3504</td>\n",
       "      <td>12.0</td>\n",
       "      <td>0</td>\n",
       "      <td>0</td>\n",
       "      <td>0</td>\n",
       "      <td>0</td>\n",
       "      <td>1</td>\n",
       "      <td>0</td>\n",
       "      <td>0</td>\n",
       "      <td>1</td>\n",
       "    </tr>\n",
       "    <tr>\n",
       "      <th>1</th>\n",
       "      <td>15.0</td>\n",
       "      <td>350.0</td>\n",
       "      <td>165.0</td>\n",
       "      <td>3693</td>\n",
       "      <td>11.5</td>\n",
       "      <td>0</td>\n",
       "      <td>0</td>\n",
       "      <td>0</td>\n",
       "      <td>0</td>\n",
       "      <td>1</td>\n",
       "      <td>0</td>\n",
       "      <td>0</td>\n",
       "      <td>1</td>\n",
       "    </tr>\n",
       "    <tr>\n",
       "      <th>2</th>\n",
       "      <td>18.0</td>\n",
       "      <td>318.0</td>\n",
       "      <td>150.0</td>\n",
       "      <td>3436</td>\n",
       "      <td>11.0</td>\n",
       "      <td>0</td>\n",
       "      <td>0</td>\n",
       "      <td>0</td>\n",
       "      <td>0</td>\n",
       "      <td>1</td>\n",
       "      <td>0</td>\n",
       "      <td>0</td>\n",
       "      <td>1</td>\n",
       "    </tr>\n",
       "    <tr>\n",
       "      <th>3</th>\n",
       "      <td>16.0</td>\n",
       "      <td>304.0</td>\n",
       "      <td>150.0</td>\n",
       "      <td>3433</td>\n",
       "      <td>12.0</td>\n",
       "      <td>0</td>\n",
       "      <td>0</td>\n",
       "      <td>0</td>\n",
       "      <td>0</td>\n",
       "      <td>1</td>\n",
       "      <td>0</td>\n",
       "      <td>0</td>\n",
       "      <td>1</td>\n",
       "    </tr>\n",
       "    <tr>\n",
       "      <th>4</th>\n",
       "      <td>17.0</td>\n",
       "      <td>302.0</td>\n",
       "      <td>140.0</td>\n",
       "      <td>3449</td>\n",
       "      <td>10.5</td>\n",
       "      <td>0</td>\n",
       "      <td>0</td>\n",
       "      <td>0</td>\n",
       "      <td>0</td>\n",
       "      <td>1</td>\n",
       "      <td>0</td>\n",
       "      <td>0</td>\n",
       "      <td>1</td>\n",
       "    </tr>\n",
       "    <tr>\n",
       "      <th>...</th>\n",
       "      <td>...</td>\n",
       "      <td>...</td>\n",
       "      <td>...</td>\n",
       "      <td>...</td>\n",
       "      <td>...</td>\n",
       "      <td>...</td>\n",
       "      <td>...</td>\n",
       "      <td>...</td>\n",
       "      <td>...</td>\n",
       "      <td>...</td>\n",
       "      <td>...</td>\n",
       "      <td>...</td>\n",
       "      <td>...</td>\n",
       "    </tr>\n",
       "    <tr>\n",
       "      <th>387</th>\n",
       "      <td>27.0</td>\n",
       "      <td>140.0</td>\n",
       "      <td>86.0</td>\n",
       "      <td>2790</td>\n",
       "      <td>15.6</td>\n",
       "      <td>0</td>\n",
       "      <td>1</td>\n",
       "      <td>0</td>\n",
       "      <td>0</td>\n",
       "      <td>0</td>\n",
       "      <td>0</td>\n",
       "      <td>0</td>\n",
       "      <td>1</td>\n",
       "    </tr>\n",
       "    <tr>\n",
       "      <th>388</th>\n",
       "      <td>44.0</td>\n",
       "      <td>97.0</td>\n",
       "      <td>52.0</td>\n",
       "      <td>2130</td>\n",
       "      <td>24.6</td>\n",
       "      <td>0</td>\n",
       "      <td>1</td>\n",
       "      <td>0</td>\n",
       "      <td>0</td>\n",
       "      <td>0</td>\n",
       "      <td>1</td>\n",
       "      <td>0</td>\n",
       "      <td>0</td>\n",
       "    </tr>\n",
       "    <tr>\n",
       "      <th>389</th>\n",
       "      <td>32.0</td>\n",
       "      <td>135.0</td>\n",
       "      <td>84.0</td>\n",
       "      <td>2295</td>\n",
       "      <td>11.6</td>\n",
       "      <td>0</td>\n",
       "      <td>1</td>\n",
       "      <td>0</td>\n",
       "      <td>0</td>\n",
       "      <td>0</td>\n",
       "      <td>0</td>\n",
       "      <td>0</td>\n",
       "      <td>1</td>\n",
       "    </tr>\n",
       "    <tr>\n",
       "      <th>390</th>\n",
       "      <td>28.0</td>\n",
       "      <td>120.0</td>\n",
       "      <td>79.0</td>\n",
       "      <td>2625</td>\n",
       "      <td>18.6</td>\n",
       "      <td>0</td>\n",
       "      <td>1</td>\n",
       "      <td>0</td>\n",
       "      <td>0</td>\n",
       "      <td>0</td>\n",
       "      <td>0</td>\n",
       "      <td>0</td>\n",
       "      <td>1</td>\n",
       "    </tr>\n",
       "    <tr>\n",
       "      <th>391</th>\n",
       "      <td>31.0</td>\n",
       "      <td>119.0</td>\n",
       "      <td>82.0</td>\n",
       "      <td>2720</td>\n",
       "      <td>19.4</td>\n",
       "      <td>0</td>\n",
       "      <td>1</td>\n",
       "      <td>0</td>\n",
       "      <td>0</td>\n",
       "      <td>0</td>\n",
       "      <td>0</td>\n",
       "      <td>0</td>\n",
       "      <td>1</td>\n",
       "    </tr>\n",
       "  </tbody>\n",
       "</table>\n",
       "<p>392 rows × 13 columns</p>\n",
       "</div>"
      ],
      "text/plain": [
       "      mpg  displacement  horsepower  weight  acceleration  cylinders_3  \\\n",
       "0    18.0         307.0       130.0    3504          12.0            0   \n",
       "1    15.0         350.0       165.0    3693          11.5            0   \n",
       "2    18.0         318.0       150.0    3436          11.0            0   \n",
       "3    16.0         304.0       150.0    3433          12.0            0   \n",
       "4    17.0         302.0       140.0    3449          10.5            0   \n",
       "..    ...           ...         ...     ...           ...          ...   \n",
       "387  27.0         140.0        86.0    2790          15.6            0   \n",
       "388  44.0          97.0        52.0    2130          24.6            0   \n",
       "389  32.0         135.0        84.0    2295          11.6            0   \n",
       "390  28.0         120.0        79.0    2625          18.6            0   \n",
       "391  31.0         119.0        82.0    2720          19.4            0   \n",
       "\n",
       "     cylinders_4  cylinders_5  cylinders_6  cylinders_8  origin_Europe  \\\n",
       "0              0            0            0            1              0   \n",
       "1              0            0            0            1              0   \n",
       "2              0            0            0            1              0   \n",
       "3              0            0            0            1              0   \n",
       "4              0            0            0            1              0   \n",
       "..           ...          ...          ...          ...            ...   \n",
       "387            1            0            0            0              0   \n",
       "388            1            0            0            0              1   \n",
       "389            1            0            0            0              0   \n",
       "390            1            0            0            0              0   \n",
       "391            1            0            0            0              0   \n",
       "\n",
       "     origin_Japan  origin_USA  \n",
       "0               0           1  \n",
       "1               0           1  \n",
       "2               0           1  \n",
       "3               0           1  \n",
       "4               0           1  \n",
       "..            ...         ...  \n",
       "387             0           1  \n",
       "388             0           0  \n",
       "389             0           1  \n",
       "390             0           1  \n",
       "391             0           1  \n",
       "\n",
       "[392 rows x 13 columns]"
      ]
     },
     "execution_count": 61,
     "metadata": {},
     "output_type": "execute_result"
    }
   ],
   "source": [
    "\"\"\"\n",
    "Question 6 (pandas ver.)\n",
    "\"\"\"\n",
    "# drop \"car name\" and \"model year\" column (it is not necessary for the analysis)\n",
    "df_encoded = df.drop(columns=['car name', 'model year'])\n",
    "\n",
    "# at first, do one-hot encoding for categorical variables\n",
    "df_encoded = pd.get_dummies(df_encoded, columns=['cylinders', 'origin'], dtype=int)\n",
    "df_encoded"
   ]
  },
  {
   "cell_type": "code",
   "execution_count": 62,
   "id": "6a3d147a",
   "metadata": {},
   "outputs": [
    {
     "data": {
      "text/html": [
       "<div>\n",
       "<style scoped>\n",
       "    .dataframe tbody tr th:only-of-type {\n",
       "        vertical-align: middle;\n",
       "    }\n",
       "\n",
       "    .dataframe tbody tr th {\n",
       "        vertical-align: top;\n",
       "    }\n",
       "\n",
       "    .dataframe thead th {\n",
       "        text-align: right;\n",
       "    }\n",
       "</style>\n",
       "<table border=\"1\" class=\"dataframe\">\n",
       "  <thead>\n",
       "    <tr style=\"text-align: right;\">\n",
       "      <th></th>\n",
       "      <th>mpg</th>\n",
       "      <th>displacement</th>\n",
       "      <th>horsepower</th>\n",
       "      <th>weight</th>\n",
       "      <th>acceleration</th>\n",
       "      <th>cylinders_3</th>\n",
       "      <th>cylinders_4</th>\n",
       "      <th>cylinders_5</th>\n",
       "      <th>cylinders_6</th>\n",
       "      <th>cylinders_8</th>\n",
       "      <th>origin_Europe</th>\n",
       "      <th>origin_Japan</th>\n",
       "      <th>origin_USA</th>\n",
       "    </tr>\n",
       "  </thead>\n",
       "  <tbody>\n",
       "    <tr>\n",
       "      <th>0</th>\n",
       "      <td>0.239362</td>\n",
       "      <td>0.617571</td>\n",
       "      <td>0.456522</td>\n",
       "      <td>0.536150</td>\n",
       "      <td>0.238095</td>\n",
       "      <td>0.0</td>\n",
       "      <td>0.0</td>\n",
       "      <td>0.0</td>\n",
       "      <td>0.0</td>\n",
       "      <td>1.0</td>\n",
       "      <td>0.0</td>\n",
       "      <td>0.0</td>\n",
       "      <td>1.0</td>\n",
       "    </tr>\n",
       "    <tr>\n",
       "      <th>1</th>\n",
       "      <td>0.159574</td>\n",
       "      <td>0.728682</td>\n",
       "      <td>0.646739</td>\n",
       "      <td>0.589736</td>\n",
       "      <td>0.208333</td>\n",
       "      <td>0.0</td>\n",
       "      <td>0.0</td>\n",
       "      <td>0.0</td>\n",
       "      <td>0.0</td>\n",
       "      <td>1.0</td>\n",
       "      <td>0.0</td>\n",
       "      <td>0.0</td>\n",
       "      <td>1.0</td>\n",
       "    </tr>\n",
       "    <tr>\n",
       "      <th>2</th>\n",
       "      <td>0.239362</td>\n",
       "      <td>0.645995</td>\n",
       "      <td>0.565217</td>\n",
       "      <td>0.516870</td>\n",
       "      <td>0.178571</td>\n",
       "      <td>0.0</td>\n",
       "      <td>0.0</td>\n",
       "      <td>0.0</td>\n",
       "      <td>0.0</td>\n",
       "      <td>1.0</td>\n",
       "      <td>0.0</td>\n",
       "      <td>0.0</td>\n",
       "      <td>1.0</td>\n",
       "    </tr>\n",
       "    <tr>\n",
       "      <th>3</th>\n",
       "      <td>0.186170</td>\n",
       "      <td>0.609819</td>\n",
       "      <td>0.565217</td>\n",
       "      <td>0.516019</td>\n",
       "      <td>0.238095</td>\n",
       "      <td>0.0</td>\n",
       "      <td>0.0</td>\n",
       "      <td>0.0</td>\n",
       "      <td>0.0</td>\n",
       "      <td>1.0</td>\n",
       "      <td>0.0</td>\n",
       "      <td>0.0</td>\n",
       "      <td>1.0</td>\n",
       "    </tr>\n",
       "    <tr>\n",
       "      <th>4</th>\n",
       "      <td>0.212766</td>\n",
       "      <td>0.604651</td>\n",
       "      <td>0.510870</td>\n",
       "      <td>0.520556</td>\n",
       "      <td>0.148810</td>\n",
       "      <td>0.0</td>\n",
       "      <td>0.0</td>\n",
       "      <td>0.0</td>\n",
       "      <td>0.0</td>\n",
       "      <td>1.0</td>\n",
       "      <td>0.0</td>\n",
       "      <td>0.0</td>\n",
       "      <td>1.0</td>\n",
       "    </tr>\n",
       "    <tr>\n",
       "      <th>...</th>\n",
       "      <td>...</td>\n",
       "      <td>...</td>\n",
       "      <td>...</td>\n",
       "      <td>...</td>\n",
       "      <td>...</td>\n",
       "      <td>...</td>\n",
       "      <td>...</td>\n",
       "      <td>...</td>\n",
       "      <td>...</td>\n",
       "      <td>...</td>\n",
       "      <td>...</td>\n",
       "      <td>...</td>\n",
       "      <td>...</td>\n",
       "    </tr>\n",
       "    <tr>\n",
       "      <th>387</th>\n",
       "      <td>0.478723</td>\n",
       "      <td>0.186047</td>\n",
       "      <td>0.217391</td>\n",
       "      <td>0.333711</td>\n",
       "      <td>0.452381</td>\n",
       "      <td>0.0</td>\n",
       "      <td>1.0</td>\n",
       "      <td>0.0</td>\n",
       "      <td>0.0</td>\n",
       "      <td>0.0</td>\n",
       "      <td>0.0</td>\n",
       "      <td>0.0</td>\n",
       "      <td>1.0</td>\n",
       "    </tr>\n",
       "    <tr>\n",
       "      <th>388</th>\n",
       "      <td>0.930851</td>\n",
       "      <td>0.074935</td>\n",
       "      <td>0.032609</td>\n",
       "      <td>0.146583</td>\n",
       "      <td>0.988095</td>\n",
       "      <td>0.0</td>\n",
       "      <td>1.0</td>\n",
       "      <td>0.0</td>\n",
       "      <td>0.0</td>\n",
       "      <td>0.0</td>\n",
       "      <td>1.0</td>\n",
       "      <td>0.0</td>\n",
       "      <td>0.0</td>\n",
       "    </tr>\n",
       "    <tr>\n",
       "      <th>389</th>\n",
       "      <td>0.611702</td>\n",
       "      <td>0.173127</td>\n",
       "      <td>0.206522</td>\n",
       "      <td>0.193365</td>\n",
       "      <td>0.214286</td>\n",
       "      <td>0.0</td>\n",
       "      <td>1.0</td>\n",
       "      <td>0.0</td>\n",
       "      <td>0.0</td>\n",
       "      <td>0.0</td>\n",
       "      <td>0.0</td>\n",
       "      <td>0.0</td>\n",
       "      <td>1.0</td>\n",
       "    </tr>\n",
       "    <tr>\n",
       "      <th>390</th>\n",
       "      <td>0.505319</td>\n",
       "      <td>0.134367</td>\n",
       "      <td>0.179348</td>\n",
       "      <td>0.286929</td>\n",
       "      <td>0.630952</td>\n",
       "      <td>0.0</td>\n",
       "      <td>1.0</td>\n",
       "      <td>0.0</td>\n",
       "      <td>0.0</td>\n",
       "      <td>0.0</td>\n",
       "      <td>0.0</td>\n",
       "      <td>0.0</td>\n",
       "      <td>1.0</td>\n",
       "    </tr>\n",
       "    <tr>\n",
       "      <th>391</th>\n",
       "      <td>0.585106</td>\n",
       "      <td>0.131783</td>\n",
       "      <td>0.195652</td>\n",
       "      <td>0.313864</td>\n",
       "      <td>0.678571</td>\n",
       "      <td>0.0</td>\n",
       "      <td>1.0</td>\n",
       "      <td>0.0</td>\n",
       "      <td>0.0</td>\n",
       "      <td>0.0</td>\n",
       "      <td>0.0</td>\n",
       "      <td>0.0</td>\n",
       "      <td>1.0</td>\n",
       "    </tr>\n",
       "  </tbody>\n",
       "</table>\n",
       "<p>392 rows × 13 columns</p>\n",
       "</div>"
      ],
      "text/plain": [
       "          mpg  displacement  horsepower    weight  acceleration  cylinders_3  \\\n",
       "0    0.239362      0.617571    0.456522  0.536150      0.238095          0.0   \n",
       "1    0.159574      0.728682    0.646739  0.589736      0.208333          0.0   \n",
       "2    0.239362      0.645995    0.565217  0.516870      0.178571          0.0   \n",
       "3    0.186170      0.609819    0.565217  0.516019      0.238095          0.0   \n",
       "4    0.212766      0.604651    0.510870  0.520556      0.148810          0.0   \n",
       "..        ...           ...         ...       ...           ...          ...   \n",
       "387  0.478723      0.186047    0.217391  0.333711      0.452381          0.0   \n",
       "388  0.930851      0.074935    0.032609  0.146583      0.988095          0.0   \n",
       "389  0.611702      0.173127    0.206522  0.193365      0.214286          0.0   \n",
       "390  0.505319      0.134367    0.179348  0.286929      0.630952          0.0   \n",
       "391  0.585106      0.131783    0.195652  0.313864      0.678571          0.0   \n",
       "\n",
       "     cylinders_4  cylinders_5  cylinders_6  cylinders_8  origin_Europe  \\\n",
       "0            0.0          0.0          0.0          1.0            0.0   \n",
       "1            0.0          0.0          0.0          1.0            0.0   \n",
       "2            0.0          0.0          0.0          1.0            0.0   \n",
       "3            0.0          0.0          0.0          1.0            0.0   \n",
       "4            0.0          0.0          0.0          1.0            0.0   \n",
       "..           ...          ...          ...          ...            ...   \n",
       "387          1.0          0.0          0.0          0.0            0.0   \n",
       "388          1.0          0.0          0.0          0.0            1.0   \n",
       "389          1.0          0.0          0.0          0.0            0.0   \n",
       "390          1.0          0.0          0.0          0.0            0.0   \n",
       "391          1.0          0.0          0.0          0.0            0.0   \n",
       "\n",
       "     origin_Japan  origin_USA  \n",
       "0             0.0         1.0  \n",
       "1             0.0         1.0  \n",
       "2             0.0         1.0  \n",
       "3             0.0         1.0  \n",
       "4             0.0         1.0  \n",
       "..            ...         ...  \n",
       "387           0.0         1.0  \n",
       "388           0.0         0.0  \n",
       "389           0.0         1.0  \n",
       "390           0.0         1.0  \n",
       "391           0.0         1.0  \n",
       "\n",
       "[392 rows x 13 columns]"
      ]
     },
     "execution_count": 62,
     "metadata": {},
     "output_type": "execute_result"
    }
   ],
   "source": [
    "# min-max scaling\n",
    "df_min_max_scaled = (df_encoded - df_encoded.min()) / (df_encoded.max() - df_encoded.min())\n",
    "df_min_max_scaled"
   ]
  },
  {
   "cell_type": "code",
   "execution_count": 68,
   "id": "741fc2b1",
   "metadata": {},
   "outputs": [
    {
     "data": {
      "text/plain": [
       "101    0.000000\n",
       "19     0.062368\n",
       "54     0.254619\n",
       "116    0.283845\n",
       "58     0.358267\n",
       "         ...   \n",
       "93     7.535389\n",
       "7      7.537671\n",
       "8      7.573531\n",
       "6      7.583167\n",
       "94     7.716334\n",
       "Length: 392, dtype: float64"
      ]
     },
     "execution_count": 68,
     "metadata": {},
     "output_type": "execute_result"
    }
   ],
   "source": [
    "# find the most similar cars to row #101 based on manhattan distance\n",
    "# find the index of Super Beetle\n",
    "index_super_beetle = df.index[df['car name'] == 'volkswagen super beetle'][0]\n",
    "\n",
    "# get the differences\n",
    "diffs = df_min_max_scaled - df_min_max_scaled.iloc[index_super_beetle]\n",
    "\n",
    "# calculate the manhattan distance\n",
    "manhattan_distance = diffs.abs().sum(axis=1)\n",
    "manhattan_distance.sort_values(inplace=True)\n",
    "manhattan_distance"
   ]
  },
  {
   "cell_type": "code",
   "execution_count": 69,
   "id": "eeb907c0",
   "metadata": {},
   "outputs": [
    {
     "data": {
      "text/html": [
       "<div>\n",
       "<style scoped>\n",
       "    .dataframe tbody tr th:only-of-type {\n",
       "        vertical-align: middle;\n",
       "    }\n",
       "\n",
       "    .dataframe tbody tr th {\n",
       "        vertical-align: top;\n",
       "    }\n",
       "\n",
       "    .dataframe thead th {\n",
       "        text-align: right;\n",
       "    }\n",
       "</style>\n",
       "<table border=\"1\" class=\"dataframe\">\n",
       "  <thead>\n",
       "    <tr style=\"text-align: right;\">\n",
       "      <th></th>\n",
       "      <th>car name</th>\n",
       "      <th>mpg</th>\n",
       "      <th>cylinders</th>\n",
       "      <th>displacement</th>\n",
       "      <th>horsepower</th>\n",
       "      <th>weight</th>\n",
       "      <th>acceleration</th>\n",
       "      <th>model year</th>\n",
       "      <th>origin</th>\n",
       "    </tr>\n",
       "  </thead>\n",
       "  <tbody>\n",
       "    <tr>\n",
       "      <th>101</th>\n",
       "      <td>volkswagen super beetle</td>\n",
       "      <td>26.0</td>\n",
       "      <td>4</td>\n",
       "      <td>97.0</td>\n",
       "      <td>46.0</td>\n",
       "      <td>1950</td>\n",
       "      <td>21.0</td>\n",
       "      <td>1973</td>\n",
       "      <td>Europe</td>\n",
       "    </tr>\n",
       "    <tr>\n",
       "      <th>19</th>\n",
       "      <td>volkswagen 1131 deluxe sedan</td>\n",
       "      <td>26.0</td>\n",
       "      <td>4</td>\n",
       "      <td>97.0</td>\n",
       "      <td>46.0</td>\n",
       "      <td>1835</td>\n",
       "      <td>20.5</td>\n",
       "      <td>1970</td>\n",
       "      <td>Europe</td>\n",
       "    </tr>\n",
       "    <tr>\n",
       "      <th>54</th>\n",
       "      <td>volkswagen model 111</td>\n",
       "      <td>27.0</td>\n",
       "      <td>4</td>\n",
       "      <td>97.0</td>\n",
       "      <td>60.0</td>\n",
       "      <td>1834</td>\n",
       "      <td>19.0</td>\n",
       "      <td>1971</td>\n",
       "      <td>Europe</td>\n",
       "    </tr>\n",
       "    <tr>\n",
       "      <th>116</th>\n",
       "      <td>fiat 128</td>\n",
       "      <td>29.0</td>\n",
       "      <td>4</td>\n",
       "      <td>68.0</td>\n",
       "      <td>49.0</td>\n",
       "      <td>1867</td>\n",
       "      <td>19.5</td>\n",
       "      <td>1973</td>\n",
       "      <td>Europe</td>\n",
       "    </tr>\n",
       "    <tr>\n",
       "      <th>58</th>\n",
       "      <td>volkswagen type 3</td>\n",
       "      <td>23.0</td>\n",
       "      <td>4</td>\n",
       "      <td>97.0</td>\n",
       "      <td>54.0</td>\n",
       "      <td>2254</td>\n",
       "      <td>23.5</td>\n",
       "      <td>1972</td>\n",
       "      <td>Europe</td>\n",
       "    </tr>\n",
       "    <tr>\n",
       "      <th>78</th>\n",
       "      <td>renault 12 (sw)</td>\n",
       "      <td>26.0</td>\n",
       "      <td>4</td>\n",
       "      <td>96.0</td>\n",
       "      <td>69.0</td>\n",
       "      <td>2189</td>\n",
       "      <td>18.0</td>\n",
       "      <td>1972</td>\n",
       "      <td>Europe</td>\n",
       "    </tr>\n",
       "  </tbody>\n",
       "</table>\n",
       "</div>"
      ],
      "text/plain": [
       "                         car name   mpg  cylinders  displacement  horsepower  \\\n",
       "101       volkswagen super beetle  26.0          4          97.0        46.0   \n",
       "19   volkswagen 1131 deluxe sedan  26.0          4          97.0        46.0   \n",
       "54           volkswagen model 111  27.0          4          97.0        60.0   \n",
       "116                      fiat 128  29.0          4          68.0        49.0   \n",
       "58              volkswagen type 3  23.0          4          97.0        54.0   \n",
       "78                renault 12 (sw)  26.0          4          96.0        69.0   \n",
       "\n",
       "     weight  acceleration  model year  origin  \n",
       "101    1950          21.0        1973  Europe  \n",
       "19     1835          20.5        1970  Europe  \n",
       "54     1834          19.0        1971  Europe  \n",
       "116    1867          19.5        1973  Europe  \n",
       "58     2254          23.5        1972  Europe  \n",
       "78     2189          18.0        1972  Europe  "
      ]
     },
     "execution_count": 69,
     "metadata": {},
     "output_type": "execute_result"
    }
   ],
   "source": [
    "df.loc[manhattan_distance.head(6).index]\n",
    "\n",
    "# the most similar cars to Super Beetle are: volkswagen 1131 deluxe sedan"
   ]
  },
  {
   "cell_type": "code",
   "execution_count": 73,
   "id": "a2a1900d",
   "metadata": {},
   "outputs": [
    {
     "data": {
      "text/plain": [
       "array([[0.2393617 , 0.61757106, 0.45652174, ..., 0.        , 0.        ,\n",
       "        1.        ],\n",
       "       [0.15957447, 0.72868217, 0.64673913, ..., 0.        , 0.        ,\n",
       "        1.        ],\n",
       "       [0.2393617 , 0.64599483, 0.56521739, ..., 0.        , 0.        ,\n",
       "        1.        ],\n",
       "       ...,\n",
       "       [0.61170213, 0.17312661, 0.20652174, ..., 0.        , 0.        ,\n",
       "        0.        ],\n",
       "       [0.50531915, 0.13436693, 0.17934783, ..., 0.        , 0.        ,\n",
       "        0.        ],\n",
       "       [0.58510638, 0.13178295, 0.19565217, ..., 0.        , 0.        ,\n",
       "        0.        ]], shape=(392, 13))"
      ]
     },
     "execution_count": 73,
     "metadata": {},
     "output_type": "execute_result"
    }
   ],
   "source": [
    "\"\"\"\n",
    "Question 6 (scikit-learn ver.)\n",
    "\"\"\"\n",
    "# drop \"car name\" and \"model year\" column (it is not necessary for the analysis)\n",
    "df_encoded_scikit_learn = df.drop(columns=['car name', 'model year'])\n",
    "\n",
    "# use make_column_transformer for making the preprocessing pipeline\n",
    "from sklearn.compose import make_column_transformer\n",
    "from sklearn.preprocessing import MinMaxScaler, OneHotEncoder\n",
    "\n",
    "# declare the encoder\n",
    "transformer = make_column_transformer(\n",
    "    (MinMaxScaler(), ['mpg', 'displacement', 'horsepower', 'weight', 'acceleration']),\n",
    "    (OneHotEncoder(sparse_output=False), ['origin', 'cylinders'])\n",
    ")\n",
    "\n",
    "# do the transformation\n",
    "df_transform = transformer.fit_transform(df_encoded_scikit_learn)\n",
    "df_transform\n"
   ]
  },
  {
   "cell_type": "code",
   "execution_count": 76,
   "id": "dfe4aa27",
   "metadata": {},
   "outputs": [
    {
     "data": {
      "text/plain": [
       "array([[6.18823872, 6.65270298, 6.36560211, 6.3222435 , 6.32995412,\n",
       "        7.30919643, 7.58316654, 7.53767068, 7.57353104, 7.1150169 ,\n",
       "        6.8175754 , 6.81080207, 6.83870766, 7.19388829, 2.83763079,\n",
       "        5.2114046 , 5.31451303, 5.08931091, 2.69279625, 0.06236752,\n",
       "        0.69605345, 0.84115948, 0.63982029, 1.01262001, 5.19071981,\n",
       "        7.19586307, 6.85010364, 6.99726637, 6.72350628, 2.69279625,\n",
       "        2.81984149, 2.82973096, 5.49860868, 5.66691174, 5.64655359,\n",
       "        5.52048948, 5.56182161, 6.79583679, 7.08144489, 6.62832367,\n",
       "        6.54006534, 7.25709444, 7.13105945, 7.26994303, 5.70997069,\n",
       "        2.60770146, 5.60979823, 5.56039412, 2.854997  , 0.80713438,\n",
       "        0.40777246, 0.71219265, 2.47265497, 2.70308124, 0.25461946,\n",
       "        2.1771182 , 2.78121734, 2.50066635, 0.35826725, 2.72895713,\n",
       "        2.76108013, 6.84086179, 7.02928435, 6.49476525, 6.6509974 ,\n",
       "        6.39317263, 7.49319333, 6.76187243, 6.80259984, 7.11813043,\n",
       "        5.08728043, 6.44921627, 6.37058491, 6.34853652, 6.47515452,\n",
       "        1.29908899, 0.66907208, 0.79627141, 0.37391838, 2.81216236,\n",
       "        2.63711888, 2.96093849, 2.65837573, 2.56524282, 6.7863521 ,\n",
       "        6.47295987, 6.59155359, 6.32347332, 6.45278636, 7.47293299,\n",
       "        6.94240917, 6.77111239, 6.49075695, 7.53538886, 7.71633396,\n",
       "        6.85213546, 5.46403484, 5.50987993, 5.43480992, 5.40789031,\n",
       "        5.17517737, 0.        , 7.02767297, 7.15695328, 6.94209198,\n",
       "        6.98301096, 5.4501035 , 2.60016336, 2.60255061, 2.78516658,\n",
       "        5.01742612, 2.71360549, 5.17903906, 0.6584064 , 6.56501364,\n",
       "        7.39347803, 0.28384544, 0.64625038, 1.04392311, 1.19454018,\n",
       "        6.43489884, 1.08100397, 5.414484  , 6.86214731, 5.28134106,\n",
       "        5.39573898, 5.61244406, 2.41266841, 2.6592863 , 2.36234089,\n",
       "        2.70125882, 5.71201786, 5.68526818, 5.60353016, 6.34441727,\n",
       "        6.73102954, 6.61265671, 6.41947409, 6.40072797, 0.6275841 ,\n",
       "        0.49170887, 0.66005228, 2.57304978, 2.41134647, 2.66541004,\n",
       "        0.60106627, 0.70729498, 2.89976088, 2.73627495, 0.60541619,\n",
       "        5.45339754, 5.65422838, 5.2493935 , 5.2609928 , 7.05891901,\n",
       "        6.60699253, 6.51156602, 6.74376388, 5.48830351, 5.6827952 ,\n",
       "        5.68012577, 5.44913946, 5.49296188, 5.74054863, 6.20788119,\n",
       "        2.59767446, 2.8254307 , 5.37282909, 2.6956453 , 3.08017879,\n",
       "        0.5258132 , 2.7940068 , 5.3612261 , 0.64866239, 5.36976074,\n",
       "        0.96069021, 0.89108663, 1.12002138, 1.11446284, 2.4919976 ,\n",
       "        0.76953646, 0.58650867, 2.92715594, 2.46483614, 0.64875316,\n",
       "        6.3927804 , 6.5135254 , 6.20938848, 6.66855284, 5.42770917,\n",
       "        5.60707724, 5.01304546, 5.20523694, 2.23893205, 2.24471554,\n",
       "        0.63675763, 2.49794998, 5.46251021, 5.24247581, 5.70893569,\n",
       "        5.4512892 , 0.78820508, 2.57045332, 2.54273276, 2.88055867,\n",
       "        1.20490229, 6.5105261 , 0.90168978, 5.280819  , 3.62444403,\n",
       "        6.85339992, 6.67007371, 6.23349703, 6.41045454, 2.44417039,\n",
       "        2.75451197, 0.55598449, 2.77625192, 2.61232826, 6.35473465,\n",
       "        5.72566617, 6.44380634, 6.30675693, 5.68818579, 5.47543206,\n",
       "        5.48315189, 5.44302838, 7.01005623, 6.80635618, 7.04199608,\n",
       "        6.54518765, 0.64344031, 2.92929481, 2.41358639, 2.89586774,\n",
       "        2.48138761, 2.74215133, 2.50424639, 0.77235468, 5.14232756,\n",
       "        1.20191028, 5.17617901, 0.52343001, 2.81528286, 2.36771691,\n",
       "        2.69470591, 2.67654644, 5.65982053, 6.22784246, 6.13681497,\n",
       "        5.40428974, 5.18704761, 5.2296655 , 2.91495733, 5.41631476,\n",
       "        5.34693415, 5.52548995, 5.18990697, 5.48577893, 5.79344098,\n",
       "        6.13885039, 6.08999097, 6.18441674, 6.34642931, 2.55451237,\n",
       "        2.97951862, 2.84017083, 2.77489202, 3.02147115, 3.02893145,\n",
       "        2.868975  , 2.88197258, 3.10230891, 3.61712558, 1.10909335,\n",
       "        3.62748036, 0.67725432, 2.52959157, 5.54143498, 5.10453484,\n",
       "        2.92452978, 5.28172774, 5.4838704 , 6.10255065, 6.15984849,\n",
       "        6.44174783, 6.14047089, 6.53455484, 6.45267569, 5.87585555,\n",
       "        6.4846814 , 0.73721114, 2.69943645, 2.8481259 , 2.84531451,\n",
       "        2.90820214, 5.93004534, 0.8592436 , 5.2043835 , 2.90435921,\n",
       "        2.7969711 , 2.41551369, 0.86707066, 2.94425365, 5.40610643,\n",
       "        5.28744719, 3.21423653, 1.00786575, 2.55462317, 2.67083336,\n",
       "        2.72292987, 2.90612166, 2.78347424, 2.77600352, 5.29602244,\n",
       "        0.77166098, 2.97894656, 2.73417903, 3.0937707 , 2.78547521,\n",
       "        2.90944512, 3.15749403, 2.68039283, 0.59560237, 0.76159559,\n",
       "        2.80174495, 0.76333265, 3.0812393 , 2.55543645, 0.57774824,\n",
       "        5.67265989, 5.06362602, 1.03935242, 2.67185135, 2.80520866,\n",
       "        2.83003964, 2.99059421, 5.33043136, 3.01657307, 2.75946867,\n",
       "        2.76706859, 2.70498871, 2.50476543, 2.52914809, 2.66738937,\n",
       "        2.65803712, 2.78267603, 2.64189846, 2.34934204, 0.83182436,\n",
       "        2.85480991, 2.71965606, 3.09142957, 2.71547194, 0.75295771,\n",
       "        2.83847558, 5.34920548, 5.2830892 , 5.51471497, 5.61266457,\n",
       "        5.19552397, 5.45755841, 2.58925562, 2.63210713, 2.78452749,\n",
       "        2.84661364, 2.8451473 , 2.80640125, 2.9475394 , 0.78659472,\n",
       "        2.61555348, 2.47609931, 2.85682931, 2.66883154, 3.00009529,\n",
       "        2.9086101 , 2.69931262, 2.81017901, 2.60893788, 2.74725625,\n",
       "        5.14739506, 5.49751362, 2.96939924, 5.4398373 , 3.17810153,\n",
       "        3.16594225, 2.90902624, 2.91468948, 0.77665269, 3.12162807,\n",
       "        2.62620876, 2.69903239]])"
      ]
     },
     "execution_count": 76,
     "metadata": {},
     "output_type": "execute_result"
    }
   ],
   "source": [
    "# calculate the manhattan distance\n",
    "from sklearn.metrics.pairwise import manhattan_distances\n",
    "\n",
    "# find the index of Super Beetle\n",
    "index_super_beetle = df.index[df['car name'] == 'volkswagen super beetle'][0]\n",
    "\n",
    "# get the manhattan distances from the Super Beetle\n",
    "manhattan_distances = manhattan_distances(df_transform[[index_super_beetle]], df_transform)\n",
    "manhattan_distances"
   ]
  },
  {
   "cell_type": "code",
   "execution_count": 77,
   "id": "5d2ab3bf",
   "metadata": {},
   "outputs": [
    {
     "data": {
      "text/plain": [
       "'volkswagen 1131 deluxe sedan'"
      ]
     },
     "execution_count": 77,
     "metadata": {},
     "output_type": "execute_result"
    }
   ],
   "source": [
    "# get the name of the most similar car\n",
    "index_most_similar = manhattan_distances[0].argsort()[1]\n",
    "df.iloc[index_most_similar]['car name']"
   ]
  }
 ],
 "metadata": {
  "kernelspec": {
   "display_name": "datasci112 (3.12.3)",
   "language": "python",
   "name": "python3"
  },
  "language_info": {
   "codemirror_mode": {
    "name": "ipython",
    "version": 3
   },
   "file_extension": ".py",
   "mimetype": "text/x-python",
   "name": "python",
   "nbconvert_exporter": "python",
   "pygments_lexer": "ipython3",
   "version": "3.12.3"
  }
 },
 "nbformat": 4,
 "nbformat_minor": 5
}
