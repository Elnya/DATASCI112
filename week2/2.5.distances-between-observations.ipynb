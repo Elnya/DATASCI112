{
 "cells": [
  {
   "cell_type": "markdown",
   "id": "b6ba4864",
   "metadata": {},
   "source": [
    "# Distances between Observations"
   ]
  },
  {
   "cell_type": "markdown",
   "id": "4b44eb68",
   "metadata": {},
   "source": [
    "## Ames House Prices\n"
   ]
  },
  {
   "cell_type": "code",
   "execution_count": 2,
   "id": "90016550",
   "metadata": {},
   "outputs": [
    {
     "data": {
      "text/html": [
       "<div>\n",
       "<style scoped>\n",
       "    .dataframe tbody tr th:only-of-type {\n",
       "        vertical-align: middle;\n",
       "    }\n",
       "\n",
       "    .dataframe tbody tr th {\n",
       "        vertical-align: top;\n",
       "    }\n",
       "\n",
       "    .dataframe thead th {\n",
       "        text-align: right;\n",
       "    }\n",
       "</style>\n",
       "<table border=\"1\" class=\"dataframe\">\n",
       "  <thead>\n",
       "    <tr style=\"text-align: right;\">\n",
       "      <th></th>\n",
       "      <th>PID</th>\n",
       "      <th>Gr Liv Area</th>\n",
       "      <th>Bedroom AbvGr</th>\n",
       "      <th>Full Bath</th>\n",
       "      <th>Half Bath</th>\n",
       "      <th>MS SubClass</th>\n",
       "      <th>MS Zoning</th>\n",
       "      <th>Lot Frontage</th>\n",
       "      <th>Lot Area</th>\n",
       "      <th>Street</th>\n",
       "      <th>...</th>\n",
       "      <th>Pool Area</th>\n",
       "      <th>Pool QC</th>\n",
       "      <th>Fence</th>\n",
       "      <th>Misc Feature</th>\n",
       "      <th>Misc Val</th>\n",
       "      <th>Mo Sold</th>\n",
       "      <th>Yr Sold</th>\n",
       "      <th>Sale Type</th>\n",
       "      <th>Sale Condition</th>\n",
       "      <th>SalePrice</th>\n",
       "    </tr>\n",
       "  </thead>\n",
       "  <tbody>\n",
       "    <tr>\n",
       "      <th>0</th>\n",
       "      <td>526301100</td>\n",
       "      <td>1656</td>\n",
       "      <td>3</td>\n",
       "      <td>1</td>\n",
       "      <td>0</td>\n",
       "      <td>20</td>\n",
       "      <td>RL</td>\n",
       "      <td>141.0</td>\n",
       "      <td>31770</td>\n",
       "      <td>Pave</td>\n",
       "      <td>...</td>\n",
       "      <td>0</td>\n",
       "      <td>NaN</td>\n",
       "      <td>NaN</td>\n",
       "      <td>NaN</td>\n",
       "      <td>0</td>\n",
       "      <td>5</td>\n",
       "      <td>2010</td>\n",
       "      <td>WD</td>\n",
       "      <td>Normal</td>\n",
       "      <td>215000</td>\n",
       "    </tr>\n",
       "    <tr>\n",
       "      <th>1</th>\n",
       "      <td>526350040</td>\n",
       "      <td>896</td>\n",
       "      <td>2</td>\n",
       "      <td>1</td>\n",
       "      <td>0</td>\n",
       "      <td>20</td>\n",
       "      <td>RH</td>\n",
       "      <td>80.0</td>\n",
       "      <td>11622</td>\n",
       "      <td>Pave</td>\n",
       "      <td>...</td>\n",
       "      <td>0</td>\n",
       "      <td>NaN</td>\n",
       "      <td>MnPrv</td>\n",
       "      <td>NaN</td>\n",
       "      <td>0</td>\n",
       "      <td>6</td>\n",
       "      <td>2010</td>\n",
       "      <td>WD</td>\n",
       "      <td>Normal</td>\n",
       "      <td>105000</td>\n",
       "    </tr>\n",
       "    <tr>\n",
       "      <th>2</th>\n",
       "      <td>526351010</td>\n",
       "      <td>1329</td>\n",
       "      <td>3</td>\n",
       "      <td>1</td>\n",
       "      <td>1</td>\n",
       "      <td>20</td>\n",
       "      <td>RL</td>\n",
       "      <td>81.0</td>\n",
       "      <td>14267</td>\n",
       "      <td>Pave</td>\n",
       "      <td>...</td>\n",
       "      <td>0</td>\n",
       "      <td>NaN</td>\n",
       "      <td>NaN</td>\n",
       "      <td>Gar2</td>\n",
       "      <td>12500</td>\n",
       "      <td>6</td>\n",
       "      <td>2010</td>\n",
       "      <td>WD</td>\n",
       "      <td>Normal</td>\n",
       "      <td>172000</td>\n",
       "    </tr>\n",
       "    <tr>\n",
       "      <th>3</th>\n",
       "      <td>526353030</td>\n",
       "      <td>2110</td>\n",
       "      <td>3</td>\n",
       "      <td>2</td>\n",
       "      <td>1</td>\n",
       "      <td>20</td>\n",
       "      <td>RL</td>\n",
       "      <td>93.0</td>\n",
       "      <td>11160</td>\n",
       "      <td>Pave</td>\n",
       "      <td>...</td>\n",
       "      <td>0</td>\n",
       "      <td>NaN</td>\n",
       "      <td>NaN</td>\n",
       "      <td>NaN</td>\n",
       "      <td>0</td>\n",
       "      <td>4</td>\n",
       "      <td>2010</td>\n",
       "      <td>WD</td>\n",
       "      <td>Normal</td>\n",
       "      <td>244000</td>\n",
       "    </tr>\n",
       "    <tr>\n",
       "      <th>4</th>\n",
       "      <td>527105010</td>\n",
       "      <td>1629</td>\n",
       "      <td>3</td>\n",
       "      <td>2</td>\n",
       "      <td>1</td>\n",
       "      <td>60</td>\n",
       "      <td>RL</td>\n",
       "      <td>74.0</td>\n",
       "      <td>13830</td>\n",
       "      <td>Pave</td>\n",
       "      <td>...</td>\n",
       "      <td>0</td>\n",
       "      <td>NaN</td>\n",
       "      <td>MnPrv</td>\n",
       "      <td>NaN</td>\n",
       "      <td>0</td>\n",
       "      <td>3</td>\n",
       "      <td>2010</td>\n",
       "      <td>WD</td>\n",
       "      <td>Normal</td>\n",
       "      <td>189900</td>\n",
       "    </tr>\n",
       "    <tr>\n",
       "      <th>...</th>\n",
       "      <td>...</td>\n",
       "      <td>...</td>\n",
       "      <td>...</td>\n",
       "      <td>...</td>\n",
       "      <td>...</td>\n",
       "      <td>...</td>\n",
       "      <td>...</td>\n",
       "      <td>...</td>\n",
       "      <td>...</td>\n",
       "      <td>...</td>\n",
       "      <td>...</td>\n",
       "      <td>...</td>\n",
       "      <td>...</td>\n",
       "      <td>...</td>\n",
       "      <td>...</td>\n",
       "      <td>...</td>\n",
       "      <td>...</td>\n",
       "      <td>...</td>\n",
       "      <td>...</td>\n",
       "      <td>...</td>\n",
       "      <td>...</td>\n",
       "    </tr>\n",
       "    <tr>\n",
       "      <th>2925</th>\n",
       "      <td>923275080</td>\n",
       "      <td>1003</td>\n",
       "      <td>3</td>\n",
       "      <td>1</td>\n",
       "      <td>0</td>\n",
       "      <td>80</td>\n",
       "      <td>RL</td>\n",
       "      <td>37.0</td>\n",
       "      <td>7937</td>\n",
       "      <td>Pave</td>\n",
       "      <td>...</td>\n",
       "      <td>0</td>\n",
       "      <td>NaN</td>\n",
       "      <td>GdPrv</td>\n",
       "      <td>NaN</td>\n",
       "      <td>0</td>\n",
       "      <td>3</td>\n",
       "      <td>2006</td>\n",
       "      <td>WD</td>\n",
       "      <td>Normal</td>\n",
       "      <td>142500</td>\n",
       "    </tr>\n",
       "    <tr>\n",
       "      <th>2926</th>\n",
       "      <td>923276100</td>\n",
       "      <td>902</td>\n",
       "      <td>2</td>\n",
       "      <td>1</td>\n",
       "      <td>0</td>\n",
       "      <td>20</td>\n",
       "      <td>RL</td>\n",
       "      <td>NaN</td>\n",
       "      <td>8885</td>\n",
       "      <td>Pave</td>\n",
       "      <td>...</td>\n",
       "      <td>0</td>\n",
       "      <td>NaN</td>\n",
       "      <td>MnPrv</td>\n",
       "      <td>NaN</td>\n",
       "      <td>0</td>\n",
       "      <td>6</td>\n",
       "      <td>2006</td>\n",
       "      <td>WD</td>\n",
       "      <td>Normal</td>\n",
       "      <td>131000</td>\n",
       "    </tr>\n",
       "    <tr>\n",
       "      <th>2927</th>\n",
       "      <td>923400125</td>\n",
       "      <td>970</td>\n",
       "      <td>3</td>\n",
       "      <td>1</td>\n",
       "      <td>0</td>\n",
       "      <td>85</td>\n",
       "      <td>RL</td>\n",
       "      <td>62.0</td>\n",
       "      <td>10441</td>\n",
       "      <td>Pave</td>\n",
       "      <td>...</td>\n",
       "      <td>0</td>\n",
       "      <td>NaN</td>\n",
       "      <td>MnPrv</td>\n",
       "      <td>Shed</td>\n",
       "      <td>700</td>\n",
       "      <td>7</td>\n",
       "      <td>2006</td>\n",
       "      <td>WD</td>\n",
       "      <td>Normal</td>\n",
       "      <td>132000</td>\n",
       "    </tr>\n",
       "    <tr>\n",
       "      <th>2928</th>\n",
       "      <td>924100070</td>\n",
       "      <td>1389</td>\n",
       "      <td>2</td>\n",
       "      <td>1</td>\n",
       "      <td>0</td>\n",
       "      <td>20</td>\n",
       "      <td>RL</td>\n",
       "      <td>77.0</td>\n",
       "      <td>10010</td>\n",
       "      <td>Pave</td>\n",
       "      <td>...</td>\n",
       "      <td>0</td>\n",
       "      <td>NaN</td>\n",
       "      <td>NaN</td>\n",
       "      <td>NaN</td>\n",
       "      <td>0</td>\n",
       "      <td>4</td>\n",
       "      <td>2006</td>\n",
       "      <td>WD</td>\n",
       "      <td>Normal</td>\n",
       "      <td>170000</td>\n",
       "    </tr>\n",
       "    <tr>\n",
       "      <th>2929</th>\n",
       "      <td>924151050</td>\n",
       "      <td>2000</td>\n",
       "      <td>3</td>\n",
       "      <td>2</td>\n",
       "      <td>1</td>\n",
       "      <td>60</td>\n",
       "      <td>RL</td>\n",
       "      <td>74.0</td>\n",
       "      <td>9627</td>\n",
       "      <td>Pave</td>\n",
       "      <td>...</td>\n",
       "      <td>0</td>\n",
       "      <td>NaN</td>\n",
       "      <td>NaN</td>\n",
       "      <td>NaN</td>\n",
       "      <td>0</td>\n",
       "      <td>11</td>\n",
       "      <td>2006</td>\n",
       "      <td>WD</td>\n",
       "      <td>Normal</td>\n",
       "      <td>188000</td>\n",
       "    </tr>\n",
       "  </tbody>\n",
       "</table>\n",
       "<p>2930 rows × 81 columns</p>\n",
       "</div>"
      ],
      "text/plain": [
       "            PID  Gr Liv Area  Bedroom AbvGr  Full Bath  Half Bath  \\\n",
       "0     526301100         1656              3          1          0   \n",
       "1     526350040          896              2          1          0   \n",
       "2     526351010         1329              3          1          1   \n",
       "3     526353030         2110              3          2          1   \n",
       "4     527105010         1629              3          2          1   \n",
       "...         ...          ...            ...        ...        ...   \n",
       "2925  923275080         1003              3          1          0   \n",
       "2926  923276100          902              2          1          0   \n",
       "2927  923400125          970              3          1          0   \n",
       "2928  924100070         1389              2          1          0   \n",
       "2929  924151050         2000              3          2          1   \n",
       "\n",
       "      MS SubClass MS Zoning  Lot Frontage  Lot Area Street  ... Pool Area  \\\n",
       "0              20        RL         141.0     31770   Pave  ...         0   \n",
       "1              20        RH          80.0     11622   Pave  ...         0   \n",
       "2              20        RL          81.0     14267   Pave  ...         0   \n",
       "3              20        RL          93.0     11160   Pave  ...         0   \n",
       "4              60        RL          74.0     13830   Pave  ...         0   \n",
       "...           ...       ...           ...       ...    ...  ...       ...   \n",
       "2925           80        RL          37.0      7937   Pave  ...         0   \n",
       "2926           20        RL           NaN      8885   Pave  ...         0   \n",
       "2927           85        RL          62.0     10441   Pave  ...         0   \n",
       "2928           20        RL          77.0     10010   Pave  ...         0   \n",
       "2929           60        RL          74.0      9627   Pave  ...         0   \n",
       "\n",
       "     Pool QC  Fence Misc Feature Misc Val Mo Sold Yr Sold Sale Type  \\\n",
       "0        NaN    NaN          NaN        0       5    2010       WD    \n",
       "1        NaN  MnPrv          NaN        0       6    2010       WD    \n",
       "2        NaN    NaN         Gar2    12500       6    2010       WD    \n",
       "3        NaN    NaN          NaN        0       4    2010       WD    \n",
       "4        NaN  MnPrv          NaN        0       3    2010       WD    \n",
       "...      ...    ...          ...      ...     ...     ...       ...   \n",
       "2925     NaN  GdPrv          NaN        0       3    2006       WD    \n",
       "2926     NaN  MnPrv          NaN        0       6    2006       WD    \n",
       "2927     NaN  MnPrv         Shed      700       7    2006       WD    \n",
       "2928     NaN    NaN          NaN        0       4    2006       WD    \n",
       "2929     NaN    NaN          NaN        0      11    2006       WD    \n",
       "\n",
       "     Sale Condition SalePrice  \n",
       "0            Normal    215000  \n",
       "1            Normal    105000  \n",
       "2            Normal    172000  \n",
       "3            Normal    244000  \n",
       "4            Normal    189900  \n",
       "...             ...       ...  \n",
       "2925         Normal    142500  \n",
       "2926         Normal    131000  \n",
       "2927         Normal    132000  \n",
       "2928         Normal    170000  \n",
       "2929         Normal    188000  \n",
       "\n",
       "[2930 rows x 81 columns]"
      ]
     },
     "execution_count": 2,
     "metadata": {},
     "output_type": "execute_result"
    }
   ],
   "source": [
    "# load dataset\n",
    "# Data URL: https://datasci112.stanford.edu/data/housing.tsv\n",
    "\n",
    "import pandas as pd\n",
    "df = pd.read_table(\"data/housing.tsv\")\n",
    "df"
   ]
  },
  {
   "cell_type": "markdown",
   "id": "a9f698e7",
   "metadata": {},
   "source": [
    "## Square Footage and Bedrooms\n",
    "\n",
    "We've seen how to visualize and summarize the relationship between two quantitative variables."
   ]
  },
  {
   "cell_type": "code",
   "execution_count": null,
   "id": "67c45fed",
   "metadata": {},
   "outputs": [
    {
     "data": {
      "text/html": [
       "<div>\n",
       "<style scoped>\n",
       "    .dataframe tbody tr th:only-of-type {\n",
       "        vertical-align: middle;\n",
       "    }\n",
       "\n",
       "    .dataframe tbody tr th {\n",
       "        vertical-align: top;\n",
       "    }\n",
       "\n",
       "    .dataframe thead th {\n",
       "        text-align: right;\n",
       "    }\n",
       "</style>\n",
       "<table border=\"1\" class=\"dataframe\">\n",
       "  <thead>\n",
       "    <tr style=\"text-align: right;\">\n",
       "      <th></th>\n",
       "      <th>Gr Liv Area</th>\n",
       "      <th>Bedroom AbvGr</th>\n",
       "    </tr>\n",
       "  </thead>\n",
       "  <tbody>\n",
       "    <tr>\n",
       "      <th>Gr Liv Area</th>\n",
       "      <td>1.000000</td>\n",
       "      <td>0.516808</td>\n",
       "    </tr>\n",
       "    <tr>\n",
       "      <th>Bedroom AbvGr</th>\n",
       "      <td>0.516808</td>\n",
       "      <td>1.000000</td>\n",
       "    </tr>\n",
       "  </tbody>\n",
       "</table>\n",
       "</div>"
      ],
      "text/plain": [
       "               Gr Liv Area  Bedroom AbvGr\n",
       "Gr Liv Area       1.000000       0.516808\n",
       "Bedroom AbvGr     0.516808       1.000000"
      ]
     },
     "execution_count": 3,
     "metadata": {},
     "output_type": "execute_result"
    },
    {
     "data": {
      "image/png": "[encoded data removed]",
      "text/plain": [
       "<Figure size 640x480 with 1 Axes>"
      ]
     },
     "metadata": {},
     "output_type": "display_data"
    }
   ],
   "source": [
    "# get correlation matrix and scatterplot\n",
    "df.plot.scatter(x=\"Gr Liv Area\", y=\"Bedroom AbvGr\", alpha=0.4)\n",
    "df[[\"Gr Liv Area\", \"Bedroom AbvGr\"]].corr()"
   ]
  },
  {
   "cell_type": "markdown",
   "id": "09932a96",
   "metadata": {},
   "source": [
    "## Quantifying Similarity\n",
    "\n",
    "How do we measure how \"similar\" two observations are?\n",
    "\n",
    "For example, how would we quantify how similar the following two houses are?"
   ]
  },
  {
   "cell_type": "markdown",
   "id": "3529e5e2",
   "metadata": {},
   "source": [
    "## Calculating Distances\n",
    "\n",
    "One way is to calculate the distance between the two points.\n",
    "\n",
    "By the Pythagorean Theorem,\n",
    "\n",
    "$$\n",
    "d^2 = (x_1 - \\acute{x_1})^2 + (x_2 - \\acute{x_2})^2\n",
    "$$\n",
    "\n",
    "or equivanlently,\n",
    "\n",
    "$$\n",
    "d = \\sqrt{(x_1 - \\acute{x_1})^2 + (x_2 - \\acute{x_2})^2}\n",
    "$$"
   ]
  },
  {
   "cell_type": "markdown",
   "id": "9e41d58e",
   "metadata": {},
   "source": [
    "## Calculating Distance in Higher Dimensions\n",
    "\n",
    "The distance fomula generalizes to any number of variables $m$.\n",
    "\n",
    "$$\n",
    "d\\mathrm{(x,\\acute{x})} = \\sqrt{\\sum_{j=1}^{m}(x_j - \\acute{x_j})^2}\n",
    "$$"
   ]
  },
  {
   "cell_type": "markdown",
   "id": "04c62b4b",
   "metadata": {},
   "source": [
    "Let's calculate the distance between these two houses, based on $m=4$ variables: square footage, bedrooms, full baths, and half baths."
   ]
  },
  {
   "cell_type": "markdown",
   "id": "d44f7ea0",
   "metadata": {},
   "source": [
    "## Distances between Obeservations\n",
    "\n",
    "Let's define the relevant features and select the rows."
   ]
  },
  {
   "cell_type": "code",
   "execution_count": 4,
   "id": "4f6f1728",
   "metadata": {},
   "outputs": [
    {
     "data": {
      "text/plain": [
       "Gr Liv Area      2956\n",
       "Bedroom AbvGr       5\n",
       "Full Bath           2\n",
       "Half Bath           1\n",
       "Name: 1707, dtype: object"
      ]
     },
     "execution_count": 4,
     "metadata": {},
     "output_type": "execute_result"
    }
   ],
   "source": [
    "features = [\"Gr Liv Area\", \"Bedroom AbvGr\", \"Full Bath\", \"Half Bath\"]\n",
    "\n",
    "df.loc[1707, features]"
   ]
  },
  {
   "cell_type": "code",
   "execution_count": 5,
   "id": "0aca27e8",
   "metadata": {},
   "outputs": [
    {
     "data": {
      "text/plain": [
       "Gr Liv Area      2650\n",
       "Bedroom AbvGr       6\n",
       "Full Bath           3\n",
       "Half Bath           0\n",
       "Name: 290, dtype: object"
      ]
     },
     "execution_count": 5,
     "metadata": {},
     "output_type": "execute_result"
    }
   ],
   "source": [
    "df.loc[290, features]"
   ]
  },
  {
   "cell_type": "markdown",
   "id": "fe0ae355",
   "metadata": {},
   "source": [
    "Now we calculate the distance. Note that we import `numpy` for its square root function."
   ]
  },
  {
   "cell_type": "code",
   "execution_count": 7,
   "id": "e8c34bc7",
   "metadata": {},
   "outputs": [
    {
     "data": {
      "text/plain": [
       "Gr Liv Area      1389\n",
       "Bedroom AbvGr       2\n",
       "Full Bath           1\n",
       "Half Bath           0\n",
       "Name: 2928, dtype: object"
      ]
     },
     "execution_count": 7,
     "metadata": {},
     "output_type": "execute_result"
    }
   ],
   "source": [
    "df.loc[2928, features]"
   ]
  },
  {
   "cell_type": "code",
   "execution_count": 8,
   "id": "e8b59c40",
   "metadata": {},
   "outputs": [
    {
     "data": {
      "text/plain": [
       "np.float64(306.00490192152154)"
      ]
     },
     "execution_count": 8,
     "metadata": {},
     "output_type": "execute_result"
    }
   ],
   "source": [
    "import numpy as np\n",
    "np.sqrt(\n",
    "    np.sum(np.square(df.loc[1707, features] - df.loc[290, features]))\n",
    ")"
   ]
  },
  {
   "cell_type": "markdown",
   "id": "7b38b26b",
   "metadata": {},
   "source": [
    "Which houses are most similar to house #1707?\n",
    "\n",
    "Let's calculate the distance between every house in the data set and this one."
   ]
  },
  {
   "cell_type": "code",
   "execution_count": null,
   "id": "4948eccf",
   "metadata": {},
   "outputs": [
    {
     "data": {
      "text/html": [
       "<div>\n",
       "<style scoped>\n",
       "    .dataframe tbody tr th:only-of-type {\n",
       "        vertical-align: middle;\n",
       "    }\n",
       "\n",
       "    .dataframe tbody tr th {\n",
       "        vertical-align: top;\n",
       "    }\n",
       "\n",
       "    .dataframe thead th {\n",
       "        text-align: right;\n",
       "    }\n",
       "</style>\n",
       "<table border=\"1\" class=\"dataframe\">\n",
       "  <thead>\n",
       "    <tr style=\"text-align: right;\">\n",
       "      <th></th>\n",
       "      <th>Gr Liv Area</th>\n",
       "      <th>Bedroom AbvGr</th>\n",
       "      <th>Full Bath</th>\n",
       "      <th>Half Bath</th>\n",
       "    </tr>\n",
       "  </thead>\n",
       "  <tbody>\n",
       "    <tr>\n",
       "      <th>0</th>\n",
       "      <td>-1300</td>\n",
       "      <td>-2</td>\n",
       "      <td>-1</td>\n",
       "      <td>-1</td>\n",
       "    </tr>\n",
       "    <tr>\n",
       "      <th>1</th>\n",
       "      <td>-2060</td>\n",
       "      <td>-3</td>\n",
       "      <td>-1</td>\n",
       "      <td>-1</td>\n",
       "    </tr>\n",
       "    <tr>\n",
       "      <th>2</th>\n",
       "      <td>-1627</td>\n",
       "      <td>-2</td>\n",
       "      <td>-1</td>\n",
       "      <td>0</td>\n",
       "    </tr>\n",
       "    <tr>\n",
       "      <th>3</th>\n",
       "      <td>-846</td>\n",
       "      <td>-2</td>\n",
       "      <td>0</td>\n",
       "      <td>0</td>\n",
       "    </tr>\n",
       "    <tr>\n",
       "      <th>4</th>\n",
       "      <td>-1327</td>\n",
       "      <td>-2</td>\n",
       "      <td>0</td>\n",
       "      <td>0</td>\n",
       "    </tr>\n",
       "    <tr>\n",
       "      <th>...</th>\n",
       "      <td>...</td>\n",
       "      <td>...</td>\n",
       "      <td>...</td>\n",
       "      <td>...</td>\n",
       "    </tr>\n",
       "    <tr>\n",
       "      <th>2925</th>\n",
       "      <td>-1953</td>\n",
       "      <td>-2</td>\n",
       "      <td>-1</td>\n",
       "      <td>-1</td>\n",
       "    </tr>\n",
       "    <tr>\n",
       "      <th>2926</th>\n",
       "      <td>-2054</td>\n",
       "      <td>-3</td>\n",
       "      <td>-1</td>\n",
       "      <td>-1</td>\n",
       "    </tr>\n",
       "    <tr>\n",
       "      <th>2927</th>\n",
       "      <td>-1986</td>\n",
       "      <td>-2</td>\n",
       "      <td>-1</td>\n",
       "      <td>-1</td>\n",
       "    </tr>\n",
       "    <tr>\n",
       "      <th>2928</th>\n",
       "      <td>-1567</td>\n",
       "      <td>-3</td>\n",
       "      <td>-1</td>\n",
       "      <td>-1</td>\n",
       "    </tr>\n",
       "    <tr>\n",
       "      <th>2929</th>\n",
       "      <td>-956</td>\n",
       "      <td>-2</td>\n",
       "      <td>0</td>\n",
       "      <td>0</td>\n",
       "    </tr>\n",
       "  </tbody>\n",
       "</table>\n",
       "<p>2930 rows × 4 columns</p>\n",
       "</div>"
      ],
      "text/plain": [
       "     Gr Liv Area Bedroom AbvGr Full Bath Half Bath\n",
       "0          -1300            -2        -1        -1\n",
       "1          -2060            -3        -1        -1\n",
       "2          -1627            -2        -1         0\n",
       "3           -846            -2         0         0\n",
       "4          -1327            -2         0         0\n",
       "...          ...           ...       ...       ...\n",
       "2925       -1953            -2        -1        -1\n",
       "2926       -2054            -3        -1        -1\n",
       "2927       -1986            -2        -1        -1\n",
       "2928       -1567            -3        -1        -1\n",
       "2929        -956            -2         0         0\n",
       "\n",
       "[2930 rows x 4 columns]"
      ]
     },
     "execution_count": 9,
     "metadata": {},
     "output_type": "execute_result"
    }
   ],
   "source": [
    "# get differences from observation 1707\n",
    "diffs = df[features] - df.loc[1707, features]\n",
    "diffs"
   ]
  },
  {
   "cell_type": "code",
   "execution_count": null,
   "id": "ac5c5c96",
   "metadata": {},
   "outputs": [
    {
     "data": {
      "text/plain": [
       "0       1690006\n",
       "1       4243611\n",
       "2       2647134\n",
       "3        715720\n",
       "4       1760933\n",
       "         ...   \n",
       "2925    3814215\n",
       "2926    4218927\n",
       "2927    3944202\n",
       "2928    2455500\n",
       "2929     913940\n",
       "Length: 2930, dtype: object"
      ]
     },
     "execution_count": 10,
     "metadata": {},
     "output_type": "execute_result"
    }
   ],
   "source": [
    "# get distance from observation 1707\n",
    "dists = (diffs ** 2).sum(axis=1)\n",
    "dists"
   ]
  },
  {
   "cell_type": "code",
   "execution_count": 11,
   "id": "c494191e",
   "metadata": {},
   "outputs": [
    {
     "data": {
      "text/plain": [
       "1707          0\n",
       "2336        126\n",
       "1182        149\n",
       "160         484\n",
       "565        2405\n",
       "         ...   \n",
       "2880    6130597\n",
       "907     6340342\n",
       "1302    6497419\n",
       "1901    6874902\n",
       "1498    7214600\n",
       "Length: 2930, dtype: object"
      ]
     },
     "execution_count": 11,
     "metadata": {},
     "output_type": "execute_result"
    }
   ],
   "source": [
    "dists.sort_values()"
   ]
  },
  {
   "cell_type": "markdown",
   "id": "f1d5421e",
   "metadata": {},
   "source": [
    "Intuitively, it seems that house #160 is more similar to #1707 than #2336. Why did house #2336 have a smaller distance?"
   ]
  },
  {
   "cell_type": "markdown",
   "id": "62fc4662",
   "metadata": {},
   "source": [
    "## The Importance of Scaling"
   ]
  },
  {
   "cell_type": "markdown",
   "id": "b6027258",
   "metadata": {},
   "source": [
    "The variation in square footage completely swamps the variation in the number of bedrooms.\n",
    "We should bring all the variables to the same scale before calculating distance."
   ]
  },
  {
   "cell_type": "markdown",
   "id": "4841de66",
   "metadata": {},
   "source": [
    "## Standardization\n",
    "\n",
    "We’ve seen one way to bring different variables to the same scale: **standardization**.\n",
    "\n",
    "$$\n",
    "x_i \\gets  \\frac{x_i - \\mathrm{\\bar{x}}}{\\mathrm{sd(x)}}\n",
    "$$"
   ]
  },
  {
   "cell_type": "code",
   "execution_count": null,
   "id": "f7bf98b2",
   "metadata": {},
   "outputs": [
    {
     "data": {
      "text/html": [
       "<div>\n",
       "<style scoped>\n",
       "    .dataframe tbody tr th:only-of-type {\n",
       "        vertical-align: middle;\n",
       "    }\n",
       "\n",
       "    .dataframe tbody tr th {\n",
       "        vertical-align: top;\n",
       "    }\n",
       "\n",
       "    .dataframe thead th {\n",
       "        text-align: right;\n",
       "    }\n",
       "</style>\n",
       "<table border=\"1\" class=\"dataframe\">\n",
       "  <thead>\n",
       "    <tr style=\"text-align: right;\">\n",
       "      <th></th>\n",
       "      <th>Gr Liv Area</th>\n",
       "      <th>Bedroom AbvGr</th>\n",
       "      <th>Full Bath</th>\n",
       "      <th>Half Bath</th>\n",
       "    </tr>\n",
       "  </thead>\n",
       "  <tbody>\n",
       "    <tr>\n",
       "      <th>0</th>\n",
       "      <td>0.309212</td>\n",
       "      <td>0.176064</td>\n",
       "      <td>-1.024618</td>\n",
       "      <td>-0.755074</td>\n",
       "    </tr>\n",
       "    <tr>\n",
       "      <th>1</th>\n",
       "      <td>-1.194223</td>\n",
       "      <td>-1.032058</td>\n",
       "      <td>-1.024618</td>\n",
       "      <td>-0.755074</td>\n",
       "    </tr>\n",
       "    <tr>\n",
       "      <th>2</th>\n",
       "      <td>-0.337661</td>\n",
       "      <td>0.176064</td>\n",
       "      <td>-1.024618</td>\n",
       "      <td>1.234464</td>\n",
       "    </tr>\n",
       "    <tr>\n",
       "      <th>3</th>\n",
       "      <td>1.207317</td>\n",
       "      <td>0.176064</td>\n",
       "      <td>0.783894</td>\n",
       "      <td>1.234464</td>\n",
       "    </tr>\n",
       "    <tr>\n",
       "      <th>4</th>\n",
       "      <td>0.255801</td>\n",
       "      <td>0.176064</td>\n",
       "      <td>0.783894</td>\n",
       "      <td>1.234464</td>\n",
       "    </tr>\n",
       "    <tr>\n",
       "      <th>...</th>\n",
       "      <td>...</td>\n",
       "      <td>...</td>\n",
       "      <td>...</td>\n",
       "      <td>...</td>\n",
       "    </tr>\n",
       "    <tr>\n",
       "      <th>2925</th>\n",
       "      <td>-0.982555</td>\n",
       "      <td>0.176064</td>\n",
       "      <td>-1.024618</td>\n",
       "      <td>-0.755074</td>\n",
       "    </tr>\n",
       "    <tr>\n",
       "      <th>2926</th>\n",
       "      <td>-1.182354</td>\n",
       "      <td>-1.032058</td>\n",
       "      <td>-1.024618</td>\n",
       "      <td>-0.755074</td>\n",
       "    </tr>\n",
       "    <tr>\n",
       "      <th>2927</th>\n",
       "      <td>-1.047836</td>\n",
       "      <td>0.176064</td>\n",
       "      <td>-1.024618</td>\n",
       "      <td>-0.755074</td>\n",
       "    </tr>\n",
       "    <tr>\n",
       "      <th>2928</th>\n",
       "      <td>-0.218968</td>\n",
       "      <td>-1.032058</td>\n",
       "      <td>-1.024618</td>\n",
       "      <td>-0.755074</td>\n",
       "    </tr>\n",
       "    <tr>\n",
       "      <th>2929</th>\n",
       "      <td>0.989715</td>\n",
       "      <td>0.176064</td>\n",
       "      <td>0.783894</td>\n",
       "      <td>1.234464</td>\n",
       "    </tr>\n",
       "  </tbody>\n",
       "</table>\n",
       "<p>2930 rows × 4 columns</p>\n",
       "</div>"
      ],
      "text/plain": [
       "      Gr Liv Area  Bedroom AbvGr  Full Bath  Half Bath\n",
       "0        0.309212       0.176064  -1.024618  -0.755074\n",
       "1       -1.194223      -1.032058  -1.024618  -0.755074\n",
       "2       -0.337661       0.176064  -1.024618   1.234464\n",
       "3        1.207317       0.176064   0.783894   1.234464\n",
       "4        0.255801       0.176064   0.783894   1.234464\n",
       "...           ...            ...        ...        ...\n",
       "2925    -0.982555       0.176064  -1.024618  -0.755074\n",
       "2926    -1.182354      -1.032058  -1.024618  -0.755074\n",
       "2927    -1.047836       0.176064  -1.024618  -0.755074\n",
       "2928    -0.218968      -1.032058  -1.024618  -0.755074\n",
       "2929     0.989715       0.176064   0.783894   1.234464\n",
       "\n",
       "[2930 rows x 4 columns]"
      ]
     },
     "execution_count": 15,
     "metadata": {},
     "output_type": "execute_result"
    }
   ],
   "source": [
    "# Feature Scaling\n",
    "df_standardized = ((df[features] - df[features].mean(axis='rows')) / df[features].std(axis='rows'))\n",
    "df_standardized"
   ]
  },
  {
   "cell_type": "markdown",
   "id": "63ed7163",
   "metadata": {},
   "source": [
    "## The Effect of Standardization"
   ]
  },
  {
   "cell_type": "code",
   "execution_count": null,
   "id": "67a0e00a",
   "metadata": {},
   "outputs": [
    {
     "data": {
      "text/plain": [
       "<Axes: xlabel='Gr Liv Area', ylabel='Bedroom AbvGr'>"
      ]
     },
     "execution_count": 16,
     "metadata": {},
     "output_type": "execute_result"
    },
    {
     "data": {
      "image/png": "[encoded data removed]",
      "text/plain": [
       "<Figure size 640x480 with 1 Axes>"
      ]
     },
     "metadata": {},
     "output_type": "display_data"
    }
   ],
   "source": [
    "# scatterplot of features before standardization\n",
    "df_standardized.plot.scatter(x=\"Gr Liv Area\", y=\"Bedroom AbvGr\", alpha=0.4)"
   ]
  },
  {
   "cell_type": "markdown",
   "id": "3048e57e",
   "metadata": {},
   "source": [
    "Standardization ensures that every variable has mean $0$ and standard deviation $1$ so that every variable is treated equally."
   ]
  },
  {
   "cell_type": "markdown",
   "id": "76e43e4a",
   "metadata": {},
   "source": [
    "## Finding the Most Similar Home\n",
    "\n",
    "Let’s find the most similar house by calculating distances on the _standardized_ data."
   ]
  },
  {
   "cell_type": "code",
   "execution_count": 27,
   "id": "6075aba1",
   "metadata": {},
   "outputs": [
    {
     "data": {
      "text/plain": [
       "1707    0.000000\n",
       "160     0.043521\n",
       "909     0.249254\n",
       "585     0.625113\n",
       "2592    0.625113\n",
       "          ...   \n",
       "2880    8.024014\n",
       "1385    8.050646\n",
       "2279    8.095655\n",
       "158     8.225392\n",
       "2723    8.313887\n",
       "Length: 2930, dtype: float64"
      ]
     },
     "execution_count": 27,
     "metadata": {},
     "output_type": "execute_result"
    }
   ],
   "source": [
    "import numpy as np\n",
    "\n",
    "# calculate standardized distances\n",
    "diffs = df_standardized - df_standardized.loc[1707]\n",
    "dists = np.sqrt((diffs ** 2).sum(axis='columns')).sort_values()\n",
    "dists"
   ]
  },
  {
   "cell_type": "code",
   "execution_count": 28,
   "id": "05793d67",
   "metadata": {},
   "outputs": [
    {
     "name": "stdout",
     "output_type": "stream",
     "text": [
      "Now the most similar house to #1707 is #160, which matches our intuition when we looked at the data.\n"
     ]
    }
   ],
   "source": [
    "# find the most similar house\n",
    "most_similar = dists.index[1]  # the first index is the observation itself\n",
    "print(f\"Now the most similar house to #1707 is #{most_similar}, which matches our intuition when we looked at the data.\")"
   ]
  },
  {
   "cell_type": "markdown",
   "id": "8a9d75b6",
   "metadata": {},
   "source": [
    "## Scaling in Scikit-Learn\n",
    "The machine learning library Scikit-Learn can be used to scale variables and calculate distances."
   ]
  },
  {
   "cell_type": "code",
   "execution_count": null,
   "id": "8c170e63",
   "metadata": {},
   "outputs": [
    {
     "data": {
      "text/plain": [
       "array([[ 0.30926506,  0.17609421, -1.02479289, -0.75520269],\n",
       "       [-1.19442705, -1.03223376, -1.02479289, -0.75520269],\n",
       "       [-0.33771825,  0.17609421, -1.02479289,  1.23467491],\n",
       "       ...,\n",
       "       [-1.04801492,  0.17609421, -1.02479289, -0.75520269],\n",
       "       [-0.21900572, -1.03223376, -1.02479289, -0.75520269],\n",
       "       [ 0.9898836 ,  0.17609421,  0.7840283 ,  1.23467491]],\n",
       "      shape=(2930, 4))"
      ]
     },
     "execution_count": 29,
     "metadata": {},
     "output_type": "execute_result"
    }
   ],
   "source": [
    "from sklearn.preprocessing import StandardScaler\n",
    "\n",
    "scaler = StandardScaler()\n",
    "\n",
    "# This calculates mean and standard deviation of each variable.\n",
    "scaler.fit(df[features])\n",
    "\n",
    "# This actually does the standardization\n",
    "# The result is the standardized array (not DataFrame)\n",
    "array_standardized = scaler.transform(df[features])\n",
    "array_standardized"
   ]
  },
  {
   "cell_type": "markdown",
   "id": "542bfdf7",
   "metadata": {},
   "source": [
    "## Calculating Distances in Scikit-Learn\n",
    "\n",
    "Now let's calculate the distance between house #1707 and all houses, using Scikit-Learn."
   ]
  },
  {
   "cell_type": "code",
   "execution_count": 36,
   "id": "a2b2201f",
   "metadata": {},
   "outputs": [
    {
     "data": {
      "text/plain": [
       "array([[4.43704819, 6.08145351, 4.41300228, ..., 5.33963844, 5.4757908 ,\n",
       "        3.06886734]], shape=(1, 2930))"
      ]
     },
     "execution_count": 36,
     "metadata": {},
     "output_type": "execute_result"
    }
   ],
   "source": [
    "from sklearn.metrics import pairwise_distances\n",
    "\n",
    "dists = pairwise_distances(array_standardized[[1707]], array_standardized)\n",
    "dists"
   ]
  },
  {
   "cell_type": "code",
   "execution_count": 34,
   "id": "c5dad82f",
   "metadata": {},
   "outputs": [
    {
     "data": {
      "text/plain": [
       "array([[0.        , 0.04352793, 0.24929632, ..., 8.09703665, 8.22679607,\n",
       "        8.31530563]], shape=(1, 2930))"
      ]
     },
     "execution_count": 34,
     "metadata": {},
     "output_type": "execute_result"
    }
   ],
   "source": [
    "# sort the distances\n",
    "dists[0].sort() # the sorting is done in-place\n",
    "dists"
   ]
  },
  {
   "cell_type": "code",
   "execution_count": 38,
   "id": "2e4574ec",
   "metadata": {},
   "outputs": [
    {
     "data": {
      "text/plain": [
       "array([1707,  160,  909, ..., 2279,  158, 2723], shape=(2930,))"
      ]
     },
     "execution_count": 38,
     "metadata": {},
     "output_type": "execute_result"
    }
   ],
   "source": [
    "#  We want to know which house had the smallest distance.\n",
    "dists[0].argsort()"
   ]
  },
  {
   "cell_type": "markdown",
   "id": "85731938",
   "metadata": {},
   "source": [
    "## The Distance Matrix\n",
    "\n",
    "We can also calculate the distance between every pair of observations and store the result in a matrix."
   ]
  },
  {
   "cell_type": "code",
   "execution_count": 39,
   "id": "d2ca7297",
   "metadata": {},
   "outputs": [
    {
     "data": {
      "text/plain": [
       "array([[0.        , 1.92902733, 2.09241494, ..., 1.35727998, 1.31875946,\n",
       "        2.77393016],\n",
       "       [1.92902733, 0.        , 2.48064897, ..., 1.21716597, 0.97542133,\n",
       "        3.66915745],\n",
       "       [2.09241494, 2.48064897, 0.        , ..., 2.11284979, 2.33104312,\n",
       "        2.24373812],\n",
       "       ...,\n",
       "       [1.35727998, 1.21716597, 2.11284979, ..., 0.        , 1.4653712 ,\n",
       "        3.37408911],\n",
       "       [1.31875946, 0.97542133, 2.33104312, ..., 1.4653712 , 0.        ,\n",
       "        3.1863642 ],\n",
       "       [2.77393016, 3.66915745, 2.24373812, ..., 3.37408911, 3.1863642 ,\n",
       "        0.        ]], shape=(2930, 2930))"
      ]
     },
     "execution_count": 39,
     "metadata": {},
     "output_type": "execute_result"
    }
   ],
   "source": [
    "# create the distance matrix using pairwise distances\n",
    "\n",
    "dist_matrix = pairwise_distances(array_standardized)\n",
    "dist_matrix"
   ]
  },
  {
   "cell_type": "code",
   "execution_count": 40,
   "id": "3154cb51",
   "metadata": {},
   "outputs": [
    {
     "data": {
      "text/plain": [
       "array([4.43704819, 6.08145351, 4.41300228, ..., 5.33963844, 5.4757908 ,\n",
       "       3.06886734], shape=(2930,))"
      ]
     },
     "execution_count": 40,
     "metadata": {},
     "output_type": "execute_result"
    }
   ],
   "source": [
    "# Note that row #1707 of this matrix contains the dists we calculated previously\n",
    "dist_matrix[1707]"
   ]
  },
  {
   "cell_type": "markdown",
   "id": "9f81ea9a",
   "metadata": {},
   "source": [
    "## Summary\n",
    "\n",
    "To measure similarity between two observations, we calculate the distance between them.\n",
    "We need to first make sure that all the variables are on the same scale.\n",
    "\n",
    "**Scaling Variables**\n",
    "\n",
    "- Standardization\n",
    "  $$\n",
    "  x_i \\gets  \\frac{x_i - \\mathrm{\\bar{x}}}{\\mathrm{sd(x)}}\n",
    "  $$\n",
    "- Min-Max Scaling\n",
    "  $$\n",
    "  x_i \\gets  \\frac{x_i - \\mathrm{min(x)}}{\\mathrm{max(x) - min(x))}}\n",
    "  $$\n",
    "\n",
    "**Distance Matrix**\n",
    "\n",
    "- Euclidean ($\\ell_2$)\n",
    "  $$\n",
    "  \\sqrt{\\sum_{j=1}^{m}(x_j - \\acute{x_j})^2}\n",
    "  $$\n",
    "- Manhattan ($\\ell_1$)\n",
    "  $$\n",
    "  \\sum_{j=1}^{m} |x_j - \\acute{x_j}|\n",
    "  $$"
   ]
  }
 ],
 "metadata": {
  "kernelspec": {
   "display_name": "ai-ml-study",
   "language": "python",
   "name": "python3"
  },
  "language_info": {
   "codemirror_mode": {
    "name": "ipython",
    "version": 3
   },
   "file_extension": ".py",
   "mimetype": "text/x-python",
   "name": "python",
   "nbconvert_exporter": "python",
   "pygments_lexer": "ipython3",
   "version": "3.12.9"
  }
 },
 "nbformat": 4,
 "nbformat_minor": 5
}
