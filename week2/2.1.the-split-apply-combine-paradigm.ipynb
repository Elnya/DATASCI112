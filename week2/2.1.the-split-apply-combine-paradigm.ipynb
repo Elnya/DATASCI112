{
 "cells": [
  {
   "cell_type": "markdown",
   "id": "6c9e1919",
   "metadata": {},
   "source": [
    "# The Split-Apply-Combine Paradaigm\n",
    "\n",
    "## Flight Delays\n",
    "\n",
    " Which airline carriers are most likely to be delayed?\n",
    " \n",
    " Let’s look at a data set of all domestic flights that departed from\n",
    " one of the New York City airports (JFK, LaGuardia, and Newark)\n",
    " on November 16, 2013."
   ]
  },
  {
   "cell_type": "code",
   "execution_count": 2,
   "id": "7fcc14a2",
   "metadata": {},
   "outputs": [
    {
     "data": {
      "text/html": [
       "<div>\n",
       "<style scoped>\n",
       "    .dataframe tbody tr th:only-of-type {\n",
       "        vertical-align: middle;\n",
       "    }\n",
       "\n",
       "    .dataframe tbody tr th {\n",
       "        vertical-align: top;\n",
       "    }\n",
       "\n",
       "    .dataframe thead th {\n",
       "        text-align: right;\n",
       "    }\n",
       "</style>\n",
       "<table border=\"1\" class=\"dataframe\">\n",
       "  <thead>\n",
       "    <tr style=\"text-align: right;\">\n",
       "      <th></th>\n",
       "      <th>carrier</th>\n",
       "      <th>flight</th>\n",
       "      <th>origin</th>\n",
       "      <th>dest</th>\n",
       "      <th>dep_delay</th>\n",
       "    </tr>\n",
       "  </thead>\n",
       "  <tbody>\n",
       "    <tr>\n",
       "      <th>0</th>\n",
       "      <td>US</td>\n",
       "      <td>1895</td>\n",
       "      <td>EWR</td>\n",
       "      <td>CLT</td>\n",
       "      <td>-5.0</td>\n",
       "    </tr>\n",
       "    <tr>\n",
       "      <th>1</th>\n",
       "      <td>UA</td>\n",
       "      <td>1014</td>\n",
       "      <td>LGA</td>\n",
       "      <td>IAH</td>\n",
       "      <td>-3.0</td>\n",
       "    </tr>\n",
       "    <tr>\n",
       "      <th>2</th>\n",
       "      <td>AA</td>\n",
       "      <td>2243</td>\n",
       "      <td>JFK</td>\n",
       "      <td>MIA</td>\n",
       "      <td>2.0</td>\n",
       "    </tr>\n",
       "    <tr>\n",
       "      <th>3</th>\n",
       "      <td>UA</td>\n",
       "      <td>303</td>\n",
       "      <td>JFK</td>\n",
       "      <td>SFO</td>\n",
       "      <td>-8.0</td>\n",
       "    </tr>\n",
       "    <tr>\n",
       "      <th>4</th>\n",
       "      <td>US</td>\n",
       "      <td>795</td>\n",
       "      <td>LGA</td>\n",
       "      <td>PHL</td>\n",
       "      <td>-8.0</td>\n",
       "    </tr>\n",
       "    <tr>\n",
       "      <th>...</th>\n",
       "      <td>...</td>\n",
       "      <td>...</td>\n",
       "      <td>...</td>\n",
       "      <td>...</td>\n",
       "      <td>...</td>\n",
       "    </tr>\n",
       "    <tr>\n",
       "      <th>573</th>\n",
       "      <td>B6</td>\n",
       "      <td>745</td>\n",
       "      <td>JFK</td>\n",
       "      <td>PSE</td>\n",
       "      <td>-3.0</td>\n",
       "    </tr>\n",
       "    <tr>\n",
       "      <th>574</th>\n",
       "      <td>B6</td>\n",
       "      <td>839</td>\n",
       "      <td>JFK</td>\n",
       "      <td>BQN</td>\n",
       "      <td>0.0</td>\n",
       "    </tr>\n",
       "    <tr>\n",
       "      <th>575</th>\n",
       "      <td>UA</td>\n",
       "      <td>360</td>\n",
       "      <td>EWR</td>\n",
       "      <td>PBI</td>\n",
       "      <td>NaN</td>\n",
       "    </tr>\n",
       "    <tr>\n",
       "      <th>576</th>\n",
       "      <td>US</td>\n",
       "      <td>1946</td>\n",
       "      <td>EWR</td>\n",
       "      <td>CLT</td>\n",
       "      <td>NaN</td>\n",
       "    </tr>\n",
       "    <tr>\n",
       "      <th>577</th>\n",
       "      <td>US</td>\n",
       "      <td>2142</td>\n",
       "      <td>LGA</td>\n",
       "      <td>BOS</td>\n",
       "      <td>NaN</td>\n",
       "    </tr>\n",
       "  </tbody>\n",
       "</table>\n",
       "<p>578 rows × 5 columns</p>\n",
       "</div>"
      ],
      "text/plain": [
       "    carrier  flight origin dest  dep_delay\n",
       "0        US    1895    EWR  CLT       -5.0\n",
       "1        UA    1014    LGA  IAH       -3.0\n",
       "2        AA    2243    JFK  MIA        2.0\n",
       "3        UA     303    JFK  SFO       -8.0\n",
       "4        US     795    LGA  PHL       -8.0\n",
       "..      ...     ...    ...  ...        ...\n",
       "573      B6     745    JFK  PSE       -3.0\n",
       "574      B6     839    JFK  BQN        0.0\n",
       "575      UA     360    EWR  PBI        NaN\n",
       "576      US    1946    EWR  CLT        NaN\n",
       "577      US    2142    LGA  BOS        NaN\n",
       "\n",
       "[578 rows x 5 columns]"
      ]
     },
     "execution_count": 2,
     "metadata": {},
     "output_type": "execute_result"
    }
   ],
   "source": [
    "# Data URL: https://web.stanford.edu/class/datasci112//data/flights_nyc_20131116.csv\n",
    "\n",
    "import pandas as pd\n",
    "df = pd.read_csv('data/flights_nyc_20131116.csv')\n",
    "df"
   ]
  },
  {
   "cell_type": "code",
   "execution_count": 3,
   "id": "fd17441f",
   "metadata": {},
   "outputs": [
    {
     "name": "stdout",
     "output_type": "stream",
     "text": [
      "Mean Departure Delay: 2.05 minutes\n"
     ]
    },
    {
     "data": {
      "image/png": "[encoded data removed]",
      "text/plain": [
       "<Figure size 640x480 with 1 Axes>"
      ]
     },
     "metadata": {},
     "output_type": "display_data"
    }
   ],
   "source": [
    "# visualize dep_delay\n",
    "df['dep_delay'].plot(kind='hist', title='Departure Delay Distribution')\n",
    "# get the mean\n",
    "mean_dep_delay = df['dep_delay'].mean()\n",
    "print(f'Mean Departure Delay: {mean_dep_delay:.2f} minutes')"
   ]
  },
  {
   "cell_type": "markdown",
   "id": "90b39893",
   "metadata": {},
   "source": [
    "## Boolean Masking"
   ]
  },
  {
   "cell_type": "code",
   "execution_count": 4,
   "id": "a0f97860",
   "metadata": {},
   "outputs": [
    {
     "data": {
      "text/plain": [
       "np.int64(123)"
      ]
     },
     "execution_count": 4,
     "metadata": {},
     "output_type": "execute_result"
    }
   ],
   "source": [
    "# a series of boolean values indicating whether the flight was United Airlines or not\n",
    "df['carrier'] == \"UA\"\n",
    "\n",
    "# the number of United flights that day\n",
    "(df['carrier'] == \"UA\").sum()"
   ]
  },
  {
   "cell_type": "code",
   "execution_count": 5,
   "id": "26cdfe23",
   "metadata": {},
   "outputs": [
    {
     "name": "stdout",
     "output_type": "stream",
     "text": [
      "Proportion of United Flights: 21.28%\n"
     ]
    }
   ],
   "source": [
    "# the proportion of United flights that day\n",
    "proportion_ua_flights = (df['carrier'] == \"UA\").mean()\n",
    "print(f'Proportion of United Flights: {proportion_ua_flights:.2%}')"
   ]
  },
  {
   "cell_type": "markdown",
   "id": "c816da91",
   "metadata": {},
   "source": [
    "## What You Need to Know about Booleans\n",
    "\n",
    "- Applying a relational operator like ==, <, > and != on a `Series` produces a `Series` of booleans, by vectorization\n",
    "\n",
    "- Arithmetic operations can be performed on booleans in `Series`, treating **True** as 1 and **False** as 0."
   ]
  },
  {
   "cell_type": "markdown",
   "id": "f86b767f",
   "metadata": {},
   "source": [
    "A boolean `Series` can be passed as a key to a DataFrame to mask the data."
   ]
  },
  {
   "cell_type": "code",
   "execution_count": 6,
   "id": "d1754e92",
   "metadata": {},
   "outputs": [
    {
     "data": {
      "text/html": [
       "<div>\n",
       "<style scoped>\n",
       "    .dataframe tbody tr th:only-of-type {\n",
       "        vertical-align: middle;\n",
       "    }\n",
       "\n",
       "    .dataframe tbody tr th {\n",
       "        vertical-align: top;\n",
       "    }\n",
       "\n",
       "    .dataframe thead th {\n",
       "        text-align: right;\n",
       "    }\n",
       "</style>\n",
       "<table border=\"1\" class=\"dataframe\">\n",
       "  <thead>\n",
       "    <tr style=\"text-align: right;\">\n",
       "      <th></th>\n",
       "      <th>carrier</th>\n",
       "      <th>flight</th>\n",
       "      <th>origin</th>\n",
       "      <th>dest</th>\n",
       "      <th>dep_delay</th>\n",
       "    </tr>\n",
       "  </thead>\n",
       "  <tbody>\n",
       "    <tr>\n",
       "      <th>1</th>\n",
       "      <td>UA</td>\n",
       "      <td>1014</td>\n",
       "      <td>LGA</td>\n",
       "      <td>IAH</td>\n",
       "      <td>-3.0</td>\n",
       "    </tr>\n",
       "    <tr>\n",
       "      <th>3</th>\n",
       "      <td>UA</td>\n",
       "      <td>303</td>\n",
       "      <td>JFK</td>\n",
       "      <td>SFO</td>\n",
       "      <td>-8.0</td>\n",
       "    </tr>\n",
       "    <tr>\n",
       "      <th>8</th>\n",
       "      <td>UA</td>\n",
       "      <td>1187</td>\n",
       "      <td>LGA</td>\n",
       "      <td>ORD</td>\n",
       "      <td>-5.0</td>\n",
       "    </tr>\n",
       "    <tr>\n",
       "      <th>9</th>\n",
       "      <td>UA</td>\n",
       "      <td>258</td>\n",
       "      <td>EWR</td>\n",
       "      <td>MCO</td>\n",
       "      <td>-2.0</td>\n",
       "    </tr>\n",
       "    <tr>\n",
       "      <th>15</th>\n",
       "      <td>UA</td>\n",
       "      <td>665</td>\n",
       "      <td>EWR</td>\n",
       "      <td>SFO</td>\n",
       "      <td>-1.0</td>\n",
       "    </tr>\n",
       "    <tr>\n",
       "      <th>...</th>\n",
       "      <td>...</td>\n",
       "      <td>...</td>\n",
       "      <td>...</td>\n",
       "      <td>...</td>\n",
       "      <td>...</td>\n",
       "    </tr>\n",
       "    <tr>\n",
       "      <th>537</th>\n",
       "      <td>UA</td>\n",
       "      <td>1631</td>\n",
       "      <td>EWR</td>\n",
       "      <td>IAH</td>\n",
       "      <td>-3.0</td>\n",
       "    </tr>\n",
       "    <tr>\n",
       "      <th>549</th>\n",
       "      <td>UA</td>\n",
       "      <td>1409</td>\n",
       "      <td>EWR</td>\n",
       "      <td>TPA</td>\n",
       "      <td>-1.0</td>\n",
       "    </tr>\n",
       "    <tr>\n",
       "      <th>552</th>\n",
       "      <td>UA</td>\n",
       "      <td>1071</td>\n",
       "      <td>EWR</td>\n",
       "      <td>BQN</td>\n",
       "      <td>5.0</td>\n",
       "    </tr>\n",
       "    <tr>\n",
       "      <th>562</th>\n",
       "      <td>UA</td>\n",
       "      <td>1066</td>\n",
       "      <td>EWR</td>\n",
       "      <td>BOS</td>\n",
       "      <td>-5.0</td>\n",
       "    </tr>\n",
       "    <tr>\n",
       "      <th>575</th>\n",
       "      <td>UA</td>\n",
       "      <td>360</td>\n",
       "      <td>EWR</td>\n",
       "      <td>PBI</td>\n",
       "      <td>NaN</td>\n",
       "    </tr>\n",
       "  </tbody>\n",
       "</table>\n",
       "<p>123 rows × 5 columns</p>\n",
       "</div>"
      ],
      "text/plain": [
       "    carrier  flight origin dest  dep_delay\n",
       "1        UA    1014    LGA  IAH       -3.0\n",
       "3        UA     303    JFK  SFO       -8.0\n",
       "8        UA    1187    LGA  ORD       -5.0\n",
       "9        UA     258    EWR  MCO       -2.0\n",
       "15       UA     665    EWR  SFO       -1.0\n",
       "..      ...     ...    ...  ...        ...\n",
       "537      UA    1631    EWR  IAH       -3.0\n",
       "549      UA    1409    EWR  TPA       -1.0\n",
       "552      UA    1071    EWR  BQN        5.0\n",
       "562      UA    1066    EWR  BOS       -5.0\n",
       "575      UA     360    EWR  PBI        NaN\n",
       "\n",
       "[123 rows x 5 columns]"
      ]
     },
     "execution_count": 6,
     "metadata": {},
     "output_type": "execute_result"
    }
   ],
   "source": [
    "# the dataframe with only United Airlines flights\n",
    "df[df['carrier'] == 'UA']"
   ]
  },
  {
   "cell_type": "markdown",
   "id": "5e067bc1",
   "metadata": {},
   "source": [
    "How would we summarize the United Airlines delays?"
   ]
  },
  {
   "cell_type": "code",
   "execution_count": 7,
   "id": "2ac88657",
   "metadata": {},
   "outputs": [
    {
     "data": {
      "text/plain": [
       "np.float64(5.590163934426229)"
      ]
     },
     "execution_count": 7,
     "metadata": {},
     "output_type": "execute_result"
    }
   ],
   "source": [
    "df[df['carrier'] == 'UA']['dep_delay'].mean()"
   ]
  },
  {
   "cell_type": "markdown",
   "id": "95c66c0b",
   "metadata": {},
   "source": [
    "Note that this is a summary of a conditional distribution of **dep_delay**:\n",
    "\n",
    "$$\n",
    "\\mathrm{mean(dep\\_delay|carrier = UA)}\n",
    "$$"
   ]
  },
  {
   "cell_type": "markdown",
   "id": "fe3e1ca6",
   "metadata": {},
   "source": [
    "## Another Exercise\n",
    "\n",
    "To compare carriers, we need to summarize all the conditional distributions of **dep_delay** given **carrier**:\n",
    "\n",
    "$$\n",
    "\\mathrm{mean(dep\\_delay|carrier)}\n",
    "$$"
   ]
  },
  {
   "cell_type": "code",
   "execution_count": 8,
   "id": "ee8f2b5f",
   "metadata": {},
   "outputs": [
    {
     "name": "stdout",
     "output_type": "stream",
     "text": [
      "US -2.324324324324324\n",
      "UA 5.590163934426229\n",
      "AA -1.337837837837838\n",
      "DL 3.295238095238095\n",
      "B6 1.5378787878787878\n",
      "EV 1.2476190476190476\n"
     ]
    }
   ],
   "source": [
    "# inconvenient solution\n",
    "# and the values are not stored in a Pandas object for further analysis\n",
    "for carrier in df['carrier'].unique():\n",
    "    print(carrier, df[df[\"carrier\"] == carrier][\"dep_delay\"].mean())"
   ]
  },
  {
   "cell_type": "markdown",
   "id": "293d8823",
   "metadata": {},
   "source": [
    "## Split-Apply-Combine in Pandas"
   ]
  },
  {
   "cell_type": "code",
   "execution_count": 9,
   "id": "99b2e00d",
   "metadata": {},
   "outputs": [
    {
     "data": {
      "text/plain": [
       "carrier\n",
       "AA   -1.337838\n",
       "B6    1.537879\n",
       "DL    3.295238\n",
       "EV    1.247619\n",
       "UA    5.590164\n",
       "US   -2.324324\n",
       "Name: dep_delay, dtype: float64"
      ]
     },
     "execution_count": 9,
     "metadata": {},
     "output_type": "execute_result"
    }
   ],
   "source": [
    "## The Split-Apply-Combine Paradigm\n",
    "df.groupby('carrier')['dep_delay'].mean()"
   ]
  },
  {
   "cell_type": "code",
   "execution_count": 10,
   "id": "d802499e",
   "metadata": {},
   "outputs": [
    {
     "data": {
      "text/plain": [
       "<Axes: title={'center': 'Mean Departure Delay by Carrier'}, xlabel='carrier'>"
      ]
     },
     "execution_count": 10,
     "metadata": {},
     "output_type": "execute_result"
    },
    {
     "data": {
      "image/png": "[encoded data removed]",
      "text/plain": [
       "<Figure size 640x480 with 1 Axes>"
      ]
     },
     "metadata": {},
     "output_type": "display_data"
    }
   ],
   "source": [
    "# visualize the mean departure delay for each carrier\n",
    "# notice that UA had the highest mean departure delay\n",
    "df.groupby('carrier')['dep_delay'].mean().plot(kind='bar', title='Mean Departure Delay by Carrier')"
   ]
  },
  {
   "cell_type": "code",
   "execution_count": null,
   "id": "6d8e80dc",
   "metadata": {},
   "outputs": [
    {
     "data": {
      "text/plain": [
       "carrier  origin\n",
       "AA       EWR       -3.375000\n",
       "         JFK        1.771429\n",
       "         LGA       -4.322581\n",
       "B6       EWR       -0.823529\n",
       "         JFK       -0.836735\n",
       "         LGA       17.588235\n",
       "DL       EWR       19.222222\n",
       "         JFK        4.980000\n",
       "         LGA       -1.652174\n",
       "EV       EWR        1.483146\n",
       "         JFK        0.000000\n",
       "         LGA       -0.083333\n",
       "UA       EWR        7.525773\n",
       "         JFK        1.909091\n",
       "         LGA       -4.928571\n",
       "US       EWR       -5.000000\n",
       "         JFK        5.400000\n",
       "         LGA       -5.312500\n",
       "Name: dep_delay, dtype: float64"
      ]
     },
     "execution_count": 11,
     "metadata": {},
     "output_type": "execute_result"
    }
   ],
   "source": [
    "# mean departure delay by carrier and origin\n",
    "df.groupby(['carrier', 'origin'])['dep_delay'].mean()"
   ]
  },
  {
   "cell_type": "code",
   "execution_count": 12,
   "id": "81434f1e",
   "metadata": {},
   "outputs": [
    {
     "data": {
      "text/html": [
       "<div>\n",
       "<style scoped>\n",
       "    .dataframe tbody tr th:only-of-type {\n",
       "        vertical-align: middle;\n",
       "    }\n",
       "\n",
       "    .dataframe tbody tr th {\n",
       "        vertical-align: top;\n",
       "    }\n",
       "\n",
       "    .dataframe thead th {\n",
       "        text-align: right;\n",
       "    }\n",
       "</style>\n",
       "<table border=\"1\" class=\"dataframe\">\n",
       "  <thead>\n",
       "    <tr style=\"text-align: right;\">\n",
       "      <th>origin</th>\n",
       "      <th>EWR</th>\n",
       "      <th>JFK</th>\n",
       "      <th>LGA</th>\n",
       "    </tr>\n",
       "    <tr>\n",
       "      <th>carrier</th>\n",
       "      <th></th>\n",
       "      <th></th>\n",
       "      <th></th>\n",
       "    </tr>\n",
       "  </thead>\n",
       "  <tbody>\n",
       "    <tr>\n",
       "      <th>AA</th>\n",
       "      <td>-3.375000</td>\n",
       "      <td>1.771429</td>\n",
       "      <td>-4.322581</td>\n",
       "    </tr>\n",
       "    <tr>\n",
       "      <th>B6</th>\n",
       "      <td>-0.823529</td>\n",
       "      <td>-0.836735</td>\n",
       "      <td>17.588235</td>\n",
       "    </tr>\n",
       "    <tr>\n",
       "      <th>DL</th>\n",
       "      <td>19.222222</td>\n",
       "      <td>4.980000</td>\n",
       "      <td>-1.652174</td>\n",
       "    </tr>\n",
       "    <tr>\n",
       "      <th>EV</th>\n",
       "      <td>1.483146</td>\n",
       "      <td>0.000000</td>\n",
       "      <td>-0.083333</td>\n",
       "    </tr>\n",
       "    <tr>\n",
       "      <th>UA</th>\n",
       "      <td>7.525773</td>\n",
       "      <td>1.909091</td>\n",
       "      <td>-4.928571</td>\n",
       "    </tr>\n",
       "    <tr>\n",
       "      <th>US</th>\n",
       "      <td>-5.000000</td>\n",
       "      <td>5.400000</td>\n",
       "      <td>-5.312500</td>\n",
       "    </tr>\n",
       "  </tbody>\n",
       "</table>\n",
       "</div>"
      ],
      "text/plain": [
       "origin         EWR       JFK        LGA\n",
       "carrier                                \n",
       "AA       -3.375000  1.771429  -4.322581\n",
       "B6       -0.823529 -0.836735  17.588235\n",
       "DL       19.222222  4.980000  -1.652174\n",
       "EV        1.483146  0.000000  -0.083333\n",
       "UA        7.525773  1.909091  -4.928571\n",
       "US       -5.000000  5.400000  -5.312500"
      ]
     },
     "execution_count": 12,
     "metadata": {},
     "output_type": "execute_result"
    }
   ],
   "source": [
    "# unstack the result to get a DataFrame\n",
    "mean_dep_delay_by_carrier_origin = df.groupby(['carrier', 'origin'])['dep_delay'].mean().unstack()\n",
    "mean_dep_delay_by_carrier_origin"
   ]
  },
  {
   "cell_type": "code",
   "execution_count": 14,
   "id": "ca2ef277",
   "metadata": {},
   "outputs": [
    {
     "data": {
      "text/plain": [
       "<Axes: title={'center': 'Mean Departure Delay by Carrier and Origin'}, xlabel='carrier'>"
      ]
     },
     "execution_count": 14,
     "metadata": {},
     "output_type": "execute_result"
    },
    {
     "data": {
      "image/png": "[encoded data removed]",
      "text/plain": [
       "<Figure size 640x480 with 1 Axes>"
      ]
     },
     "metadata": {},
     "output_type": "display_data"
    }
   ],
   "source": [
    "# visualize the mean departure delay by carrier and origin\n",
    "mean_dep_delay_by_carrier_origin.plot(kind='bar', title='Mean Departure Delay by Carrier and Origin')"
   ]
  },
  {
   "cell_type": "markdown",
   "id": "56294ce8",
   "metadata": {},
   "source": [
    "## Comparing Distributions"
   ]
  },
  {
   "cell_type": "code",
   "execution_count": 19,
   "id": "63551795",
   "metadata": {},
   "outputs": [
    {
     "data": {
      "text/plain": [
       "Text(0.5, 0, 'Departure Delay')"
      ]
     },
     "execution_count": 19,
     "metadata": {},
     "output_type": "execute_result"
    },
    {
     "data": {
      "image/png": "[encoded data removed]",
      "text/plain": [
       "<Figure size 640x480 with 1 Axes>"
      ]
     },
     "metadata": {},
     "output_type": "display_data"
    }
   ],
   "source": [
    "axes = df.groupby('origin')['dep_delay'].plot(kind='hist', legend=True)\n",
    "axes.iloc[0].set_xlabel('Departure Delay')"
   ]
  },
  {
   "cell_type": "markdown",
   "id": "61ac719d",
   "metadata": {},
   "source": [
    "To prevent _overplotting_, we set the opacity parameter **alpha**."
   ]
  },
  {
   "cell_type": "code",
   "execution_count": 20,
   "id": "51bbe9a4",
   "metadata": {},
   "outputs": [
    {
     "data": {
      "text/plain": [
       "Text(0.5, 0, 'Departure Delay')"
      ]
     },
     "execution_count": 20,
     "metadata": {},
     "output_type": "execute_result"
    },
    {
     "data": {
      "image/png": "[encoded data removed]",
      "text/plain": [
       "<Figure size 640x480 with 1 Axes>"
      ]
     },
     "metadata": {},
     "output_type": "display_data"
    }
   ],
   "source": [
    "axes = df.groupby('origin')['dep_delay'].plot(kind='hist', legend=True, alpha=0.4)\n",
    "axes.iloc[0].set_xlabel('Departure Delay')"
   ]
  },
  {
   "cell_type": "code",
   "execution_count": null,
   "id": "43858ee7",
   "metadata": {},
   "outputs": [
    {
     "data": {
      "text/plain": [
       "Text(0.5, 0, 'Departure Delay')"
      ]
     },
     "execution_count": 21,
     "metadata": {},
     "output_type": "execute_result"
    },
    {
     "data": {
      "image/png": "[encoded data removed]",
      "text/plain": [
       "<Figure size 640x480 with 1 Axes>"
      ]
     },
     "metadata": {},
     "output_type": "display_data"
    }
   ],
   "source": [
    "# density histograms to compare conditional distributions\n",
    "axes = df.groupby('origin')['dep_delay'].plot(kind='hist', legend=True, alpha=0.4, density=True)\n",
    "axes.iloc[0].set_xlabel('Departure Delay')"
   ]
  }
 ],
 "metadata": {
  "kernelspec": {
   "display_name": "ai-ml-study",
   "language": "python",
   "name": "python3"
  },
  "language_info": {
   "codemirror_mode": {
    "name": "ipython",
    "version": 3
   },
   "file_extension": ".py",
   "mimetype": "text/x-python",
   "name": "python",
   "nbconvert_exporter": "python",
   "pygments_lexer": "ipython3",
   "version": "3.12.9"
  }
 },
 "nbformat": 4,
 "nbformat_minor": 5
}
