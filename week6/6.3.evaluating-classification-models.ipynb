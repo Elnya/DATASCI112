{
 "cells": [
  {
   "cell_type": "markdown",
   "id": "22047150",
   "metadata": {},
   "source": [
    "# Evaluating Classification Models"
   ]
  },
  {
   "cell_type": "markdown",
   "id": "9a236db6",
   "metadata": {},
   "source": [
    "## Case Study: Credit Card Fraud\n",
    "\n",
    "Data set of credit card transactions from Vesta."
   ]
  },
  {
   "cell_type": "code",
   "execution_count": 1,
   "id": "71c8d983",
   "metadata": {},
   "outputs": [
    {
     "name": "stdout",
     "output_type": "stream",
     "text": [
      "--2025-08-18 19:03:54--  https://datasci112.stanford.edu/data/fraud.csv\n",
      "Resolving datasci112.stanford.edu (datasci112.stanford.edu)... 54.81.116.232\n",
      "Connecting to datasci112.stanford.edu (datasci112.stanford.edu)|54.81.116.232|:443... connected.\n",
      "HTTP request sent, awaiting response... 307 Temporary Redirect\n",
      "Location: https://web.stanford.edu/class/datasci112//data/fraud.csv [following]\n",
      "--2025-08-18 19:03:55--  https://web.stanford.edu/class/datasci112//data/fraud.csv\n",
      "Resolving web.stanford.edu (web.stanford.edu)... 171.67.215.200, 2607:f6d0:0:925a::ab43:d7c8\n",
      "Connecting to web.stanford.edu (web.stanford.edu)|171.67.215.200|:443... connected.\n",
      "HTTP request sent, awaiting response... 200 OK\n",
      "Length: 5163723 (4.9M) [text/csv]\n",
      "Saving to: ‘fraud.csv’\n",
      "\n",
      "fraud.csv           100%[===================>]   4.92M   759KB/s    in 8.9s    \n",
      "\n",
      "2025-08-18 19:04:08 (564 KB/s) - ‘fraud.csv’ saved [5163723/5163723]\n",
      "\n"
     ]
    },
    {
     "data": {
      "text/html": [
       "<div>\n",
       "<style scoped>\n",
       "    .dataframe tbody tr th:only-of-type {\n",
       "        vertical-align: middle;\n",
       "    }\n",
       "\n",
       "    .dataframe tbody tr th {\n",
       "        vertical-align: top;\n",
       "    }\n",
       "\n",
       "    .dataframe thead th {\n",
       "        text-align: right;\n",
       "    }\n",
       "</style>\n",
       "<table border=\"1\" class=\"dataframe\">\n",
       "  <thead>\n",
       "    <tr style=\"text-align: right;\">\n",
       "      <th></th>\n",
       "      <th>card4</th>\n",
       "      <th>card6</th>\n",
       "      <th>P_emaildomain</th>\n",
       "      <th>TransactionAmt</th>\n",
       "      <th>C1</th>\n",
       "      <th>C2</th>\n",
       "      <th>C3</th>\n",
       "      <th>C4</th>\n",
       "      <th>C5</th>\n",
       "      <th>C6</th>\n",
       "      <th>C7</th>\n",
       "      <th>C8</th>\n",
       "      <th>C9</th>\n",
       "      <th>C10</th>\n",
       "      <th>C11</th>\n",
       "      <th>C12</th>\n",
       "      <th>C13</th>\n",
       "      <th>C14</th>\n",
       "      <th>isFraud</th>\n",
       "    </tr>\n",
       "  </thead>\n",
       "  <tbody>\n",
       "    <tr>\n",
       "      <th>0</th>\n",
       "      <td>visa</td>\n",
       "      <td>debit</td>\n",
       "      <td>gmail.com</td>\n",
       "      <td>62.950</td>\n",
       "      <td>139.0</td>\n",
       "      <td>110.0</td>\n",
       "      <td>0.0</td>\n",
       "      <td>0.0</td>\n",
       "      <td>135.0</td>\n",
       "      <td>93.0</td>\n",
       "      <td>0.0</td>\n",
       "      <td>0.0</td>\n",
       "      <td>93.0</td>\n",
       "      <td>0.0</td>\n",
       "      <td>93.0</td>\n",
       "      <td>0.0</td>\n",
       "      <td>637.0</td>\n",
       "      <td>114.0</td>\n",
       "      <td>0</td>\n",
       "    </tr>\n",
       "    <tr>\n",
       "      <th>1</th>\n",
       "      <td>visa</td>\n",
       "      <td>debit</td>\n",
       "      <td></td>\n",
       "      <td>35.950</td>\n",
       "      <td>1.0</td>\n",
       "      <td>1.0</td>\n",
       "      <td>0.0</td>\n",
       "      <td>0.0</td>\n",
       "      <td>1.0</td>\n",
       "      <td>0.0</td>\n",
       "      <td>0.0</td>\n",
       "      <td>0.0</td>\n",
       "      <td>1.0</td>\n",
       "      <td>0.0</td>\n",
       "      <td>1.0</td>\n",
       "      <td>0.0</td>\n",
       "      <td>3.0</td>\n",
       "      <td>1.0</td>\n",
       "      <td>0</td>\n",
       "    </tr>\n",
       "    <tr>\n",
       "      <th>2</th>\n",
       "      <td>visa</td>\n",
       "      <td>debit</td>\n",
       "      <td>yahoo.com</td>\n",
       "      <td>117.000</td>\n",
       "      <td>1.0</td>\n",
       "      <td>1.0</td>\n",
       "      <td>0.0</td>\n",
       "      <td>0.0</td>\n",
       "      <td>0.0</td>\n",
       "      <td>2.0</td>\n",
       "      <td>0.0</td>\n",
       "      <td>0.0</td>\n",
       "      <td>1.0</td>\n",
       "      <td>0.0</td>\n",
       "      <td>1.0</td>\n",
       "      <td>0.0</td>\n",
       "      <td>4.0</td>\n",
       "      <td>1.0</td>\n",
       "      <td>1</td>\n",
       "    </tr>\n",
       "    <tr>\n",
       "      <th>3</th>\n",
       "      <td>visa</td>\n",
       "      <td>debit</td>\n",
       "      <td>hotmail.com</td>\n",
       "      <td>54.500</td>\n",
       "      <td>1.0</td>\n",
       "      <td>1.0</td>\n",
       "      <td>0.0</td>\n",
       "      <td>0.0</td>\n",
       "      <td>0.0</td>\n",
       "      <td>1.0</td>\n",
       "      <td>0.0</td>\n",
       "      <td>0.0</td>\n",
       "      <td>1.0</td>\n",
       "      <td>0.0</td>\n",
       "      <td>1.0</td>\n",
       "      <td>0.0</td>\n",
       "      <td>0.0</td>\n",
       "      <td>0.0</td>\n",
       "      <td>0</td>\n",
       "    </tr>\n",
       "    <tr>\n",
       "      <th>4</th>\n",
       "      <td>visa</td>\n",
       "      <td>debit</td>\n",
       "      <td>gmail.com</td>\n",
       "      <td>255.000</td>\n",
       "      <td>1.0</td>\n",
       "      <td>3.0</td>\n",
       "      <td>0.0</td>\n",
       "      <td>0.0</td>\n",
       "      <td>0.0</td>\n",
       "      <td>4.0</td>\n",
       "      <td>0.0</td>\n",
       "      <td>0.0</td>\n",
       "      <td>2.0</td>\n",
       "      <td>0.0</td>\n",
       "      <td>3.0</td>\n",
       "      <td>1.0</td>\n",
       "      <td>20.0</td>\n",
       "      <td>1.0</td>\n",
       "      <td>0</td>\n",
       "    </tr>\n",
       "    <tr>\n",
       "      <th>...</th>\n",
       "      <td>...</td>\n",
       "      <td>...</td>\n",
       "      <td>...</td>\n",
       "      <td>...</td>\n",
       "      <td>...</td>\n",
       "      <td>...</td>\n",
       "      <td>...</td>\n",
       "      <td>...</td>\n",
       "      <td>...</td>\n",
       "      <td>...</td>\n",
       "      <td>...</td>\n",
       "      <td>...</td>\n",
       "      <td>...</td>\n",
       "      <td>...</td>\n",
       "      <td>...</td>\n",
       "      <td>...</td>\n",
       "      <td>...</td>\n",
       "      <td>...</td>\n",
       "      <td>...</td>\n",
       "    </tr>\n",
       "    <tr>\n",
       "      <th>59049</th>\n",
       "      <td>mastercard</td>\n",
       "      <td>debit</td>\n",
       "      <td>gmail.com</td>\n",
       "      <td>20.522</td>\n",
       "      <td>1.0</td>\n",
       "      <td>1.0</td>\n",
       "      <td>0.0</td>\n",
       "      <td>1.0</td>\n",
       "      <td>0.0</td>\n",
       "      <td>1.0</td>\n",
       "      <td>1.0</td>\n",
       "      <td>1.0</td>\n",
       "      <td>0.0</td>\n",
       "      <td>1.0</td>\n",
       "      <td>1.0</td>\n",
       "      <td>1.0</td>\n",
       "      <td>1.0</td>\n",
       "      <td>1.0</td>\n",
       "      <td>0</td>\n",
       "    </tr>\n",
       "    <tr>\n",
       "      <th>59050</th>\n",
       "      <td>mastercard</td>\n",
       "      <td>credit</td>\n",
       "      <td>yahoo.com</td>\n",
       "      <td>50.000</td>\n",
       "      <td>1.0</td>\n",
       "      <td>1.0</td>\n",
       "      <td>0.0</td>\n",
       "      <td>0.0</td>\n",
       "      <td>0.0</td>\n",
       "      <td>1.0</td>\n",
       "      <td>0.0</td>\n",
       "      <td>1.0</td>\n",
       "      <td>0.0</td>\n",
       "      <td>0.0</td>\n",
       "      <td>1.0</td>\n",
       "      <td>0.0</td>\n",
       "      <td>1.0</td>\n",
       "      <td>1.0</td>\n",
       "      <td>0</td>\n",
       "    </tr>\n",
       "    <tr>\n",
       "      <th>59051</th>\n",
       "      <td>mastercard</td>\n",
       "      <td>debit</td>\n",
       "      <td>icloud.com</td>\n",
       "      <td>97.950</td>\n",
       "      <td>2.0</td>\n",
       "      <td>2.0</td>\n",
       "      <td>0.0</td>\n",
       "      <td>0.0</td>\n",
       "      <td>1.0</td>\n",
       "      <td>2.0</td>\n",
       "      <td>0.0</td>\n",
       "      <td>0.0</td>\n",
       "      <td>1.0</td>\n",
       "      <td>0.0</td>\n",
       "      <td>2.0</td>\n",
       "      <td>0.0</td>\n",
       "      <td>15.0</td>\n",
       "      <td>2.0</td>\n",
       "      <td>0</td>\n",
       "    </tr>\n",
       "    <tr>\n",
       "      <th>59052</th>\n",
       "      <td>visa</td>\n",
       "      <td>debit</td>\n",
       "      <td>gmail.com</td>\n",
       "      <td>16.723</td>\n",
       "      <td>1.0</td>\n",
       "      <td>2.0</td>\n",
       "      <td>0.0</td>\n",
       "      <td>1.0</td>\n",
       "      <td>0.0</td>\n",
       "      <td>1.0</td>\n",
       "      <td>1.0</td>\n",
       "      <td>2.0</td>\n",
       "      <td>0.0</td>\n",
       "      <td>1.0</td>\n",
       "      <td>1.0</td>\n",
       "      <td>1.0</td>\n",
       "      <td>1.0</td>\n",
       "      <td>1.0</td>\n",
       "      <td>1</td>\n",
       "    </tr>\n",
       "    <tr>\n",
       "      <th>59053</th>\n",
       "      <td>mastercard</td>\n",
       "      <td>debit</td>\n",
       "      <td></td>\n",
       "      <td>107.950</td>\n",
       "      <td>24.0</td>\n",
       "      <td>21.0</td>\n",
       "      <td>0.0</td>\n",
       "      <td>0.0</td>\n",
       "      <td>14.0</td>\n",
       "      <td>13.0</td>\n",
       "      <td>0.0</td>\n",
       "      <td>0.0</td>\n",
       "      <td>17.0</td>\n",
       "      <td>0.0</td>\n",
       "      <td>18.0</td>\n",
       "      <td>0.0</td>\n",
       "      <td>84.0</td>\n",
       "      <td>17.0</td>\n",
       "      <td>0</td>\n",
       "    </tr>\n",
       "  </tbody>\n",
       "</table>\n",
       "<p>59054 rows × 19 columns</p>\n",
       "</div>"
      ],
      "text/plain": [
       "            card4   card6 P_emaildomain  TransactionAmt     C1     C2   C3  \\\n",
       "0            visa   debit     gmail.com          62.950  139.0  110.0  0.0   \n",
       "1            visa   debit                        35.950    1.0    1.0  0.0   \n",
       "2            visa   debit     yahoo.com         117.000    1.0    1.0  0.0   \n",
       "3            visa   debit   hotmail.com          54.500    1.0    1.0  0.0   \n",
       "4            visa   debit     gmail.com         255.000    1.0    3.0  0.0   \n",
       "...           ...     ...           ...             ...    ...    ...  ...   \n",
       "59049  mastercard   debit     gmail.com          20.522    1.0    1.0  0.0   \n",
       "59050  mastercard  credit     yahoo.com          50.000    1.0    1.0  0.0   \n",
       "59051  mastercard   debit    icloud.com          97.950    2.0    2.0  0.0   \n",
       "59052        visa   debit     gmail.com          16.723    1.0    2.0  0.0   \n",
       "59053  mastercard   debit                       107.950   24.0   21.0  0.0   \n",
       "\n",
       "        C4     C5    C6   C7   C8    C9  C10   C11  C12    C13    C14  isFraud  \n",
       "0      0.0  135.0  93.0  0.0  0.0  93.0  0.0  93.0  0.0  637.0  114.0        0  \n",
       "1      0.0    1.0   0.0  0.0  0.0   1.0  0.0   1.0  0.0    3.0    1.0        0  \n",
       "2      0.0    0.0   2.0  0.0  0.0   1.0  0.0   1.0  0.0    4.0    1.0        1  \n",
       "3      0.0    0.0   1.0  0.0  0.0   1.0  0.0   1.0  0.0    0.0    0.0        0  \n",
       "4      0.0    0.0   4.0  0.0  0.0   2.0  0.0   3.0  1.0   20.0    1.0        0  \n",
       "...    ...    ...   ...  ...  ...   ...  ...   ...  ...    ...    ...      ...  \n",
       "59049  1.0    0.0   1.0  1.0  1.0   0.0  1.0   1.0  1.0    1.0    1.0        0  \n",
       "59050  0.0    0.0   1.0  0.0  1.0   0.0  0.0   1.0  0.0    1.0    1.0        0  \n",
       "59051  0.0    1.0   2.0  0.0  0.0   1.0  0.0   2.0  0.0   15.0    2.0        0  \n",
       "59052  1.0    0.0   1.0  1.0  2.0   0.0  1.0   1.0  1.0    1.0    1.0        1  \n",
       "59053  0.0   14.0  13.0  0.0  0.0  17.0  0.0  18.0  0.0   84.0   17.0        0  \n",
       "\n",
       "[59054 rows x 19 columns]"
      ]
     },
     "execution_count": 1,
     "metadata": {},
     "output_type": "execute_result"
    }
   ],
   "source": [
    "! cd data && wget https://datasci112.stanford.edu/data/fraud.csv\n",
    "\n",
    "import pandas as pd\n",
    "\n",
    "df_fraud = pd.read_csv(\"data/fraud.csv\")\n",
    "df_fraud"
   ]
  },
  {
   "cell_type": "markdown",
   "id": "f26b41f4",
   "metadata": {},
   "source": [
    "Goal: Predict `isFraud`, where 1 indicates a fraudulent transaction."
   ]
  },
  {
   "cell_type": "markdown",
   "id": "10cf059e",
   "metadata": {},
   "source": [
    "## Classification Model\n",
    "\n",
    "We can use $k$-nearest neighbors for classification:"
   ]
  },
  {
   "cell_type": "code",
   "execution_count": 2,
   "id": "02d36825",
   "metadata": {},
   "outputs": [],
   "source": [
    "from sklearn.preprocessing import OneHotEncoder, StandardScaler\n",
    "from sklearn.neighbors import KNeighborsClassifier\n",
    "from sklearn.pipeline import make_pipeline\n",
    "from sklearn.compose import make_column_transformer\n",
    "\n",
    "pipeline = make_pipeline(\n",
    "    make_column_transformer(\n",
    "        (OneHotEncoder(handle_unknown=\"ignore\", sparse_output=False),\n",
    "        [\"card4\", \"card6\", \"P_emaildomain\"]),\n",
    "        remainder=\"passthrough\"),\n",
    "    StandardScaler(),\n",
    "    KNeighborsClassifier(n_neighbors=5)\n",
    ")"
   ]
  },
  {
   "cell_type": "markdown",
   "id": "7e4d81c5",
   "metadata": {},
   "source": [
    "## Training a Classifier"
   ]
  },
  {
   "cell_type": "code",
   "execution_count": 3,
   "id": "5fece761",
   "metadata": {},
   "outputs": [],
   "source": [
    "X_train = df_fraud.drop(columns=[\"isFraud\"], axis=\"column\")\n",
    "y_train = df_fraud[\"isFraud\"]"
   ]
  },
  {
   "cell_type": "code",
   "execution_count": 4,
   "id": "1a4e011e",
   "metadata": {},
   "outputs": [
    {
     "data": {
      "text/plain": [
       "np.float64(0.9681816450957752)"
      ]
     },
     "execution_count": 4,
     "metadata": {},
     "output_type": "execute_result"
    }
   ],
   "source": [
    "from sklearn.model_selection import cross_val_score\n",
    "\n",
    "cross_val_score(\n",
    "    pipeline,\n",
    "    X=X_train, y=y_train,\n",
    "    scoring=\"accuracy\",\n",
    "    cv=10\n",
    ").mean()"
   ]
  },
  {
   "cell_type": "markdown",
   "id": "12f87cfe",
   "metadata": {},
   "source": [
    "How is the accuracy so high?"
   ]
  },
  {
   "cell_type": "markdown",
   "id": "90a217e7",
   "metadata": {},
   "source": [
    "## A Closer Look\n",
    "\n",
    "Let's take a closer look at the labels."
   ]
  },
  {
   "cell_type": "code",
   "execution_count": 5,
   "id": "eadd22e7",
   "metadata": {},
   "outputs": [
    {
     "data": {
      "text/plain": [
       "isFraud\n",
       "0    56935\n",
       "1     2119\n",
       "Name: count, dtype: int64"
      ]
     },
     "execution_count": 5,
     "metadata": {},
     "output_type": "execute_result"
    }
   ],
   "source": [
    "y_train.value_counts()"
   ]
  },
  {
   "cell_type": "markdown",
   "id": "679c0578",
   "metadata": {},
   "source": [
    "The vast majority of transactions are normal!\n",
    "\n",
    "If we just predicted that every transaction is normal, the accuracy would be $1 - \\frac{2119}{59054} = .964$.\n",
    "\n",
    "Even though such predictions would be accurate *overall*, it is inaccurate for fraudulent transactions. A good model is \"accurate for every class\"."
   ]
  },
  {
   "cell_type": "markdown",
   "id": "518580f0",
   "metadata": {},
   "source": [
    "## Precision and Recall\n",
    "\n",
    "We need a score that measures \"accuracy for class $c$\".\n",
    "\n",
    "There are at least tow reasonable definitions:\n",
    "\n",
    "- **precision**: $P(\\textrm{correct|predicted class }c)$ <br />\n",
    "Among the observations that were predicted to be in class $c$, what proportion actually were?\n",
    "- **recall**: $P(\\textrm{correct|actual class }c)$ <br />\n",
    "Among the observations that were actually in class $c$, what proportion were predicted to be? "
   ]
  },
  {
   "cell_type": "markdown",
   "id": "152a5ef4",
   "metadata": {},
   "source": [
    "## A Geometric Look at Precision and Recall\n",
    "\n",
    "![Precision and Recall](data/precision-and-recall.png)\n",
    "\n",
    "**precision** $= \\mathsf{\\frac{TP}{TP + FP}}$ <br />\n",
    "**recall** $= \\mathsf{\\frac{TP}{TP + FN}}$"
   ]
  },
  {
   "cell_type": "markdown",
   "id": "26b03bf8",
   "metadata": {},
   "source": [
    "## Precision and Recall by Hand\n",
    "\n",
    "To check our understanding of these definitions, let's calculate a few precisions and recalls by hand.\n",
    "\n",
    "First, summarize the results by the **confusion matrix.**"
   ]
  },
  {
   "cell_type": "code",
   "execution_count": 7,
   "id": "d0dc50d8",
   "metadata": {},
   "outputs": [],
   "source": [
    "from sklearn.metrics import confusion_matrix\n",
    "\n",
    "pipeline.fit(X_train, y_train)\n",
    "y_train_ = pipeline.predict(X_train)\n",
    "cm = confusion_matrix(y_train, y_train_)"
   ]
  },
  {
   "cell_type": "code",
   "execution_count": 16,
   "id": "5e5f596e",
   "metadata": {},
   "outputs": [
    {
     "name": "stdout",
     "output_type": "stream",
     "text": [
      "actually in class 0:  [[56816   119]]\n",
      "actually in class 1:  [[1523  596]]\n",
      "predicted class 0:  [[56816]\n",
      " [ 1523]]\n",
      "predicted class 1:  [[119]\n",
      " [596]]\n"
     ]
    }
   ],
   "source": [
    "print(\"actually in class 0: \", cm[0:1, :]) # actually in class 0\n",
    "print(\"actually in class 1: \", cm[1:2, :]) # actually in class 1\n",
    "print(\"predicted class 0: \", cm[:, 0:1]) # predicted class 0\n",
    "print(\"predicted class 1: \", cm[:, 1:2]) # predicted class 1"
   ]
  },
  {
   "cell_type": "markdown",
   "id": "e8751f60",
   "metadata": {},
   "source": [
    "- What is the (training) accuracy?\n",
    "- What is the precision for normal transactions?\n",
    "- What is the recall for normal transactions?\n",
    "- What is the precision for fraudulent transactions?\n",
    "- What is the recall for fraudulent transactions?"
   ]
  },
  {
   "cell_type": "code",
   "execution_count": null,
   "id": "e88f6ad9",
   "metadata": {},
   "outputs": [
    {
     "name": "stdout",
     "output_type": "stream",
     "text": [
      "Training accuracy:  0.9721949402242016\n"
     ]
    }
   ],
   "source": [
    "# calculate the training accuracy\n",
    "# TP + TN / (TP + TN + FP + FN)\n",
    "accuracy = (cm[0, 0] + cm[1, 1]) / cm.sum()\n",
    "print(\"Training accuracy: \", accuracy)"
   ]
  },
  {
   "cell_type": "code",
   "execution_count": null,
   "id": "692233c2",
   "metadata": {},
   "outputs": [
    {
     "name": "stdout",
     "output_type": "stream",
     "text": [
      "Precision for normal transactions:  0.9738939645862973\n"
     ]
    }
   ],
   "source": [
    "# calculate the precision for normal transactions\n",
    "# TP / (TP + FP)\n",
    "precision_normal = cm[0, 0] / (cm[0, 0] + cm[1, 0])\n",
    "print(\"Precision for normal transactions: \", precision_normal)"
   ]
  },
  {
   "cell_type": "code",
   "execution_count": 19,
   "id": "3635bae2",
   "metadata": {},
   "outputs": [
    {
     "name": "stdout",
     "output_type": "stream",
     "text": [
      "Recall for normal transactions:  0.9979098972512515\n"
     ]
    }
   ],
   "source": [
    "# calculate the recall for normal transactions\n",
    "# TP / (TP + FN)\n",
    "recall_normal = cm[0, 0] / (cm[0, 0] + cm[0, 1])\n",
    "print(\"Recall for normal transactions: \", recall_normal)"
   ]
  },
  {
   "cell_type": "code",
   "execution_count": 20,
   "id": "3c02face",
   "metadata": {},
   "outputs": [
    {
     "name": "stdout",
     "output_type": "stream",
     "text": [
      "Precision for fraudulent transactions:  0.8335664335664336\n"
     ]
    }
   ],
   "source": [
    "# calculate the precision for fraudulent transactions\n",
    "precision_fraudulent = cm[1, 1] / (cm[1, 1] + cm[0, 1])\n",
    "print(\"Precision for fraudulent transactions: \", precision_fraudulent)"
   ]
  },
  {
   "cell_type": "code",
   "execution_count": 21,
   "id": "39e5ec8b",
   "metadata": {},
   "outputs": [
    {
     "name": "stdout",
     "output_type": "stream",
     "text": [
      "Recall for fraudulent transactions:  0.28126474752241626\n"
     ]
    }
   ],
   "source": [
    "# calculate the recall for fraudulent transactions\n",
    "recall_fraudulent = cm[1, 1] / (cm[1, 1] + cm[1, 0])\n",
    "print(\"Recall for fraudulent transactions: \", recall_fraudulent)"
   ]
  },
  {
   "cell_type": "markdown",
   "id": "9f39a2d6",
   "metadata": {},
   "source": [
    "*Note:* Each class has its own precision and recall!"
   ]
  },
  {
   "cell_type": "markdown",
   "id": "aded0f84",
   "metadata": {},
   "source": [
    "## Tradeoff between Precision and Recall\n",
    "\n",
    "Can you imagine a classifier that always has 100% recall for $c$, no matter thd data?\n",
    "\n",
    "In general, if the model classifies more observations as $c$,\n",
    "\n",
    "- recall (for class $c$) $\\uparrow$\n",
    "- precision (for class $c$) $\\downarrow$\n",
    "\n",
    "How do we compare two classifiers, if one has higher precision and the other has higher recall?\n",
    "\n",
    "The **F1 score** combines precision and recall into a single score:\n",
    "\n",
    "$$\n",
    "\\textsf{F1 score = harmonic mean of precision and recall}\n",
    "$$\n",
    "\n",
    "$$\n",
    "= \\frac{1}{\\frac{1}{2}(\\frac{1}{\\mathsf{precision}} + \\frac{1}{\\mathsf{recall}})}\n",
    "$$\n",
    "\n",
    "*So the F1 score of the classifier for fraudulent transactions is*\n",
    "$$\n",
    "= \\frac{1}{\\frac{1}{2}(\\frac{1}{\\mathsf{.835}} + \\frac{1}{\\mathsf{.281}})} \\approx 420\\%\n",
    "$$\n",
    "\n",
    "To achieve a high F1 score, both precision and recall have to be high. If either is low, then the harmonic mean will be low."
   ]
  },
  {
   "cell_type": "markdown",
   "id": "6126f5f4",
   "metadata": {},
   "source": [
    "## Estimating Test Precision, Recall, and F1\n",
    "\n",
    "Remember that each class has its own precision, recall, and F1.\n",
    "\n",
    "But Scikit-Learn requires that the `scoring=` parameter be a single number.\n",
    "\n",
    "For this, we can use\n",
    "\n",
    "- `\"precision_macro\"`\n",
    "- `\"recall_macro\"`\n",
    "- `\"f1_macro\"`\n",
    "\n",
    "which average the score over the classes.\n",
    "\n",
    "*Example:*"
   ]
  },
  {
   "cell_type": "code",
   "execution_count": 22,
   "id": "d971575f",
   "metadata": {},
   "outputs": [
    {
     "data": {
      "text/plain": [
       "np.float64(0.647854958076209)"
      ]
     },
     "execution_count": 22,
     "metadata": {},
     "output_type": "execute_result"
    }
   ],
   "source": [
    "cross_val_score(\n",
    "    pipeline, X=X_train, y=y_train, cv=10, scoring='f1_macro'\n",
    ").mean()"
   ]
  },
  {
   "cell_type": "markdown",
   "id": "7801964a",
   "metadata": {},
   "source": [
    "## Precision-Recall Curve\n",
    "\n",
    "Another way to illustrate the tradeoff between precision and recall is to graph the **precision-recall curve.**\n",
    "\n",
    "First, we need the predicted probabilities."
   ]
  },
  {
   "cell_type": "code",
   "execution_count": null,
   "id": "d7daa7df",
   "metadata": {},
   "outputs": [
    {
     "data": {
      "text/plain": [
       "array([[1. , 0. ],\n",
       "       [1. , 0. ],\n",
       "       [0.6, 0.4],\n",
       "       ...,\n",
       "       [1. , 0. ],\n",
       "       [0.8, 0.2],\n",
       "       [1. , 0. ]], shape=(59054, 2))"
      ]
     },
     "execution_count": 23,
     "metadata": {},
     "output_type": "execute_result"
    }
   ],
   "source": [
    "# By default, Scikit-Learn classifies a transaction as fraud if this probability is > 0.5.\n",
    "y_train_probs_ = pipeline.predict_proba(X_train)\n",
    "y_train_probs_"
   ]
  },
  {
   "cell_type": "markdown",
   "id": "533d96e5",
   "metadata": {},
   "source": [
    "What if we instead used a threshold $t$ other than $0.5$?\n",
    "\n",
    "Depending on which $t$ we pick, we'll get a different precision and recall. We can graph this tradeoff."
   ]
  },
  {
   "cell_type": "code",
   "execution_count": 24,
   "id": "8c3d1d99",
   "metadata": {},
   "outputs": [
    {
     "data": {
      "text/plain": [
       "array([0.03588241, 0.33242681, 0.6359782 , 0.83356643, 0.9278607 ,\n",
       "       1.        , 1.        ])"
      ]
     },
     "execution_count": 24,
     "metadata": {},
     "output_type": "execute_result"
    }
   ],
   "source": [
    "from sklearn.metrics import precision_recall_curve\n",
    "\n",
    "precision, recall, thresholds = precision_recall_curve(\n",
    "    y_train, y_train_probs_[:, 1], pos_label=1)\n",
    "precision"
   ]
  },
  {
   "cell_type": "code",
   "execution_count": null,
   "id": "ca6a56b6",
   "metadata": {},
   "outputs": [
    {
     "name": "stderr",
     "output_type": "stream",
     "text": [
      "/tmp/ipykernel_5487/4046022738.py:7: RuntimeWarning: divide by zero encountered in divide\n",
      "  \"f1\": 1 / (0.5 * (1 / precision + 1 / recall))\n"
     ]
    },
    {
     "data": {
      "text/plain": [
       "<Axes: xlabel='t', ylabel='f1'>"
      ]
     },
     "execution_count": 26,
     "metadata": {},
     "output_type": "execute_result"
    },
    {
     "data": {
      "image/png": "[encoded data removed]",
      "text/plain": [
       "<Figure size 640x480 with 1 Axes>"
      ]
     },
     "metadata": {},
     "output_type": "display_data"
    }
   ],
   "source": [
    "import numpy as np\n",
    "\n",
    "# t = 2에서 f1 score 극대화\n",
    "pd.DataFrame({\n",
    "    \"t\": np.arange(len(precision)),\n",
    "    \"precision\": precision,\n",
    "    \"recall\": recall,\n",
    "    \"f1\": 1 / (0.5 * (1 / precision + 1 / recall))\n",
    "}).plot.scatter(x=\"t\", y=\"f1\")"
   ]
  },
  {
   "cell_type": "code",
   "execution_count": null,
   "id": "531fa317",
   "metadata": {},
   "outputs": [
    {
     "name": "stderr",
     "output_type": "stream",
     "text": [
      "/tmp/ipykernel_5487/620669146.py:5: RuntimeWarning: divide by zero encountered in divide\n",
      "  \"f1\": 1 / (0.5 * (1 / precision + 1 / recall))\n"
     ]
    },
    {
     "data": {
      "text/plain": [
       "<Axes: xlabel='precision', ylabel='recall'>"
      ]
     },
     "execution_count": 27,
     "metadata": {},
     "output_type": "execute_result"
    },
    {
     "data": {
      "image/png": "[encoded data removed]",
      "text/plain": [
       "<Figure size 640x480 with 1 Axes>"
      ]
     },
     "metadata": {},
     "output_type": "display_data"
    }
   ],
   "source": [
    "# precision과 recall은 대체적으로 반비례 관계\n",
    "pd.DataFrame({\n",
    "    \"t\": np.arange(len(precision)),\n",
    "    \"precision\": precision,\n",
    "    \"recall\": recall,\n",
    "    \"f1\": 1 / (0.5 * (1 / precision + 1 / recall))\n",
    "}).plot.scatter(x=\"precision\", y=\"recall\")"
   ]
  }
 ],
 "metadata": {
  "kernelspec": {
   "display_name": "datasci112 (3.13.6)",
   "language": "python",
   "name": "python3"
  },
  "language_info": {
   "codemirror_mode": {
    "name": "ipython",
    "version": 3
   },
   "file_extension": ".py",
   "mimetype": "text/x-python",
   "name": "python",
   "nbconvert_exporter": "python",
   "pygments_lexer": "ipython3",
   "version": "3.13.6"
  }
 },
 "nbformat": 4,
 "nbformat_minor": 5
}
