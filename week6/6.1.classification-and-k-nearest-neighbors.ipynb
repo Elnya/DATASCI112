{
 "cells": [
  {
   "cell_type": "markdown",
   "id": "2c958bfa",
   "metadata": {},
   "source": [
    "# Classifiation and $K$-nearest Neighbors"
   ]
  },
  {
   "cell_type": "markdown",
   "id": "0f568fec",
   "metadata": {},
   "source": [
    "## Recap\n",
    "\n",
    "So far, we've been looking and **regression** problems, where the label $y$ we are trying to predict is quantitative (e.g., price of wine).\n",
    "\n",
    "Today, we switch to **classification** problems, where the label $y$ is categorical.\n",
    "\n",
    "We will focus on the differences between regression and classification."
   ]
  },
  {
   "cell_type": "markdown",
   "id": "578c3c51",
   "metadata": {},
   "source": [
    "## Breast Tissue Classification\n",
    "\n",
    "Electrical signals can be used to detect whether tissue is cancerous.\n",
    "\n",
    "The goal is to determine whether a sample of breast tissue is:\n",
    "\n",
    "1. connective tissue <!-- 결합조직 -->\n",
    "2. adipose tissue <!-- 지방조직 -->\n",
    "3. glandular tissue <!-- 선조직 -->\n",
    "4. carcinoma <!-- 암 -->\n",
    "5. fibro-adenoma <!-- 섬유선종 -->\n",
    "6. mastopathy <!-- 유방질  환 -->"
   ]
  },
  {
   "cell_type": "markdown",
   "id": "28642d1f",
   "metadata": {
    "vscode": {
     "languageId": "plaintext"
    }
   },
   "source": [
    "## Reading in the Data"
   ]
  },
  {
   "cell_type": "code",
   "execution_count": 1,
   "id": "7d1fc77d",
   "metadata": {},
   "outputs": [
    {
     "name": "stdout",
     "output_type": "stream",
     "text": [
      "--2025-08-17 15:26:23--  https://datasci112.stanford.edu/data/BreastTissue.csv\n",
      "Resolving datasci112.stanford.edu (datasci112.stanford.edu)... 54.81.116.232\n",
      "Connecting to datasci112.stanford.edu (datasci112.stanford.edu)|54.81.116.232|:443... connected.\n",
      "HTTP request sent, awaiting response... 307 Temporary Redirect\n",
      "Location: https://web.stanford.edu/class/datasci112//data/BreastTissue.csv [following]\n",
      "--2025-08-17 15:26:24--  https://web.stanford.edu/class/datasci112//data/BreastTissue.csv\n",
      "Resolving web.stanford.edu (web.stanford.edu)... 171.67.215.200, 2607:f6d0:0:925a::ab43:d7c8\n",
      "Connecting to web.stanford.edu (web.stanford.edu)|171.67.215.200|:443... connected.\n",
      "HTTP request sent, awaiting response... 200 OK\n",
      "Length: 17882 (17K) [text/csv]\n",
      "Saving to: ‘BreastTissue.csv’\n",
      "\n",
      "BreastTissue.csv    100%[===================>]  17.46K   108KB/s    in 0.2s    \n",
      "\n",
      "2025-08-17 15:26:25 (108 KB/s) - ‘BreastTissue.csv’ saved [17882/17882]\n",
      "\n"
     ]
    },
    {
     "data": {
      "text/html": [
       "<div>\n",
       "<style scoped>\n",
       "    .dataframe tbody tr th:only-of-type {\n",
       "        vertical-align: middle;\n",
       "    }\n",
       "\n",
       "    .dataframe tbody tr th {\n",
       "        vertical-align: top;\n",
       "    }\n",
       "\n",
       "    .dataframe thead th {\n",
       "        text-align: right;\n",
       "    }\n",
       "</style>\n",
       "<table border=\"1\" class=\"dataframe\">\n",
       "  <thead>\n",
       "    <tr style=\"text-align: right;\">\n",
       "      <th></th>\n",
       "      <th>Case #</th>\n",
       "      <th>Class</th>\n",
       "      <th>I0</th>\n",
       "      <th>PA500</th>\n",
       "      <th>HFS</th>\n",
       "      <th>DA</th>\n",
       "      <th>Area</th>\n",
       "      <th>A/DA</th>\n",
       "      <th>Max IP</th>\n",
       "      <th>DR</th>\n",
       "      <th>P</th>\n",
       "    </tr>\n",
       "  </thead>\n",
       "  <tbody>\n",
       "    <tr>\n",
       "      <th>0</th>\n",
       "      <td>1</td>\n",
       "      <td>car</td>\n",
       "      <td>524.794072</td>\n",
       "      <td>0.187448</td>\n",
       "      <td>0.032114</td>\n",
       "      <td>228.800228</td>\n",
       "      <td>6843.598481</td>\n",
       "      <td>29.910803</td>\n",
       "      <td>60.204880</td>\n",
       "      <td>220.737212</td>\n",
       "      <td>556.828334</td>\n",
       "    </tr>\n",
       "    <tr>\n",
       "      <th>1</th>\n",
       "      <td>2</td>\n",
       "      <td>car</td>\n",
       "      <td>330.000000</td>\n",
       "      <td>0.226893</td>\n",
       "      <td>0.265290</td>\n",
       "      <td>121.154201</td>\n",
       "      <td>3163.239472</td>\n",
       "      <td>26.109202</td>\n",
       "      <td>69.717361</td>\n",
       "      <td>99.084964</td>\n",
       "      <td>400.225776</td>\n",
       "    </tr>\n",
       "    <tr>\n",
       "      <th>2</th>\n",
       "      <td>3</td>\n",
       "      <td>car</td>\n",
       "      <td>551.879287</td>\n",
       "      <td>0.232478</td>\n",
       "      <td>0.063530</td>\n",
       "      <td>264.804935</td>\n",
       "      <td>11888.391827</td>\n",
       "      <td>44.894903</td>\n",
       "      <td>77.793297</td>\n",
       "      <td>253.785300</td>\n",
       "      <td>656.769449</td>\n",
       "    </tr>\n",
       "    <tr>\n",
       "      <th>3</th>\n",
       "      <td>4</td>\n",
       "      <td>car</td>\n",
       "      <td>380.000000</td>\n",
       "      <td>0.240855</td>\n",
       "      <td>0.286234</td>\n",
       "      <td>137.640111</td>\n",
       "      <td>5402.171180</td>\n",
       "      <td>39.248524</td>\n",
       "      <td>88.758446</td>\n",
       "      <td>105.198568</td>\n",
       "      <td>493.701814</td>\n",
       "    </tr>\n",
       "    <tr>\n",
       "      <th>4</th>\n",
       "      <td>5</td>\n",
       "      <td>car</td>\n",
       "      <td>362.831266</td>\n",
       "      <td>0.200713</td>\n",
       "      <td>0.244346</td>\n",
       "      <td>124.912559</td>\n",
       "      <td>3290.462446</td>\n",
       "      <td>26.342127</td>\n",
       "      <td>69.389389</td>\n",
       "      <td>103.866552</td>\n",
       "      <td>424.796503</td>\n",
       "    </tr>\n",
       "    <tr>\n",
       "      <th>...</th>\n",
       "      <td>...</td>\n",
       "      <td>...</td>\n",
       "      <td>...</td>\n",
       "      <td>...</td>\n",
       "      <td>...</td>\n",
       "      <td>...</td>\n",
       "      <td>...</td>\n",
       "      <td>...</td>\n",
       "      <td>...</td>\n",
       "      <td>...</td>\n",
       "      <td>...</td>\n",
       "    </tr>\n",
       "    <tr>\n",
       "      <th>101</th>\n",
       "      <td>102</td>\n",
       "      <td>adi</td>\n",
       "      <td>2000.000000</td>\n",
       "      <td>0.106989</td>\n",
       "      <td>0.105418</td>\n",
       "      <td>520.222649</td>\n",
       "      <td>40087.920984</td>\n",
       "      <td>77.059161</td>\n",
       "      <td>204.090347</td>\n",
       "      <td>478.517223</td>\n",
       "      <td>2088.648870</td>\n",
       "    </tr>\n",
       "    <tr>\n",
       "      <th>102</th>\n",
       "      <td>103</td>\n",
       "      <td>adi</td>\n",
       "      <td>2600.000000</td>\n",
       "      <td>0.200538</td>\n",
       "      <td>0.208043</td>\n",
       "      <td>1063.441427</td>\n",
       "      <td>174480.476218</td>\n",
       "      <td>164.071543</td>\n",
       "      <td>418.687286</td>\n",
       "      <td>977.552367</td>\n",
       "      <td>2664.583623</td>\n",
       "    </tr>\n",
       "    <tr>\n",
       "      <th>103</th>\n",
       "      <td>104</td>\n",
       "      <td>adi</td>\n",
       "      <td>1600.000000</td>\n",
       "      <td>0.071908</td>\n",
       "      <td>-0.066323</td>\n",
       "      <td>436.943603</td>\n",
       "      <td>12655.342135</td>\n",
       "      <td>28.963331</td>\n",
       "      <td>103.732704</td>\n",
       "      <td>432.129749</td>\n",
       "      <td>1475.371534</td>\n",
       "    </tr>\n",
       "    <tr>\n",
       "      <th>104</th>\n",
       "      <td>105</td>\n",
       "      <td>adi</td>\n",
       "      <td>2300.000000</td>\n",
       "      <td>0.045029</td>\n",
       "      <td>0.136834</td>\n",
       "      <td>185.446044</td>\n",
       "      <td>5086.292497</td>\n",
       "      <td>27.427344</td>\n",
       "      <td>178.691742</td>\n",
       "      <td>49.593290</td>\n",
       "      <td>2480.592151</td>\n",
       "    </tr>\n",
       "    <tr>\n",
       "      <th>105</th>\n",
       "      <td>106</td>\n",
       "      <td>adi</td>\n",
       "      <td>2600.000000</td>\n",
       "      <td>0.069988</td>\n",
       "      <td>0.048869</td>\n",
       "      <td>745.474369</td>\n",
       "      <td>39845.773698</td>\n",
       "      <td>53.450226</td>\n",
       "      <td>154.122604</td>\n",
       "      <td>729.368395</td>\n",
       "      <td>2545.419744</td>\n",
       "    </tr>\n",
       "  </tbody>\n",
       "</table>\n",
       "<p>106 rows × 11 columns</p>\n",
       "</div>"
      ],
      "text/plain": [
       "     Case # Class           I0     PA500       HFS           DA  \\\n",
       "0         1   car   524.794072  0.187448  0.032114   228.800228   \n",
       "1         2   car   330.000000  0.226893  0.265290   121.154201   \n",
       "2         3   car   551.879287  0.232478  0.063530   264.804935   \n",
       "3         4   car   380.000000  0.240855  0.286234   137.640111   \n",
       "4         5   car   362.831266  0.200713  0.244346   124.912559   \n",
       "..      ...   ...          ...       ...       ...          ...   \n",
       "101     102   adi  2000.000000  0.106989  0.105418   520.222649   \n",
       "102     103   adi  2600.000000  0.200538  0.208043  1063.441427   \n",
       "103     104   adi  1600.000000  0.071908 -0.066323   436.943603   \n",
       "104     105   adi  2300.000000  0.045029  0.136834   185.446044   \n",
       "105     106   adi  2600.000000  0.069988  0.048869   745.474369   \n",
       "\n",
       "              Area        A/DA      Max IP          DR            P  \n",
       "0      6843.598481   29.910803   60.204880  220.737212   556.828334  \n",
       "1      3163.239472   26.109202   69.717361   99.084964   400.225776  \n",
       "2     11888.391827   44.894903   77.793297  253.785300   656.769449  \n",
       "3      5402.171180   39.248524   88.758446  105.198568   493.701814  \n",
       "4      3290.462446   26.342127   69.389389  103.866552   424.796503  \n",
       "..             ...         ...         ...         ...          ...  \n",
       "101   40087.920984   77.059161  204.090347  478.517223  2088.648870  \n",
       "102  174480.476218  164.071543  418.687286  977.552367  2664.583623  \n",
       "103   12655.342135   28.963331  103.732704  432.129749  1475.371534  \n",
       "104    5086.292497   27.427344  178.691742   49.593290  2480.592151  \n",
       "105   39845.773698   53.450226  154.122604  729.368395  2545.419744  \n",
       "\n",
       "[106 rows x 11 columns]"
      ]
     },
     "execution_count": 1,
     "metadata": {},
     "output_type": "execute_result"
    }
   ],
   "source": [
    "! cd data && wget https://datasci112.stanford.edu/data/BreastTissue.csv\n",
    "import pandas as pd\n",
    "df = pd.read_csv(\"data/BreastTissue.csv\")\n",
    "df\n"
   ]
  },
  {
   "cell_type": "markdown",
   "id": "c6f8d8e4",
   "metadata": {},
   "source": [
    "We will focus on two features:\n",
    "- $I_0$: impedivity at 0 kHz,\n",
    "- $PA_{500}$: phase angle at 500 kHz"
   ]
  },
  {
   "cell_type": "markdown",
   "id": "28e273eb",
   "metadata": {},
   "source": [
    "## Visualizing the data"
   ]
  },
  {
   "cell_type": "code",
   "execution_count": null,
   "id": "6e078705",
   "metadata": {},
   "outputs": [
    {
     "data": {
      "application/vnd.plotly.v1+json": {
       "config": {
        "plotlyServerURL": "https://plot.ly"
       },
       "data": [
        {
         "hovertemplate": "Class=carcinoma<br>I0=%{x}<br>PA500=%{y}<extra></extra>",
         "legendgroup": "carcinoma",
         "marker": {
          "color": "#636efa",
          "symbol": "circle"
         },
         "mode": "markers",
         "name": "carcinoma",
         "orientation": "v",
         "showlegend": true,
         "type": "scatter",
         "x": {
          "bdata": "3/ZlQlpmgEAAAAAAAKB0QPvh1McIP4FAAAAAAADAd0AAmnvdTK12QLKIebf3XXhAjQEXQkgnckAThGua1jpxQAAAAAAAYH1AAAAAAABwekAAAAAAAKB5QAAAAAAAQH9A264lhntse0CYBBv8E+92QCAdWW2zWn5AAAAAAABgeEAF/GBl79dwQAAAAAAAwHJAAAAAAABQdEDjarj3mGdyQAAAAAAAQH9A",
          "dtype": "f8"
         },
         "xaxis": "x",
         "y": {
          "bdata": "ZKuE007+xz97P8bH0grNP4Y7EZvVwc0/mbUB2FnUzj/+wVaJ9bDJP881f+5rNsM/Aor/7fhzwj8Xw8LfPbTDPzwhJc4DR8s/qtRzEp8azD+Ui/FjPFfUPz3v+vRCFs0/uMG7cyMwyz/qeNTaku3RPyLFOnV8d80/QV3hoabu1j8yJdr6AJDKP4fRjyYYVMg/E8nvoXnAzD/PbdaJaHPKP633mnnhqcg/",
          "dtype": "f8"
         },
         "yaxis": "y"
        },
        {
         "hovertemplate": "Class=fibro-adenoma<br>I0=%{x}<br>PA500=%{y}<extra></extra>",
         "legendgroup": "fibro-adenoma",
         "marker": {
          "color": "#EF553B",
          "symbol": "circle"
         },
         "mode": "markers",
         "name": "fibro-adenoma",
         "orientation": "v",
         "showlegend": true,
         "type": "scatter",
         "x": {
          "bdata": "AAAAAABgakDDlNozaptoQAAAAAAAoG5AIkJWzoAKdkB/bM0/aGluQB+k2I0pPnBAAAAAAABAb0AAAAAAAABpQAAAAAAAMHZAAAAAAAAAcUBUcN2S61l1QBJW7YdRCmRAgN250d7UckAAAAAAAGBjQAAAAAAAAGJA",
          "dtype": "f8"
         },
         "xaxis": "x",
         "y": {
          "bdata": "ZkcwIc2cqz9Ozqs6kY2UP0TC8Z7HMcg/YOPbbks7vz/gbkLgsHakP/oLWoR3GLI/rb9D3uRssT9PlehITE2jP1j1h87QZbA/nL7Xh5xptz/YzXUP7Yu3P8wSWIcpp8Y/qtRzEp8avD/C1d9o5x3GP1hlNgXK374/",
          "dtype": "f8"
         },
         "yaxis": "y"
        },
        {
         "hovertemplate": "Class=mastopathy<br>I0=%{x}<br>PA500=%{y}<extra></extra>",
         "legendgroup": "mastopathy",
         "marker": {
          "color": "#00cc96",
          "symbol": "circle"
         },
         "mode": "markers",
         "name": "mastopathy",
         "orientation": "v",
         "showlegend": true,
         "type": "scatter",
         "x": {
          "bdata": "AAAAAABAZkAAAAAAAGBoQHKnT5x9MXtAAAAAAABAb0CJedECIzh1QAAAAAAAgG1AFAOUcXkXfkAAAAAAAIBvQKHJPWmBkGVAAAAAAABAXkAbsPH3rItoQFLcaeNUJndAgAbjuXBEcECOkpMbPAWBQAAAAAAAYHNAoKsO8+QvcUADCLoVLJVxQAAAAAAAcHRA",
          "dtype": "f8"
         },
         "xaxis": "x",
         "y": {
          "bdata": "HQ8+cP7exT+VlYNeHs7BPxfDwt89tLM/mLoiW58gqD+N/wTT2zunP60v8hTe5r8/3vCcdi8btD/ZaSFdayq7P/w9hF04ScA/w5SyHahLxj+ZvteHnGnHP9Dre/Ppzro/IAA7/n89tD/clR508E6wP2icgWHQXMY/518/bjLVwj+m43aEHbzNPztcJVcHDcI/",
          "dtype": "f8"
         },
         "yaxis": "y"
        },
        {
         "hovertemplate": "Class=glandular<br>I0=%{x}<br>PA500=%{y}<extra></extra>",
         "legendgroup": "glandular",
         "marker": {
          "color": "#ab63fa",
          "symbol": "circle"
         },
         "mode": "markers",
         "name": "glandular",
         "orientation": "v",
         "showlegend": true,
         "type": "scatter",
         "x": {
          "bdata": "KtvCQUNofUAAAAAAAOBrQAAAAAAAAGNAAAAAAADwckAAAAAAAEBvQAAAAAAAoGhAAAAAAACgaECYa1xnOQ1rQAAAAAAAQGZAAAAAAAAgZ0AAAAAAAHB4QAAAAAAAYH9AAAAAAAAAZkAAAAAAACBiQEpKWhU9CF9AAAAAAADAWUA=",
          "dtype": "f8"
         },
         "xaxis": "x",
         "y": {
          "bdata": "3JUedPBOwD9qIFSNjcS/P7MawuAjOcU/WDa1GRA4sD/DlLIdqEu2PyjiNBqD+sA/KOI0GoP6wD9Naesxxyi+PzEusKpDJcM/EYZKwfsqwz9+OxGb1cGtP6PD+AritbA/zpD98KoCtz+PubYEVx2+P6eCy7+i48A/IAA7/n89xD8=",
          "dtype": "f8"
         },
         "yaxis": "y"
        },
        {
         "hovertemplate": "Class=connective<br>I0=%{x}<br>PA500=%{y}<extra></extra>",
         "legendgroup": "connective",
         "marker": {
          "color": "#FFA15A",
          "symbol": "circle"
         },
         "mode": "markers",
         "name": "connective",
         "orientation": "v",
         "showlegend": true,
         "type": "scatter",
         "x": {
          "bdata": "T1RKDVzwmkDstbWsqKaVQK5MU/f88JBATMKYhvRKhEAAAAAAAHCXQAAAAAAAEIhAAAAAAABQhECL32m4xp+FQH9MxFkA15ZA8rtBuPFil0CUqf6aQV+RQOnm8req2pNA5DrbXcK/mUDqSUcoZ/+XQA==",
          "dtype": "f8"
         },
         "xaxis": "x",
         "y": {
          "bdata": "0apOqKr8qj9cLd9pzaK3PwQIpVd6z7I/4ufGxuyFuz/w31xt8vOsP0s6B/tOUKU/6au6/vL/pD/PLKk+KaGaP21MUaQS6aQ/Cn10EbmVuj83lHzyA0q5P2JQBtEPMrQ/ZY1+71G7tD/MEliHKae2Pw==",
          "dtype": "f8"
         },
         "yaxis": "y"
        },
        {
         "hovertemplate": "Class=adipose<br>I0=%{x}<br>PA500=%{y}<extra></extra>",
         "legendgroup": "adipose",
         "marker": {
          "color": "#19d3f3",
          "symbol": "circle"
         },
         "mode": "markers",
         "name": "adipose",
         "orientation": "v",
         "showlegend": true,
         "type": "scatter",
         "x": {
          "bdata": "AAAAAABooEAAAAAAACCcQAAAAAAAaKBAbi8+W5gImkAAAAAAAJCaQHUIiv14dJ5AAAAAAADonEAAAAAAAFyiQAAAAAAAIJxAAAAAAACwnUAAAAAAACCcQAAAAAAA6JxAAAAAAADImUAAAAAAAOClQDwzjiauM6JAAAAAAADAokAAAAAAAECfQAAAAAAAQJ9AAAAAAABQpEAAAAAAAACZQAAAAAAA+KFAAAAAAABQpEA=",
          "dtype": "f8"
         },
         "xaxis": "x",
         "y": {
          "bdata": "rHAfYB25rz8qH604xYOhP9yDchRrJL8/pvPlTORgiT+KA7r/2ISmPwgpj+NOhao/rwGUmB5DtD+unBx3ot20P9jNdQ/ti7c/3GVsMG7hqz8y3n/thbGxP0ZYcCoKxLI/HdleakBlqD91yvYNlES1P2kyAO0S77A/+ugyHTWJtT/nUDz8szOxP5jYKD+cY7s/H2q8cj2ryT892srAiGiyP5NAMh4bDqc/+UyHz7bqsT8=",
          "dtype": "f8"
         },
         "yaxis": "y"
        }
       ],
       "layout": {
        "legend": {
         "title": {
          "text": "Class"
         },
         "tracegroupgap": 0
        },
        "margin": {
         "t": 60
        },
        "template": {
         "data": {
          "bar": [
           {
            "error_x": {
             "color": "#2a3f5f"
            },
            "error_y": {
             "color": "#2a3f5f"
            },
            "marker": {
             "line": {
              "color": "#E5ECF6",
              "width": 0.5
             },
             "pattern": {
              "fillmode": "overlay",
              "size": 10,
              "solidity": 0.2
             }
            },
            "type": "bar"
           }
          ],
          "barpolar": [
           {
            "marker": {
             "line": {
              "color": "#E5ECF6",
              "width": 0.5
             },
             "pattern": {
              "fillmode": "overlay",
              "size": 10,
              "solidity": 0.2
             }
            },
            "type": "barpolar"
           }
          ],
          "carpet": [
           {
            "aaxis": {
             "endlinecolor": "#2a3f5f",
             "gridcolor": "white",
             "linecolor": "white",
             "minorgridcolor": "white",
             "startlinecolor": "#2a3f5f"
            },
            "baxis": {
             "endlinecolor": "#2a3f5f",
             "gridcolor": "white",
             "linecolor": "white",
             "minorgridcolor": "white",
             "startlinecolor": "#2a3f5f"
            },
            "type": "carpet"
           }
          ],
          "choropleth": [
           {
            "colorbar": {
             "outlinewidth": 0,
             "ticks": ""
            },
            "type": "choropleth"
           }
          ],
          "contour": [
           {
            "colorbar": {
             "outlinewidth": 0,
             "ticks": ""
            },
            "colorscale": [
             [
              0,
              "#0d0887"
             ],
             [
              0.1111111111111111,
              "#46039f"
             ],
             [
              0.2222222222222222,
              "#7201a8"
             ],
             [
              0.3333333333333333,
              "#9c179e"
             ],
             [
              0.4444444444444444,
              "#bd3786"
             ],
             [
              0.5555555555555556,
              "#d8576b"
             ],
             [
              0.6666666666666666,
              "#ed7953"
             ],
             [
              0.7777777777777778,
              "#fb9f3a"
             ],
             [
              0.8888888888888888,
              "#fdca26"
             ],
             [
              1,
              "#f0f921"
             ]
            ],
            "type": "contour"
           }
          ],
          "contourcarpet": [
           {
            "colorbar": {
             "outlinewidth": 0,
             "ticks": ""
            },
            "type": "contourcarpet"
           }
          ],
          "heatmap": [
           {
            "colorbar": {
             "outlinewidth": 0,
             "ticks": ""
            },
            "colorscale": [
             [
              0,
              "#0d0887"
             ],
             [
              0.1111111111111111,
              "#46039f"
             ],
             [
              0.2222222222222222,
              "#7201a8"
             ],
             [
              0.3333333333333333,
              "#9c179e"
             ],
             [
              0.4444444444444444,
              "#bd3786"
             ],
             [
              0.5555555555555556,
              "#d8576b"
             ],
             [
              0.6666666666666666,
              "#ed7953"
             ],
             [
              0.7777777777777778,
              "#fb9f3a"
             ],
             [
              0.8888888888888888,
              "#fdca26"
             ],
             [
              1,
              "#f0f921"
             ]
            ],
            "type": "heatmap"
           }
          ],
          "histogram": [
           {
            "marker": {
             "pattern": {
              "fillmode": "overlay",
              "size": 10,
              "solidity": 0.2
             }
            },
            "type": "histogram"
           }
          ],
          "histogram2d": [
           {
            "colorbar": {
             "outlinewidth": 0,
             "ticks": ""
            },
            "colorscale": [
             [
              0,
              "#0d0887"
             ],
             [
              0.1111111111111111,
              "#46039f"
             ],
             [
              0.2222222222222222,
              "#7201a8"
             ],
             [
              0.3333333333333333,
              "#9c179e"
             ],
             [
              0.4444444444444444,
              "#bd3786"
             ],
             [
              0.5555555555555556,
              "#d8576b"
             ],
             [
              0.6666666666666666,
              "#ed7953"
             ],
             [
              0.7777777777777778,
              "#fb9f3a"
             ],
             [
              0.8888888888888888,
              "#fdca26"
             ],
             [
              1,
              "#f0f921"
             ]
            ],
            "type": "histogram2d"
           }
          ],
          "histogram2dcontour": [
           {
            "colorbar": {
             "outlinewidth": 0,
             "ticks": ""
            },
            "colorscale": [
             [
              0,
              "#0d0887"
             ],
             [
              0.1111111111111111,
              "#46039f"
             ],
             [
              0.2222222222222222,
              "#7201a8"
             ],
             [
              0.3333333333333333,
              "#9c179e"
             ],
             [
              0.4444444444444444,
              "#bd3786"
             ],
             [
              0.5555555555555556,
              "#d8576b"
             ],
             [
              0.6666666666666666,
              "#ed7953"
             ],
             [
              0.7777777777777778,
              "#fb9f3a"
             ],
             [
              0.8888888888888888,
              "#fdca26"
             ],
             [
              1,
              "#f0f921"
             ]
            ],
            "type": "histogram2dcontour"
           }
          ],
          "mesh3d": [
           {
            "colorbar": {
             "outlinewidth": 0,
             "ticks": ""
            },
            "type": "mesh3d"
           }
          ],
          "parcoords": [
           {
            "line": {
             "colorbar": {
              "outlinewidth": 0,
              "ticks": ""
             }
            },
            "type": "parcoords"
           }
          ],
          "pie": [
           {
            "automargin": true,
            "type": "pie"
           }
          ],
          "scatter": [
           {
            "fillpattern": {
             "fillmode": "overlay",
             "size": 10,
             "solidity": 0.2
            },
            "type": "scatter"
           }
          ],
          "scatter3d": [
           {
            "line": {
             "colorbar": {
              "outlinewidth": 0,
              "ticks": ""
             }
            },
            "marker": {
             "colorbar": {
              "outlinewidth": 0,
              "ticks": ""
             }
            },
            "type": "scatter3d"
           }
          ],
          "scattercarpet": [
           {
            "marker": {
             "colorbar": {
              "outlinewidth": 0,
              "ticks": ""
             }
            },
            "type": "scattercarpet"
           }
          ],
          "scattergeo": [
           {
            "marker": {
             "colorbar": {
              "outlinewidth": 0,
              "ticks": ""
             }
            },
            "type": "scattergeo"
           }
          ],
          "scattergl": [
           {
            "marker": {
             "colorbar": {
              "outlinewidth": 0,
              "ticks": ""
             }
            },
            "type": "scattergl"
           }
          ],
          "scattermap": [
           {
            "marker": {
             "colorbar": {
              "outlinewidth": 0,
              "ticks": ""
             }
            },
            "type": "scattermap"
           }
          ],
          "scattermapbox": [
           {
            "marker": {
             "colorbar": {
              "outlinewidth": 0,
              "ticks": ""
             }
            },
            "type": "scattermapbox"
           }
          ],
          "scatterpolar": [
           {
            "marker": {
             "colorbar": {
              "outlinewidth": 0,
              "ticks": ""
             }
            },
            "type": "scatterpolar"
           }
          ],
          "scatterpolargl": [
           {
            "marker": {
             "colorbar": {
              "outlinewidth": 0,
              "ticks": ""
             }
            },
            "type": "scatterpolargl"
           }
          ],
          "scatterternary": [
           {
            "marker": {
             "colorbar": {
              "outlinewidth": 0,
              "ticks": ""
             }
            },
            "type": "scatterternary"
           }
          ],
          "surface": [
           {
            "colorbar": {
             "outlinewidth": 0,
             "ticks": ""
            },
            "colorscale": [
             [
              0,
              "#0d0887"
             ],
             [
              0.1111111111111111,
              "#46039f"
             ],
             [
              0.2222222222222222,
              "#7201a8"
             ],
             [
              0.3333333333333333,
              "#9c179e"
             ],
             [
              0.4444444444444444,
              "#bd3786"
             ],
             [
              0.5555555555555556,
              "#d8576b"
             ],
             [
              0.6666666666666666,
              "#ed7953"
             ],
             [
              0.7777777777777778,
              "#fb9f3a"
             ],
             [
              0.8888888888888888,
              "#fdca26"
             ],
             [
              1,
              "#f0f921"
             ]
            ],
            "type": "surface"
           }
          ],
          "table": [
           {
            "cells": {
             "fill": {
              "color": "#EBF0F8"
             },
             "line": {
              "color": "white"
             }
            },
            "header": {
             "fill": {
              "color": "#C8D4E3"
             },
             "line": {
              "color": "white"
             }
            },
            "type": "table"
           }
          ]
         },
         "layout": {
          "annotationdefaults": {
           "arrowcolor": "#2a3f5f",
           "arrowhead": 0,
           "arrowwidth": 1
          },
          "autotypenumbers": "strict",
          "coloraxis": {
           "colorbar": {
            "outlinewidth": 0,
            "ticks": ""
           }
          },
          "colorscale": {
           "diverging": [
            [
             0,
             "#8e0152"
            ],
            [
             0.1,
             "#c51b7d"
            ],
            [
             0.2,
             "#de77ae"
            ],
            [
             0.3,
             "#f1b6da"
            ],
            [
             0.4,
             "#fde0ef"
            ],
            [
             0.5,
             "#f7f7f7"
            ],
            [
             0.6,
             "#e6f5d0"
            ],
            [
             0.7,
             "#b8e186"
            ],
            [
             0.8,
             "#7fbc41"
            ],
            [
             0.9,
             "#4d9221"
            ],
            [
             1,
             "#276419"
            ]
           ],
           "sequential": [
            [
             0,
             "#0d0887"
            ],
            [
             0.1111111111111111,
             "#46039f"
            ],
            [
             0.2222222222222222,
             "#7201a8"
            ],
            [
             0.3333333333333333,
             "#9c179e"
            ],
            [
             0.4444444444444444,
             "#bd3786"
            ],
            [
             0.5555555555555556,
             "#d8576b"
            ],
            [
             0.6666666666666666,
             "#ed7953"
            ],
            [
             0.7777777777777778,
             "#fb9f3a"
            ],
            [
             0.8888888888888888,
             "#fdca26"
            ],
            [
             1,
             "#f0f921"
            ]
           ],
           "sequentialminus": [
            [
             0,
             "#0d0887"
            ],
            [
             0.1111111111111111,
             "#46039f"
            ],
            [
             0.2222222222222222,
             "#7201a8"
            ],
            [
             0.3333333333333333,
             "#9c179e"
            ],
            [
             0.4444444444444444,
             "#bd3786"
            ],
            [
             0.5555555555555556,
             "#d8576b"
            ],
            [
             0.6666666666666666,
             "#ed7953"
            ],
            [
             0.7777777777777778,
             "#fb9f3a"
            ],
            [
             0.8888888888888888,
             "#fdca26"
            ],
            [
             1,
             "#f0f921"
            ]
           ]
          },
          "colorway": [
           "#636efa",
           "#EF553B",
           "#00cc96",
           "#ab63fa",
           "#FFA15A",
           "#19d3f3",
           "#FF6692",
           "#B6E880",
           "#FF97FF",
           "#FECB52"
          ],
          "font": {
           "color": "#2a3f5f"
          },
          "geo": {
           "bgcolor": "white",
           "lakecolor": "white",
           "landcolor": "#E5ECF6",
           "showlakes": true,
           "showland": true,
           "subunitcolor": "white"
          },
          "hoverlabel": {
           "align": "left"
          },
          "hovermode": "closest",
          "mapbox": {
           "style": "light"
          },
          "paper_bgcolor": "white",
          "plot_bgcolor": "#E5ECF6",
          "polar": {
           "angularaxis": {
            "gridcolor": "white",
            "linecolor": "white",
            "ticks": ""
           },
           "bgcolor": "#E5ECF6",
           "radialaxis": {
            "gridcolor": "white",
            "linecolor": "white",
            "ticks": ""
           }
          },
          "scene": {
           "xaxis": {
            "backgroundcolor": "#E5ECF6",
            "gridcolor": "white",
            "gridwidth": 2,
            "linecolor": "white",
            "showbackground": true,
            "ticks": "",
            "zerolinecolor": "white"
           },
           "yaxis": {
            "backgroundcolor": "#E5ECF6",
            "gridcolor": "white",
            "gridwidth": 2,
            "linecolor": "white",
            "showbackground": true,
            "ticks": "",
            "zerolinecolor": "white"
           },
           "zaxis": {
            "backgroundcolor": "#E5ECF6",
            "gridcolor": "white",
            "gridwidth": 2,
            "linecolor": "white",
            "showbackground": true,
            "ticks": "",
            "zerolinecolor": "white"
           }
          },
          "shapedefaults": {
           "line": {
            "color": "#2a3f5f"
           }
          },
          "ternary": {
           "aaxis": {
            "gridcolor": "white",
            "linecolor": "white",
            "ticks": ""
           },
           "baxis": {
            "gridcolor": "white",
            "linecolor": "white",
            "ticks": ""
           },
           "bgcolor": "#E5ECF6",
           "caxis": {
            "gridcolor": "white",
            "linecolor": "white",
            "ticks": ""
           }
          },
          "title": {
           "x": 0.05
          },
          "xaxis": {
           "automargin": true,
           "gridcolor": "white",
           "linecolor": "white",
           "ticks": "",
           "title": {
            "standoff": 15
           },
           "zerolinecolor": "white",
           "zerolinewidth": 2
          },
          "yaxis": {
           "automargin": true,
           "gridcolor": "white",
           "linecolor": "white",
           "ticks": "",
           "title": {
            "standoff": 15
           },
           "zerolinecolor": "white",
           "zerolinewidth": 2
          }
         }
        },
        "title": {
         "text": "Scatter plot of I0 vs PA500"
        },
        "xaxis": {
         "anchor": "y",
         "domain": [
          0,
          1
         ],
         "title": {
          "text": "I0"
         }
        },
        "yaxis": {
         "anchor": "x",
         "domain": [
          0,
          1
         ],
         "title": {
          "text": "PA500"
         }
        }
       }
      }
     },
     "metadata": {},
     "output_type": "display_data"
    }
   ],
   "source": [
    "# visualize the I0 and PA500\n",
    "import plotly.express as px\n",
    "\n",
    "# mapping class names to more descriptive labels\n",
    "df_plot = df.copy()\n",
    "class_name_map = {\n",
    "    'car': 'carcinoma',\n",
    "    'fad': 'fibro-adenoma',\n",
    "    'mas': 'mastopathy',\n",
    "    'gla': 'glandular',\n",
    "    'con': 'connective',\n",
    "    'adi': 'adipose'\n",
    "}\n",
    "df_plot['Class'] = df_plot['Class'].replace(class_name_map)\n",
    "\n",
    "# create scatter plot\n",
    "fig = px.scatter(df_plot, x='I0', y='PA500', color='Class', color_continuous_scale='viridis')\n",
    "fig.update_layout(title='Scatter plot of I0 vs PA500', xaxis_title='I0', yaxis_title='PA500')\n",
    "fig.show()"
   ]
  },
  {
   "cell_type": "markdown",
   "id": "124da592",
   "metadata": {},
   "source": [
    "Consider a new sample, with an $I_0$ of $400$ and a $PA_{500}$ of $0.18$. <br />\n",
    "What kind of tissue is it?"
   ]
  },
  {
   "cell_type": "code",
   "execution_count": 53,
   "id": "c60176aa",
   "metadata": {},
   "outputs": [],
   "source": [
    "import numpy as np\n",
    "import plotly.graph_objects as go\n",
    "\n",
    "# 1. define the new sample point\n",
    "data = df[['I0', 'PA500']]\n",
    "sample = pd.DataFrame([\n",
    "    {\"I0\": 400,\n",
    "     \"PA500\": 0.18}\n",
    "])\n",
    "\n",
    "# 2. scale the data and sample\n",
    "data_mean = data.mean()\n",
    "data_std = data.std()\n",
    "data_scaled = (data - data_mean) / data_std\n",
    "sample_scaled = (sample - data_mean) / data_std\n",
    "\n",
    "# 3. find the k-nearest neighbors (k = 5) from sample\n",
    "# do not believe the implicit broadcasting\n",
    "# you have to use .loc[0] to get the first row (when the test data contains only one row)\n",
    "dists = np.sqrt(\n",
    "    ((sample_scaled.loc[0] - data_scaled) ** 2).sum(axis=1)\n",
    ")\n",
    "index_nearest = dists.sort_values().index[:5]"
   ]
  },
  {
   "cell_type": "code",
   "execution_count": 54,
   "id": "978691e7",
   "metadata": {},
   "outputs": [
    {
     "data": {
      "application/vnd.plotly.v1+json": {
       "config": {
        "plotlyServerURL": "https://plot.ly"
       },
       "data": [
        {
         "hovertemplate": "Class=carcinoma<br>I0=%{x}<br>PA500=%{y}<extra></extra>",
         "legendgroup": "carcinoma",
         "marker": {
          "color": "#636efa",
          "symbol": "circle"
         },
         "mode": "markers",
         "name": "carcinoma",
         "orientation": "v",
         "showlegend": true,
         "type": "scatter",
         "x": {
          "bdata": "3/ZlQlpmgEAAAAAAAKB0QPvh1McIP4FAAAAAAADAd0AAmnvdTK12QLKIebf3XXhAjQEXQkgnckAThGua1jpxQAAAAAAAYH1AAAAAAABwekAAAAAAAKB5QAAAAAAAQH9A264lhntse0CYBBv8E+92QCAdWW2zWn5AAAAAAABgeEAF/GBl79dwQAAAAAAAwHJAAAAAAABQdEDjarj3mGdyQAAAAAAAQH9A",
          "dtype": "f8"
         },
         "xaxis": "x",
         "y": {
          "bdata": "ZKuE007+xz97P8bH0grNP4Y7EZvVwc0/mbUB2FnUzj/+wVaJ9bDJP881f+5rNsM/Aor/7fhzwj8Xw8LfPbTDPzwhJc4DR8s/qtRzEp8azD+Ui/FjPFfUPz3v+vRCFs0/uMG7cyMwyz/qeNTaku3RPyLFOnV8d80/QV3hoabu1j8yJdr6AJDKP4fRjyYYVMg/E8nvoXnAzD/PbdaJaHPKP633mnnhqcg/",
          "dtype": "f8"
         },
         "yaxis": "y"
        },
        {
         "hovertemplate": "Class=fibro-adenoma<br>I0=%{x}<br>PA500=%{y}<extra></extra>",
         "legendgroup": "fibro-adenoma",
         "marker": {
          "color": "#EF553B",
          "symbol": "circle"
         },
         "mode": "markers",
         "name": "fibro-adenoma",
         "orientation": "v",
         "showlegend": true,
         "type": "scatter",
         "x": {
          "bdata": "AAAAAABgakDDlNozaptoQAAAAAAAoG5AIkJWzoAKdkB/bM0/aGluQB+k2I0pPnBAAAAAAABAb0AAAAAAAABpQAAAAAAAMHZAAAAAAAAAcUBUcN2S61l1QBJW7YdRCmRAgN250d7UckAAAAAAAGBjQAAAAAAAAGJA",
          "dtype": "f8"
         },
         "xaxis": "x",
         "y": {
          "bdata": "ZkcwIc2cqz9Ozqs6kY2UP0TC8Z7HMcg/YOPbbks7vz/gbkLgsHakP/oLWoR3GLI/rb9D3uRssT9PlehITE2jP1j1h87QZbA/nL7Xh5xptz/YzXUP7Yu3P8wSWIcpp8Y/qtRzEp8avD/C1d9o5x3GP1hlNgXK374/",
          "dtype": "f8"
         },
         "yaxis": "y"
        },
        {
         "hovertemplate": "Class=mastopathy<br>I0=%{x}<br>PA500=%{y}<extra></extra>",
         "legendgroup": "mastopathy",
         "marker": {
          "color": "#00cc96",
          "symbol": "circle"
         },
         "mode": "markers",
         "name": "mastopathy",
         "orientation": "v",
         "showlegend": true,
         "type": "scatter",
         "x": {
          "bdata": "AAAAAABAZkAAAAAAAGBoQHKnT5x9MXtAAAAAAABAb0CJedECIzh1QAAAAAAAgG1AFAOUcXkXfkAAAAAAAIBvQKHJPWmBkGVAAAAAAABAXkAbsPH3rItoQFLcaeNUJndAgAbjuXBEcECOkpMbPAWBQAAAAAAAYHNAoKsO8+QvcUADCLoVLJVxQAAAAAAAcHRA",
          "dtype": "f8"
         },
         "xaxis": "x",
         "y": {
          "bdata": "HQ8+cP7exT+VlYNeHs7BPxfDwt89tLM/mLoiW58gqD+N/wTT2zunP60v8hTe5r8/3vCcdi8btD/ZaSFdayq7P/w9hF04ScA/w5SyHahLxj+ZvteHnGnHP9Dre/Ppzro/IAA7/n89tD/clR508E6wP2icgWHQXMY/518/bjLVwj+m43aEHbzNPztcJVcHDcI/",
          "dtype": "f8"
         },
         "yaxis": "y"
        },
        {
         "hovertemplate": "Class=glandular<br>I0=%{x}<br>PA500=%{y}<extra></extra>",
         "legendgroup": "glandular",
         "marker": {
          "color": "#ab63fa",
          "symbol": "circle"
         },
         "mode": "markers",
         "name": "glandular",
         "orientation": "v",
         "showlegend": true,
         "type": "scatter",
         "x": {
          "bdata": "KtvCQUNofUAAAAAAAOBrQAAAAAAAAGNAAAAAAADwckAAAAAAAEBvQAAAAAAAoGhAAAAAAACgaECYa1xnOQ1rQAAAAAAAQGZAAAAAAAAgZ0AAAAAAAHB4QAAAAAAAYH9AAAAAAAAAZkAAAAAAACBiQEpKWhU9CF9AAAAAAADAWUA=",
          "dtype": "f8"
         },
         "xaxis": "x",
         "y": {
          "bdata": "3JUedPBOwD9qIFSNjcS/P7MawuAjOcU/WDa1GRA4sD/DlLIdqEu2PyjiNBqD+sA/KOI0GoP6wD9Naesxxyi+PzEusKpDJcM/EYZKwfsqwz9+OxGb1cGtP6PD+AritbA/zpD98KoCtz+PubYEVx2+P6eCy7+i48A/IAA7/n89xD8=",
          "dtype": "f8"
         },
         "yaxis": "y"
        },
        {
         "hovertemplate": "Class=connective<br>I0=%{x}<br>PA500=%{y}<extra></extra>",
         "legendgroup": "connective",
         "marker": {
          "color": "#FFA15A",
          "symbol": "circle"
         },
         "mode": "markers",
         "name": "connective",
         "orientation": "v",
         "showlegend": true,
         "type": "scatter",
         "x": {
          "bdata": "T1RKDVzwmkDstbWsqKaVQK5MU/f88JBATMKYhvRKhEAAAAAAAHCXQAAAAAAAEIhAAAAAAABQhECL32m4xp+FQH9MxFkA15ZA8rtBuPFil0CUqf6aQV+RQOnm8req2pNA5DrbXcK/mUDqSUcoZ/+XQA==",
          "dtype": "f8"
         },
         "xaxis": "x",
         "y": {
          "bdata": "0apOqKr8qj9cLd9pzaK3PwQIpVd6z7I/4ufGxuyFuz/w31xt8vOsP0s6B/tOUKU/6au6/vL/pD/PLKk+KaGaP21MUaQS6aQ/Cn10EbmVuj83lHzyA0q5P2JQBtEPMrQ/ZY1+71G7tD/MEliHKae2Pw==",
          "dtype": "f8"
         },
         "yaxis": "y"
        },
        {
         "hovertemplate": "Class=adipose<br>I0=%{x}<br>PA500=%{y}<extra></extra>",
         "legendgroup": "adipose",
         "marker": {
          "color": "#19d3f3",
          "symbol": "circle"
         },
         "mode": "markers",
         "name": "adipose",
         "orientation": "v",
         "showlegend": true,
         "type": "scatter",
         "x": {
          "bdata": "AAAAAABooEAAAAAAACCcQAAAAAAAaKBAbi8+W5gImkAAAAAAAJCaQHUIiv14dJ5AAAAAAADonEAAAAAAAFyiQAAAAAAAIJxAAAAAAACwnUAAAAAAACCcQAAAAAAA6JxAAAAAAADImUAAAAAAAOClQDwzjiauM6JAAAAAAADAokAAAAAAAECfQAAAAAAAQJ9AAAAAAABQpEAAAAAAAACZQAAAAAAA+KFAAAAAAABQpEA=",
          "dtype": "f8"
         },
         "xaxis": "x",
         "y": {
          "bdata": "rHAfYB25rz8qH604xYOhP9yDchRrJL8/pvPlTORgiT+KA7r/2ISmPwgpj+NOhao/rwGUmB5DtD+unBx3ot20P9jNdQ/ti7c/3GVsMG7hqz8y3n/thbGxP0ZYcCoKxLI/HdleakBlqD91yvYNlES1P2kyAO0S77A/+ugyHTWJtT/nUDz8szOxP5jYKD+cY7s/H2q8cj2ryT892srAiGiyP5NAMh4bDqc/+UyHz7bqsT8=",
          "dtype": "f8"
         },
         "yaxis": "y"
        },
        {
         "marker": {
          "color": "red",
          "size": 10,
          "symbol": "star"
         },
         "mode": "markers",
         "name": "sample",
         "type": "scatter",
         "x": {
          "bdata": "kAE=",
          "dtype": "i2"
         },
         "y": {
          "bdata": "CtejcD0Kxz8=",
          "dtype": "f8"
         }
        }
       ],
       "layout": {
        "legend": {
         "title": {
          "text": "Class"
         },
         "tracegroupgap": 0
        },
        "margin": {
         "t": 60
        },
        "shapes": [
         {
          "line": {
           "color": "grey",
           "dash": "solid",
           "width": 1
          },
          "type": "line",
          "x0": 400,
          "x1": 310,
          "y0": 0.18,
          "y1": 0.1747074581246324
         },
         {
          "line": {
           "color": "grey",
           "dash": "solid",
           "width": 1
          },
          "type": "line",
          "x0": 400,
          "x1": 300,
          "y0": 0.18,
          "y1": 0.1900663555421824
         },
         {
          "line": {
           "color": "grey",
           "dash": "solid",
           "width": 1
          },
          "type": "line",
          "x0": 400,
          "x1": 524.7940719572033,
          "y0": 0.18,
          "y1": 0.187448361664191
         },
         {
          "line": {
           "color": "grey",
           "dash": "solid",
           "width": 1
          },
          "type": "line",
          "x0": 400,
          "x1": 500,
          "y0": 0.18,
          "y1": 0.1926843494201739
         },
         {
          "line": {
           "color": "grey",
           "dash": "solid",
           "width": 1
          },
          "type": "line",
          "x0": 400,
          "x1": 245,
          "y0": 0.18,
          "y1": 0.1890191579909858
         }
        ],
        "template": {
         "data": {
          "bar": [
           {
            "error_x": {
             "color": "#2a3f5f"
            },
            "error_y": {
             "color": "#2a3f5f"
            },
            "marker": {
             "line": {
              "color": "#E5ECF6",
              "width": 0.5
             },
             "pattern": {
              "fillmode": "overlay",
              "size": 10,
              "solidity": 0.2
             }
            },
            "type": "bar"
           }
          ],
          "barpolar": [
           {
            "marker": {
             "line": {
              "color": "#E5ECF6",
              "width": 0.5
             },
             "pattern": {
              "fillmode": "overlay",
              "size": 10,
              "solidity": 0.2
             }
            },
            "type": "barpolar"
           }
          ],
          "carpet": [
           {
            "aaxis": {
             "endlinecolor": "#2a3f5f",
             "gridcolor": "white",
             "linecolor": "white",
             "minorgridcolor": "white",
             "startlinecolor": "#2a3f5f"
            },
            "baxis": {
             "endlinecolor": "#2a3f5f",
             "gridcolor": "white",
             "linecolor": "white",
             "minorgridcolor": "white",
             "startlinecolor": "#2a3f5f"
            },
            "type": "carpet"
           }
          ],
          "choropleth": [
           {
            "colorbar": {
             "outlinewidth": 0,
             "ticks": ""
            },
            "type": "choropleth"
           }
          ],
          "contour": [
           {
            "colorbar": {
             "outlinewidth": 0,
             "ticks": ""
            },
            "colorscale": [
             [
              0,
              "#0d0887"
             ],
             [
              0.1111111111111111,
              "#46039f"
             ],
             [
              0.2222222222222222,
              "#7201a8"
             ],
             [
              0.3333333333333333,
              "#9c179e"
             ],
             [
              0.4444444444444444,
              "#bd3786"
             ],
             [
              0.5555555555555556,
              "#d8576b"
             ],
             [
              0.6666666666666666,
              "#ed7953"
             ],
             [
              0.7777777777777778,
              "#fb9f3a"
             ],
             [
              0.8888888888888888,
              "#fdca26"
             ],
             [
              1,
              "#f0f921"
             ]
            ],
            "type": "contour"
           }
          ],
          "contourcarpet": [
           {
            "colorbar": {
             "outlinewidth": 0,
             "ticks": ""
            },
            "type": "contourcarpet"
           }
          ],
          "heatmap": [
           {
            "colorbar": {
             "outlinewidth": 0,
             "ticks": ""
            },
            "colorscale": [
             [
              0,
              "#0d0887"
             ],
             [
              0.1111111111111111,
              "#46039f"
             ],
             [
              0.2222222222222222,
              "#7201a8"
             ],
             [
              0.3333333333333333,
              "#9c179e"
             ],
             [
              0.4444444444444444,
              "#bd3786"
             ],
             [
              0.5555555555555556,
              "#d8576b"
             ],
             [
              0.6666666666666666,
              "#ed7953"
             ],
             [
              0.7777777777777778,
              "#fb9f3a"
             ],
             [
              0.8888888888888888,
              "#fdca26"
             ],
             [
              1,
              "#f0f921"
             ]
            ],
            "type": "heatmap"
           }
          ],
          "histogram": [
           {
            "marker": {
             "pattern": {
              "fillmode": "overlay",
              "size": 10,
              "solidity": 0.2
             }
            },
            "type": "histogram"
           }
          ],
          "histogram2d": [
           {
            "colorbar": {
             "outlinewidth": 0,
             "ticks": ""
            },
            "colorscale": [
             [
              0,
              "#0d0887"
             ],
             [
              0.1111111111111111,
              "#46039f"
             ],
             [
              0.2222222222222222,
              "#7201a8"
             ],
             [
              0.3333333333333333,
              "#9c179e"
             ],
             [
              0.4444444444444444,
              "#bd3786"
             ],
             [
              0.5555555555555556,
              "#d8576b"
             ],
             [
              0.6666666666666666,
              "#ed7953"
             ],
             [
              0.7777777777777778,
              "#fb9f3a"
             ],
             [
              0.8888888888888888,
              "#fdca26"
             ],
             [
              1,
              "#f0f921"
             ]
            ],
            "type": "histogram2d"
           }
          ],
          "histogram2dcontour": [
           {
            "colorbar": {
             "outlinewidth": 0,
             "ticks": ""
            },
            "colorscale": [
             [
              0,
              "#0d0887"
             ],
             [
              0.1111111111111111,
              "#46039f"
             ],
             [
              0.2222222222222222,
              "#7201a8"
             ],
             [
              0.3333333333333333,
              "#9c179e"
             ],
             [
              0.4444444444444444,
              "#bd3786"
             ],
             [
              0.5555555555555556,
              "#d8576b"
             ],
             [
              0.6666666666666666,
              "#ed7953"
             ],
             [
              0.7777777777777778,
              "#fb9f3a"
             ],
             [
              0.8888888888888888,
              "#fdca26"
             ],
             [
              1,
              "#f0f921"
             ]
            ],
            "type": "histogram2dcontour"
           }
          ],
          "mesh3d": [
           {
            "colorbar": {
             "outlinewidth": 0,
             "ticks": ""
            },
            "type": "mesh3d"
           }
          ],
          "parcoords": [
           {
            "line": {
             "colorbar": {
              "outlinewidth": 0,
              "ticks": ""
             }
            },
            "type": "parcoords"
           }
          ],
          "pie": [
           {
            "automargin": true,
            "type": "pie"
           }
          ],
          "scatter": [
           {
            "fillpattern": {
             "fillmode": "overlay",
             "size": 10,
             "solidity": 0.2
            },
            "type": "scatter"
           }
          ],
          "scatter3d": [
           {
            "line": {
             "colorbar": {
              "outlinewidth": 0,
              "ticks": ""
             }
            },
            "marker": {
             "colorbar": {
              "outlinewidth": 0,
              "ticks": ""
             }
            },
            "type": "scatter3d"
           }
          ],
          "scattercarpet": [
           {
            "marker": {
             "colorbar": {
              "outlinewidth": 0,
              "ticks": ""
             }
            },
            "type": "scattercarpet"
           }
          ],
          "scattergeo": [
           {
            "marker": {
             "colorbar": {
              "outlinewidth": 0,
              "ticks": ""
             }
            },
            "type": "scattergeo"
           }
          ],
          "scattergl": [
           {
            "marker": {
             "colorbar": {
              "outlinewidth": 0,
              "ticks": ""
             }
            },
            "type": "scattergl"
           }
          ],
          "scattermap": [
           {
            "marker": {
             "colorbar": {
              "outlinewidth": 0,
              "ticks": ""
             }
            },
            "type": "scattermap"
           }
          ],
          "scattermapbox": [
           {
            "marker": {
             "colorbar": {
              "outlinewidth": 0,
              "ticks": ""
             }
            },
            "type": "scattermapbox"
           }
          ],
          "scatterpolar": [
           {
            "marker": {
             "colorbar": {
              "outlinewidth": 0,
              "ticks": ""
             }
            },
            "type": "scatterpolar"
           }
          ],
          "scatterpolargl": [
           {
            "marker": {
             "colorbar": {
              "outlinewidth": 0,
              "ticks": ""
             }
            },
            "type": "scatterpolargl"
           }
          ],
          "scatterternary": [
           {
            "marker": {
             "colorbar": {
              "outlinewidth": 0,
              "ticks": ""
             }
            },
            "type": "scatterternary"
           }
          ],
          "surface": [
           {
            "colorbar": {
             "outlinewidth": 0,
             "ticks": ""
            },
            "colorscale": [
             [
              0,
              "#0d0887"
             ],
             [
              0.1111111111111111,
              "#46039f"
             ],
             [
              0.2222222222222222,
              "#7201a8"
             ],
             [
              0.3333333333333333,
              "#9c179e"
             ],
             [
              0.4444444444444444,
              "#bd3786"
             ],
             [
              0.5555555555555556,
              "#d8576b"
             ],
             [
              0.6666666666666666,
              "#ed7953"
             ],
             [
              0.7777777777777778,
              "#fb9f3a"
             ],
             [
              0.8888888888888888,
              "#fdca26"
             ],
             [
              1,
              "#f0f921"
             ]
            ],
            "type": "surface"
           }
          ],
          "table": [
           {
            "cells": {
             "fill": {
              "color": "#EBF0F8"
             },
             "line": {
              "color": "white"
             }
            },
            "header": {
             "fill": {
              "color": "#C8D4E3"
             },
             "line": {
              "color": "white"
             }
            },
            "type": "table"
           }
          ]
         },
         "layout": {
          "annotationdefaults": {
           "arrowcolor": "#2a3f5f",
           "arrowhead": 0,
           "arrowwidth": 1
          },
          "autotypenumbers": "strict",
          "coloraxis": {
           "colorbar": {
            "outlinewidth": 0,
            "ticks": ""
           }
          },
          "colorscale": {
           "diverging": [
            [
             0,
             "#8e0152"
            ],
            [
             0.1,
             "#c51b7d"
            ],
            [
             0.2,
             "#de77ae"
            ],
            [
             0.3,
             "#f1b6da"
            ],
            [
             0.4,
             "#fde0ef"
            ],
            [
             0.5,
             "#f7f7f7"
            ],
            [
             0.6,
             "#e6f5d0"
            ],
            [
             0.7,
             "#b8e186"
            ],
            [
             0.8,
             "#7fbc41"
            ],
            [
             0.9,
             "#4d9221"
            ],
            [
             1,
             "#276419"
            ]
           ],
           "sequential": [
            [
             0,
             "#0d0887"
            ],
            [
             0.1111111111111111,
             "#46039f"
            ],
            [
             0.2222222222222222,
             "#7201a8"
            ],
            [
             0.3333333333333333,
             "#9c179e"
            ],
            [
             0.4444444444444444,
             "#bd3786"
            ],
            [
             0.5555555555555556,
             "#d8576b"
            ],
            [
             0.6666666666666666,
             "#ed7953"
            ],
            [
             0.7777777777777778,
             "#fb9f3a"
            ],
            [
             0.8888888888888888,
             "#fdca26"
            ],
            [
             1,
             "#f0f921"
            ]
           ],
           "sequentialminus": [
            [
             0,
             "#0d0887"
            ],
            [
             0.1111111111111111,
             "#46039f"
            ],
            [
             0.2222222222222222,
             "#7201a8"
            ],
            [
             0.3333333333333333,
             "#9c179e"
            ],
            [
             0.4444444444444444,
             "#bd3786"
            ],
            [
             0.5555555555555556,
             "#d8576b"
            ],
            [
             0.6666666666666666,
             "#ed7953"
            ],
            [
             0.7777777777777778,
             "#fb9f3a"
            ],
            [
             0.8888888888888888,
             "#fdca26"
            ],
            [
             1,
             "#f0f921"
            ]
           ]
          },
          "colorway": [
           "#636efa",
           "#EF553B",
           "#00cc96",
           "#ab63fa",
           "#FFA15A",
           "#19d3f3",
           "#FF6692",
           "#B6E880",
           "#FF97FF",
           "#FECB52"
          ],
          "font": {
           "color": "#2a3f5f"
          },
          "geo": {
           "bgcolor": "white",
           "lakecolor": "white",
           "landcolor": "#E5ECF6",
           "showlakes": true,
           "showland": true,
           "subunitcolor": "white"
          },
          "hoverlabel": {
           "align": "left"
          },
          "hovermode": "closest",
          "mapbox": {
           "style": "light"
          },
          "paper_bgcolor": "white",
          "plot_bgcolor": "#E5ECF6",
          "polar": {
           "angularaxis": {
            "gridcolor": "white",
            "linecolor": "white",
            "ticks": ""
           },
           "bgcolor": "#E5ECF6",
           "radialaxis": {
            "gridcolor": "white",
            "linecolor": "white",
            "ticks": ""
           }
          },
          "scene": {
           "xaxis": {
            "backgroundcolor": "#E5ECF6",
            "gridcolor": "white",
            "gridwidth": 2,
            "linecolor": "white",
            "showbackground": true,
            "ticks": "",
            "zerolinecolor": "white"
           },
           "yaxis": {
            "backgroundcolor": "#E5ECF6",
            "gridcolor": "white",
            "gridwidth": 2,
            "linecolor": "white",
            "showbackground": true,
            "ticks": "",
            "zerolinecolor": "white"
           },
           "zaxis": {
            "backgroundcolor": "#E5ECF6",
            "gridcolor": "white",
            "gridwidth": 2,
            "linecolor": "white",
            "showbackground": true,
            "ticks": "",
            "zerolinecolor": "white"
           }
          },
          "shapedefaults": {
           "line": {
            "color": "#2a3f5f"
           }
          },
          "ternary": {
           "aaxis": {
            "gridcolor": "white",
            "linecolor": "white",
            "ticks": ""
           },
           "baxis": {
            "gridcolor": "white",
            "linecolor": "white",
            "ticks": ""
           },
           "bgcolor": "#E5ECF6",
           "caxis": {
            "gridcolor": "white",
            "linecolor": "white",
            "ticks": ""
           }
          },
          "title": {
           "x": 0.05
          },
          "xaxis": {
           "automargin": true,
           "gridcolor": "white",
           "linecolor": "white",
           "ticks": "",
           "title": {
            "standoff": 15
           },
           "zerolinecolor": "white",
           "zerolinewidth": 2
          },
          "yaxis": {
           "automargin": true,
           "gridcolor": "white",
           "linecolor": "white",
           "ticks": "",
           "title": {
            "standoff": 15
           },
           "zerolinecolor": "white",
           "zerolinewidth": 2
          }
         }
        },
        "title": {
         "text": "Scatter plot of I0 vs PA500"
        },
        "xaxis": {
         "anchor": "y",
         "domain": [
          0,
          1
         ],
         "title": {
          "text": "I0"
         }
        },
        "yaxis": {
         "anchor": "x",
         "domain": [
          0,
          1
         ],
         "title": {
          "text": "PA500"
         }
        }
       }
      }
     },
     "metadata": {},
     "output_type": "display_data"
    }
   ],
   "source": [
    "# 4. create scatter plot\n",
    "fig = px.scatter(df_plot, x='I0', y='PA500', color='Class', color_continuous_scale='viridis')\n",
    "fig.update_layout(title='Scatter plot of I0 vs PA500', xaxis_title='I0', yaxis_title='PA500')\n",
    "\n",
    "# 5. highlight the sample point\n",
    "fig.add_trace(go.Scatter(x=sample['I0'], y=sample['PA500'], mode='markers', marker=dict(symbol='star', size=10, color='red'), name='sample'))\n",
    "\n",
    "# 6. create line segments to the nearest neighbors\n",
    "for i, neighbor in df.loc[index_nearest].iterrows():\n",
    "    fig.add_shape(\n",
    "        type='line',\n",
    "        x0=sample['I0'].values[0], y0=sample['PA500'].values[0],\n",
    "        x1=neighbor['I0'], y1=neighbor['PA500'],\n",
    "        line=dict(color='grey', width=1, dash='solid')\n",
    "    )\n",
    "fig.show()"
   ]
  },
  {
   "cell_type": "code",
   "execution_count": 56,
   "id": "09eb4d9d",
   "metadata": {},
   "outputs": [
    {
     "name": "stdout",
     "output_type": "stream",
     "text": [
      "            Class          I0     PA500  distance\n",
      "50     mastopathy  310.000000  0.174707  0.142135\n",
      "17      carcinoma  300.000000  0.190066  0.197805\n",
      "0       carcinoma  524.794072  0.187448  0.197958\n",
      "20      carcinoma  500.000000  0.192684  0.227563\n",
      "23  fibro-adenoma  245.000000  0.189019  0.244033\n"
     ]
    }
   ],
   "source": [
    "# check the 5-nearest neighbor's data\n",
    "print(df_plot.loc[index_nearest][['Class', 'I0', 'PA500', 'distance']])\n"
   ]
  },
  {
   "cell_type": "markdown",
   "id": "ca4887b5",
   "metadata": {},
   "source": [
    "Of its 5 nearest neighbors in the training data: <br />\n",
    "3 are carcinomas, 1 is fibro-adenoma, 1 is mastopathy, <br />\n",
    "so our best guess is that it is a carcinoma."
   ]
  },
  {
   "cell_type": "markdown",
   "id": "383d0568",
   "metadata": {},
   "source": [
    "## $K$-Nearest Neighbors"
   ]
  },
  {
   "cell_type": "code",
   "execution_count": 57,
   "id": "5196cd65",
   "metadata": {},
   "outputs": [
    {
     "data": {
      "text/html": [
       "<div>\n",
       "<style scoped>\n",
       "    .dataframe tbody tr th:only-of-type {\n",
       "        vertical-align: middle;\n",
       "    }\n",
       "\n",
       "    .dataframe tbody tr th {\n",
       "        vertical-align: top;\n",
       "    }\n",
       "\n",
       "    .dataframe thead th {\n",
       "        text-align: right;\n",
       "    }\n",
       "</style>\n",
       "<table border=\"1\" class=\"dataframe\">\n",
       "  <thead>\n",
       "    <tr style=\"text-align: right;\">\n",
       "      <th></th>\n",
       "      <th>I0</th>\n",
       "      <th>PA500</th>\n",
       "    </tr>\n",
       "  </thead>\n",
       "  <tbody>\n",
       "    <tr>\n",
       "      <th>0</th>\n",
       "      <td>400.0</td>\n",
       "      <td>0.18</td>\n",
       "    </tr>\n",
       "  </tbody>\n",
       "</table>\n",
       "</div>"
      ],
      "text/plain": [
       "      I0  PA500\n",
       "0  400.0   0.18"
      ]
     },
     "execution_count": 57,
     "metadata": {},
     "output_type": "execute_result"
    }
   ],
   "source": [
    "X_train = df[[\"I0\", \"PA500\"]]\n",
    "y_train = df[\"Class\"]\n",
    "x_test = pd.Series({\"I0\": 400, \"PA500\":.18})\n",
    "X_test = x_test.to_frame().T\n",
    "X_test"
   ]
  },
  {
   "cell_type": "markdown",
   "id": "5045a338",
   "metadata": {},
   "source": [
    "Here is code we used for $k$-nearest neighbor <u>regression</u>."
   ]
  },
  {
   "cell_type": "code",
   "execution_count": 58,
   "id": "3cca3461",
   "metadata": {},
   "outputs": [
    {
     "ename": "TypeError",
     "evalue": "unsupported operand type(s) for /: 'str' and 'int'",
     "output_type": "error",
     "traceback": [
      "\u001b[31m---------------------------------------------------------------------------\u001b[39m",
      "\u001b[31mTypeError\u001b[39m                                 Traceback (most recent call last)",
      "\u001b[36mCell\u001b[39m\u001b[36m \u001b[39m\u001b[32mIn[58]\u001b[39m\u001b[32m, line 11\u001b[39m\n\u001b[32m      5\u001b[39m pipeline = make_pipeline(\n\u001b[32m      6\u001b[39m     StandardScaler(),\n\u001b[32m      7\u001b[39m     KNeighborsRegressor(n_neighbors=\u001b[32m5\u001b[39m, metric=\u001b[33m\"\u001b[39m\u001b[33meuclidean\u001b[39m\u001b[33m\"\u001b[39m)\n\u001b[32m      8\u001b[39m )\n\u001b[32m     10\u001b[39m pipeline.fit(X_train, y_train)\n\u001b[32m---> \u001b[39m\u001b[32m11\u001b[39m \u001b[43mpipeline\u001b[49m\u001b[43m.\u001b[49m\u001b[43mpredict\u001b[49m\u001b[43m(\u001b[49m\u001b[43mX_test\u001b[49m\u001b[43m)\u001b[49m\n",
      "\u001b[36mFile \u001b[39m\u001b[32m~/workspace/DATASCI112/.venv/lib/python3.12/site-packages/sklearn/pipeline.py:789\u001b[39m, in \u001b[36mPipeline.predict\u001b[39m\u001b[34m(self, X, **params)\u001b[39m\n\u001b[32m    787\u001b[39m     \u001b[38;5;28;01mfor\u001b[39;00m _, name, transform \u001b[38;5;129;01min\u001b[39;00m \u001b[38;5;28mself\u001b[39m._iter(with_final=\u001b[38;5;28;01mFalse\u001b[39;00m):\n\u001b[32m    788\u001b[39m         Xt = transform.transform(Xt)\n\u001b[32m--> \u001b[39m\u001b[32m789\u001b[39m     \u001b[38;5;28;01mreturn\u001b[39;00m \u001b[38;5;28;43mself\u001b[39;49m\u001b[43m.\u001b[49m\u001b[43msteps\u001b[49m\u001b[43m[\u001b[49m\u001b[43m-\u001b[49m\u001b[32;43m1\u001b[39;49m\u001b[43m]\u001b[49m\u001b[43m[\u001b[49m\u001b[32;43m1\u001b[39;49m\u001b[43m]\u001b[49m\u001b[43m.\u001b[49m\u001b[43mpredict\u001b[49m\u001b[43m(\u001b[49m\u001b[43mXt\u001b[49m\u001b[43m,\u001b[49m\u001b[43m \u001b[49m\u001b[43m*\u001b[49m\u001b[43m*\u001b[49m\u001b[43mparams\u001b[49m\u001b[43m)\u001b[49m\n\u001b[32m    791\u001b[39m \u001b[38;5;66;03m# metadata routing enabled\u001b[39;00m\n\u001b[32m    792\u001b[39m routed_params = process_routing(\u001b[38;5;28mself\u001b[39m, \u001b[33m\"\u001b[39m\u001b[33mpredict\u001b[39m\u001b[33m\"\u001b[39m, **params)\n",
      "\u001b[36mFile \u001b[39m\u001b[32m~/workspace/DATASCI112/.venv/lib/python3.12/site-packages/sklearn/neighbors/_regression.py:255\u001b[39m, in \u001b[36mKNeighborsRegressor.predict\u001b[39m\u001b[34m(self, X)\u001b[39m\n\u001b[32m    252\u001b[39m     _y = _y.reshape((-\u001b[32m1\u001b[39m, \u001b[32m1\u001b[39m))\n\u001b[32m    254\u001b[39m \u001b[38;5;28;01mif\u001b[39;00m weights \u001b[38;5;129;01mis\u001b[39;00m \u001b[38;5;28;01mNone\u001b[39;00m:\n\u001b[32m--> \u001b[39m\u001b[32m255\u001b[39m     y_pred = \u001b[43mnp\u001b[49m\u001b[43m.\u001b[49m\u001b[43mmean\u001b[49m\u001b[43m(\u001b[49m\u001b[43m_y\u001b[49m\u001b[43m[\u001b[49m\u001b[43mneigh_ind\u001b[49m\u001b[43m]\u001b[49m\u001b[43m,\u001b[49m\u001b[43m \u001b[49m\u001b[43maxis\u001b[49m\u001b[43m=\u001b[49m\u001b[32;43m1\u001b[39;49m\u001b[43m)\u001b[49m\n\u001b[32m    256\u001b[39m \u001b[38;5;28;01melse\u001b[39;00m:\n\u001b[32m    257\u001b[39m     y_pred = np.empty((neigh_dist.shape[\u001b[32m0\u001b[39m], _y.shape[\u001b[32m1\u001b[39m]), dtype=np.float64)\n",
      "\u001b[36mFile \u001b[39m\u001b[32m~/workspace/DATASCI112/.venv/lib/python3.12/site-packages/numpy/_core/fromnumeric.py:3860\u001b[39m, in \u001b[36mmean\u001b[39m\u001b[34m(a, axis, dtype, out, keepdims, where)\u001b[39m\n\u001b[32m   3857\u001b[39m     \u001b[38;5;28;01melse\u001b[39;00m:\n\u001b[32m   3858\u001b[39m         \u001b[38;5;28;01mreturn\u001b[39;00m mean(axis=axis, dtype=dtype, out=out, **kwargs)\n\u001b[32m-> \u001b[39m\u001b[32m3860\u001b[39m \u001b[38;5;28;01mreturn\u001b[39;00m \u001b[43m_methods\u001b[49m\u001b[43m.\u001b[49m\u001b[43m_mean\u001b[49m\u001b[43m(\u001b[49m\u001b[43ma\u001b[49m\u001b[43m,\u001b[49m\u001b[43m \u001b[49m\u001b[43maxis\u001b[49m\u001b[43m=\u001b[49m\u001b[43maxis\u001b[49m\u001b[43m,\u001b[49m\u001b[43m \u001b[49m\u001b[43mdtype\u001b[49m\u001b[43m=\u001b[49m\u001b[43mdtype\u001b[49m\u001b[43m,\u001b[49m\n\u001b[32m   3861\u001b[39m \u001b[43m                      \u001b[49m\u001b[43mout\u001b[49m\u001b[43m=\u001b[49m\u001b[43mout\u001b[49m\u001b[43m,\u001b[49m\u001b[43m \u001b[49m\u001b[43m*\u001b[49m\u001b[43m*\u001b[49m\u001b[43mkwargs\u001b[49m\u001b[43m)\u001b[49m\n",
      "\u001b[36mFile \u001b[39m\u001b[32m~/workspace/DATASCI112/.venv/lib/python3.12/site-packages/numpy/_core/_methods.py:136\u001b[39m, in \u001b[36m_mean\u001b[39m\u001b[34m(a, axis, dtype, out, keepdims, where)\u001b[39m\n\u001b[32m    134\u001b[39m ret = umr_sum(arr, axis, dtype, out, keepdims, where=where)\n\u001b[32m    135\u001b[39m \u001b[38;5;28;01mif\u001b[39;00m \u001b[38;5;28misinstance\u001b[39m(ret, mu.ndarray):\n\u001b[32m--> \u001b[39m\u001b[32m136\u001b[39m     ret = \u001b[43mum\u001b[49m\u001b[43m.\u001b[49m\u001b[43mtrue_divide\u001b[49m\u001b[43m(\u001b[49m\n\u001b[32m    137\u001b[39m \u001b[43m            \u001b[49m\u001b[43mret\u001b[49m\u001b[43m,\u001b[49m\u001b[43m \u001b[49m\u001b[43mrcount\u001b[49m\u001b[43m,\u001b[49m\u001b[43m \u001b[49m\u001b[43mout\u001b[49m\u001b[43m=\u001b[49m\u001b[43mret\u001b[49m\u001b[43m,\u001b[49m\u001b[43m \u001b[49m\u001b[43mcasting\u001b[49m\u001b[43m=\u001b[49m\u001b[33;43m'\u001b[39;49m\u001b[33;43munsafe\u001b[39;49m\u001b[33;43m'\u001b[39;49m\u001b[43m,\u001b[49m\u001b[43m \u001b[49m\u001b[43msubok\u001b[49m\u001b[43m=\u001b[49m\u001b[38;5;28;43;01mFalse\u001b[39;49;00m\u001b[43m)\u001b[49m\n\u001b[32m    138\u001b[39m     \u001b[38;5;28;01mif\u001b[39;00m is_float16_result \u001b[38;5;129;01mand\u001b[39;00m out \u001b[38;5;129;01mis\u001b[39;00m \u001b[38;5;28;01mNone\u001b[39;00m:\n\u001b[32m    139\u001b[39m         ret = arr.dtype.type(ret)\n",
      "\u001b[31mTypeError\u001b[39m: unsupported operand type(s) for /: 'str' and 'int'"
     ]
    }
   ],
   "source": [
    "from sklearn.preprocessing import StandardScaler\n",
    "from sklearn.neighbors import KNeighborsRegressor\n",
    "from sklearn.pipeline import make_pipeline\n",
    "\n",
    "pipeline = make_pipeline(\n",
    "    StandardScaler(),\n",
    "    KNeighborsRegressor(n_neighbors=5, metric=\"euclidean\")\n",
    ")\n",
    "\n",
    "pipeline.fit(X_train, y_train)\n",
    "pipeline.predict(X_test)"
   ]
  },
  {
   "cell_type": "markdown",
   "id": "f5168d37",
   "metadata": {},
   "source": [
    "What would need to change for classification?"
   ]
  },
  {
   "cell_type": "code",
   "execution_count": 59,
   "id": "c8b62ed2",
   "metadata": {},
   "outputs": [
    {
     "data": {
      "text/plain": [
       "array(['car'], dtype=object)"
      ]
     },
     "execution_count": 59,
     "metadata": {},
     "output_type": "execute_result"
    }
   ],
   "source": [
    "from sklearn.preprocessing import StandardScaler\n",
    "from sklearn.neighbors import KNeighborsClassifier\n",
    "from sklearn.pipeline import make_pipeline\n",
    "\n",
    "pipeline = make_pipeline(\n",
    "    StandardScaler(),\n",
    "    KNeighborsClassifier(n_neighbors=5, metric=\"euclidean\")\n",
    ")\n",
    "\n",
    "pipeline.fit(X_train, y_train)\n",
    "pipeline.predict(X_test)"
   ]
  },
  {
   "cell_type": "markdown",
   "id": "4c2483e0",
   "metadata": {},
   "source": [
    "Instead of returning a single predicted class, we can ask it to return the predicted probabilities for each class."
   ]
  },
  {
   "cell_type": "code",
   "execution_count": 60,
   "id": "14ab36b8",
   "metadata": {},
   "outputs": [
    {
     "data": {
      "text/plain": [
       "array([[0. , 0.6, 0. , 0.2, 0. , 0.2]])"
      ]
     },
     "execution_count": 60,
     "metadata": {},
     "output_type": "execute_result"
    }
   ],
   "source": [
    "pipeline.predict_proba(X_test)"
   ]
  },
  {
   "cell_type": "code",
   "execution_count": 61,
   "id": "68e5f93d",
   "metadata": {},
   "outputs": [
    {
     "data": {
      "text/plain": [
       "array(['adi', 'car', 'con', 'fad', 'gla', 'mas'], dtype=object)"
      ]
     },
     "execution_count": 61,
     "metadata": {},
     "output_type": "execute_result"
    }
   ],
   "source": [
    "pipeline.classes_"
   ]
  },
  {
   "cell_type": "markdown",
   "id": "4e9acfb0",
   "metadata": {},
   "source": [
    "How did Scikit-Learn calculate these predicted probabilities?"
   ]
  },
  {
   "cell_type": "markdown",
   "id": "a2f053fd",
   "metadata": {},
   "source": [
    "## Cross-Validation for Classification"
   ]
  },
  {
   "cell_type": "markdown",
   "id": "df595213",
   "metadata": {},
   "source": [
    "Here is code we used to cross-validate a <u>regression</u> model."
   ]
  },
  {
   "cell_type": "code",
   "execution_count": 63,
   "id": "03f87e0a",
   "metadata": {},
   "outputs": [
    {
     "name": "stderr",
     "output_type": "stream",
     "text": [
      "/home/karoness/workspace/DATASCI112/.venv/lib/python3.12/site-packages/sklearn/model_selection/_validation.py:971: UserWarning:\n",
      "\n",
      "Scoring failed. The score on this train-test partition for these parameters will be set to nan. Details: \n",
      "Traceback (most recent call last):\n",
      "  File \"/home/karoness/workspace/DATASCI112/.venv/lib/python3.12/site-packages/sklearn/metrics/_scorer.py\", line 152, in __call__\n",
      "    score = scorer._score(\n",
      "            ^^^^^^^^^^^^^^\n",
      "  File \"/home/karoness/workspace/DATASCI112/.venv/lib/python3.12/site-packages/sklearn/metrics/_scorer.py\", line 408, in _score\n",
      "    return self._sign * self._score_func(y_true, y_pred, **scoring_kwargs)\n",
      "                        ^^^^^^^^^^^^^^^^^^^^^^^^^^^^^^^^^^^^^^^^^^^^^^^^^^\n",
      "  File \"/home/karoness/workspace/DATASCI112/.venv/lib/python3.12/site-packages/sklearn/utils/_param_validation.py\", line 218, in wrapper\n",
      "    return func(*args, **kwargs)\n",
      "           ^^^^^^^^^^^^^^^^^^^^^\n",
      "  File \"/home/karoness/workspace/DATASCI112/.venv/lib/python3.12/site-packages/sklearn/metrics/_regression.py\", line 580, in mean_squared_error\n",
      "    _check_reg_targets_with_floating_dtype(\n",
      "  File \"/home/karoness/workspace/DATASCI112/.venv/lib/python3.12/site-packages/sklearn/metrics/_regression.py\", line 209, in _check_reg_targets_with_floating_dtype\n",
      "    y_type, y_true, y_pred, sample_weight, multioutput = _check_reg_targets(\n",
      "                                                         ^^^^^^^^^^^^^^^^^^^\n",
      "  File \"/home/karoness/workspace/DATASCI112/.venv/lib/python3.12/site-packages/sklearn/metrics/_regression.py\", line 115, in _check_reg_targets\n",
      "    y_true = check_array(y_true, ensure_2d=False, dtype=dtype)\n",
      "             ^^^^^^^^^^^^^^^^^^^^^^^^^^^^^^^^^^^^^^^^^^^^^^^^^\n",
      "  File \"/home/karoness/workspace/DATASCI112/.venv/lib/python3.12/site-packages/sklearn/utils/validation.py\", line 1053, in check_array\n",
      "    array = _asarray_with_order(array, order=order, dtype=dtype, xp=xp)\n",
      "            ^^^^^^^^^^^^^^^^^^^^^^^^^^^^^^^^^^^^^^^^^^^^^^^^^^^^^^^^^^^\n",
      "  File \"/home/karoness/workspace/DATASCI112/.venv/lib/python3.12/site-packages/sklearn/utils/_array_api.py\", line 757, in _asarray_with_order\n",
      "    array = numpy.asarray(array, order=order, dtype=dtype)\n",
      "            ^^^^^^^^^^^^^^^^^^^^^^^^^^^^^^^^^^^^^^^^^^^^^^\n",
      "  File \"/home/karoness/workspace/DATASCI112/.venv/lib/python3.12/site-packages/pandas/core/series.py\", line 1033, in __array__\n",
      "    arr = np.asarray(values, dtype=dtype)\n",
      "          ^^^^^^^^^^^^^^^^^^^^^^^^^^^^^^^\n",
      "ValueError: could not convert string to float: 'car'\n",
      "\n",
      "\n",
      "/home/karoness/workspace/DATASCI112/.venv/lib/python3.12/site-packages/sklearn/model_selection/_validation.py:971: UserWarning:\n",
      "\n",
      "Scoring failed. The score on this train-test partition for these parameters will be set to nan. Details: \n",
      "Traceback (most recent call last):\n",
      "  File \"/home/karoness/workspace/DATASCI112/.venv/lib/python3.12/site-packages/sklearn/metrics/_scorer.py\", line 152, in __call__\n",
      "    score = scorer._score(\n",
      "            ^^^^^^^^^^^^^^\n",
      "  File \"/home/karoness/workspace/DATASCI112/.venv/lib/python3.12/site-packages/sklearn/metrics/_scorer.py\", line 408, in _score\n",
      "    return self._sign * self._score_func(y_true, y_pred, **scoring_kwargs)\n",
      "                        ^^^^^^^^^^^^^^^^^^^^^^^^^^^^^^^^^^^^^^^^^^^^^^^^^^\n",
      "  File \"/home/karoness/workspace/DATASCI112/.venv/lib/python3.12/site-packages/sklearn/utils/_param_validation.py\", line 218, in wrapper\n",
      "    return func(*args, **kwargs)\n",
      "           ^^^^^^^^^^^^^^^^^^^^^\n",
      "  File \"/home/karoness/workspace/DATASCI112/.venv/lib/python3.12/site-packages/sklearn/metrics/_regression.py\", line 580, in mean_squared_error\n",
      "    _check_reg_targets_with_floating_dtype(\n",
      "  File \"/home/karoness/workspace/DATASCI112/.venv/lib/python3.12/site-packages/sklearn/metrics/_regression.py\", line 209, in _check_reg_targets_with_floating_dtype\n",
      "    y_type, y_true, y_pred, sample_weight, multioutput = _check_reg_targets(\n",
      "                                                         ^^^^^^^^^^^^^^^^^^^\n",
      "  File \"/home/karoness/workspace/DATASCI112/.venv/lib/python3.12/site-packages/sklearn/metrics/_regression.py\", line 115, in _check_reg_targets\n",
      "    y_true = check_array(y_true, ensure_2d=False, dtype=dtype)\n",
      "             ^^^^^^^^^^^^^^^^^^^^^^^^^^^^^^^^^^^^^^^^^^^^^^^^^\n",
      "  File \"/home/karoness/workspace/DATASCI112/.venv/lib/python3.12/site-packages/sklearn/utils/validation.py\", line 1053, in check_array\n",
      "    array = _asarray_with_order(array, order=order, dtype=dtype, xp=xp)\n",
      "            ^^^^^^^^^^^^^^^^^^^^^^^^^^^^^^^^^^^^^^^^^^^^^^^^^^^^^^^^^^^\n",
      "  File \"/home/karoness/workspace/DATASCI112/.venv/lib/python3.12/site-packages/sklearn/utils/_array_api.py\", line 757, in _asarray_with_order\n",
      "    array = numpy.asarray(array, order=order, dtype=dtype)\n",
      "            ^^^^^^^^^^^^^^^^^^^^^^^^^^^^^^^^^^^^^^^^^^^^^^\n",
      "  File \"/home/karoness/workspace/DATASCI112/.venv/lib/python3.12/site-packages/pandas/core/series.py\", line 1033, in __array__\n",
      "    arr = np.asarray(values, dtype=dtype)\n",
      "          ^^^^^^^^^^^^^^^^^^^^^^^^^^^^^^^\n",
      "ValueError: could not convert string to float: 'car'\n",
      "\n",
      "\n",
      "/home/karoness/workspace/DATASCI112/.venv/lib/python3.12/site-packages/sklearn/model_selection/_validation.py:971: UserWarning:\n",
      "\n",
      "Scoring failed. The score on this train-test partition for these parameters will be set to nan. Details: \n",
      "Traceback (most recent call last):\n",
      "  File \"/home/karoness/workspace/DATASCI112/.venv/lib/python3.12/site-packages/sklearn/metrics/_scorer.py\", line 152, in __call__\n",
      "    score = scorer._score(\n",
      "            ^^^^^^^^^^^^^^\n",
      "  File \"/home/karoness/workspace/DATASCI112/.venv/lib/python3.12/site-packages/sklearn/metrics/_scorer.py\", line 408, in _score\n",
      "    return self._sign * self._score_func(y_true, y_pred, **scoring_kwargs)\n",
      "                        ^^^^^^^^^^^^^^^^^^^^^^^^^^^^^^^^^^^^^^^^^^^^^^^^^^\n",
      "  File \"/home/karoness/workspace/DATASCI112/.venv/lib/python3.12/site-packages/sklearn/utils/_param_validation.py\", line 218, in wrapper\n",
      "    return func(*args, **kwargs)\n",
      "           ^^^^^^^^^^^^^^^^^^^^^\n",
      "  File \"/home/karoness/workspace/DATASCI112/.venv/lib/python3.12/site-packages/sklearn/metrics/_regression.py\", line 580, in mean_squared_error\n",
      "    _check_reg_targets_with_floating_dtype(\n",
      "  File \"/home/karoness/workspace/DATASCI112/.venv/lib/python3.12/site-packages/sklearn/metrics/_regression.py\", line 209, in _check_reg_targets_with_floating_dtype\n",
      "    y_type, y_true, y_pred, sample_weight, multioutput = _check_reg_targets(\n",
      "                                                         ^^^^^^^^^^^^^^^^^^^\n",
      "  File \"/home/karoness/workspace/DATASCI112/.venv/lib/python3.12/site-packages/sklearn/metrics/_regression.py\", line 115, in _check_reg_targets\n",
      "    y_true = check_array(y_true, ensure_2d=False, dtype=dtype)\n",
      "             ^^^^^^^^^^^^^^^^^^^^^^^^^^^^^^^^^^^^^^^^^^^^^^^^^\n",
      "  File \"/home/karoness/workspace/DATASCI112/.venv/lib/python3.12/site-packages/sklearn/utils/validation.py\", line 1053, in check_array\n",
      "    array = _asarray_with_order(array, order=order, dtype=dtype, xp=xp)\n",
      "            ^^^^^^^^^^^^^^^^^^^^^^^^^^^^^^^^^^^^^^^^^^^^^^^^^^^^^^^^^^^\n",
      "  File \"/home/karoness/workspace/DATASCI112/.venv/lib/python3.12/site-packages/sklearn/utils/_array_api.py\", line 757, in _asarray_with_order\n",
      "    array = numpy.asarray(array, order=order, dtype=dtype)\n",
      "            ^^^^^^^^^^^^^^^^^^^^^^^^^^^^^^^^^^^^^^^^^^^^^^\n",
      "  File \"/home/karoness/workspace/DATASCI112/.venv/lib/python3.12/site-packages/pandas/core/series.py\", line 1033, in __array__\n",
      "    arr = np.asarray(values, dtype=dtype)\n",
      "          ^^^^^^^^^^^^^^^^^^^^^^^^^^^^^^^\n",
      "ValueError: could not convert string to float: 'car'\n",
      "\n",
      "\n",
      "/home/karoness/workspace/DATASCI112/.venv/lib/python3.12/site-packages/sklearn/model_selection/_validation.py:971: UserWarning:\n",
      "\n",
      "Scoring failed. The score on this train-test partition for these parameters will be set to nan. Details: \n",
      "Traceback (most recent call last):\n",
      "  File \"/home/karoness/workspace/DATASCI112/.venv/lib/python3.12/site-packages/sklearn/metrics/_scorer.py\", line 152, in __call__\n",
      "    score = scorer._score(\n",
      "            ^^^^^^^^^^^^^^\n",
      "  File \"/home/karoness/workspace/DATASCI112/.venv/lib/python3.12/site-packages/sklearn/metrics/_scorer.py\", line 408, in _score\n",
      "    return self._sign * self._score_func(y_true, y_pred, **scoring_kwargs)\n",
      "                        ^^^^^^^^^^^^^^^^^^^^^^^^^^^^^^^^^^^^^^^^^^^^^^^^^^\n",
      "  File \"/home/karoness/workspace/DATASCI112/.venv/lib/python3.12/site-packages/sklearn/utils/_param_validation.py\", line 218, in wrapper\n",
      "    return func(*args, **kwargs)\n",
      "           ^^^^^^^^^^^^^^^^^^^^^\n",
      "  File \"/home/karoness/workspace/DATASCI112/.venv/lib/python3.12/site-packages/sklearn/metrics/_regression.py\", line 580, in mean_squared_error\n",
      "    _check_reg_targets_with_floating_dtype(\n",
      "  File \"/home/karoness/workspace/DATASCI112/.venv/lib/python3.12/site-packages/sklearn/metrics/_regression.py\", line 209, in _check_reg_targets_with_floating_dtype\n",
      "    y_type, y_true, y_pred, sample_weight, multioutput = _check_reg_targets(\n",
      "                                                         ^^^^^^^^^^^^^^^^^^^\n",
      "  File \"/home/karoness/workspace/DATASCI112/.venv/lib/python3.12/site-packages/sklearn/metrics/_regression.py\", line 115, in _check_reg_targets\n",
      "    y_true = check_array(y_true, ensure_2d=False, dtype=dtype)\n",
      "             ^^^^^^^^^^^^^^^^^^^^^^^^^^^^^^^^^^^^^^^^^^^^^^^^^\n",
      "  File \"/home/karoness/workspace/DATASCI112/.venv/lib/python3.12/site-packages/sklearn/utils/validation.py\", line 1053, in check_array\n",
      "    array = _asarray_with_order(array, order=order, dtype=dtype, xp=xp)\n",
      "            ^^^^^^^^^^^^^^^^^^^^^^^^^^^^^^^^^^^^^^^^^^^^^^^^^^^^^^^^^^^\n",
      "  File \"/home/karoness/workspace/DATASCI112/.venv/lib/python3.12/site-packages/sklearn/utils/_array_api.py\", line 757, in _asarray_with_order\n",
      "    array = numpy.asarray(array, order=order, dtype=dtype)\n",
      "            ^^^^^^^^^^^^^^^^^^^^^^^^^^^^^^^^^^^^^^^^^^^^^^\n",
      "  File \"/home/karoness/workspace/DATASCI112/.venv/lib/python3.12/site-packages/pandas/core/series.py\", line 1033, in __array__\n",
      "    arr = np.asarray(values, dtype=dtype)\n",
      "          ^^^^^^^^^^^^^^^^^^^^^^^^^^^^^^^\n",
      "ValueError: could not convert string to float: 'car'\n",
      "\n",
      "\n",
      "/home/karoness/workspace/DATASCI112/.venv/lib/python3.12/site-packages/sklearn/model_selection/_validation.py:971: UserWarning:\n",
      "\n",
      "Scoring failed. The score on this train-test partition for these parameters will be set to nan. Details: \n",
      "Traceback (most recent call last):\n",
      "  File \"/home/karoness/workspace/DATASCI112/.venv/lib/python3.12/site-packages/sklearn/metrics/_scorer.py\", line 152, in __call__\n",
      "    score = scorer._score(\n",
      "            ^^^^^^^^^^^^^^\n",
      "  File \"/home/karoness/workspace/DATASCI112/.venv/lib/python3.12/site-packages/sklearn/metrics/_scorer.py\", line 408, in _score\n",
      "    return self._sign * self._score_func(y_true, y_pred, **scoring_kwargs)\n",
      "                        ^^^^^^^^^^^^^^^^^^^^^^^^^^^^^^^^^^^^^^^^^^^^^^^^^^\n",
      "  File \"/home/karoness/workspace/DATASCI112/.venv/lib/python3.12/site-packages/sklearn/utils/_param_validation.py\", line 218, in wrapper\n",
      "    return func(*args, **kwargs)\n",
      "           ^^^^^^^^^^^^^^^^^^^^^\n",
      "  File \"/home/karoness/workspace/DATASCI112/.venv/lib/python3.12/site-packages/sklearn/metrics/_regression.py\", line 580, in mean_squared_error\n",
      "    _check_reg_targets_with_floating_dtype(\n",
      "  File \"/home/karoness/workspace/DATASCI112/.venv/lib/python3.12/site-packages/sklearn/metrics/_regression.py\", line 209, in _check_reg_targets_with_floating_dtype\n",
      "    y_type, y_true, y_pred, sample_weight, multioutput = _check_reg_targets(\n",
      "                                                         ^^^^^^^^^^^^^^^^^^^\n",
      "  File \"/home/karoness/workspace/DATASCI112/.venv/lib/python3.12/site-packages/sklearn/metrics/_regression.py\", line 115, in _check_reg_targets\n",
      "    y_true = check_array(y_true, ensure_2d=False, dtype=dtype)\n",
      "             ^^^^^^^^^^^^^^^^^^^^^^^^^^^^^^^^^^^^^^^^^^^^^^^^^\n",
      "  File \"/home/karoness/workspace/DATASCI112/.venv/lib/python3.12/site-packages/sklearn/utils/validation.py\", line 1053, in check_array\n",
      "    array = _asarray_with_order(array, order=order, dtype=dtype, xp=xp)\n",
      "            ^^^^^^^^^^^^^^^^^^^^^^^^^^^^^^^^^^^^^^^^^^^^^^^^^^^^^^^^^^^\n",
      "  File \"/home/karoness/workspace/DATASCI112/.venv/lib/python3.12/site-packages/sklearn/utils/_array_api.py\", line 757, in _asarray_with_order\n",
      "    array = numpy.asarray(array, order=order, dtype=dtype)\n",
      "            ^^^^^^^^^^^^^^^^^^^^^^^^^^^^^^^^^^^^^^^^^^^^^^\n",
      "  File \"/home/karoness/workspace/DATASCI112/.venv/lib/python3.12/site-packages/pandas/core/series.py\", line 1033, in __array__\n",
      "    arr = np.asarray(values, dtype=dtype)\n",
      "          ^^^^^^^^^^^^^^^^^^^^^^^^^^^^^^^\n",
      "ValueError: could not convert string to float: 'car'\n",
      "\n",
      "\n",
      "/home/karoness/workspace/DATASCI112/.venv/lib/python3.12/site-packages/sklearn/model_selection/_validation.py:971: UserWarning:\n",
      "\n",
      "Scoring failed. The score on this train-test partition for these parameters will be set to nan. Details: \n",
      "Traceback (most recent call last):\n",
      "  File \"/home/karoness/workspace/DATASCI112/.venv/lib/python3.12/site-packages/sklearn/metrics/_scorer.py\", line 152, in __call__\n",
      "    score = scorer._score(\n",
      "            ^^^^^^^^^^^^^^\n",
      "  File \"/home/karoness/workspace/DATASCI112/.venv/lib/python3.12/site-packages/sklearn/metrics/_scorer.py\", line 408, in _score\n",
      "    return self._sign * self._score_func(y_true, y_pred, **scoring_kwargs)\n",
      "                        ^^^^^^^^^^^^^^^^^^^^^^^^^^^^^^^^^^^^^^^^^^^^^^^^^^\n",
      "  File \"/home/karoness/workspace/DATASCI112/.venv/lib/python3.12/site-packages/sklearn/utils/_param_validation.py\", line 218, in wrapper\n",
      "    return func(*args, **kwargs)\n",
      "           ^^^^^^^^^^^^^^^^^^^^^\n",
      "  File \"/home/karoness/workspace/DATASCI112/.venv/lib/python3.12/site-packages/sklearn/metrics/_regression.py\", line 580, in mean_squared_error\n",
      "    _check_reg_targets_with_floating_dtype(\n",
      "  File \"/home/karoness/workspace/DATASCI112/.venv/lib/python3.12/site-packages/sklearn/metrics/_regression.py\", line 209, in _check_reg_targets_with_floating_dtype\n",
      "    y_type, y_true, y_pred, sample_weight, multioutput = _check_reg_targets(\n",
      "                                                         ^^^^^^^^^^^^^^^^^^^\n",
      "  File \"/home/karoness/workspace/DATASCI112/.venv/lib/python3.12/site-packages/sklearn/metrics/_regression.py\", line 115, in _check_reg_targets\n",
      "    y_true = check_array(y_true, ensure_2d=False, dtype=dtype)\n",
      "             ^^^^^^^^^^^^^^^^^^^^^^^^^^^^^^^^^^^^^^^^^^^^^^^^^\n",
      "  File \"/home/karoness/workspace/DATASCI112/.venv/lib/python3.12/site-packages/sklearn/utils/validation.py\", line 1053, in check_array\n",
      "    array = _asarray_with_order(array, order=order, dtype=dtype, xp=xp)\n",
      "            ^^^^^^^^^^^^^^^^^^^^^^^^^^^^^^^^^^^^^^^^^^^^^^^^^^^^^^^^^^^\n",
      "  File \"/home/karoness/workspace/DATASCI112/.venv/lib/python3.12/site-packages/sklearn/utils/_array_api.py\", line 757, in _asarray_with_order\n",
      "    array = numpy.asarray(array, order=order, dtype=dtype)\n",
      "            ^^^^^^^^^^^^^^^^^^^^^^^^^^^^^^^^^^^^^^^^^^^^^^\n",
      "  File \"/home/karoness/workspace/DATASCI112/.venv/lib/python3.12/site-packages/pandas/core/series.py\", line 1033, in __array__\n",
      "    arr = np.asarray(values, dtype=dtype)\n",
      "          ^^^^^^^^^^^^^^^^^^^^^^^^^^^^^^^\n",
      "ValueError: could not convert string to float: 'car'\n",
      "\n",
      "\n",
      "/home/karoness/workspace/DATASCI112/.venv/lib/python3.12/site-packages/sklearn/model_selection/_validation.py:971: UserWarning:\n",
      "\n",
      "Scoring failed. The score on this train-test partition for these parameters will be set to nan. Details: \n",
      "Traceback (most recent call last):\n",
      "  File \"/home/karoness/workspace/DATASCI112/.venv/lib/python3.12/site-packages/sklearn/metrics/_scorer.py\", line 152, in __call__\n",
      "    score = scorer._score(\n",
      "            ^^^^^^^^^^^^^^\n",
      "  File \"/home/karoness/workspace/DATASCI112/.venv/lib/python3.12/site-packages/sklearn/metrics/_scorer.py\", line 408, in _score\n",
      "    return self._sign * self._score_func(y_true, y_pred, **scoring_kwargs)\n",
      "                        ^^^^^^^^^^^^^^^^^^^^^^^^^^^^^^^^^^^^^^^^^^^^^^^^^^\n",
      "  File \"/home/karoness/workspace/DATASCI112/.venv/lib/python3.12/site-packages/sklearn/utils/_param_validation.py\", line 218, in wrapper\n",
      "    return func(*args, **kwargs)\n",
      "           ^^^^^^^^^^^^^^^^^^^^^\n",
      "  File \"/home/karoness/workspace/DATASCI112/.venv/lib/python3.12/site-packages/sklearn/metrics/_regression.py\", line 580, in mean_squared_error\n",
      "    _check_reg_targets_with_floating_dtype(\n",
      "  File \"/home/karoness/workspace/DATASCI112/.venv/lib/python3.12/site-packages/sklearn/metrics/_regression.py\", line 209, in _check_reg_targets_with_floating_dtype\n",
      "    y_type, y_true, y_pred, sample_weight, multioutput = _check_reg_targets(\n",
      "                                                         ^^^^^^^^^^^^^^^^^^^\n",
      "  File \"/home/karoness/workspace/DATASCI112/.venv/lib/python3.12/site-packages/sklearn/metrics/_regression.py\", line 115, in _check_reg_targets\n",
      "    y_true = check_array(y_true, ensure_2d=False, dtype=dtype)\n",
      "             ^^^^^^^^^^^^^^^^^^^^^^^^^^^^^^^^^^^^^^^^^^^^^^^^^\n",
      "  File \"/home/karoness/workspace/DATASCI112/.venv/lib/python3.12/site-packages/sklearn/utils/validation.py\", line 1053, in check_array\n",
      "    array = _asarray_with_order(array, order=order, dtype=dtype, xp=xp)\n",
      "            ^^^^^^^^^^^^^^^^^^^^^^^^^^^^^^^^^^^^^^^^^^^^^^^^^^^^^^^^^^^\n",
      "  File \"/home/karoness/workspace/DATASCI112/.venv/lib/python3.12/site-packages/sklearn/utils/_array_api.py\", line 757, in _asarray_with_order\n",
      "    array = numpy.asarray(array, order=order, dtype=dtype)\n",
      "            ^^^^^^^^^^^^^^^^^^^^^^^^^^^^^^^^^^^^^^^^^^^^^^\n",
      "  File \"/home/karoness/workspace/DATASCI112/.venv/lib/python3.12/site-packages/pandas/core/series.py\", line 1033, in __array__\n",
      "    arr = np.asarray(values, dtype=dtype)\n",
      "          ^^^^^^^^^^^^^^^^^^^^^^^^^^^^^^^\n",
      "ValueError: could not convert string to float: 'car'\n",
      "\n",
      "\n",
      "/home/karoness/workspace/DATASCI112/.venv/lib/python3.12/site-packages/sklearn/model_selection/_validation.py:971: UserWarning:\n",
      "\n",
      "Scoring failed. The score on this train-test partition for these parameters will be set to nan. Details: \n",
      "Traceback (most recent call last):\n",
      "  File \"/home/karoness/workspace/DATASCI112/.venv/lib/python3.12/site-packages/sklearn/metrics/_scorer.py\", line 152, in __call__\n",
      "    score = scorer._score(\n",
      "            ^^^^^^^^^^^^^^\n",
      "  File \"/home/karoness/workspace/DATASCI112/.venv/lib/python3.12/site-packages/sklearn/metrics/_scorer.py\", line 408, in _score\n",
      "    return self._sign * self._score_func(y_true, y_pred, **scoring_kwargs)\n",
      "                        ^^^^^^^^^^^^^^^^^^^^^^^^^^^^^^^^^^^^^^^^^^^^^^^^^^\n",
      "  File \"/home/karoness/workspace/DATASCI112/.venv/lib/python3.12/site-packages/sklearn/utils/_param_validation.py\", line 218, in wrapper\n",
      "    return func(*args, **kwargs)\n",
      "           ^^^^^^^^^^^^^^^^^^^^^\n",
      "  File \"/home/karoness/workspace/DATASCI112/.venv/lib/python3.12/site-packages/sklearn/metrics/_regression.py\", line 580, in mean_squared_error\n",
      "    _check_reg_targets_with_floating_dtype(\n",
      "  File \"/home/karoness/workspace/DATASCI112/.venv/lib/python3.12/site-packages/sklearn/metrics/_regression.py\", line 209, in _check_reg_targets_with_floating_dtype\n",
      "    y_type, y_true, y_pred, sample_weight, multioutput = _check_reg_targets(\n",
      "                                                         ^^^^^^^^^^^^^^^^^^^\n",
      "  File \"/home/karoness/workspace/DATASCI112/.venv/lib/python3.12/site-packages/sklearn/metrics/_regression.py\", line 115, in _check_reg_targets\n",
      "    y_true = check_array(y_true, ensure_2d=False, dtype=dtype)\n",
      "             ^^^^^^^^^^^^^^^^^^^^^^^^^^^^^^^^^^^^^^^^^^^^^^^^^\n",
      "  File \"/home/karoness/workspace/DATASCI112/.venv/lib/python3.12/site-packages/sklearn/utils/validation.py\", line 1053, in check_array\n",
      "    array = _asarray_with_order(array, order=order, dtype=dtype, xp=xp)\n",
      "            ^^^^^^^^^^^^^^^^^^^^^^^^^^^^^^^^^^^^^^^^^^^^^^^^^^^^^^^^^^^\n",
      "  File \"/home/karoness/workspace/DATASCI112/.venv/lib/python3.12/site-packages/sklearn/utils/_array_api.py\", line 757, in _asarray_with_order\n",
      "    array = numpy.asarray(array, order=order, dtype=dtype)\n",
      "            ^^^^^^^^^^^^^^^^^^^^^^^^^^^^^^^^^^^^^^^^^^^^^^\n",
      "  File \"/home/karoness/workspace/DATASCI112/.venv/lib/python3.12/site-packages/pandas/core/series.py\", line 1033, in __array__\n",
      "    arr = np.asarray(values, dtype=dtype)\n",
      "          ^^^^^^^^^^^^^^^^^^^^^^^^^^^^^^^\n",
      "ValueError: could not convert string to float: 'car'\n",
      "\n",
      "\n",
      "/home/karoness/workspace/DATASCI112/.venv/lib/python3.12/site-packages/sklearn/model_selection/_validation.py:971: UserWarning:\n",
      "\n",
      "Scoring failed. The score on this train-test partition for these parameters will be set to nan. Details: \n",
      "Traceback (most recent call last):\n",
      "  File \"/home/karoness/workspace/DATASCI112/.venv/lib/python3.12/site-packages/sklearn/metrics/_scorer.py\", line 152, in __call__\n",
      "    score = scorer._score(\n",
      "            ^^^^^^^^^^^^^^\n",
      "  File \"/home/karoness/workspace/DATASCI112/.venv/lib/python3.12/site-packages/sklearn/metrics/_scorer.py\", line 408, in _score\n",
      "    return self._sign * self._score_func(y_true, y_pred, **scoring_kwargs)\n",
      "                        ^^^^^^^^^^^^^^^^^^^^^^^^^^^^^^^^^^^^^^^^^^^^^^^^^^\n",
      "  File \"/home/karoness/workspace/DATASCI112/.venv/lib/python3.12/site-packages/sklearn/utils/_param_validation.py\", line 218, in wrapper\n",
      "    return func(*args, **kwargs)\n",
      "           ^^^^^^^^^^^^^^^^^^^^^\n",
      "  File \"/home/karoness/workspace/DATASCI112/.venv/lib/python3.12/site-packages/sklearn/metrics/_regression.py\", line 580, in mean_squared_error\n",
      "    _check_reg_targets_with_floating_dtype(\n",
      "  File \"/home/karoness/workspace/DATASCI112/.venv/lib/python3.12/site-packages/sklearn/metrics/_regression.py\", line 209, in _check_reg_targets_with_floating_dtype\n",
      "    y_type, y_true, y_pred, sample_weight, multioutput = _check_reg_targets(\n",
      "                                                         ^^^^^^^^^^^^^^^^^^^\n",
      "  File \"/home/karoness/workspace/DATASCI112/.venv/lib/python3.12/site-packages/sklearn/metrics/_regression.py\", line 115, in _check_reg_targets\n",
      "    y_true = check_array(y_true, ensure_2d=False, dtype=dtype)\n",
      "             ^^^^^^^^^^^^^^^^^^^^^^^^^^^^^^^^^^^^^^^^^^^^^^^^^\n",
      "  File \"/home/karoness/workspace/DATASCI112/.venv/lib/python3.12/site-packages/sklearn/utils/validation.py\", line 1053, in check_array\n",
      "    array = _asarray_with_order(array, order=order, dtype=dtype, xp=xp)\n",
      "            ^^^^^^^^^^^^^^^^^^^^^^^^^^^^^^^^^^^^^^^^^^^^^^^^^^^^^^^^^^^\n",
      "  File \"/home/karoness/workspace/DATASCI112/.venv/lib/python3.12/site-packages/sklearn/utils/_array_api.py\", line 757, in _asarray_with_order\n",
      "    array = numpy.asarray(array, order=order, dtype=dtype)\n",
      "            ^^^^^^^^^^^^^^^^^^^^^^^^^^^^^^^^^^^^^^^^^^^^^^\n",
      "  File \"/home/karoness/workspace/DATASCI112/.venv/lib/python3.12/site-packages/pandas/core/series.py\", line 1033, in __array__\n",
      "    arr = np.asarray(values, dtype=dtype)\n",
      "          ^^^^^^^^^^^^^^^^^^^^^^^^^^^^^^^\n",
      "ValueError: could not convert string to float: 'car'\n",
      "\n",
      "\n",
      "/home/karoness/workspace/DATASCI112/.venv/lib/python3.12/site-packages/sklearn/model_selection/_validation.py:971: UserWarning:\n",
      "\n",
      "Scoring failed. The score on this train-test partition for these parameters will be set to nan. Details: \n",
      "Traceback (most recent call last):\n",
      "  File \"/home/karoness/workspace/DATASCI112/.venv/lib/python3.12/site-packages/sklearn/metrics/_scorer.py\", line 152, in __call__\n",
      "    score = scorer._score(\n",
      "            ^^^^^^^^^^^^^^\n",
      "  File \"/home/karoness/workspace/DATASCI112/.venv/lib/python3.12/site-packages/sklearn/metrics/_scorer.py\", line 408, in _score\n",
      "    return self._sign * self._score_func(y_true, y_pred, **scoring_kwargs)\n",
      "                        ^^^^^^^^^^^^^^^^^^^^^^^^^^^^^^^^^^^^^^^^^^^^^^^^^^\n",
      "  File \"/home/karoness/workspace/DATASCI112/.venv/lib/python3.12/site-packages/sklearn/utils/_param_validation.py\", line 218, in wrapper\n",
      "    return func(*args, **kwargs)\n",
      "           ^^^^^^^^^^^^^^^^^^^^^\n",
      "  File \"/home/karoness/workspace/DATASCI112/.venv/lib/python3.12/site-packages/sklearn/metrics/_regression.py\", line 580, in mean_squared_error\n",
      "    _check_reg_targets_with_floating_dtype(\n",
      "  File \"/home/karoness/workspace/DATASCI112/.venv/lib/python3.12/site-packages/sklearn/metrics/_regression.py\", line 209, in _check_reg_targets_with_floating_dtype\n",
      "    y_type, y_true, y_pred, sample_weight, multioutput = _check_reg_targets(\n",
      "                                                         ^^^^^^^^^^^^^^^^^^^\n",
      "  File \"/home/karoness/workspace/DATASCI112/.venv/lib/python3.12/site-packages/sklearn/metrics/_regression.py\", line 115, in _check_reg_targets\n",
      "    y_true = check_array(y_true, ensure_2d=False, dtype=dtype)\n",
      "             ^^^^^^^^^^^^^^^^^^^^^^^^^^^^^^^^^^^^^^^^^^^^^^^^^\n",
      "  File \"/home/karoness/workspace/DATASCI112/.venv/lib/python3.12/site-packages/sklearn/utils/validation.py\", line 1053, in check_array\n",
      "    array = _asarray_with_order(array, order=order, dtype=dtype, xp=xp)\n",
      "            ^^^^^^^^^^^^^^^^^^^^^^^^^^^^^^^^^^^^^^^^^^^^^^^^^^^^^^^^^^^\n",
      "  File \"/home/karoness/workspace/DATASCI112/.venv/lib/python3.12/site-packages/sklearn/utils/_array_api.py\", line 757, in _asarray_with_order\n",
      "    array = numpy.asarray(array, order=order, dtype=dtype)\n",
      "            ^^^^^^^^^^^^^^^^^^^^^^^^^^^^^^^^^^^^^^^^^^^^^^\n",
      "  File \"/home/karoness/workspace/DATASCI112/.venv/lib/python3.12/site-packages/pandas/core/series.py\", line 1033, in __array__\n",
      "    arr = np.asarray(values, dtype=dtype)\n",
      "          ^^^^^^^^^^^^^^^^^^^^^^^^^^^^^^^\n",
      "ValueError: could not convert string to float: 'car'\n",
      "\n",
      "\n"
     ]
    },
    {
     "data": {
      "text/plain": [
       "array([nan, nan, nan, nan, nan, nan, nan, nan, nan, nan])"
      ]
     },
     "execution_count": 63,
     "metadata": {},
     "output_type": "execute_result"
    }
   ],
   "source": [
    "from sklearn.model_selection import cross_val_score\n",
    "cross_val_score(\n",
    "    pipeline, X_train, y_train,\n",
    "    scoring=\"neg_mean_squared_error\",\n",
    "    cv=10\n",
    ")"
   ]
  },
  {
   "cell_type": "markdown",
   "id": "5b64adc8",
   "metadata": {},
   "source": [
    "What would need to change for classification?\n",
    "\n",
    "We need a different scoring method for classification. A simple one is **accuracy:**\n",
    "\n",
    "$$\n",
    "\\mathsf{accuracy = \\frac{\\textsf{\\# correct predictions}}{\\textsf{\\# predictions}}}\n",
    "$$\n"
   ]
  },
  {
   "cell_type": "code",
   "execution_count": 66,
   "id": "cb808b4c",
   "metadata": {},
   "outputs": [
    {
     "data": {
      "text/plain": [
       "array([0.63636364, 0.81818182, 0.45454545, 0.54545455, 0.63636364,\n",
       "       0.54545455, 0.5       , 0.6       , 0.4       , 0.7       ])"
      ]
     },
     "execution_count": 66,
     "metadata": {},
     "output_type": "execute_result"
    }
   ],
   "source": [
    "from sklearn.model_selection import cross_val_score\n",
    "scores = cross_val_score(\n",
    "    pipeline, X_train, y_train,\n",
    "    scoring=\"accuracy\",\n",
    "    cv=10\n",
    ")\n",
    "scores"
   ]
  },
  {
   "cell_type": "markdown",
   "id": "49e83d36",
   "metadata": {},
   "source": [
    "As before, we can get an overall estimate of test accuracy by averaging the cross-validation accuracies:"
   ]
  },
  {
   "cell_type": "code",
   "execution_count": 67,
   "id": "bc834ca8",
   "metadata": {},
   "outputs": [
    {
     "data": {
      "text/plain": [
       "np.float64(0.5836363636363637)"
      ]
     },
     "execution_count": 67,
     "metadata": {},
     "output_type": "execute_result"
    }
   ],
   "source": [
    "scores.mean()"
   ]
  },
  {
   "cell_type": "markdown",
   "id": "a7a24410",
   "metadata": {},
   "source": [
    "Accuracy is not always the best measure of a classification model. <br />\n",
    "We'll talk about some better measures next time."
   ]
  }
 ],
 "metadata": {
  "kernelspec": {
   "display_name": "datasci112 (3.12.3)",
   "language": "python",
   "name": "python3"
  },
  "language_info": {
   "codemirror_mode": {
    "name": "ipython",
    "version": 3
   },
   "file_extension": ".py",
   "mimetype": "text/x-python",
   "name": "python",
   "nbconvert_exporter": "python",
   "pygments_lexer": "ipython3",
   "version": "3.12.3"
  }
 },
 "nbformat": 4,
 "nbformat_minor": 5
}
