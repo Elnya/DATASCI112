{
 "cells": [
  {
   "cell_type": "markdown",
   "id": "354887a8",
   "metadata": {},
   "source": [
    "# Model Selection and Hyperparameter Tuning"
   ]
  },
  {
   "cell_type": "markdown",
   "id": "dfe1886e",
   "metadata": {},
   "source": [
    "## Recap\n",
    "\n",
    "Here's a machine learning model."
   ]
  },
  {
   "cell_type": "code",
   "execution_count": 24,
   "id": "14970583",
   "metadata": {},
   "outputs": [],
   "source": [
    "import pandas as pd\n",
    "\n",
    "from sklearn.pipeline import make_pipeline\n",
    "from sklearn.preprocessing import StandardScaler\n",
    "from sklearn.neighbors import KNeighborsRegressor\n",
    "\n",
    "df = pd.read_csv(\"data/bordeaux.csv\", index_col=\"year\")\n",
    "df_train = df.loc[:1980].copy()\n",
    "df_test = df.loc[1981:].copy()\n",
    "\n",
    "pipeline = make_pipeline(\n",
    "    StandardScaler(),   # scaler\n",
    "    KNeighborsRegressor(n_neighbors=5, metric=\"euclidean\") # method, k, metric, \n",
    ")\n",
    "\n",
    "X_train = df_train[[\"win\", \"summer\"]] # variables\n",
    "y_train = df_train[\"price\"]"
   ]
  },
  {
   "cell_type": "markdown",
   "id": "4996ac00",
   "metadata": {},
   "source": [
    "The right way to evaluate machine learning models is *test error,* which is estimated using cross-validation."
   ]
  },
  {
   "cell_type": "code",
   "execution_count": 25,
   "id": "e75c4f5e",
   "metadata": {},
   "outputs": [
    {
     "data": {
      "text/plain": [
       "np.float64(375.27166666666665)"
      ]
     },
     "execution_count": 25,
     "metadata": {},
     "output_type": "execute_result"
    }
   ],
   "source": [
    "from sklearn.model_selection import cross_val_score\n",
    "\n",
    "scores = cross_val_score(\n",
    "    pipeline,\n",
    "    X=X_train, y=y_train,\n",
    "    scoring=\"neg_mean_squared_error\",\n",
    "    cv=4\n",
    ")\n",
    "-scores.mean()"
   ]
  },
  {
   "cell_type": "markdown",
   "id": "8bcc0e13",
   "metadata": {},
   "source": [
    "How do we choose between all the options (scaler, $k$, etc.)?"
   ]
  },
  {
   "cell_type": "markdown",
   "id": "d4c30630",
   "metadata": {},
   "source": [
    "## Two Related Problems\n",
    "\n",
    "**Model Selection** refers to the choice of:\n",
    "- which input features to include (e.g., winter rainfall, summer temperature)\n",
    "- what preprocessing to do (e.g., scaler)\n",
    "- what machine learning method to use (e.g. $k$-nearest neighbors)\n",
    "\n",
    "**Hyperparameter Tuning** refers to the choice of parameters in the machine learning method. <br />\n",
    "For $k$-nearest neighbors, hyperparameters include:\n",
    "- $k$\n",
    "- metric (e.g., Euclidean distance)\n",
    "\n",
    "The distinction isn't important. We always use cross-validation and pick the model / hyperparameter with the smallest test error.\n"
   ]
  },
  {
   "cell_type": "markdown",
   "id": "4f72b7af",
   "metadata": {},
   "source": [
    "## Example of Model Selection\n",
    "\n",
    "Which input features should we include?\n",
    "\n",
    "- winter rain, summer temp\n",
    "- winter rain, summer temp, harvest rain\n",
    "- winter rain, summer temp, harvest rain, Sept. temp"
   ]
  },
  {
   "cell_type": "code",
   "execution_count": 26,
   "id": "377edbb3",
   "metadata": {},
   "outputs": [
    {
     "name": "stdout",
     "output_type": "stream",
     "text": [
      "['win', 'summer'] 375.27166666666665\n",
      "['win', 'summer', 'har'] 363.04047619047617\n",
      "['win', 'summer', 'har', 'sep'] 402.4507142857142\n"
     ]
    }
   ],
   "source": [
    "for features in [[\"win\", \"summer\"],\n",
    "                 [\"win\", \"summer\", \"har\"],\n",
    "                 [\"win\", \"summer\", \"har\", \"sep\"]]:\n",
    "    scores = cross_val_score(\n",
    "        pipeline,\n",
    "        X=df_train[features],\n",
    "        y=df_train[\"price\"],\n",
    "        scoring=\"neg_mean_squared_error\",\n",
    "        cv=4\n",
    "    )\n",
    "    # (winter rain, summer temp) is the best one\n",
    "    print(features, -scores.mean())"
   ]
  },
  {
   "cell_type": "markdown",
   "id": "01c0a993",
   "metadata": {},
   "source": [
    "## Example of Hyperparameter Tuning\n",
    "\n",
    "What is the best value of $k$?"
   ]
  },
  {
   "cell_type": "code",
   "execution_count": 27,
   "id": "dd76faa1",
   "metadata": {},
   "outputs": [],
   "source": [
    "X_train = df_train[[\"win\", \"summer\", \"har\"]]\n",
    "k_values, test_mses = range(1, 7),[]\n",
    "for k in k_values:\n",
    "    pipeline = make_pipeline(\n",
    "        StandardScaler(),\n",
    "        KNeighborsRegressor(n_neighbors=k, metric=\"euclidean\")\n",
    "    )\n",
    "    \n",
    "    scores = cross_val_score(\n",
    "        pipeline, X_train, y_train,\n",
    "        scoring=\"neg_mean_squared_error\", cv=4)\n",
    "    \n",
    "    test_mses.append(-scores.mean())"
   ]
  },
  {
   "cell_type": "code",
   "execution_count": 28,
   "id": "c27ee8fc",
   "metadata": {},
   "outputs": [
    {
     "data": {
      "text/plain": [
       "<Axes: >"
      ]
     },
     "execution_count": 28,
     "metadata": {},
     "output_type": "execute_result"
    },
    {
     "data": {
      "image/png": "[encoded data removed]",
      "text/plain": [
       "<Figure size 640x480 with 1 Axes>"
      ]
     },
     "metadata": {},
     "output_type": "display_data"
    }
   ],
   "source": [
    "# The best value of k is 2\n",
    "pd.Series(test_mses, index=k_values).plot.line()"
   ]
  },
  {
   "cell_type": "markdown",
   "id": "27a1d71b",
   "metadata": {},
   "source": [
    "## Training vs. Test Error"
   ]
  },
  {
   "cell_type": "markdown",
   "id": "cb196562",
   "metadata": {},
   "source": [
    "Here are the training and test MSEs on the same graph."
   ]
  },
  {
   "cell_type": "code",
   "execution_count": 29,
   "id": "90817c7b",
   "metadata": {},
   "outputs": [],
   "source": [
    "from sklearn.metrics import mean_squared_error\n",
    "\n",
    "# get training score of the model\n",
    "X_train = df_train[[\"win\", \"summer\", \"har\"]]\n",
    "y_train = df_train[\"price\"]\n",
    "k_values, training_mses = range(1, 7), []\n",
    "\n",
    "for k in k_values:\n",
    "    pipeline = make_pipeline(\n",
    "        StandardScaler(),\n",
    "        KNeighborsRegressor(n_neighbors=k, metric=\"euclidean\")\n",
    "    )\n",
    "    score = mean_squared_error(y_train, pipeline.fit(X_train, y_train).predict(X_train))\n",
    "    training_mses.append(score)"
   ]
  },
  {
   "cell_type": "code",
   "execution_count": 33,
   "id": "145c7e93",
   "metadata": {},
   "outputs": [
    {
     "data": {
      "image/png": "[encoded data removed]",
      "text/plain": [
       "<Figure size 640x480 with 1 Axes>"
      ]
     },
     "metadata": {},
     "output_type": "display_data"
    }
   ],
   "source": [
    "# visualize the training and test MSEs\n",
    "import pandas as pd\n",
    "import matplotlib.pyplot as plt\n",
    "\n",
    "# create pandas series from the list\n",
    "test_mses_series = pd.Series(test_mses, index=k_values, name='Test')\n",
    "training_mses_series = pd.Series(training_mses, index=k_values, name='Training')\n",
    "\n",
    "# plot the test MSEs\n",
    "plt.plot(test_mses_series, label=test_mses_series.name)\n",
    "plt.plot(training_mses_series, label=training_mses_series.name)\n",
    "\n",
    "# add legend, title, labels\n",
    "plt.legend(loc='lower right')\n",
    "plt.title('Training and test MSES')\n",
    "plt.xlabel('k')\n",
    "plt.ylabel('MSE')\n",
    "\n",
    "# show the plot\n",
    "plt.show()"
   ]
  },
  {
   "cell_type": "markdown",
   "id": "e8e2860d",
   "metadata": {},
   "source": [
    "Notice that training MSE only goes down as we decrease $k$. <br />\n",
    "If we optimize for training MSE, then we will pick $k = 1$, but this has worse test MSE. <br />\n",
    "In other words, the $k = 1$ model has **overfit** to the training data."
   ]
  },
  {
   "cell_type": "markdown",
   "id": "75d2f09c",
   "metadata": {},
   "source": [
    "## Grid Search\n",
    "\n",
    "Suppose we want to choose $k$ and the distance metric (Euclidean or Manhattan).\n",
    "\n",
    "We need to try all 12 combinations on the following grid:\n",
    "\n",
    "![Grid](data/grid.png)\n",
    "\n",
    "Scikit-Learn’s `GridSearchCV` automates the creation of a grid with all combinations."
   ]
  },
  {
   "cell_type": "markdown",
   "id": "224d198a",
   "metadata": {},
   "source": [
    "## Grid Search in Scikit-Learn\n",
    "\n",
    "Scikit-Learn can make a grid of the possible parameter combinations, run cross-validation for each combination, and return the best parameter combination."
   ]
  },
  {
   "cell_type": "code",
   "execution_count": 34,
   "id": "921e8a14",
   "metadata": {},
   "outputs": [],
   "source": [
    "pipeline = make_pipeline(\n",
    "    StandardScaler(),\n",
    "    KNeighborsRegressor(n_neighbors=5, metric=\"manhattan\"))"
   ]
  },
  {
   "cell_type": "code",
   "execution_count": 40,
   "id": "f5fe9c01",
   "metadata": {},
   "outputs": [
    {
     "data": {
      "text/plain": [
       "{'kneighborsregressor__metric': 'euclidean',\n",
       " 'kneighborsregressor__n_neighbors': 2}"
      ]
     },
     "execution_count": 40,
     "metadata": {},
     "output_type": "execute_result"
    }
   ],
   "source": [
    "from sklearn.model_selection import GridSearchCV\n",
    "\n",
    "grid_cv = GridSearchCV(\n",
    "    pipeline,\n",
    "    param_grid={\n",
    "        \"kneighborsregressor__n_neighbors\": range(1, 7),\n",
    "        \"kneighborsregressor__metric\": [\"euclidean\", \"manhattan\"],\n",
    "    },\n",
    "    scoring=\"neg_mean_squared_error\", cv=4)\n",
    "\n",
    "grid_cv.fit(X_train, y_train)\n",
    "grid_cv.best_params_"
   ]
  },
  {
   "cell_type": "markdown",
   "id": "f90ea930",
   "metadata": {},
   "source": [
    "Where did the parameter names in `param_grid` come from?"
   ]
  },
  {
   "cell_type": "code",
   "execution_count": 37,
   "id": "525b800b",
   "metadata": {},
   "outputs": [
    {
     "data": {
      "text/plain": [
       "[('standardscaler', StandardScaler()),\n",
       " ('kneighborsregressor', KNeighborsRegressor(metric='manhattan'))]"
      ]
     },
     "execution_count": 37,
     "metadata": {},
     "output_type": "execute_result"
    }
   ],
   "source": [
    "pipeline.steps"
   ]
  },
  {
   "cell_type": "markdown",
   "id": "9a8b27c0",
   "metadata": {},
   "source": [
    "## Challenges with Grid Search\n",
    "\n",
    "**Why can’t all machine learning be automated by grid search?**\n",
    "\n",
    "There were 5 input features in the original data (summer temp, harvest rainfall, winter rainfall, Sept. temperature, age). <br />\n",
    "How many combinations of features would we need to try?\n",
    "\n",
    "$2^5 = 32$\n",
    "\n",
    "Now, combine this with the choice of k, distance metric, and scaler.\n",
    "- 6 choices of k\n",
    "- 2 choices of distance metric (Euclidean, Manhattan)\n",
    "- 2 choices of scaler (StandardScaler, MinMaxScaler)\n",
    "\n",
    "That’s already $32 \\times 6 \\times 2 \\times 2 = 768$ models. <br />\n",
    "And that’s not even considering models besides k-nearest neighbors!"
   ]
  },
  {
   "cell_type": "markdown",
   "id": "1bf9fd54",
   "metadata": {},
   "source": [
    "## Heuristics for Parameter Tuning\n",
    "\n",
    "For large data sets, it is impossible to try every combination of models and parameters.\n",
    "\n",
    "So instead we use *heuristics*, which do not guarantee the best model but tend to work well in practice.\n",
    "\n",
    "- **randomized search**: try random combinations of parameters, implemented in Scikit-Learn as `RandomizedSearchCV`.\n",
    "- **coordinate optimization**:\n",
    "    - start with guesses for all parameters,\n",
    "    - try all values for *one* parameter (holding the rest constant) and find the best value of that parameter,\n",
    "    - cycle through the parameters.\n",
    " "
   ]
  }
 ],
 "metadata": {
  "kernelspec": {
   "display_name": "datasci112 (3.12.3)",
   "language": "python",
   "name": "python3"
  },
  "language_info": {
   "codemirror_mode": {
    "name": "ipython",
    "version": 3
   },
   "file_extension": ".py",
   "mimetype": "text/x-python",
   "name": "python",
   "nbconvert_exporter": "python",
   "pygments_lexer": "ipython3",
   "version": "3.12.3"
  }
 },
 "nbformat": 4,
 "nbformat_minor": 5
}
