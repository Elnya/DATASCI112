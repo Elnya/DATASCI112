{
 "cells": [
  {
   "cell_type": "markdown",
   "id": "d45b119b",
   "metadata": {},
   "source": [
    "# $K$-Nearest Neighbors"
   ]
  },
  {
   "cell_type": "markdown",
   "id": "17b5794f",
   "metadata": {},
   "source": [
    "## What is Maching Learning?"
   ]
  },
  {
   "cell_type": "markdown",
   "id": "9d098dc2",
   "metadata": {
    "vscode": {
     "languageId": "plaintext"
    }
   },
   "source": [
    "**Learning:** devising a rule for making a decision based on inputs.\n",
    "\n",
    "- Inputs: $\\mathrm{x}$\n",
    "- Decision: $y$\n",
    "- Goal of Machine Learning: Estimate the rule $f$ from data $(\\mathrm{x}_{i}, y_i)$\n",
    "\n",
    "The decision $y$ is typically called the **target** or **label**."
   ]
  },
  {
   "cell_type": "markdown",
   "id": "36512097",
   "metadata": {},
   "source": [
    "## Two Types of Machine Learning Problems\n",
    "\n",
    "Machine learning problems are grouped into two types, based on the type of $y$:\n",
    "\n",
    "- **Regression**: The label $y$ is quantitative.\n",
    "- **Classification**: The label $y$ is categorical. \n",
    "\n",
    "Note that the input feature $\\mathrm{x}$ may be categorical, quantitative, or a mix of the two.\n",
    "\n",
    "We will initially focus on regression problems."
   ]
  },
  {
   "cell_type": "markdown",
   "id": "d721b640",
   "metadata": {},
   "source": [
    "## Predicting Wine Quality\n",
    "Orley Ashenfelter, an economics professor, used summer temperature and winter rainfall to predict the price of Bordeaux wines."
   ]
  },
  {
   "cell_type": "code",
   "execution_count": 34,
   "id": "7fc3d846",
   "metadata": {},
   "outputs": [
    {
     "name": "stdout",
     "output_type": "stream",
     "text": [
      "--2025-08-09 11:45:45--  https://dlsun.github.io/pods/data/bordeaux.csv\n",
      "Resolving dlsun.github.io (dlsun.github.io)... 185.199.111.153, 185.199.108.153, 185.199.109.153, ...\n",
      "Connecting to dlsun.github.io (dlsun.github.io)|185.199.111.153|:443... connected.\n",
      "HTTP request sent, awaiting response... 200 OK\n",
      "Length: 1093 (1.1K) [text/csv]\n",
      "Saving to: ‘bordeaux.csv.2’\n",
      "\n",
      "bordeaux.csv.2      100%[===================>]   1.07K  --.-KB/s    in 0s      \n",
      "\n",
      "2025-08-09 11:45:45 (94.2 MB/s) - ‘bordeaux.csv.2’ saved [1093/1093]\n",
      "\n"
     ]
    },
    {
     "data": {
      "text/html": [
       "<div>\n",
       "<style scoped>\n",
       "    .dataframe tbody tr th:only-of-type {\n",
       "        vertical-align: middle;\n",
       "    }\n",
       "\n",
       "    .dataframe tbody tr th {\n",
       "        vertical-align: top;\n",
       "    }\n",
       "\n",
       "    .dataframe thead th {\n",
       "        text-align: right;\n",
       "    }\n",
       "</style>\n",
       "<table border=\"1\" class=\"dataframe\">\n",
       "  <thead>\n",
       "    <tr style=\"text-align: right;\">\n",
       "      <th></th>\n",
       "      <th>price</th>\n",
       "      <th>summer</th>\n",
       "      <th>har</th>\n",
       "      <th>sep</th>\n",
       "      <th>win</th>\n",
       "      <th>age</th>\n",
       "    </tr>\n",
       "    <tr>\n",
       "      <th>year</th>\n",
       "      <th></th>\n",
       "      <th></th>\n",
       "      <th></th>\n",
       "      <th></th>\n",
       "      <th></th>\n",
       "      <th></th>\n",
       "    </tr>\n",
       "  </thead>\n",
       "  <tbody>\n",
       "    <tr>\n",
       "      <th>1952</th>\n",
       "      <td>37.0</td>\n",
       "      <td>17.1</td>\n",
       "      <td>160</td>\n",
       "      <td>14.3</td>\n",
       "      <td>600</td>\n",
       "      <td>40</td>\n",
       "    </tr>\n",
       "    <tr>\n",
       "      <th>1953</th>\n",
       "      <td>63.0</td>\n",
       "      <td>16.7</td>\n",
       "      <td>80</td>\n",
       "      <td>17.3</td>\n",
       "      <td>690</td>\n",
       "      <td>39</td>\n",
       "    </tr>\n",
       "    <tr>\n",
       "      <th>1955</th>\n",
       "      <td>45.0</td>\n",
       "      <td>17.1</td>\n",
       "      <td>130</td>\n",
       "      <td>16.8</td>\n",
       "      <td>502</td>\n",
       "      <td>37</td>\n",
       "    </tr>\n",
       "    <tr>\n",
       "      <th>1957</th>\n",
       "      <td>22.0</td>\n",
       "      <td>16.1</td>\n",
       "      <td>110</td>\n",
       "      <td>16.2</td>\n",
       "      <td>420</td>\n",
       "      <td>35</td>\n",
       "    </tr>\n",
       "    <tr>\n",
       "      <th>1958</th>\n",
       "      <td>18.0</td>\n",
       "      <td>16.4</td>\n",
       "      <td>187</td>\n",
       "      <td>19.1</td>\n",
       "      <td>582</td>\n",
       "      <td>34</td>\n",
       "    </tr>\n",
       "    <tr>\n",
       "      <th>1959</th>\n",
       "      <td>66.0</td>\n",
       "      <td>17.5</td>\n",
       "      <td>187</td>\n",
       "      <td>18.7</td>\n",
       "      <td>485</td>\n",
       "      <td>33</td>\n",
       "    </tr>\n",
       "    <tr>\n",
       "      <th>1960</th>\n",
       "      <td>14.0</td>\n",
       "      <td>16.4</td>\n",
       "      <td>290</td>\n",
       "      <td>15.8</td>\n",
       "      <td>763</td>\n",
       "      <td>32</td>\n",
       "    </tr>\n",
       "    <tr>\n",
       "      <th>1961</th>\n",
       "      <td>100.0</td>\n",
       "      <td>17.3</td>\n",
       "      <td>38</td>\n",
       "      <td>20.4</td>\n",
       "      <td>830</td>\n",
       "      <td>31</td>\n",
       "    </tr>\n",
       "    <tr>\n",
       "      <th>1962</th>\n",
       "      <td>33.0</td>\n",
       "      <td>16.3</td>\n",
       "      <td>52</td>\n",
       "      <td>17.2</td>\n",
       "      <td>697</td>\n",
       "      <td>30</td>\n",
       "    </tr>\n",
       "    <tr>\n",
       "      <th>1963</th>\n",
       "      <td>17.0</td>\n",
       "      <td>15.7</td>\n",
       "      <td>155</td>\n",
       "      <td>16.2</td>\n",
       "      <td>608</td>\n",
       "      <td>29</td>\n",
       "    </tr>\n",
       "    <tr>\n",
       "      <th>1964</th>\n",
       "      <td>31.0</td>\n",
       "      <td>17.3</td>\n",
       "      <td>96</td>\n",
       "      <td>18.8</td>\n",
       "      <td>402</td>\n",
       "      <td>28</td>\n",
       "    </tr>\n",
       "    <tr>\n",
       "      <th>1965</th>\n",
       "      <td>11.0</td>\n",
       "      <td>15.4</td>\n",
       "      <td>267</td>\n",
       "      <td>14.8</td>\n",
       "      <td>602</td>\n",
       "      <td>27</td>\n",
       "    </tr>\n",
       "    <tr>\n",
       "      <th>1966</th>\n",
       "      <td>47.0</td>\n",
       "      <td>16.5</td>\n",
       "      <td>86</td>\n",
       "      <td>18.4</td>\n",
       "      <td>819</td>\n",
       "      <td>26</td>\n",
       "    </tr>\n",
       "    <tr>\n",
       "      <th>1967</th>\n",
       "      <td>19.0</td>\n",
       "      <td>16.2</td>\n",
       "      <td>118</td>\n",
       "      <td>16.5</td>\n",
       "      <td>714</td>\n",
       "      <td>25</td>\n",
       "    </tr>\n",
       "    <tr>\n",
       "      <th>1968</th>\n",
       "      <td>11.0</td>\n",
       "      <td>16.2</td>\n",
       "      <td>292</td>\n",
       "      <td>16.4</td>\n",
       "      <td>610</td>\n",
       "      <td>24</td>\n",
       "    </tr>\n",
       "    <tr>\n",
       "      <th>1969</th>\n",
       "      <td>12.0</td>\n",
       "      <td>16.5</td>\n",
       "      <td>244</td>\n",
       "      <td>16.6</td>\n",
       "      <td>575</td>\n",
       "      <td>23</td>\n",
       "    </tr>\n",
       "    <tr>\n",
       "      <th>1970</th>\n",
       "      <td>40.0</td>\n",
       "      <td>16.7</td>\n",
       "      <td>89</td>\n",
       "      <td>18.0</td>\n",
       "      <td>622</td>\n",
       "      <td>22</td>\n",
       "    </tr>\n",
       "    <tr>\n",
       "      <th>1971</th>\n",
       "      <td>27.0</td>\n",
       "      <td>16.8</td>\n",
       "      <td>112</td>\n",
       "      <td>16.9</td>\n",
       "      <td>551</td>\n",
       "      <td>21</td>\n",
       "    </tr>\n",
       "    <tr>\n",
       "      <th>1972</th>\n",
       "      <td>10.0</td>\n",
       "      <td>15.0</td>\n",
       "      <td>158</td>\n",
       "      <td>14.6</td>\n",
       "      <td>536</td>\n",
       "      <td>20</td>\n",
       "    </tr>\n",
       "    <tr>\n",
       "      <th>1973</th>\n",
       "      <td>16.0</td>\n",
       "      <td>17.1</td>\n",
       "      <td>123</td>\n",
       "      <td>17.9</td>\n",
       "      <td>376</td>\n",
       "      <td>19</td>\n",
       "    </tr>\n",
       "    <tr>\n",
       "      <th>1974</th>\n",
       "      <td>11.0</td>\n",
       "      <td>16.3</td>\n",
       "      <td>184</td>\n",
       "      <td>16.2</td>\n",
       "      <td>574</td>\n",
       "      <td>18</td>\n",
       "    </tr>\n",
       "    <tr>\n",
       "      <th>1975</th>\n",
       "      <td>30.0</td>\n",
       "      <td>16.9</td>\n",
       "      <td>171</td>\n",
       "      <td>17.2</td>\n",
       "      <td>572</td>\n",
       "      <td>17</td>\n",
       "    </tr>\n",
       "    <tr>\n",
       "      <th>1976</th>\n",
       "      <td>25.0</td>\n",
       "      <td>17.6</td>\n",
       "      <td>247</td>\n",
       "      <td>16.1</td>\n",
       "      <td>418</td>\n",
       "      <td>16</td>\n",
       "    </tr>\n",
       "    <tr>\n",
       "      <th>1977</th>\n",
       "      <td>11.0</td>\n",
       "      <td>15.6</td>\n",
       "      <td>87</td>\n",
       "      <td>16.8</td>\n",
       "      <td>821</td>\n",
       "      <td>15</td>\n",
       "    </tr>\n",
       "    <tr>\n",
       "      <th>1978</th>\n",
       "      <td>27.0</td>\n",
       "      <td>15.8</td>\n",
       "      <td>51</td>\n",
       "      <td>17.4</td>\n",
       "      <td>763</td>\n",
       "      <td>14</td>\n",
       "    </tr>\n",
       "    <tr>\n",
       "      <th>1979</th>\n",
       "      <td>21.0</td>\n",
       "      <td>16.2</td>\n",
       "      <td>122</td>\n",
       "      <td>17.3</td>\n",
       "      <td>717</td>\n",
       "      <td>13</td>\n",
       "    </tr>\n",
       "    <tr>\n",
       "      <th>1980</th>\n",
       "      <td>14.0</td>\n",
       "      <td>16.0</td>\n",
       "      <td>74</td>\n",
       "      <td>18.4</td>\n",
       "      <td>578</td>\n",
       "      <td>12</td>\n",
       "    </tr>\n",
       "    <tr>\n",
       "      <th>1981</th>\n",
       "      <td>NaN</td>\n",
       "      <td>17.0</td>\n",
       "      <td>111</td>\n",
       "      <td>18.0</td>\n",
       "      <td>535</td>\n",
       "      <td>11</td>\n",
       "    </tr>\n",
       "    <tr>\n",
       "      <th>1982</th>\n",
       "      <td>NaN</td>\n",
       "      <td>17.4</td>\n",
       "      <td>162</td>\n",
       "      <td>18.5</td>\n",
       "      <td>712</td>\n",
       "      <td>10</td>\n",
       "    </tr>\n",
       "    <tr>\n",
       "      <th>1983</th>\n",
       "      <td>NaN</td>\n",
       "      <td>17.4</td>\n",
       "      <td>119</td>\n",
       "      <td>17.9</td>\n",
       "      <td>845</td>\n",
       "      <td>9</td>\n",
       "    </tr>\n",
       "    <tr>\n",
       "      <th>1984</th>\n",
       "      <td>NaN</td>\n",
       "      <td>16.5</td>\n",
       "      <td>119</td>\n",
       "      <td>16.0</td>\n",
       "      <td>591</td>\n",
       "      <td>8</td>\n",
       "    </tr>\n",
       "    <tr>\n",
       "      <th>1985</th>\n",
       "      <td>NaN</td>\n",
       "      <td>16.8</td>\n",
       "      <td>38</td>\n",
       "      <td>18.9</td>\n",
       "      <td>744</td>\n",
       "      <td>7</td>\n",
       "    </tr>\n",
       "    <tr>\n",
       "      <th>1986</th>\n",
       "      <td>NaN</td>\n",
       "      <td>16.3</td>\n",
       "      <td>171</td>\n",
       "      <td>17.5</td>\n",
       "      <td>563</td>\n",
       "      <td>6</td>\n",
       "    </tr>\n",
       "    <tr>\n",
       "      <th>1987</th>\n",
       "      <td>NaN</td>\n",
       "      <td>17.0</td>\n",
       "      <td>115</td>\n",
       "      <td>18.9</td>\n",
       "      <td>452</td>\n",
       "      <td>5</td>\n",
       "    </tr>\n",
       "    <tr>\n",
       "      <th>1988</th>\n",
       "      <td>NaN</td>\n",
       "      <td>17.1</td>\n",
       "      <td>59</td>\n",
       "      <td>16.8</td>\n",
       "      <td>808</td>\n",
       "      <td>4</td>\n",
       "    </tr>\n",
       "    <tr>\n",
       "      <th>1989</th>\n",
       "      <td>NaN</td>\n",
       "      <td>18.6</td>\n",
       "      <td>82</td>\n",
       "      <td>18.4</td>\n",
       "      <td>443</td>\n",
       "      <td>3</td>\n",
       "    </tr>\n",
       "    <tr>\n",
       "      <th>1990</th>\n",
       "      <td>NaN</td>\n",
       "      <td>18.7</td>\n",
       "      <td>80</td>\n",
       "      <td>19.3</td>\n",
       "      <td>468</td>\n",
       "      <td>2</td>\n",
       "    </tr>\n",
       "    <tr>\n",
       "      <th>1991</th>\n",
       "      <td>NaN</td>\n",
       "      <td>17.7</td>\n",
       "      <td>183</td>\n",
       "      <td>20.4</td>\n",
       "      <td>570</td>\n",
       "      <td>1</td>\n",
       "    </tr>\n",
       "  </tbody>\n",
       "</table>\n",
       "</div>"
      ],
      "text/plain": [
       "      price  summer  har   sep  win  age\n",
       "year                                    \n",
       "1952   37.0    17.1  160  14.3  600   40\n",
       "1953   63.0    16.7   80  17.3  690   39\n",
       "1955   45.0    17.1  130  16.8  502   37\n",
       "1957   22.0    16.1  110  16.2  420   35\n",
       "1958   18.0    16.4  187  19.1  582   34\n",
       "1959   66.0    17.5  187  18.7  485   33\n",
       "1960   14.0    16.4  290  15.8  763   32\n",
       "1961  100.0    17.3   38  20.4  830   31\n",
       "1962   33.0    16.3   52  17.2  697   30\n",
       "1963   17.0    15.7  155  16.2  608   29\n",
       "1964   31.0    17.3   96  18.8  402   28\n",
       "1965   11.0    15.4  267  14.8  602   27\n",
       "1966   47.0    16.5   86  18.4  819   26\n",
       "1967   19.0    16.2  118  16.5  714   25\n",
       "1968   11.0    16.2  292  16.4  610   24\n",
       "1969   12.0    16.5  244  16.6  575   23\n",
       "1970   40.0    16.7   89  18.0  622   22\n",
       "1971   27.0    16.8  112  16.9  551   21\n",
       "1972   10.0    15.0  158  14.6  536   20\n",
       "1973   16.0    17.1  123  17.9  376   19\n",
       "1974   11.0    16.3  184  16.2  574   18\n",
       "1975   30.0    16.9  171  17.2  572   17\n",
       "1976   25.0    17.6  247  16.1  418   16\n",
       "1977   11.0    15.6   87  16.8  821   15\n",
       "1978   27.0    15.8   51  17.4  763   14\n",
       "1979   21.0    16.2  122  17.3  717   13\n",
       "1980   14.0    16.0   74  18.4  578   12\n",
       "1981    NaN    17.0  111  18.0  535   11\n",
       "1982    NaN    17.4  162  18.5  712   10\n",
       "1983    NaN    17.4  119  17.9  845    9\n",
       "1984    NaN    16.5  119  16.0  591    8\n",
       "1985    NaN    16.8   38  18.9  744    7\n",
       "1986    NaN    16.3  171  17.5  563    6\n",
       "1987    NaN    17.0  115  18.9  452    5\n",
       "1988    NaN    17.1   59  16.8  808    4\n",
       "1989    NaN    18.6   82  18.4  443    3\n",
       "1990    NaN    18.7   80  19.3  468    2\n",
       "1991    NaN    17.7  183  20.4  570    1"
      ]
     },
     "execution_count": 34,
     "metadata": {},
     "output_type": "execute_result"
    }
   ],
   "source": [
    "! cd data && wget https://dlsun.github.io/pods/data/bordeaux.csv\n",
    "\n",
    "import pandas as pd\n",
    "\n",
    "df = pd.read_csv(\"data/bordeaux.csv\", index_col=\"year\")\n",
    "df"
   ]
  },
  {
   "cell_type": "markdown",
   "id": "b25c008a",
   "metadata": {},
   "source": [
    "## Visualizing the Data"
   ]
  },
  {
   "cell_type": "code",
   "execution_count": 76,
   "id": "90692b13",
   "metadata": {},
   "outputs": [
    {
     "data": {
      "application/vnd.plotly.v1+json": {
       "config": {
        "plotlyServerURL": "https://plot.ly"
       },
       "data": [
        {
         "hovertemplate": "win=%{x}<br>summer=%{y}<br>price=%{marker.color}<extra></extra>",
         "legendgroup": "",
         "marker": {
          "color": {
           "bdata": "AAAAAACAQkAAAAAAAIBPQAAAAAAAgEZAAAAAAAAANkAAAAAAAAAyQAAAAAAAgFBAAAAAAAAALEAAAAAAAABZQAAAAAAAgEBAAAAAAAAAMUAAAAAAAAA/QAAAAAAAACZAAAAAAACAR0AAAAAAAAAzQAAAAAAAACZAAAAAAAAAKEAAAAAAAABEQAAAAAAAADtAAAAAAAAAJEAAAAAAAAAwQAAAAAAAACZAAAAAAAAAPkAAAAAAAAA5QAAAAAAAACZAAAAAAAAAO0AAAAAAAAA1QAAAAAAAACxA",
           "dtype": "f8"
          },
          "coloraxis": "coloraxis",
          "symbol": "circle"
         },
         "mode": "markers",
         "name": "",
         "orientation": "v",
         "showlegend": false,
         "type": "scatter",
         "x": {
          "bdata": "WAKyAvYBpAFGAuUB+wI+A7kCYAKSAVoCMwPKAmICPwJuAicCGAJ4AT4CPAKiATUD+wLNAkIC",
          "dtype": "i2"
         },
         "xaxis": "x",
         "y": {
          "bdata": "mpmZmZkZMUAzMzMzM7MwQJqZmZmZGTFAmpmZmZkZMEBmZmZmZmYwQAAAAAAAgDFAZmZmZmZmMEDNzMzMzEwxQM3MzMzMTDBAZmZmZmZmL0DNzMzMzEwxQM3MzMzMzC5AAAAAAACAMEAzMzMzMzMwQDMzMzMzMzBAAAAAAACAMEAzMzMzM7MwQM3MzMzMzDBAAAAAAAAALkCamZmZmRkxQM3MzMzMTDBAZmZmZmbmMECamZmZmZkxQDMzMzMzMy9AmpmZmZmZL0AzMzMzMzMwQAAAAAAAADBA",
          "dtype": "f8"
         },
         "yaxis": "y"
        },
        {
         "hovertemplate": "win=%{x}<br>summer=%{y}<extra></extra>",
         "legendgroup": "",
         "marker": {
          "color": "#636efa",
          "symbol": "circle-open"
         },
         "mode": "markers",
         "name": "",
         "orientation": "v",
         "showlegend": false,
         "type": "scatter",
         "x": {
          "bdata": "FwLIAk0DTwLoAjMCxAEoA7sB1AE6Ag==",
          "dtype": "i2"
         },
         "xaxis": "x",
         "y": {
          "bdata": "AAAAAAAAMUBmZmZmZmYxQGZmZmZmZjFAAAAAAACAMEDNzMzMzMwwQM3MzMzMTDBAAAAAAAAAMUCamZmZmRkxQJqZmZmZmTJAMzMzMzOzMkAzMzMzM7MxQA==",
          "dtype": "f8"
         },
         "yaxis": "y"
        },
        {
         "marker": {
          "color": "red",
          "size": 10,
          "symbol": "star"
         },
         "mode": "markers+text",
         "name": "1986",
         "text": [
          "1986"
         ],
         "textposition": "top center",
         "type": "scatter",
         "x": {
          "bdata": "AAAAAACYgUA=",
          "dtype": "f8"
         },
         "y": {
          "bdata": "zczMzMxMMEA=",
          "dtype": "f8"
         }
        }
       ],
       "layout": {
        "coloraxis": {
         "colorbar": {
          "title": {
           "text": "price"
          }
         },
         "colorscale": [
          [
           0,
           "#0d0887"
          ],
          [
           0.1111111111111111,
           "#46039f"
          ],
          [
           0.2222222222222222,
           "#7201a8"
          ],
          [
           0.3333333333333333,
           "#9c179e"
          ],
          [
           0.4444444444444444,
           "#bd3786"
          ],
          [
           0.5555555555555556,
           "#d8576b"
          ],
          [
           0.6666666666666666,
           "#ed7953"
          ],
          [
           0.7777777777777778,
           "#fb9f3a"
          ],
          [
           0.8888888888888888,
           "#fdca26"
          ],
          [
           1,
           "#f0f921"
          ]
         ]
        },
        "legend": {
         "tracegroupgap": 0
        },
        "margin": {
         "t": 60
        },
        "template": {
         "data": {
          "bar": [
           {
            "error_x": {
             "color": "#2a3f5f"
            },
            "error_y": {
             "color": "#2a3f5f"
            },
            "marker": {
             "line": {
              "color": "#E5ECF6",
              "width": 0.5
             },
             "pattern": {
              "fillmode": "overlay",
              "size": 10,
              "solidity": 0.2
             }
            },
            "type": "bar"
           }
          ],
          "barpolar": [
           {
            "marker": {
             "line": {
              "color": "#E5ECF6",
              "width": 0.5
             },
             "pattern": {
              "fillmode": "overlay",
              "size": 10,
              "solidity": 0.2
             }
            },
            "type": "barpolar"
           }
          ],
          "carpet": [
           {
            "aaxis": {
             "endlinecolor": "#2a3f5f",
             "gridcolor": "white",
             "linecolor": "white",
             "minorgridcolor": "white",
             "startlinecolor": "#2a3f5f"
            },
            "baxis": {
             "endlinecolor": "#2a3f5f",
             "gridcolor": "white",
             "linecolor": "white",
             "minorgridcolor": "white",
             "startlinecolor": "#2a3f5f"
            },
            "type": "carpet"
           }
          ],
          "choropleth": [
           {
            "colorbar": {
             "outlinewidth": 0,
             "ticks": ""
            },
            "type": "choropleth"
           }
          ],
          "contour": [
           {
            "colorbar": {
             "outlinewidth": 0,
             "ticks": ""
            },
            "colorscale": [
             [
              0,
              "#0d0887"
             ],
             [
              0.1111111111111111,
              "#46039f"
             ],
             [
              0.2222222222222222,
              "#7201a8"
             ],
             [
              0.3333333333333333,
              "#9c179e"
             ],
             [
              0.4444444444444444,
              "#bd3786"
             ],
             [
              0.5555555555555556,
              "#d8576b"
             ],
             [
              0.6666666666666666,
              "#ed7953"
             ],
             [
              0.7777777777777778,
              "#fb9f3a"
             ],
             [
              0.8888888888888888,
              "#fdca26"
             ],
             [
              1,
              "#f0f921"
             ]
            ],
            "type": "contour"
           }
          ],
          "contourcarpet": [
           {
            "colorbar": {
             "outlinewidth": 0,
             "ticks": ""
            },
            "type": "contourcarpet"
           }
          ],
          "heatmap": [
           {
            "colorbar": {
             "outlinewidth": 0,
             "ticks": ""
            },
            "colorscale": [
             [
              0,
              "#0d0887"
             ],
             [
              0.1111111111111111,
              "#46039f"
             ],
             [
              0.2222222222222222,
              "#7201a8"
             ],
             [
              0.3333333333333333,
              "#9c179e"
             ],
             [
              0.4444444444444444,
              "#bd3786"
             ],
             [
              0.5555555555555556,
              "#d8576b"
             ],
             [
              0.6666666666666666,
              "#ed7953"
             ],
             [
              0.7777777777777778,
              "#fb9f3a"
             ],
             [
              0.8888888888888888,
              "#fdca26"
             ],
             [
              1,
              "#f0f921"
             ]
            ],
            "type": "heatmap"
           }
          ],
          "histogram": [
           {
            "marker": {
             "pattern": {
              "fillmode": "overlay",
              "size": 10,
              "solidity": 0.2
             }
            },
            "type": "histogram"
           }
          ],
          "histogram2d": [
           {
            "colorbar": {
             "outlinewidth": 0,
             "ticks": ""
            },
            "colorscale": [
             [
              0,
              "#0d0887"
             ],
             [
              0.1111111111111111,
              "#46039f"
             ],
             [
              0.2222222222222222,
              "#7201a8"
             ],
             [
              0.3333333333333333,
              "#9c179e"
             ],
             [
              0.4444444444444444,
              "#bd3786"
             ],
             [
              0.5555555555555556,
              "#d8576b"
             ],
             [
              0.6666666666666666,
              "#ed7953"
             ],
             [
              0.7777777777777778,
              "#fb9f3a"
             ],
             [
              0.8888888888888888,
              "#fdca26"
             ],
             [
              1,
              "#f0f921"
             ]
            ],
            "type": "histogram2d"
           }
          ],
          "histogram2dcontour": [
           {
            "colorbar": {
             "outlinewidth": 0,
             "ticks": ""
            },
            "colorscale": [
             [
              0,
              "#0d0887"
             ],
             [
              0.1111111111111111,
              "#46039f"
             ],
             [
              0.2222222222222222,
              "#7201a8"
             ],
             [
              0.3333333333333333,
              "#9c179e"
             ],
             [
              0.4444444444444444,
              "#bd3786"
             ],
             [
              0.5555555555555556,
              "#d8576b"
             ],
             [
              0.6666666666666666,
              "#ed7953"
             ],
             [
              0.7777777777777778,
              "#fb9f3a"
             ],
             [
              0.8888888888888888,
              "#fdca26"
             ],
             [
              1,
              "#f0f921"
             ]
            ],
            "type": "histogram2dcontour"
           }
          ],
          "mesh3d": [
           {
            "colorbar": {
             "outlinewidth": 0,
             "ticks": ""
            },
            "type": "mesh3d"
           }
          ],
          "parcoords": [
           {
            "line": {
             "colorbar": {
              "outlinewidth": 0,
              "ticks": ""
             }
            },
            "type": "parcoords"
           }
          ],
          "pie": [
           {
            "automargin": true,
            "type": "pie"
           }
          ],
          "scatter": [
           {
            "fillpattern": {
             "fillmode": "overlay",
             "size": 10,
             "solidity": 0.2
            },
            "type": "scatter"
           }
          ],
          "scatter3d": [
           {
            "line": {
             "colorbar": {
              "outlinewidth": 0,
              "ticks": ""
             }
            },
            "marker": {
             "colorbar": {
              "outlinewidth": 0,
              "ticks": ""
             }
            },
            "type": "scatter3d"
           }
          ],
          "scattercarpet": [
           {
            "marker": {
             "colorbar": {
              "outlinewidth": 0,
              "ticks": ""
             }
            },
            "type": "scattercarpet"
           }
          ],
          "scattergeo": [
           {
            "marker": {
             "colorbar": {
              "outlinewidth": 0,
              "ticks": ""
             }
            },
            "type": "scattergeo"
           }
          ],
          "scattergl": [
           {
            "marker": {
             "colorbar": {
              "outlinewidth": 0,
              "ticks": ""
             }
            },
            "type": "scattergl"
           }
          ],
          "scattermap": [
           {
            "marker": {
             "colorbar": {
              "outlinewidth": 0,
              "ticks": ""
             }
            },
            "type": "scattermap"
           }
          ],
          "scattermapbox": [
           {
            "marker": {
             "colorbar": {
              "outlinewidth": 0,
              "ticks": ""
             }
            },
            "type": "scattermapbox"
           }
          ],
          "scatterpolar": [
           {
            "marker": {
             "colorbar": {
              "outlinewidth": 0,
              "ticks": ""
             }
            },
            "type": "scatterpolar"
           }
          ],
          "scatterpolargl": [
           {
            "marker": {
             "colorbar": {
              "outlinewidth": 0,
              "ticks": ""
             }
            },
            "type": "scatterpolargl"
           }
          ],
          "scatterternary": [
           {
            "marker": {
             "colorbar": {
              "outlinewidth": 0,
              "ticks": ""
             }
            },
            "type": "scatterternary"
           }
          ],
          "surface": [
           {
            "colorbar": {
             "outlinewidth": 0,
             "ticks": ""
            },
            "colorscale": [
             [
              0,
              "#0d0887"
             ],
             [
              0.1111111111111111,
              "#46039f"
             ],
             [
              0.2222222222222222,
              "#7201a8"
             ],
             [
              0.3333333333333333,
              "#9c179e"
             ],
             [
              0.4444444444444444,
              "#bd3786"
             ],
             [
              0.5555555555555556,
              "#d8576b"
             ],
             [
              0.6666666666666666,
              "#ed7953"
             ],
             [
              0.7777777777777778,
              "#fb9f3a"
             ],
             [
              0.8888888888888888,
              "#fdca26"
             ],
             [
              1,
              "#f0f921"
             ]
            ],
            "type": "surface"
           }
          ],
          "table": [
           {
            "cells": {
             "fill": {
              "color": "#EBF0F8"
             },
             "line": {
              "color": "white"
             }
            },
            "header": {
             "fill": {
              "color": "#C8D4E3"
             },
             "line": {
              "color": "white"
             }
            },
            "type": "table"
           }
          ]
         },
         "layout": {
          "annotationdefaults": {
           "arrowcolor": "#2a3f5f",
           "arrowhead": 0,
           "arrowwidth": 1
          },
          "autotypenumbers": "strict",
          "coloraxis": {
           "colorbar": {
            "outlinewidth": 0,
            "ticks": ""
           }
          },
          "colorscale": {
           "diverging": [
            [
             0,
             "#8e0152"
            ],
            [
             0.1,
             "#c51b7d"
            ],
            [
             0.2,
             "#de77ae"
            ],
            [
             0.3,
             "#f1b6da"
            ],
            [
             0.4,
             "#fde0ef"
            ],
            [
             0.5,
             "#f7f7f7"
            ],
            [
             0.6,
             "#e6f5d0"
            ],
            [
             0.7,
             "#b8e186"
            ],
            [
             0.8,
             "#7fbc41"
            ],
            [
             0.9,
             "#4d9221"
            ],
            [
             1,
             "#276419"
            ]
           ],
           "sequential": [
            [
             0,
             "#0d0887"
            ],
            [
             0.1111111111111111,
             "#46039f"
            ],
            [
             0.2222222222222222,
             "#7201a8"
            ],
            [
             0.3333333333333333,
             "#9c179e"
            ],
            [
             0.4444444444444444,
             "#bd3786"
            ],
            [
             0.5555555555555556,
             "#d8576b"
            ],
            [
             0.6666666666666666,
             "#ed7953"
            ],
            [
             0.7777777777777778,
             "#fb9f3a"
            ],
            [
             0.8888888888888888,
             "#fdca26"
            ],
            [
             1,
             "#f0f921"
            ]
           ],
           "sequentialminus": [
            [
             0,
             "#0d0887"
            ],
            [
             0.1111111111111111,
             "#46039f"
            ],
            [
             0.2222222222222222,
             "#7201a8"
            ],
            [
             0.3333333333333333,
             "#9c179e"
            ],
            [
             0.4444444444444444,
             "#bd3786"
            ],
            [
             0.5555555555555556,
             "#d8576b"
            ],
            [
             0.6666666666666666,
             "#ed7953"
            ],
            [
             0.7777777777777778,
             "#fb9f3a"
            ],
            [
             0.8888888888888888,
             "#fdca26"
            ],
            [
             1,
             "#f0f921"
            ]
           ]
          },
          "colorway": [
           "#636efa",
           "#EF553B",
           "#00cc96",
           "#ab63fa",
           "#FFA15A",
           "#19d3f3",
           "#FF6692",
           "#B6E880",
           "#FF97FF",
           "#FECB52"
          ],
          "font": {
           "color": "#2a3f5f"
          },
          "geo": {
           "bgcolor": "white",
           "lakecolor": "white",
           "landcolor": "#E5ECF6",
           "showlakes": true,
           "showland": true,
           "subunitcolor": "white"
          },
          "hoverlabel": {
           "align": "left"
          },
          "hovermode": "closest",
          "mapbox": {
           "style": "light"
          },
          "paper_bgcolor": "white",
          "plot_bgcolor": "#E5ECF6",
          "polar": {
           "angularaxis": {
            "gridcolor": "white",
            "linecolor": "white",
            "ticks": ""
           },
           "bgcolor": "#E5ECF6",
           "radialaxis": {
            "gridcolor": "white",
            "linecolor": "white",
            "ticks": ""
           }
          },
          "scene": {
           "xaxis": {
            "backgroundcolor": "#E5ECF6",
            "gridcolor": "white",
            "gridwidth": 2,
            "linecolor": "white",
            "showbackground": true,
            "ticks": "",
            "zerolinecolor": "white"
           },
           "yaxis": {
            "backgroundcolor": "#E5ECF6",
            "gridcolor": "white",
            "gridwidth": 2,
            "linecolor": "white",
            "showbackground": true,
            "ticks": "",
            "zerolinecolor": "white"
           },
           "zaxis": {
            "backgroundcolor": "#E5ECF6",
            "gridcolor": "white",
            "gridwidth": 2,
            "linecolor": "white",
            "showbackground": true,
            "ticks": "",
            "zerolinecolor": "white"
           }
          },
          "shapedefaults": {
           "line": {
            "color": "#2a3f5f"
           }
          },
          "ternary": {
           "aaxis": {
            "gridcolor": "white",
            "linecolor": "white",
            "ticks": ""
           },
           "baxis": {
            "gridcolor": "white",
            "linecolor": "white",
            "ticks": ""
           },
           "bgcolor": "#E5ECF6",
           "caxis": {
            "gridcolor": "white",
            "linecolor": "white",
            "ticks": ""
           }
          },
          "title": {
           "x": 0.05
          },
          "xaxis": {
           "automargin": true,
           "gridcolor": "white",
           "linecolor": "white",
           "ticks": "",
           "title": {
            "standoff": 15
           },
           "zerolinecolor": "white",
           "zerolinewidth": 2
          },
          "yaxis": {
           "automargin": true,
           "gridcolor": "white",
           "linecolor": "white",
           "ticks": "",
           "title": {
            "standoff": 15
           },
           "zerolinecolor": "white",
           "zerolinewidth": 2
          }
         }
        },
        "xaxis": {
         "anchor": "y",
         "domain": [
          0,
          1
         ],
         "title": {
          "text": "win"
         }
        },
        "yaxis": {
         "anchor": "x",
         "domain": [
          0,
          1
         ],
         "title": {
          "text": "summer"
         }
        }
       }
      }
     },
     "metadata": {},
     "output_type": "display_data"
    }
   ],
   "source": [
    "import plotly.express as px\n",
    "import plotly.graph_objects as go\n",
    "\n",
    "fig1 = px.scatter(df[~df[\"price\"].isnull()], \n",
    "                  x=\"win\", y=\"summer\", color=\"price\")\n",
    "\n",
    "fig2 = px.scatter(df[df[\"price\"].isnull()], \n",
    "                  x=\"win\", y=\"summer\", symbol_sequence=[\"circle-open\"])\n",
    "\n",
    "# set dataframe for hightlight (transpose the dataframe)\n",
    "df_highlight = pd.DataFrame(df.loc[1986]).T\n",
    "\n",
    "# add highlight to fig2\n",
    "fig2.add_scatter(x=df_highlight['win'], \n",
    "                 y=df_highlight['summer'], \n",
    "                 mode='markers+text', \n",
    "                 marker=dict(size=10, color='red', symbol='star'),\n",
    "                 text=[\"1986\"],\n",
    "                 textposition=\"top center\",\n",
    "                 name='1986')\n",
    "\n",
    "go.Figure(data=fig1.data + fig2.data, layout=fig1.layout)\n"
   ]
  },
  {
   "cell_type": "markdown",
   "id": "d0bd3d44",
   "metadata": {},
   "source": [
    "What would you predict is the quality of the 1986 wine?\n",
    "\n",
    "<u>Insight:</u> The \"closest\" wines are low quality, so the 1986 vintage is probably low quality as well.\n",
    "\n",
    "This is the intuition behind $k$**-nearest neighbor** regression.\n",
    "\n",
    "Today: implementing $k$-nearest neighbors"
   ]
  },
  {
   "cell_type": "markdown",
   "id": "4b38ddc7",
   "metadata": {},
   "source": [
    "## $K$-Nearest Neighbors\n",
    "\n",
    "The data for which we know the label $y$ is called the **training data**.\n",
    "\n",
    "The data for which we don't know $y$ (and want to predict it) is called the **test data**."
   ]
  },
  {
   "cell_type": "code",
   "execution_count": null,
   "id": "2e93b16d",
   "metadata": {},
   "outputs": [],
   "source": [
    "df_train = df.loc[:1980].copy()\n",
    "df_test = df.loc[1981:].copy()"
   ]
  },
  {
   "cell_type": "markdown",
   "id": "c167fceb",
   "metadata": {},
   "source": [
    "$K$-Nearest Neighbors\n",
    "\n",
    "1. For each observation in the test data, find the $k$ \"nearest\" observations in the training data based on input features $\\mathrm{x}$ (e.g., summer temperature and winter rainfall).\n",
    "2. To predict the label $y$ (e.g., price) for the test observation, average the labels of these $k$ \"nearest\" training observations."
   ]
  },
  {
   "cell_type": "markdown",
   "id": "1800dc2a",
   "metadata": {},
   "source": [
    "## $K$-Nearest Neighbors from Scratch\n",
    "\n",
    "Before computing distances, we should scale the variables."
   ]
  },
  {
   "cell_type": "code",
   "execution_count": null,
   "id": "ce0d6230",
   "metadata": {},
   "outputs": [],
   "source": [
    "X_train = df_train[[\"win\", \"summer\"]]\n",
    "y_train = df_train[\"price\"]\n",
    "\n",
    "# standardize the features\n",
    "X_train_mean = X_train.mean()\n",
    "X_train_std = X_train.std()\n",
    "X_train_scaled = (X_train - X_train_mean) / X_train_std"
   ]
  },
  {
   "cell_type": "markdown",
   "id": "08c4bdea",
   "metadata": {},
   "source": [
    "We should scale the test data in exactly same way."
   ]
  },
  {
   "cell_type": "code",
   "execution_count": null,
   "id": "c90edd27",
   "metadata": {},
   "outputs": [
    {
     "data": {
      "text/html": [
       "<div>\n",
       "<style scoped>\n",
       "    .dataframe tbody tr th:only-of-type {\n",
       "        vertical-align: middle;\n",
       "    }\n",
       "\n",
       "    .dataframe tbody tr th {\n",
       "        vertical-align: top;\n",
       "    }\n",
       "\n",
       "    .dataframe thead th {\n",
       "        text-align: right;\n",
       "    }\n",
       "</style>\n",
       "<table border=\"1\" class=\"dataframe\">\n",
       "  <thead>\n",
       "    <tr style=\"text-align: right;\">\n",
       "      <th></th>\n",
       "      <th>win</th>\n",
       "      <th>summer</th>\n",
       "    </tr>\n",
       "    <tr>\n",
       "      <th>year</th>\n",
       "      <th></th>\n",
       "      <th></th>\n",
       "    </tr>\n",
       "  </thead>\n",
       "  <tbody>\n",
       "    <tr>\n",
       "      <th>1981</th>\n",
       "      <td>-0.568896</td>\n",
       "      <td>0.812183</td>\n",
       "    </tr>\n",
       "    <tr>\n",
       "      <th>1982</th>\n",
       "      <td>0.802826</td>\n",
       "      <td>1.425581</td>\n",
       "    </tr>\n",
       "    <tr>\n",
       "      <th>1983</th>\n",
       "      <td>1.833554</td>\n",
       "      <td>1.425581</td>\n",
       "    </tr>\n",
       "    <tr>\n",
       "      <th>1984</th>\n",
       "      <td>-0.134905</td>\n",
       "      <td>0.045437</td>\n",
       "    </tr>\n",
       "    <tr>\n",
       "      <th>1985</th>\n",
       "      <td>1.050821</td>\n",
       "      <td>0.505485</td>\n",
       "    </tr>\n",
       "    <tr>\n",
       "      <th>1986</th>\n",
       "      <td>-0.351900</td>\n",
       "      <td>-0.261262</td>\n",
       "    </tr>\n",
       "    <tr>\n",
       "      <th>1987</th>\n",
       "      <td>-1.212132</td>\n",
       "      <td>0.812183</td>\n",
       "    </tr>\n",
       "    <tr>\n",
       "      <th>1988</th>\n",
       "      <td>1.546810</td>\n",
       "      <td>0.965533</td>\n",
       "    </tr>\n",
       "    <tr>\n",
       "      <th>1989</th>\n",
       "      <td>-1.281881</td>\n",
       "      <td>3.265772</td>\n",
       "    </tr>\n",
       "    <tr>\n",
       "      <th>1990</th>\n",
       "      <td>-1.088135</td>\n",
       "      <td>3.419122</td>\n",
       "    </tr>\n",
       "    <tr>\n",
       "      <th>1991</th>\n",
       "      <td>-0.297651</td>\n",
       "      <td>1.885629</td>\n",
       "    </tr>\n",
       "  </tbody>\n",
       "</table>\n",
       "</div>"
      ],
      "text/plain": [
       "           win    summer\n",
       "year                    \n",
       "1981 -0.568896  0.812183\n",
       "1982  0.802826  1.425581\n",
       "1983  1.833554  1.425581\n",
       "1984 -0.134905  0.045437\n",
       "1985  1.050821  0.505485\n",
       "1986 -0.351900 -0.261262\n",
       "1987 -1.212132  0.812183\n",
       "1988  1.546810  0.965533\n",
       "1989 -1.281881  3.265772\n",
       "1990 -1.088135  3.419122\n",
       "1991 -0.297651  1.885629"
      ]
     },
     "execution_count": 29,
     "metadata": {},
     "output_type": "execute_result"
    }
   ],
   "source": [
    "X_test = df_test[[\"win\", \"summer\"]]\n",
    "X_test_scaled = (X_test - X_train_mean) / X_train_std\n",
    "X_test_scaled"
   ]
  },
  {
   "cell_type": "markdown",
   "id": "482042f1",
   "metadata": {},
   "source": [
    "Next, we calculate the (Euclidean) distances between the vintage in the test set and the vintages in the training data."
   ]
  },
  {
   "cell_type": "code",
   "execution_count": null,
   "id": "6b110b12",
   "metadata": {},
   "outputs": [
    {
     "data": {
      "text/plain": [
       "year\n",
       "1952    1.259860\n",
       "1953    1.159726\n",
       "1955    1.314727\n",
       "1957    1.149883\n",
       "1958    0.212597\n",
       "1959    1.936933\n",
       "1960    1.557535\n",
       "1961    2.575503\n",
       "1962    1.038478\n",
       "1963    0.983970\n",
       "1964    1.976971\n",
       "1965    1.412851\n",
       "1966    2.007525\n",
       "1967    1.180230\n",
       "1968    0.395207\n",
       "1969    0.320488\n",
       "1970    0.765065\n",
       "1971    0.772366\n",
       "1972    2.004492\n",
       "1973    1.898753\n",
       "1974    0.085248\n",
       "1975    0.922736\n",
       "1976    2.288442\n",
       "1977    2.269387\n",
       "1978    1.729248\n",
       "1979    1.203287\n",
       "1980    0.474508\n",
       "dtype: float64"
      ]
     },
     "execution_count": 31,
     "metadata": {},
     "output_type": "execute_result"
    }
   ],
   "source": [
    "import numpy as np\n",
    "\n",
    "dists = np.sqrt(\n",
    "    ((X_test_scaled.loc[1986] - X_train_scaled) ** 2).sum(axis=1)\n",
    ")\n",
    "dists"
   ]
  },
  {
   "cell_type": "markdown",
   "id": "f54307f7",
   "metadata": {},
   "source": [
    "Now we just need to sort these distances and take the first $k = 5$."
   ]
  },
  {
   "cell_type": "code",
   "execution_count": 52,
   "id": "b3545385",
   "metadata": {},
   "outputs": [
    {
     "data": {
      "text/plain": [
       "Index([1974, 1958, 1969, 1968, 1980], dtype='int64', name='year')"
      ]
     },
     "execution_count": 52,
     "metadata": {},
     "output_type": "execute_result"
    }
   ],
   "source": [
    "index_nearest = dists.sort_values().index[:5]\n",
    "index_nearest"
   ]
  },
  {
   "cell_type": "markdown",
   "id": "18b14613",
   "metadata": {},
   "source": [
    "Finally, to make a prediction, we average the labels $y$ of these $k = 5$ nearest vintages in the training data."
   ]
  },
  {
   "cell_type": "code",
   "execution_count": 53,
   "id": "da6fd01f",
   "metadata": {},
   "outputs": [
    {
     "data": {
      "text/plain": [
       "np.float64(13.2)"
      ]
     },
     "execution_count": 53,
     "metadata": {},
     "output_type": "execute_result"
    }
   ],
   "source": [
    "y_train[index_nearest].mean()"
   ]
  },
  {
   "cell_type": "markdown",
   "id": "03be1870",
   "metadata": {},
   "source": [
    "That’s $13.20 for a bottle of wine. So 1986 is not a good vintage.\n",
    "\n",
    "How do we do this for every vintage in the test set?\n",
    "\n",
    "We can do this for every vintage in the test data by writing a `for` loop."
   ]
  },
  {
   "cell_type": "code",
   "execution_count": 55,
   "id": "4417560f",
   "metadata": {},
   "outputs": [
    {
     "name": "stdout",
     "output_type": "stream",
     "text": [
      "1981 None\n",
      "1982 None\n",
      "1983 None\n",
      "1984 None\n",
      "1985 None\n",
      "1986 None\n",
      "1987 None\n",
      "1988 None\n",
      "1989 None\n",
      "1990 None\n",
      "1991 None\n"
     ]
    }
   ],
   "source": [
    "def calculate_knn_prediction(test_obs_scaled):\n",
    "    # TODO: determine the k-nearest neighbors to test_obs_scaled\n",
    "    # TODO: calculate the mean label of the k-nearest neighbors\n",
    "    pass\n",
    "\n",
    "for year in range(1981, 1992):\n",
    "  print(year, calculate_knn_prediction(X_test_scaled.loc[year]))"
   ]
  },
  {
   "cell_type": "markdown",
   "id": "289bcb5d",
   "metadata": {},
   "source": [
    "If we want the predictions in a Pandas object, we can use the .`apply()` function."
   ]
  },
  {
   "cell_type": "code",
   "execution_count": 56,
   "id": "c309d6d3",
   "metadata": {},
   "outputs": [
    {
     "data": {
      "text/plain": [
       "year\n",
       "1981    None\n",
       "1982    None\n",
       "1983    None\n",
       "1984    None\n",
       "1985    None\n",
       "1986    None\n",
       "1987    None\n",
       "1988    None\n",
       "1989    None\n",
       "1990    None\n",
       "1991    None\n",
       "dtype: object"
      ]
     },
     "execution_count": 56,
     "metadata": {},
     "output_type": "execute_result"
    }
   ],
   "source": [
    "X_test_scaled.apply(calculate_knn_prediction, axis=\"columns\")"
   ]
  },
  {
   "cell_type": "markdown",
   "id": "a6b2f6da",
   "metadata": {},
   "source": [
    "## $K$-Nearest Neighbors in Scikit-Learn"
   ]
  },
  {
   "cell_type": "markdown",
   "id": "f2f1cc1f",
   "metadata": {},
   "source": [
    "Scikit-learn provieds a built-in model `KNeighborsRegressor` that fits $k$-nearest neighbors regression models.\n",
    "\n",
    "But first, we need to scale the training and test data."
   ]
  },
  {
   "cell_type": "code",
   "execution_count": 57,
   "id": "b48ed2fc",
   "metadata": {},
   "outputs": [],
   "source": [
    "from sklearn.preprocessing import StandardScaler\n",
    "\n",
    "scaler = StandardScaler()\n",
    "scaler.fit(X_train)\n",
    "X_train_scaled = scaler.transform(X_train)\n",
    "\n",
    "# Scale the test data using a scaler that was fit to the training data!\n",
    "X_test_scaled = scaler.transform(X_test)"
   ]
  },
  {
   "cell_type": "markdown",
   "id": "9e89de9a",
   "metadata": {},
   "source": [
    "Now, we fit $k$nearest neighbors using `KNeighborsRegressor`."
   ]
  },
  {
   "cell_type": "code",
   "execution_count": 58,
   "id": "fdc3689a",
   "metadata": {},
   "outputs": [
    {
     "data": {
      "text/plain": [
       "array([35.8, 54. , 52.2, 18.4, 35.6, 13.2, 37. , 51.4, 36.6, 36.6, 40.6])"
      ]
     },
     "execution_count": 58,
     "metadata": {},
     "output_type": "execute_result"
    }
   ],
   "source": [
    "from sklearn.neighbors import KNeighborsRegressor\n",
    "\n",
    "model = KNeighborsRegressor(n_neighbors=5)\n",
    "model.fit(X=X_train_scaled, y=y_train)\n",
    "model.predict(X=X_test_scaled)"
   ]
  },
  {
   "cell_type": "markdown",
   "id": "6de8f500",
   "metadata": {},
   "source": [
    "## Pipelines in Scikit-Learn\n",
    "\n",
    "In the code above, we had to be careful to standardize the training and test data in exactly the same way.\n",
    "\n",
    "Machine learning models typically involve many more preprocessing steps.\n",
    "\n",
    "Scikit-Learn's `Pipeline` allows us to chain steps together.\n"
   ]
  },
  {
   "cell_type": "code",
   "execution_count": 60,
   "id": "8fe80782",
   "metadata": {},
   "outputs": [],
   "source": [
    "from sklearn.pipeline import make_pipeline\n",
    "\n",
    "pipeline = make_pipeline(\n",
    "    StandardScaler(),\n",
    "    KNeighborsRegressor(n_neighbors=5)\n",
    ")"
   ]
  },
  {
   "cell_type": "markdown",
   "id": "b339e44f",
   "metadata": {},
   "source": [
    "We can use this `Pipeline` like any other machine learning model."
   ]
  },
  {
   "cell_type": "code",
   "execution_count": 61,
   "id": "19070be2",
   "metadata": {},
   "outputs": [
    {
     "data": {
      "text/plain": [
       "array([35.8, 54. , 52.2, 18.4, 35.6, 13.2, 37. , 51.4, 36.6, 36.6, 40.6])"
      ]
     },
     "execution_count": 61,
     "metadata": {},
     "output_type": "execute_result"
    }
   ],
   "source": [
    "pipeline.fit(X=X_train, y=y_train)\n",
    "pipeline.predict(X=X_test)"
   ]
  },
  {
   "cell_type": "markdown",
   "id": "992257d7",
   "metadata": {},
   "source": [
    "## Was Ashenfelter Right?\n",
    "\n",
    "Ashenfelter was wrong that 1986 would be a disappointing vintage!"
   ]
  }
 ],
 "metadata": {
  "kernelspec": {
   "display_name": "datasci112 (3.12.3)",
   "language": "python",
   "name": "python3"
  },
  "language_info": {
   "codemirror_mode": {
    "name": "ipython",
    "version": 3
   },
   "file_extension": ".py",
   "mimetype": "text/x-python",
   "name": "python",
   "nbconvert_exporter": "python",
   "pygments_lexer": "ipython3",
   "version": "3.12.3"
  }
 },
 "nbformat": 4,
 "nbformat_minor": 5
}
