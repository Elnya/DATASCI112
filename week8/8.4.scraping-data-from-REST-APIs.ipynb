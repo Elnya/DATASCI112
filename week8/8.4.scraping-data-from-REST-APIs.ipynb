{
 "cells": [
  {
   "cell_type": "markdown",
   "id": "c585cbc7",
   "metadata": {},
   "source": [
    "# Scraping Data from REST APIs\n",
    "\n",
    "Many websites make their data readily available using a REST API. Instead of scraping the HTML from a webpage,\n",
    "\n",
    "- you specify the data that you want by issuing an HTTP request to a URL (called an **endpoint**)\n",
    "- the server responds with the data in a convenient format (called a **representation**), such as JSON or XML\n",
    "\n",
    "To see how this works, we are going to practice with the [REST API](https://rapidapi.com/apidojo/api/tasty) for Tasty, a recipes website."
   ]
  },
  {
   "cell_type": "markdown",
   "id": "32c57938",
   "metadata": {},
   "source": [
    "## Preparation (before section)\n",
    "\n",
    "You will have time to work on these exercises in section. All you need to do before section is:\n",
    "\n",
    "1. [create an account](https://rapidapi.com/apidojo/api/tasty) and subscribe to the \"Basic\" (free) plan\n",
    "2. log in and copy the X-RapidAPI-Key, which is a long string of letters and digits\n",
    "3. paste this key in the `headers` below\n",
    "\n",
    "If you did everything correctly, then running the cell below should return a JSON object containing all the tags recognized by the Tasty API."
   ]
  },
  {
   "cell_type": "code",
   "execution_count": null,
   "id": "ebf965e0",
   "metadata": {},
   "outputs": [],
   "source": [
    "import requests\n",
    "\n",
    "domain = \"https://tasty.p.rapidapi.com\"\n",
    "endpoint = \"tags/list\"\n",
    "url = f\"{domain}/{endpoint}\"\n",
    "\n",
    "# TODO: Update the `headers` with your X-RapidAPI-Key.\n",
    "headers = {\n",
    "\t\"X-RapidAPI-Key\": \"PUT-YOUR-KEY-HERE\",\n",
    "\t\"X-RapidAPI-Host\": \"tasty.p.rapidapi.com\"\n",
    "}\n",
    "\n",
    "# Make an HTTP request to the REST API, get the JSON response.\n",
    "response = requests.get(url, headers=headers)\n",
    "response.json()"
   ]
  },
  {
   "cell_type": "markdown",
   "id": "887affc9",
   "metadata": {},
   "source": [
    "You will need to pass these `headers` with every HTTP request to the API. The API key (X-RapidAPI-Key) is how the server keeps track of how many requests you have made."
   ]
  },
  {
   "cell_type": "markdown",
   "id": "f07227be",
   "metadata": {},
   "source": [
    "Please have a look at [the documentation](https://rapidapi.com/apidojo/api/tasty). Click on some of the different endpoints. Notice that this brings up a form that you can fill in, which generates the corresponding code. (By default, it's set to Node.js. You should set it to Python.)"
   ]
  },
  {
   "cell_type": "markdown",
   "id": "a2cba1a2",
   "metadata": {},
   "source": [
    "## Question 1\n",
    "\n",
    "You would like to cook the daikon (an Asian radish) in your fridge. You would like to find recipes that involve daikon.\n",
    "\n",
    "Which endpoint would you use? Issue an HTTP request to the endpoint, and convert the JSON response to a `DataFrame` using `json_normalize`."
   ]
  },
  {
   "cell_type": "code",
   "execution_count": null,
   "id": "2f7fb583",
   "metadata": {},
   "outputs": [],
   "source": []
  },
  {
   "cell_type": "markdown",
   "id": "ffbb6132",
   "metadata": {},
   "source": [
    "## Question 2\n",
    "\n",
    "Find recipes containing avocado. Among recipes with over 500 reviews, which one had the highest score (proportion of positive reviews)?\n",
    "\n",
    "There are hundreds of results, but the API only returns 20 results by default (and a maximum of 40 results, even if you specify the `size=` parameter). You will need to use a `for` loop, incrementing the `from=` parameter. Be sure to respect the API's rate limits (or you may be blocked!)"
   ]
  },
  {
   "cell_type": "code",
   "execution_count": null,
   "id": "cc9ec63a",
   "metadata": {},
   "outputs": [],
   "source": []
  },
  {
   "cell_type": "markdown",
   "id": "643269fe",
   "metadata": {},
   "source": [
    "## Question 3\n",
    "\n",
    "Take the avocado JSON data from above (you do not need to read in the data from the REST API again). How many recipes are vegetarian? You should be able to identify this from the \"tags\" attribute.\n",
    "\n",
    "_Hint:_ Try flattening the data so that there is one row for each tag."
   ]
  },
  {
   "cell_type": "code",
   "execution_count": null,
   "id": "576cea06",
   "metadata": {},
   "outputs": [],
   "source": []
  },
  {
   "cell_type": "markdown",
   "id": "876e629e",
   "metadata": {},
   "source": [
    "Now you can use the Tasty API to help you decide what's for dinner!"
   ]
  }
 ],
 "metadata": {
  "language_info": {
   "name": "python"
  }
 },
 "nbformat": 4,
 "nbformat_minor": 5
}
