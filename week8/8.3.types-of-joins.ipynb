{
 "cells": [
  {
   "cell_type": "markdown",
   "id": "4729b311",
   "metadata": {},
   "source": [
    "# Types of Joins"
   ]
  },
  {
   "cell_type": "markdown",
   "id": "7211f752",
   "metadata": {},
   "source": [
    "## Joins\n",
    "\n",
    "Sometimes data is spread across multiple datasets.\n",
    "\n",
    "For example, suppose we have baby names in 1920 and 2020:"
   ]
  },
  {
   "cell_type": "code",
   "execution_count": 2,
   "id": "43027269",
   "metadata": {},
   "outputs": [],
   "source": [
    "import pandas as pd\n",
    "\n",
    "data_dir = \"http://dlsun.github.io/pods/data/names/\"\n",
    "df_1920 = pd.read_csv(data_dir + \"yob1920.txt\", header=None, \n",
    "                        names=[\"Name\", \"Sex\", \"Count\"])\n",
    "df_2020 = pd.read_csv(data_dir + \"yob2020.txt\", header=None, \n",
    "                        names=[\"Name\", \"Sex\", \"Count\"])"
   ]
  },
  {
   "cell_type": "code",
   "execution_count": 3,
   "id": "4826698b",
   "metadata": {},
   "outputs": [
    {
     "data": {
      "text/html": [
       "<div>\n",
       "<style scoped>\n",
       "    .dataframe tbody tr th:only-of-type {\n",
       "        vertical-align: middle;\n",
       "    }\n",
       "\n",
       "    .dataframe tbody tr th {\n",
       "        vertical-align: top;\n",
       "    }\n",
       "\n",
       "    .dataframe thead th {\n",
       "        text-align: right;\n",
       "    }\n",
       "</style>\n",
       "<table border=\"1\" class=\"dataframe\">\n",
       "  <thead>\n",
       "    <tr style=\"text-align: right;\">\n",
       "      <th></th>\n",
       "      <th>Name</th>\n",
       "      <th>Sex</th>\n",
       "      <th>Count</th>\n",
       "    </tr>\n",
       "  </thead>\n",
       "  <tbody>\n",
       "    <tr>\n",
       "      <th>0</th>\n",
       "      <td>Mary</td>\n",
       "      <td>F</td>\n",
       "      <td>70975</td>\n",
       "    </tr>\n",
       "    <tr>\n",
       "      <th>1</th>\n",
       "      <td>Dorothy</td>\n",
       "      <td>F</td>\n",
       "      <td>36645</td>\n",
       "    </tr>\n",
       "    <tr>\n",
       "      <th>2</th>\n",
       "      <td>Helen</td>\n",
       "      <td>F</td>\n",
       "      <td>35098</td>\n",
       "    </tr>\n",
       "    <tr>\n",
       "      <th>3</th>\n",
       "      <td>Margaret</td>\n",
       "      <td>F</td>\n",
       "      <td>27997</td>\n",
       "    </tr>\n",
       "    <tr>\n",
       "      <th>4</th>\n",
       "      <td>Ruth</td>\n",
       "      <td>F</td>\n",
       "      <td>26100</td>\n",
       "    </tr>\n",
       "  </tbody>\n",
       "</table>\n",
       "</div>"
      ],
      "text/plain": [
       "       Name Sex  Count\n",
       "0      Mary   F  70975\n",
       "1   Dorothy   F  36645\n",
       "2     Helen   F  35098\n",
       "3  Margaret   F  27997\n",
       "4      Ruth   F  26100"
      ]
     },
     "execution_count": 3,
     "metadata": {},
     "output_type": "execute_result"
    }
   ],
   "source": [
    "df_1920.head()"
   ]
  },
  {
   "cell_type": "code",
   "execution_count": 4,
   "id": "184715f3",
   "metadata": {},
   "outputs": [
    {
     "data": {
      "text/html": [
       "<div>\n",
       "<style scoped>\n",
       "    .dataframe tbody tr th:only-of-type {\n",
       "        vertical-align: middle;\n",
       "    }\n",
       "\n",
       "    .dataframe tbody tr th {\n",
       "        vertical-align: top;\n",
       "    }\n",
       "\n",
       "    .dataframe thead th {\n",
       "        text-align: right;\n",
       "    }\n",
       "</style>\n",
       "<table border=\"1\" class=\"dataframe\">\n",
       "  <thead>\n",
       "    <tr style=\"text-align: right;\">\n",
       "      <th></th>\n",
       "      <th>Name</th>\n",
       "      <th>Sex</th>\n",
       "      <th>Count</th>\n",
       "    </tr>\n",
       "  </thead>\n",
       "  <tbody>\n",
       "    <tr>\n",
       "      <th>0</th>\n",
       "      <td>Olivia</td>\n",
       "      <td>F</td>\n",
       "      <td>17641</td>\n",
       "    </tr>\n",
       "    <tr>\n",
       "      <th>1</th>\n",
       "      <td>Emma</td>\n",
       "      <td>F</td>\n",
       "      <td>15656</td>\n",
       "    </tr>\n",
       "    <tr>\n",
       "      <th>2</th>\n",
       "      <td>Ava</td>\n",
       "      <td>F</td>\n",
       "      <td>13160</td>\n",
       "    </tr>\n",
       "    <tr>\n",
       "      <th>3</th>\n",
       "      <td>Charlotte</td>\n",
       "      <td>F</td>\n",
       "      <td>13065</td>\n",
       "    </tr>\n",
       "    <tr>\n",
       "      <th>4</th>\n",
       "      <td>Sophia</td>\n",
       "      <td>F</td>\n",
       "      <td>13036</td>\n",
       "    </tr>\n",
       "  </tbody>\n",
       "</table>\n",
       "</div>"
      ],
      "text/plain": [
       "        Name Sex  Count\n",
       "0     Olivia   F  17641\n",
       "1       Emma   F  15656\n",
       "2        Ava   F  13160\n",
       "3  Charlotte   F  13065\n",
       "4     Sophia   F  13036"
      ]
     },
     "execution_count": 4,
     "metadata": {},
     "output_type": "execute_result"
    }
   ],
   "source": [
    "df_2020.head()"
   ]
  },
  {
   "cell_type": "markdown",
   "id": "995f0c2f",
   "metadata": {},
   "source": [
    "We can *join* two datasets on a key.\n",
    "\n",
    "We focused on the case where we join on a **primary key.**\n",
    "\n",
    "In this case, we are joining the primary keys of two tables together. (We could also join the primary key to a **foreign key.**)"
   ]
  },
  {
   "cell_type": "code",
   "execution_count": 5,
   "id": "dd797734",
   "metadata": {},
   "outputs": [
    {
     "data": {
      "text/html": [
       "<div>\n",
       "<style scoped>\n",
       "    .dataframe tbody tr th:only-of-type {\n",
       "        vertical-align: middle;\n",
       "    }\n",
       "\n",
       "    .dataframe tbody tr th {\n",
       "        vertical-align: top;\n",
       "    }\n",
       "\n",
       "    .dataframe thead th {\n",
       "        text-align: right;\n",
       "    }\n",
       "</style>\n",
       "<table border=\"1\" class=\"dataframe\">\n",
       "  <thead>\n",
       "    <tr style=\"text-align: right;\">\n",
       "      <th></th>\n",
       "      <th>Name</th>\n",
       "      <th>Sex</th>\n",
       "      <th>Count_1920</th>\n",
       "      <th>Count_2020</th>\n",
       "    </tr>\n",
       "  </thead>\n",
       "  <tbody>\n",
       "    <tr>\n",
       "      <th>0</th>\n",
       "      <td>Mary</td>\n",
       "      <td>F</td>\n",
       "      <td>70975</td>\n",
       "      <td>2210</td>\n",
       "    </tr>\n",
       "    <tr>\n",
       "      <th>1</th>\n",
       "      <td>Dorothy</td>\n",
       "      <td>F</td>\n",
       "      <td>36645</td>\n",
       "      <td>562</td>\n",
       "    </tr>\n",
       "    <tr>\n",
       "      <th>2</th>\n",
       "      <td>Helen</td>\n",
       "      <td>F</td>\n",
       "      <td>35098</td>\n",
       "      <td>721</td>\n",
       "    </tr>\n",
       "    <tr>\n",
       "      <th>3</th>\n",
       "      <td>Margaret</td>\n",
       "      <td>F</td>\n",
       "      <td>27997</td>\n",
       "      <td>2190</td>\n",
       "    </tr>\n",
       "    <tr>\n",
       "      <th>4</th>\n",
       "      <td>Ruth</td>\n",
       "      <td>F</td>\n",
       "      <td>26100</td>\n",
       "      <td>1323</td>\n",
       "    </tr>\n",
       "    <tr>\n",
       "      <th>...</th>\n",
       "      <td>...</td>\n",
       "      <td>...</td>\n",
       "      <td>...</td>\n",
       "      <td>...</td>\n",
       "    </tr>\n",
       "    <tr>\n",
       "      <th>4473</th>\n",
       "      <td>Whitt</td>\n",
       "      <td>M</td>\n",
       "      <td>5</td>\n",
       "      <td>23</td>\n",
       "    </tr>\n",
       "    <tr>\n",
       "      <th>4474</th>\n",
       "      <td>Wyley</td>\n",
       "      <td>M</td>\n",
       "      <td>5</td>\n",
       "      <td>6</td>\n",
       "    </tr>\n",
       "    <tr>\n",
       "      <th>4475</th>\n",
       "      <td>Xavier</td>\n",
       "      <td>M</td>\n",
       "      <td>5</td>\n",
       "      <td>3876</td>\n",
       "    </tr>\n",
       "    <tr>\n",
       "      <th>4476</th>\n",
       "      <td>York</td>\n",
       "      <td>M</td>\n",
       "      <td>5</td>\n",
       "      <td>14</td>\n",
       "    </tr>\n",
       "    <tr>\n",
       "      <th>4477</th>\n",
       "      <td>Zeke</td>\n",
       "      <td>M</td>\n",
       "      <td>5</td>\n",
       "      <td>382</td>\n",
       "    </tr>\n",
       "  </tbody>\n",
       "</table>\n",
       "<p>4478 rows × 4 columns</p>\n",
       "</div>"
      ],
      "text/plain": [
       "          Name Sex  Count_1920  Count_2020\n",
       "0         Mary   F       70975        2210\n",
       "1      Dorothy   F       36645         562\n",
       "2        Helen   F       35098         721\n",
       "3     Margaret   F       27997        2190\n",
       "4         Ruth   F       26100        1323\n",
       "...        ...  ..         ...         ...\n",
       "4473     Whitt   M           5          23\n",
       "4474     Wyley   M           5           6\n",
       "4475    Xavier   M           5        3876\n",
       "4476      York   M           5          14\n",
       "4477      Zeke   M           5         382\n",
       "\n",
       "[4478 rows x 4 columns]"
      ]
     },
     "execution_count": 5,
     "metadata": {},
     "output_type": "execute_result"
    }
   ],
   "source": [
    "df_joined = df_1920.merge(df_2020, on=[\"Name\", \"Sex\"], suffixes=(\"_1920\", \"_2020\"))\n",
    "df_joined"
   ]
  },
  {
   "cell_type": "markdown",
   "id": "dde3adf5",
   "metadata": {},
   "source": [
    "## Missing Keys?"
   ]
  },
  {
   "cell_type": "code",
   "execution_count": 6,
   "id": "046ebd14",
   "metadata": {},
   "outputs": [
    {
     "data": {
      "text/html": [
       "<div>\n",
       "<style scoped>\n",
       "    .dataframe tbody tr th:only-of-type {\n",
       "        vertical-align: middle;\n",
       "    }\n",
       "\n",
       "    .dataframe tbody tr th {\n",
       "        vertical-align: top;\n",
       "    }\n",
       "\n",
       "    .dataframe thead th {\n",
       "        text-align: right;\n",
       "    }\n",
       "</style>\n",
       "<table border=\"1\" class=\"dataframe\">\n",
       "  <thead>\n",
       "    <tr style=\"text-align: right;\">\n",
       "      <th></th>\n",
       "      <th>Name</th>\n",
       "      <th>Sex</th>\n",
       "      <th>Count_1920</th>\n",
       "      <th>Count_2020</th>\n",
       "    </tr>\n",
       "  </thead>\n",
       "  <tbody>\n",
       "  </tbody>\n",
       "</table>\n",
       "</div>"
      ],
      "text/plain": [
       "Empty DataFrame\n",
       "Columns: [Name, Sex, Count_1920, Count_2020]\n",
       "Index: []"
      ]
     },
     "execution_count": 6,
     "metadata": {},
     "output_type": "execute_result"
    }
   ],
   "source": [
    "df_joined[df_joined[\"Name\"] == \"Maya\"]"
   ]
  },
  {
   "cell_type": "markdown",
   "id": "c62b3d32",
   "metadata": {},
   "source": [
    "Why isn't Maya in the joined data? How does Pandas determine which keys show up?\n",
    "\n",
    "It is there in the 2020 data..."
   ]
  },
  {
   "cell_type": "code",
   "execution_count": 7,
   "id": "d511e264",
   "metadata": {},
   "outputs": [
    {
     "data": {
      "text/html": [
       "<div>\n",
       "<style scoped>\n",
       "    .dataframe tbody tr th:only-of-type {\n",
       "        vertical-align: middle;\n",
       "    }\n",
       "\n",
       "    .dataframe tbody tr th {\n",
       "        vertical-align: top;\n",
       "    }\n",
       "\n",
       "    .dataframe thead th {\n",
       "        text-align: right;\n",
       "    }\n",
       "</style>\n",
       "<table border=\"1\" class=\"dataframe\">\n",
       "  <thead>\n",
       "    <tr style=\"text-align: right;\">\n",
       "      <th></th>\n",
       "      <th>Name</th>\n",
       "      <th>Sex</th>\n",
       "      <th>Count</th>\n",
       "    </tr>\n",
       "  </thead>\n",
       "  <tbody>\n",
       "    <tr>\n",
       "      <th>60</th>\n",
       "      <td>Maya</td>\n",
       "      <td>F</td>\n",
       "      <td>3724</td>\n",
       "    </tr>\n",
       "    <tr>\n",
       "      <th>28914</th>\n",
       "      <td>Maya</td>\n",
       "      <td>M</td>\n",
       "      <td>6</td>\n",
       "    </tr>\n",
       "  </tbody>\n",
       "</table>\n",
       "</div>"
      ],
      "text/plain": [
       "       Name Sex  Count\n",
       "60     Maya   F   3724\n",
       "28914  Maya   M      6"
      ]
     },
     "execution_count": 7,
     "metadata": {},
     "output_type": "execute_result"
    }
   ],
   "source": [
    "df_2020[df_2020[\"Name\"] == \"Maya\"]"
   ]
  },
  {
   "cell_type": "markdown",
   "id": "9299900b",
   "metadata": {},
   "source": [
    "...but not in the 1920 data."
   ]
  },
  {
   "cell_type": "code",
   "execution_count": 8,
   "id": "d0b890b0",
   "metadata": {},
   "outputs": [
    {
     "data": {
      "text/html": [
       "<div>\n",
       "<style scoped>\n",
       "    .dataframe tbody tr th:only-of-type {\n",
       "        vertical-align: middle;\n",
       "    }\n",
       "\n",
       "    .dataframe tbody tr th {\n",
       "        vertical-align: top;\n",
       "    }\n",
       "\n",
       "    .dataframe thead th {\n",
       "        text-align: right;\n",
       "    }\n",
       "</style>\n",
       "<table border=\"1\" class=\"dataframe\">\n",
       "  <thead>\n",
       "    <tr style=\"text-align: right;\">\n",
       "      <th></th>\n",
       "      <th>Name</th>\n",
       "      <th>Sex</th>\n",
       "      <th>Count</th>\n",
       "    </tr>\n",
       "  </thead>\n",
       "  <tbody>\n",
       "  </tbody>\n",
       "</table>\n",
       "</div>"
      ],
      "text/plain": [
       "Empty DataFrame\n",
       "Columns: [Name, Sex, Count]\n",
       "Index: []"
      ]
     },
     "execution_count": 8,
     "metadata": {},
     "output_type": "execute_result"
    }
   ],
   "source": [
    "df_1920[df_1920[\"Name\"] == \"Maya\"]"
   ]
  },
  {
   "cell_type": "markdown",
   "id": "f279ec47",
   "metadata": {},
   "source": [
    "In order to appear in the joined data, a key must be present in *both* tables."
   ]
  },
  {
   "cell_type": "markdown",
   "id": "ba1c02d8",
   "metadata": {},
   "source": [
    "## Types of Joins\n",
    "\n",
    "How can we customize the behavior of joins for missing keys?\n",
    "\n",
    "This brings us to the first of today's topics: *types of joins.*\n",
    "\n",
    "- By default, Pandas does an **inner join,** which only keeps keys that are present in *both* tables.\n",
    "- An **outer join** keeps any key that is present in either table.\n",
    "- A **left join** keeps all keys in the left table, even if they are not in the right table. But any keys that are only in the right table are dropped.\n",
    "- A **right join** keeps all keys in the right table, even if they are not in the left table. But any keys that are only in the left table are dropped."
   ]
  },
  {
   "cell_type": "markdown",
   "id": "74107b81",
   "metadata": {},
   "source": [
    "## Join Examples\n",
    "\n",
    "We can customize the type of join using the `how=` parameter of `.merge().` By default, `how=\"inner\".`"
   ]
  },
  {
   "cell_type": "code",
   "execution_count": 9,
   "id": "9ad9fe6a",
   "metadata": {},
   "outputs": [
    {
     "data": {
      "text/html": [
       "<div>\n",
       "<style scoped>\n",
       "    .dataframe tbody tr th:only-of-type {\n",
       "        vertical-align: middle;\n",
       "    }\n",
       "\n",
       "    .dataframe tbody tr th {\n",
       "        vertical-align: top;\n",
       "    }\n",
       "\n",
       "    .dataframe thead th {\n",
       "        text-align: right;\n",
       "    }\n",
       "</style>\n",
       "<table border=\"1\" class=\"dataframe\">\n",
       "  <thead>\n",
       "    <tr style=\"text-align: right;\">\n",
       "      <th></th>\n",
       "      <th>Name</th>\n",
       "      <th>Sex</th>\n",
       "      <th>Count_x</th>\n",
       "      <th>Count_y</th>\n",
       "    </tr>\n",
       "  </thead>\n",
       "  <tbody>\n",
       "    <tr>\n",
       "      <th>24999</th>\n",
       "      <td>Maya</td>\n",
       "      <td>F</td>\n",
       "      <td>NaN</td>\n",
       "      <td>3724.0</td>\n",
       "    </tr>\n",
       "    <tr>\n",
       "      <th>25000</th>\n",
       "      <td>Maya</td>\n",
       "      <td>M</td>\n",
       "      <td>NaN</td>\n",
       "      <td>6.0</td>\n",
       "    </tr>\n",
       "  </tbody>\n",
       "</table>\n",
       "</div>"
      ],
      "text/plain": [
       "       Name Sex  Count_x  Count_y\n",
       "24999  Maya   F      NaN   3724.0\n",
       "25000  Maya   M      NaN      6.0"
      ]
     },
     "execution_count": 9,
     "metadata": {},
     "output_type": "execute_result"
    }
   ],
   "source": [
    "df_joined_outer = df_1920.merge(df_2020, on=[\"Name\", \"Sex\"], how=\"outer\")\n",
    "df_joined_outer[df_joined_outer[\"Name\"] == \"Maya\"]"
   ]
  },
  {
   "cell_type": "markdown",
   "id": "0ac56a64",
   "metadata": {},
   "source": [
    "Note the missing values for other columns, like Count, for 1920!\n",
    "\n",
    "What other type of join would have produced this output?"
   ]
  },
  {
   "cell_type": "code",
   "execution_count": 10,
   "id": "6487e55a",
   "metadata": {},
   "outputs": [
    {
     "data": {
      "text/html": [
       "<div>\n",
       "<style scoped>\n",
       "    .dataframe tbody tr th:only-of-type {\n",
       "        vertical-align: middle;\n",
       "    }\n",
       "\n",
       "    .dataframe tbody tr th {\n",
       "        vertical-align: top;\n",
       "    }\n",
       "\n",
       "    .dataframe thead th {\n",
       "        text-align: right;\n",
       "    }\n",
       "</style>\n",
       "<table border=\"1\" class=\"dataframe\">\n",
       "  <thead>\n",
       "    <tr style=\"text-align: right;\">\n",
       "      <th></th>\n",
       "      <th>Name</th>\n",
       "      <th>Sex</th>\n",
       "      <th>Count_x</th>\n",
       "      <th>Count_y</th>\n",
       "    </tr>\n",
       "  </thead>\n",
       "  <tbody>\n",
       "    <tr>\n",
       "      <th>60</th>\n",
       "      <td>Maya</td>\n",
       "      <td>F</td>\n",
       "      <td>NaN</td>\n",
       "      <td>3724</td>\n",
       "    </tr>\n",
       "    <tr>\n",
       "      <th>28914</th>\n",
       "      <td>Maya</td>\n",
       "      <td>M</td>\n",
       "      <td>NaN</td>\n",
       "      <td>6</td>\n",
       "    </tr>\n",
       "  </tbody>\n",
       "</table>\n",
       "</div>"
      ],
      "text/plain": [
       "       Name Sex  Count_x  Count_y\n",
       "60     Maya   F      NaN     3724\n",
       "28914  Maya   M      NaN        6"
      ]
     },
     "execution_count": 10,
     "metadata": {},
     "output_type": "execute_result"
    }
   ],
   "source": [
    "df_joined_right = df_1920.merge(df_2020, on=[\"Name\", \"Sex\"], how=\"right\")\n",
    "df_joined_right[df_joined_right[\"Name\"] == \"Maya\"]"
   ]
  },
  {
   "cell_type": "markdown",
   "id": "c5b2e875",
   "metadata": {},
   "source": [
    "## Summary of Types of Joins"
   ]
  },
  {
   "cell_type": "code",
   "execution_count": 11,
   "id": "7e3d80f8",
   "metadata": {},
   "outputs": [
    {
     "data": {
      "image/png": "[encoded data removed]",
      "text/plain": [
       "<Figure size 640x480 with 4 Axes>"
      ]
     },
     "metadata": {},
     "output_type": "display_data"
    }
   ],
   "source": [
    "from matplotlib_venn import venn2, venn2_circles\n",
    "import matplotlib.pyplot as plt\n",
    "\n",
    "figure, axis = plt.subplots(2, 2)\n",
    "\n",
    "# function to create a Venn diagram with specified subsets and colors\n",
    "def create_venn_diagram(ax, subsets, title, colors):\n",
    "    venn = venn2(subsets=subsets, set_labels=('', ''), ax=ax)\n",
    "    venn.get_label_by_id('10').set_text('left')\n",
    "    venn.get_patch_by_id('10').set_color(colors[0])\n",
    "    venn.get_label_by_id('01').set_text('right')\n",
    "    venn.get_patch_by_id('01').set_color(colors[1])\n",
    "    venn.get_label_by_id('11').set_text('')\n",
    "    venn.get_patch_by_id('11').set_color(colors[2])\n",
    "    venn2_circles(subsets=subsets, linewidth=1, ax=ax)\n",
    "    ax.set_title(title)\n",
    "\n",
    "# define the join types and their corresponding subset sizes and colors\n",
    "join_types = [\n",
    "    {\"title\": \"INNER JOIN\", \"subsets\": (2, 2, 1), \"colors\": ['white', 'white', '#febfbf']},\n",
    "    {\"title\": \"(FULL) OUTER JOIN\", \"subsets\": (2, 2, 1), \"colors\": ['#febfbf', '#febfbf', '#febfbf']},\n",
    "    {\"title\": \"LEFT JOIN\", \"subsets\": (2, 2, 1), \"colors\": ['#febfbf', 'white', '#febfbf']},\n",
    "    {\"title\": \"RIGHT JOIN\", \"subsets\": (2, 2, 1), \"colors\": ['white', '#febfbf', '#febfbf']}\n",
    "]\n",
    "\n",
    "# zip through the axes and join types to create each Venn diagram\n",
    "for ax, join_type in zip(axis.flatten(), join_types):\n",
    "    create_venn_diagram(ax, join_type[\"subsets\"], join_type[\"title\"], join_type[\"colors\"])\n",
    "\n",
    "plt.tight_layout()\n",
    "plt.show()"
   ]
  },
  {
   "cell_type": "markdown",
   "id": "d64fdf95",
   "metadata": {},
   "source": [
    "## Exercises\n",
    "\n",
    "Which type of join would be best suited for each case?\n",
    "\n",
    "1. We want to determine the names that have increased in popularity the most between 1920 and 2020."
   ]
  },
  {
   "cell_type": "code",
   "execution_count": 12,
   "id": "d4d29772",
   "metadata": {},
   "outputs": [
    {
     "data": {
      "text/html": [
       "<div>\n",
       "<style scoped>\n",
       "    .dataframe tbody tr th:only-of-type {\n",
       "        vertical-align: middle;\n",
       "    }\n",
       "\n",
       "    .dataframe tbody tr th {\n",
       "        vertical-align: top;\n",
       "    }\n",
       "\n",
       "    .dataframe thead th {\n",
       "        text-align: right;\n",
       "    }\n",
       "</style>\n",
       "<table border=\"1\" class=\"dataframe\">\n",
       "  <thead>\n",
       "    <tr style=\"text-align: right;\">\n",
       "      <th></th>\n",
       "      <th>Name</th>\n",
       "      <th>Sex</th>\n",
       "      <th>Count_x</th>\n",
       "      <th>Count_y</th>\n",
       "    </tr>\n",
       "  </thead>\n",
       "  <tbody>\n",
       "    <tr>\n",
       "      <th>0</th>\n",
       "      <td>Olivia</td>\n",
       "      <td>F</td>\n",
       "      <td>523.0</td>\n",
       "      <td>17641</td>\n",
       "    </tr>\n",
       "    <tr>\n",
       "      <th>1</th>\n",
       "      <td>Emma</td>\n",
       "      <td>F</td>\n",
       "      <td>5237.0</td>\n",
       "      <td>15656</td>\n",
       "    </tr>\n",
       "    <tr>\n",
       "      <th>2</th>\n",
       "      <td>Ava</td>\n",
       "      <td>F</td>\n",
       "      <td>184.0</td>\n",
       "      <td>13160</td>\n",
       "    </tr>\n",
       "    <tr>\n",
       "      <th>3</th>\n",
       "      <td>Charlotte</td>\n",
       "      <td>F</td>\n",
       "      <td>3623.0</td>\n",
       "      <td>13065</td>\n",
       "    </tr>\n",
       "    <tr>\n",
       "      <th>4</th>\n",
       "      <td>Sophia</td>\n",
       "      <td>F</td>\n",
       "      <td>545.0</td>\n",
       "      <td>13036</td>\n",
       "    </tr>\n",
       "    <tr>\n",
       "      <th>...</th>\n",
       "      <td>...</td>\n",
       "      <td>...</td>\n",
       "      <td>...</td>\n",
       "      <td>...</td>\n",
       "    </tr>\n",
       "    <tr>\n",
       "      <th>31448</th>\n",
       "      <td>Zykell</td>\n",
       "      <td>M</td>\n",
       "      <td>NaN</td>\n",
       "      <td>5</td>\n",
       "    </tr>\n",
       "    <tr>\n",
       "      <th>31449</th>\n",
       "      <td>Zylus</td>\n",
       "      <td>M</td>\n",
       "      <td>NaN</td>\n",
       "      <td>5</td>\n",
       "    </tr>\n",
       "    <tr>\n",
       "      <th>31450</th>\n",
       "      <td>Zymari</td>\n",
       "      <td>M</td>\n",
       "      <td>NaN</td>\n",
       "      <td>5</td>\n",
       "    </tr>\n",
       "    <tr>\n",
       "      <th>31451</th>\n",
       "      <td>Zyn</td>\n",
       "      <td>M</td>\n",
       "      <td>NaN</td>\n",
       "      <td>5</td>\n",
       "    </tr>\n",
       "    <tr>\n",
       "      <th>31452</th>\n",
       "      <td>Zyran</td>\n",
       "      <td>M</td>\n",
       "      <td>NaN</td>\n",
       "      <td>5</td>\n",
       "    </tr>\n",
       "  </tbody>\n",
       "</table>\n",
       "<p>31453 rows × 4 columns</p>\n",
       "</div>"
      ],
      "text/plain": [
       "            Name Sex  Count_x  Count_y\n",
       "0         Olivia   F    523.0    17641\n",
       "1           Emma   F   5237.0    15656\n",
       "2            Ava   F    184.0    13160\n",
       "3      Charlotte   F   3623.0    13065\n",
       "4         Sophia   F    545.0    13036\n",
       "...          ...  ..      ...      ...\n",
       "31448     Zykell   M      NaN        5\n",
       "31449      Zylus   M      NaN        5\n",
       "31450     Zymari   M      NaN        5\n",
       "31451        Zyn   M      NaN        5\n",
       "31452      Zyran   M      NaN        5\n",
       "\n",
       "[31453 rows x 4 columns]"
      ]
     },
     "execution_count": 12,
     "metadata": {},
     "output_type": "execute_result"
    }
   ],
   "source": [
    "# to include names that didn't appear at all in the 1920 data\n",
    "df_1920.merge(df_2020, on=[\"Name\", \"Sex\"], how=\"right\")"
   ]
  },
  {
   "cell_type": "markdown",
   "id": "50fac6ac",
   "metadata": {},
   "source": [
    "2. We want to graph the popularity of names over time."
   ]
  },
  {
   "cell_type": "code",
   "execution_count": 13,
   "id": "ffb350dc",
   "metadata": {},
   "outputs": [],
   "source": [
    "df = pd.read_csv(data_dir + \"yob1981.txt\",\n",
    "                 header=None,\n",
    "                 names=[\"Name\",\"Sex\", 1981])\n",
    "for year in range(1982, 2021):\n",
    "    df_year =pd.read_csv(data_dir + f\"yob{year}.txt\",\n",
    "                         header=None,\n",
    "                         names=[\"Name\",\"Sex\", year])\n",
    "    # to include rare names that go in and out of the data\n",
    "    df = df.merge(df_year, on=[\"Name\", \"Sex\"], how=\"outer\")"
   ]
  },
  {
   "cell_type": "markdown",
   "id": "4c191659",
   "metadata": {},
   "source": [
    "## Many-to-Many Relationships\n",
    "\n",
    "So far, the keys we’ve joined on have been the primary key of (at least) one table.\n",
    "\n",
    "- If we join to the primary key of another table, then the relationship is **one-to-one** (since primary keys uniquely identify rows).\n",
    "- If we join to the foreign key of another table, then the relationship is **one-to-many.**\n",
    "\n",
    "What if we join on a key that is not a primary key?\n",
    "\n",
    "That is, what if the key does not uniquely identify rows in either table so that each value of the key might appear multiple times?\n",
    "\n",
    "This relaionship is called **many-to-many.**"
   ]
  },
  {
   "cell_type": "markdown",
   "id": "6af443e3",
   "metadata": {},
   "source": [
    "## Many-to-Many Example\n",
    "\n",
    "What if we only joined on the name?"
   ]
  },
  {
   "cell_type": "code",
   "execution_count": 16,
   "id": "b7fa20cf",
   "metadata": {},
   "outputs": [
    {
     "data": {
      "text/html": [
       "<div>\n",
       "<style scoped>\n",
       "    .dataframe tbody tr th:only-of-type {\n",
       "        vertical-align: middle;\n",
       "    }\n",
       "\n",
       "    .dataframe tbody tr th {\n",
       "        vertical-align: top;\n",
       "    }\n",
       "\n",
       "    .dataframe thead th {\n",
       "        text-align: right;\n",
       "    }\n",
       "</style>\n",
       "<table border=\"1\" class=\"dataframe\">\n",
       "  <thead>\n",
       "    <tr style=\"text-align: right;\">\n",
       "      <th></th>\n",
       "      <th>Name</th>\n",
       "      <th>Sex_x</th>\n",
       "      <th>Count_x</th>\n",
       "      <th>Sex_y</th>\n",
       "      <th>Count_y</th>\n",
       "    </tr>\n",
       "  </thead>\n",
       "  <tbody>\n",
       "    <tr>\n",
       "      <th>0</th>\n",
       "      <td>Mary</td>\n",
       "      <td>F</td>\n",
       "      <td>70975</td>\n",
       "      <td>F</td>\n",
       "      <td>2210</td>\n",
       "    </tr>\n",
       "    <tr>\n",
       "      <th>1</th>\n",
       "      <td>Mary</td>\n",
       "      <td>F</td>\n",
       "      <td>70975</td>\n",
       "      <td>M</td>\n",
       "      <td>5</td>\n",
       "    </tr>\n",
       "    <tr>\n",
       "      <th>2</th>\n",
       "      <td>Dorothy</td>\n",
       "      <td>F</td>\n",
       "      <td>36645</td>\n",
       "      <td>F</td>\n",
       "      <td>562</td>\n",
       "    </tr>\n",
       "    <tr>\n",
       "      <th>3</th>\n",
       "      <td>Helen</td>\n",
       "      <td>F</td>\n",
       "      <td>35098</td>\n",
       "      <td>F</td>\n",
       "      <td>721</td>\n",
       "    </tr>\n",
       "    <tr>\n",
       "      <th>4</th>\n",
       "      <td>Margaret</td>\n",
       "      <td>F</td>\n",
       "      <td>27997</td>\n",
       "      <td>F</td>\n",
       "      <td>2190</td>\n",
       "    </tr>\n",
       "    <tr>\n",
       "      <th>...</th>\n",
       "      <td>...</td>\n",
       "      <td>...</td>\n",
       "      <td>...</td>\n",
       "      <td>...</td>\n",
       "      <td>...</td>\n",
       "    </tr>\n",
       "    <tr>\n",
       "      <th>6158</th>\n",
       "      <td>Xavier</td>\n",
       "      <td>M</td>\n",
       "      <td>5</td>\n",
       "      <td>M</td>\n",
       "      <td>3876</td>\n",
       "    </tr>\n",
       "    <tr>\n",
       "      <th>6159</th>\n",
       "      <td>York</td>\n",
       "      <td>M</td>\n",
       "      <td>5</td>\n",
       "      <td>F</td>\n",
       "      <td>6</td>\n",
       "    </tr>\n",
       "    <tr>\n",
       "      <th>6160</th>\n",
       "      <td>York</td>\n",
       "      <td>M</td>\n",
       "      <td>5</td>\n",
       "      <td>M</td>\n",
       "      <td>14</td>\n",
       "    </tr>\n",
       "    <tr>\n",
       "      <th>6161</th>\n",
       "      <td>Zeke</td>\n",
       "      <td>M</td>\n",
       "      <td>5</td>\n",
       "      <td>M</td>\n",
       "      <td>382</td>\n",
       "    </tr>\n",
       "    <tr>\n",
       "      <th>6162</th>\n",
       "      <td>Zera</td>\n",
       "      <td>M</td>\n",
       "      <td>5</td>\n",
       "      <td>F</td>\n",
       "      <td>11</td>\n",
       "    </tr>\n",
       "  </tbody>\n",
       "</table>\n",
       "<p>6163 rows × 5 columns</p>\n",
       "</div>"
      ],
      "text/plain": [
       "          Name Sex_x  Count_x Sex_y  Count_y\n",
       "0         Mary     F    70975     F     2210\n",
       "1         Mary     F    70975     M        5\n",
       "2      Dorothy     F    36645     F      562\n",
       "3        Helen     F    35098     F      721\n",
       "4     Margaret     F    27997     F     2190\n",
       "...        ...   ...      ...   ...      ...\n",
       "6158    Xavier     M        5     M     3876\n",
       "6159      York     M        5     F        6\n",
       "6160      York     M        5     M       14\n",
       "6161      Zeke     M        5     M      382\n",
       "6162      Zera     M        5     F       11\n",
       "\n",
       "[6163 rows x 5 columns]"
      ]
     },
     "execution_count": 16,
     "metadata": {},
     "output_type": "execute_result"
    }
   ],
   "source": [
    "df_1920.merge(df_2020, on=\"Name\")"
   ]
  },
  {
   "cell_type": "markdown",
   "id": "dba69011",
   "metadata": {},
   "source": [
    "## Illustration of a Many-to-Many Join\n",
    "\n",
    "![Illustration of a Many-to-Many Join](data/many-to-many-join.png)\n",
    "\n",
    "There are 4 matches, only 2 of which are desirable."
   ]
  },
  {
   "cell_type": "markdown",
   "id": "9958ca40",
   "metadata": {},
   "source": [
    "## Preventing Bugs\n",
    "\n",
    "Most of the time, many-to-many joins are a bug, caused by a misunderstanding about the primary key.\n",
    "\n",
    "\n",
    "Pandas allows us to specify the relationship we are expecting. It will fail with an error if the relationship is a different kind.\n",
    "\n",
    "For example, suppose we thought that “name” was the primary key of the baby name tables."
   ]
  },
  {
   "cell_type": "code",
   "execution_count": 17,
   "id": "4f507c8a",
   "metadata": {},
   "outputs": [
    {
     "ename": "MergeError",
     "evalue": "Merge keys are not unique in either left or right dataset; not a one-to-one merge",
     "output_type": "error",
     "traceback": [
      "\u001b[31m---------------------------------------------------------------------------\u001b[39m",
      "\u001b[31mMergeError\u001b[39m                                Traceback (most recent call last)",
      "\u001b[36mCell\u001b[39m\u001b[36m \u001b[39m\u001b[32mIn[17]\u001b[39m\u001b[32m, line 1\u001b[39m\n\u001b[32m----> \u001b[39m\u001b[32m1\u001b[39m \u001b[43mdf_1920\u001b[49m\u001b[43m.\u001b[49m\u001b[43mmerge\u001b[49m\u001b[43m(\u001b[49m\u001b[43mdf_2020\u001b[49m\u001b[43m,\u001b[49m\u001b[43m \u001b[49m\u001b[43mon\u001b[49m\u001b[43m=\u001b[49m\u001b[33;43m\"\u001b[39;49m\u001b[33;43mName\u001b[39;49m\u001b[33;43m\"\u001b[39;49m\u001b[43m,\u001b[49m\u001b[43m \u001b[49m\u001b[43mvalidate\u001b[49m\u001b[43m=\u001b[49m\u001b[33;43m\"\u001b[39;49m\u001b[33;43mone_to_one\u001b[39;49m\u001b[33;43m\"\u001b[39;49m\u001b[43m)\u001b[49m\n",
      "\u001b[36mFile \u001b[39m\u001b[32m~/workspace/DATASCI112/.venv/lib/python3.12/site-packages/pandas/core/frame.py:10839\u001b[39m, in \u001b[36mDataFrame.merge\u001b[39m\u001b[34m(self, right, how, on, left_on, right_on, left_index, right_index, sort, suffixes, copy, indicator, validate)\u001b[39m\n\u001b[32m  10820\u001b[39m \u001b[38;5;129m@Substitution\u001b[39m(\u001b[33m\"\u001b[39m\u001b[33m\"\u001b[39m)\n\u001b[32m  10821\u001b[39m \u001b[38;5;129m@Appender\u001b[39m(_merge_doc, indents=\u001b[32m2\u001b[39m)\n\u001b[32m  10822\u001b[39m \u001b[38;5;28;01mdef\u001b[39;00m\u001b[38;5;250m \u001b[39m\u001b[34mmerge\u001b[39m(\n\u001b[32m   (...)\u001b[39m\u001b[32m  10835\u001b[39m     validate: MergeValidate | \u001b[38;5;28;01mNone\u001b[39;00m = \u001b[38;5;28;01mNone\u001b[39;00m,\n\u001b[32m  10836\u001b[39m ) -> DataFrame:\n\u001b[32m  10837\u001b[39m     \u001b[38;5;28;01mfrom\u001b[39;00m\u001b[38;5;250m \u001b[39m\u001b[34;01mpandas\u001b[39;00m\u001b[34;01m.\u001b[39;00m\u001b[34;01mcore\u001b[39;00m\u001b[34;01m.\u001b[39;00m\u001b[34;01mreshape\u001b[39;00m\u001b[34;01m.\u001b[39;00m\u001b[34;01mmerge\u001b[39;00m\u001b[38;5;250m \u001b[39m\u001b[38;5;28;01mimport\u001b[39;00m merge\n\u001b[32m> \u001b[39m\u001b[32m10839\u001b[39m     \u001b[38;5;28;01mreturn\u001b[39;00m \u001b[43mmerge\u001b[49m\u001b[43m(\u001b[49m\n\u001b[32m  10840\u001b[39m \u001b[43m        \u001b[49m\u001b[38;5;28;43mself\u001b[39;49m\u001b[43m,\u001b[49m\n\u001b[32m  10841\u001b[39m \u001b[43m        \u001b[49m\u001b[43mright\u001b[49m\u001b[43m,\u001b[49m\n\u001b[32m  10842\u001b[39m \u001b[43m        \u001b[49m\u001b[43mhow\u001b[49m\u001b[43m=\u001b[49m\u001b[43mhow\u001b[49m\u001b[43m,\u001b[49m\n\u001b[32m  10843\u001b[39m \u001b[43m        \u001b[49m\u001b[43mon\u001b[49m\u001b[43m=\u001b[49m\u001b[43mon\u001b[49m\u001b[43m,\u001b[49m\n\u001b[32m  10844\u001b[39m \u001b[43m        \u001b[49m\u001b[43mleft_on\u001b[49m\u001b[43m=\u001b[49m\u001b[43mleft_on\u001b[49m\u001b[43m,\u001b[49m\n\u001b[32m  10845\u001b[39m \u001b[43m        \u001b[49m\u001b[43mright_on\u001b[49m\u001b[43m=\u001b[49m\u001b[43mright_on\u001b[49m\u001b[43m,\u001b[49m\n\u001b[32m  10846\u001b[39m \u001b[43m        \u001b[49m\u001b[43mleft_index\u001b[49m\u001b[43m=\u001b[49m\u001b[43mleft_index\u001b[49m\u001b[43m,\u001b[49m\n\u001b[32m  10847\u001b[39m \u001b[43m        \u001b[49m\u001b[43mright_index\u001b[49m\u001b[43m=\u001b[49m\u001b[43mright_index\u001b[49m\u001b[43m,\u001b[49m\n\u001b[32m  10848\u001b[39m \u001b[43m        \u001b[49m\u001b[43msort\u001b[49m\u001b[43m=\u001b[49m\u001b[43msort\u001b[49m\u001b[43m,\u001b[49m\n\u001b[32m  10849\u001b[39m \u001b[43m        \u001b[49m\u001b[43msuffixes\u001b[49m\u001b[43m=\u001b[49m\u001b[43msuffixes\u001b[49m\u001b[43m,\u001b[49m\n\u001b[32m  10850\u001b[39m \u001b[43m        \u001b[49m\u001b[43mcopy\u001b[49m\u001b[43m=\u001b[49m\u001b[43mcopy\u001b[49m\u001b[43m,\u001b[49m\n\u001b[32m  10851\u001b[39m \u001b[43m        \u001b[49m\u001b[43mindicator\u001b[49m\u001b[43m=\u001b[49m\u001b[43mindicator\u001b[49m\u001b[43m,\u001b[49m\n\u001b[32m  10852\u001b[39m \u001b[43m        \u001b[49m\u001b[43mvalidate\u001b[49m\u001b[43m=\u001b[49m\u001b[43mvalidate\u001b[49m\u001b[43m,\u001b[49m\n\u001b[32m  10853\u001b[39m \u001b[43m    \u001b[49m\u001b[43m)\u001b[49m\n",
      "\u001b[36mFile \u001b[39m\u001b[32m~/workspace/DATASCI112/.venv/lib/python3.12/site-packages/pandas/core/reshape/merge.py:170\u001b[39m, in \u001b[36mmerge\u001b[39m\u001b[34m(left, right, how, on, left_on, right_on, left_index, right_index, sort, suffixes, copy, indicator, validate)\u001b[39m\n\u001b[32m    155\u001b[39m     \u001b[38;5;28;01mreturn\u001b[39;00m _cross_merge(\n\u001b[32m    156\u001b[39m         left_df,\n\u001b[32m    157\u001b[39m         right_df,\n\u001b[32m   (...)\u001b[39m\u001b[32m    167\u001b[39m         copy=copy,\n\u001b[32m    168\u001b[39m     )\n\u001b[32m    169\u001b[39m \u001b[38;5;28;01melse\u001b[39;00m:\n\u001b[32m--> \u001b[39m\u001b[32m170\u001b[39m     op = \u001b[43m_MergeOperation\u001b[49m\u001b[43m(\u001b[49m\n\u001b[32m    171\u001b[39m \u001b[43m        \u001b[49m\u001b[43mleft_df\u001b[49m\u001b[43m,\u001b[49m\n\u001b[32m    172\u001b[39m \u001b[43m        \u001b[49m\u001b[43mright_df\u001b[49m\u001b[43m,\u001b[49m\n\u001b[32m    173\u001b[39m \u001b[43m        \u001b[49m\u001b[43mhow\u001b[49m\u001b[43m=\u001b[49m\u001b[43mhow\u001b[49m\u001b[43m,\u001b[49m\n\u001b[32m    174\u001b[39m \u001b[43m        \u001b[49m\u001b[43mon\u001b[49m\u001b[43m=\u001b[49m\u001b[43mon\u001b[49m\u001b[43m,\u001b[49m\n\u001b[32m    175\u001b[39m \u001b[43m        \u001b[49m\u001b[43mleft_on\u001b[49m\u001b[43m=\u001b[49m\u001b[43mleft_on\u001b[49m\u001b[43m,\u001b[49m\n\u001b[32m    176\u001b[39m \u001b[43m        \u001b[49m\u001b[43mright_on\u001b[49m\u001b[43m=\u001b[49m\u001b[43mright_on\u001b[49m\u001b[43m,\u001b[49m\n\u001b[32m    177\u001b[39m \u001b[43m        \u001b[49m\u001b[43mleft_index\u001b[49m\u001b[43m=\u001b[49m\u001b[43mleft_index\u001b[49m\u001b[43m,\u001b[49m\n\u001b[32m    178\u001b[39m \u001b[43m        \u001b[49m\u001b[43mright_index\u001b[49m\u001b[43m=\u001b[49m\u001b[43mright_index\u001b[49m\u001b[43m,\u001b[49m\n\u001b[32m    179\u001b[39m \u001b[43m        \u001b[49m\u001b[43msort\u001b[49m\u001b[43m=\u001b[49m\u001b[43msort\u001b[49m\u001b[43m,\u001b[49m\n\u001b[32m    180\u001b[39m \u001b[43m        \u001b[49m\u001b[43msuffixes\u001b[49m\u001b[43m=\u001b[49m\u001b[43msuffixes\u001b[49m\u001b[43m,\u001b[49m\n\u001b[32m    181\u001b[39m \u001b[43m        \u001b[49m\u001b[43mindicator\u001b[49m\u001b[43m=\u001b[49m\u001b[43mindicator\u001b[49m\u001b[43m,\u001b[49m\n\u001b[32m    182\u001b[39m \u001b[43m        \u001b[49m\u001b[43mvalidate\u001b[49m\u001b[43m=\u001b[49m\u001b[43mvalidate\u001b[49m\u001b[43m,\u001b[49m\n\u001b[32m    183\u001b[39m \u001b[43m    \u001b[49m\u001b[43m)\u001b[49m\n\u001b[32m    184\u001b[39m     \u001b[38;5;28;01mreturn\u001b[39;00m op.get_result(copy=copy)\n",
      "\u001b[36mFile \u001b[39m\u001b[32m~/workspace/DATASCI112/.venv/lib/python3.12/site-packages/pandas/core/reshape/merge.py:813\u001b[39m, in \u001b[36m_MergeOperation.__init__\u001b[39m\u001b[34m(self, left, right, how, on, left_on, right_on, left_index, right_index, sort, suffixes, indicator, validate)\u001b[39m\n\u001b[32m    809\u001b[39m \u001b[38;5;66;03m# If argument passed to validate,\u001b[39;00m\n\u001b[32m    810\u001b[39m \u001b[38;5;66;03m# check if columns specified as unique\u001b[39;00m\n\u001b[32m    811\u001b[39m \u001b[38;5;66;03m# are in fact unique.\u001b[39;00m\n\u001b[32m    812\u001b[39m \u001b[38;5;28;01mif\u001b[39;00m validate \u001b[38;5;129;01mis\u001b[39;00m \u001b[38;5;129;01mnot\u001b[39;00m \u001b[38;5;28;01mNone\u001b[39;00m:\n\u001b[32m--> \u001b[39m\u001b[32m813\u001b[39m     \u001b[38;5;28;43mself\u001b[39;49m\u001b[43m.\u001b[49m\u001b[43m_validate_validate_kwd\u001b[49m\u001b[43m(\u001b[49m\u001b[43mvalidate\u001b[49m\u001b[43m)\u001b[49m\n",
      "\u001b[36mFile \u001b[39m\u001b[32m~/workspace/DATASCI112/.venv/lib/python3.12/site-packages/pandas/core/reshape/merge.py:1649\u001b[39m, in \u001b[36m_MergeOperation._validate_validate_kwd\u001b[39m\u001b[34m(self, validate)\u001b[39m\n\u001b[32m   1647\u001b[39m \u001b[38;5;28;01mif\u001b[39;00m validate \u001b[38;5;129;01min\u001b[39;00m [\u001b[33m\"\u001b[39m\u001b[33mone_to_one\u001b[39m\u001b[33m\"\u001b[39m, \u001b[33m\"\u001b[39m\u001b[33m1:1\u001b[39m\u001b[33m\"\u001b[39m]:\n\u001b[32m   1648\u001b[39m     \u001b[38;5;28;01mif\u001b[39;00m \u001b[38;5;129;01mnot\u001b[39;00m left_unique \u001b[38;5;129;01mand\u001b[39;00m \u001b[38;5;129;01mnot\u001b[39;00m right_unique:\n\u001b[32m-> \u001b[39m\u001b[32m1649\u001b[39m         \u001b[38;5;28;01mraise\u001b[39;00m MergeError(\n\u001b[32m   1650\u001b[39m             \u001b[33m\"\u001b[39m\u001b[33mMerge keys are not unique in either left \u001b[39m\u001b[33m\"\u001b[39m\n\u001b[32m   1651\u001b[39m             \u001b[33m\"\u001b[39m\u001b[33mor right dataset; not a one-to-one merge\u001b[39m\u001b[33m\"\u001b[39m\n\u001b[32m   1652\u001b[39m         )\n\u001b[32m   1653\u001b[39m     \u001b[38;5;28;01mif\u001b[39;00m \u001b[38;5;129;01mnot\u001b[39;00m left_unique:\n\u001b[32m   1654\u001b[39m         \u001b[38;5;28;01mraise\u001b[39;00m MergeError(\n\u001b[32m   1655\u001b[39m             \u001b[33m\"\u001b[39m\u001b[33mMerge keys are not unique in left dataset; not a one-to-one merge\u001b[39m\u001b[33m\"\u001b[39m\n\u001b[32m   1656\u001b[39m         )\n",
      "\u001b[31mMergeError\u001b[39m: Merge keys are not unique in either left or right dataset; not a one-to-one merge"
     ]
    }
   ],
   "source": [
    "df_1920.merge(df_2020, on=\"Name\", validate=\"one_to_one\")"
   ]
  },
  {
   "cell_type": "markdown",
   "id": "022f6339",
   "metadata": {},
   "source": [
    "Errors are (sometimes) your friend. They can prevent you from making even bigger mistakes!"
   ]
  },
  {
   "cell_type": "markdown",
   "id": "ddf6435d",
   "metadata": {},
   "source": [
    "## What We've Learned Today\n",
    "\n",
    "We've discussed two kinds of complications with joins:\n",
    "\n",
    "- when akey doesn’t appear in one table (outer, left, right join)\n",
    "- when akey appears multiple times in both tables (many-to-many joins)"
   ]
  }
 ],
 "metadata": {
  "kernelspec": {
   "display_name": "datasci112 (3.12.3)",
   "language": "python",
   "name": "python3"
  },
  "language_info": {
   "codemirror_mode": {
    "name": "ipython",
    "version": 3
   },
   "file_extension": ".py",
   "mimetype": "text/x-python",
   "name": "python",
   "nbconvert_exporter": "python",
   "pygments_lexer": "ipython3",
   "version": "3.12.3"
  }
 },
 "nbformat": 4,
 "nbformat_minor": 5
}
