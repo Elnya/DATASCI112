{
 "cells": [
  {
   "cell_type": "markdown",
   "id": "9637d545",
   "metadata": {},
   "source": [
    "# Quantitative Variables"
   ]
  },
  {
   "cell_type": "code",
   "execution_count": 2,
   "id": "64663ccc",
   "metadata": {},
   "outputs": [
    {
     "data": {
      "text/html": [
       "<div>\n",
       "<style scoped>\n",
       "    .dataframe tbody tr th:only-of-type {\n",
       "        vertical-align: middle;\n",
       "    }\n",
       "\n",
       "    .dataframe tbody tr th {\n",
       "        vertical-align: top;\n",
       "    }\n",
       "\n",
       "    .dataframe thead th {\n",
       "        text-align: right;\n",
       "    }\n",
       "</style>\n",
       "<table border=\"1\" class=\"dataframe\">\n",
       "  <thead>\n",
       "    <tr style=\"text-align: right;\">\n",
       "      <th></th>\n",
       "      <th>Departamento</th>\n",
       "      <th>Edad</th>\n",
       "      <th>Sexo</th>\n",
       "      <th>Tipo</th>\n",
       "      <th>Ubicación</th>\n",
       "      <th>Estado</th>\n",
       "      <th>Fecha de inicio de síntomas</th>\n",
       "      <th>Fecha de muerte</th>\n",
       "      <th>Fecha de diagnóstico</th>\n",
       "      <th>Fecha recuperado</th>\n",
       "    </tr>\n",
       "  </thead>\n",
       "  <tbody>\n",
       "    <tr>\n",
       "      <th>0</th>\n",
       "      <td>Bogotá D.C.</td>\n",
       "      <td>19</td>\n",
       "      <td>F</td>\n",
       "      <td>Importado</td>\n",
       "      <td>Recuperado</td>\n",
       "      <td>Leve</td>\n",
       "      <td>2020-02-27</td>\n",
       "      <td>-   -</td>\n",
       "      <td>2020-03-06</td>\n",
       "      <td>2020-03-13</td>\n",
       "    </tr>\n",
       "    <tr>\n",
       "      <th>1</th>\n",
       "      <td>Valle del Cauca</td>\n",
       "      <td>34</td>\n",
       "      <td>M</td>\n",
       "      <td>Importado</td>\n",
       "      <td>Recuperado</td>\n",
       "      <td>Leve</td>\n",
       "      <td>2020-03-04</td>\n",
       "      <td>-   -</td>\n",
       "      <td>2020-03-09</td>\n",
       "      <td>2020-03-19</td>\n",
       "    </tr>\n",
       "    <tr>\n",
       "      <th>2</th>\n",
       "      <td>Antioquia</td>\n",
       "      <td>50</td>\n",
       "      <td>F</td>\n",
       "      <td>Importado</td>\n",
       "      <td>Recuperado</td>\n",
       "      <td>Leve</td>\n",
       "      <td>2020-02-29</td>\n",
       "      <td>-   -</td>\n",
       "      <td>2020-03-09</td>\n",
       "      <td>2020-03-15</td>\n",
       "    </tr>\n",
       "    <tr>\n",
       "      <th>3</th>\n",
       "      <td>Antioquia</td>\n",
       "      <td>55</td>\n",
       "      <td>M</td>\n",
       "      <td>Relacionado</td>\n",
       "      <td>Recuperado</td>\n",
       "      <td>Leve</td>\n",
       "      <td>2020-03-06</td>\n",
       "      <td>-   -</td>\n",
       "      <td>2020-03-11</td>\n",
       "      <td>2020-03-26</td>\n",
       "    </tr>\n",
       "    <tr>\n",
       "      <th>4</th>\n",
       "      <td>Antioquia</td>\n",
       "      <td>25</td>\n",
       "      <td>M</td>\n",
       "      <td>Relacionado</td>\n",
       "      <td>Recuperado</td>\n",
       "      <td>Leve</td>\n",
       "      <td>2020-03-08</td>\n",
       "      <td>-   -</td>\n",
       "      <td>2020-03-11</td>\n",
       "      <td>2020-03-23</td>\n",
       "    </tr>\n",
       "    <tr>\n",
       "      <th>...</th>\n",
       "      <td>...</td>\n",
       "      <td>...</td>\n",
       "      <td>...</td>\n",
       "      <td>...</td>\n",
       "      <td>...</td>\n",
       "      <td>...</td>\n",
       "      <td>...</td>\n",
       "      <td>...</td>\n",
       "      <td>...</td>\n",
       "      <td>...</td>\n",
       "    </tr>\n",
       "    <tr>\n",
       "      <th>25361</th>\n",
       "      <td>Buenaventura D.E.</td>\n",
       "      <td>48</td>\n",
       "      <td>M</td>\n",
       "      <td>En estudio</td>\n",
       "      <td>Hospital</td>\n",
       "      <td>Moderado</td>\n",
       "      <td>2020-05-12</td>\n",
       "      <td>-   -</td>\n",
       "      <td>2020-05-28</td>\n",
       "      <td>NaN</td>\n",
       "    </tr>\n",
       "    <tr>\n",
       "      <th>25362</th>\n",
       "      <td>Valle del Cauca</td>\n",
       "      <td>55</td>\n",
       "      <td>F</td>\n",
       "      <td>En estudio</td>\n",
       "      <td>Casa</td>\n",
       "      <td>Leve</td>\n",
       "      <td>2020-05-21</td>\n",
       "      <td>/  /</td>\n",
       "      <td>2020-05-28</td>\n",
       "      <td>NaN</td>\n",
       "    </tr>\n",
       "    <tr>\n",
       "      <th>25363</th>\n",
       "      <td>Buenaventura D.E.</td>\n",
       "      <td>39</td>\n",
       "      <td>F</td>\n",
       "      <td>En estudio</td>\n",
       "      <td>Casa</td>\n",
       "      <td>Leve</td>\n",
       "      <td>2020-05-23</td>\n",
       "      <td>/  /</td>\n",
       "      <td>2020-05-28</td>\n",
       "      <td>NaN</td>\n",
       "    </tr>\n",
       "    <tr>\n",
       "      <th>25364</th>\n",
       "      <td>Valle del Cauca</td>\n",
       "      <td>13</td>\n",
       "      <td>F</td>\n",
       "      <td>En estudio</td>\n",
       "      <td>Casa</td>\n",
       "      <td>Leve</td>\n",
       "      <td>2020-05-13</td>\n",
       "      <td>/  /</td>\n",
       "      <td>2020-05-28</td>\n",
       "      <td>NaN</td>\n",
       "    </tr>\n",
       "    <tr>\n",
       "      <th>25365</th>\n",
       "      <td>Córdoba</td>\n",
       "      <td>0</td>\n",
       "      <td>F</td>\n",
       "      <td>En estudio</td>\n",
       "      <td>Hospital</td>\n",
       "      <td>Moderado</td>\n",
       "      <td>2020-05-11</td>\n",
       "      <td>-   -</td>\n",
       "      <td>2020-05-28</td>\n",
       "      <td>NaN</td>\n",
       "    </tr>\n",
       "  </tbody>\n",
       "</table>\n",
       "<p>25366 rows × 10 columns</p>\n",
       "</div>"
      ],
      "text/plain": [
       "            Departamento  Edad Sexo         Tipo   Ubicación    Estado  \\\n",
       "0            Bogotá D.C.    19    F    Importado  Recuperado      Leve   \n",
       "1        Valle del Cauca    34    M    Importado  Recuperado      Leve   \n",
       "2              Antioquia    50    F    Importado  Recuperado      Leve   \n",
       "3              Antioquia    55    M  Relacionado  Recuperado      Leve   \n",
       "4              Antioquia    25    M  Relacionado  Recuperado      Leve   \n",
       "...                  ...   ...  ...          ...         ...       ...   \n",
       "25361  Buenaventura D.E.    48    M   En estudio    Hospital  Moderado   \n",
       "25362    Valle del Cauca    55    F   En estudio        Casa      Leve   \n",
       "25363  Buenaventura D.E.    39    F   En estudio        Casa      Leve   \n",
       "25364    Valle del Cauca    13    F   En estudio        Casa      Leve   \n",
       "25365            Córdoba     0    F   En estudio    Hospital  Moderado   \n",
       "\n",
       "      Fecha de inicio de síntomas Fecha de muerte Fecha de diagnóstico  \\\n",
       "0                      2020-02-27           -   -           2020-03-06   \n",
       "1                      2020-03-04           -   -           2020-03-09   \n",
       "2                      2020-02-29           -   -           2020-03-09   \n",
       "3                      2020-03-06           -   -           2020-03-11   \n",
       "4                      2020-03-08           -   -           2020-03-11   \n",
       "...                           ...             ...                  ...   \n",
       "25361                  2020-05-12           -   -           2020-05-28   \n",
       "25362                  2020-05-21            /  /           2020-05-28   \n",
       "25363                  2020-05-23            /  /           2020-05-28   \n",
       "25364                  2020-05-13            /  /           2020-05-28   \n",
       "25365                  2020-05-11           -   -           2020-05-28   \n",
       "\n",
       "      Fecha recuperado  \n",
       "0           2020-03-13  \n",
       "1           2020-03-19  \n",
       "2           2020-03-15  \n",
       "3           2020-03-26  \n",
       "4           2020-03-23  \n",
       "...                ...  \n",
       "25361              NaN  \n",
       "25362              NaN  \n",
       "25363              NaN  \n",
       "25364              NaN  \n",
       "25365              NaN  \n",
       "\n",
       "[25366 rows x 10 columns]"
      ]
     },
     "execution_count": 2,
     "metadata": {},
     "output_type": "execute_result"
    }
   ],
   "source": [
    "import pandas as pd\n",
    "# Load the Colombia COVID-19 data from a CSV file\n",
    "df_CO = pd.read_csv('data/colombia_2020-05-28.csv')\n",
    "df_CO"
   ]
  },
  {
   "cell_type": "markdown",
   "id": "e5e12707",
   "metadata": {},
   "source": [
    "## Visualizing One Quantitative Variable\n",
    "\n",
    "quantitative variable -> (bining) -> categorical variable -> make a \"bar plot\""
   ]
  },
  {
   "cell_type": "code",
   "execution_count": 8,
   "id": "c7f5c933",
   "metadata": {},
   "outputs": [
    {
     "data": {
      "text/plain": [
       "<Axes: title={'center': 'COVID-19 Cases by Age Group in Colombia'}, xlabel='age'>"
      ]
     },
     "execution_count": 8,
     "metadata": {},
     "output_type": "execute_result"
    },
    {
     "data": {
      "image/png": "[encoded data removed]",
      "text/plain": [
       "<Figure size 640x480 with 1 Axes>"
      ]
     },
     "metadata": {},
     "output_type": "display_data"
    }
   ],
   "source": [
    "df_CO['age'] = pd.cut(\n",
    "    df_CO['Edad'],\n",
    "    bins=[0, 10, 20, 30, 40, 50, 60, 70, 80, 120],\n",
    "    labels=['0-10', '11-20', '21-30', '31-40', '41-50', '51-60', '61-70', '71-80', '80+'],\n",
    "    right=False\n",
    ")\n",
    "df_CO['age'].value_counts(sort=False).plot(kind='bar', title='COVID-19 Cases by Age Group in Colombia')"
   ]
  },
  {
   "cell_type": "markdown",
   "id": "d4659937",
   "metadata": {},
   "source": [
    "## Histograms\n",
    "\n",
    "Pandas provides a built-in method for constructinc histograms:\n",
    "`Series.plot.hist()`\n",
    "\n",
    "Comparison between \n",
    "- There are no spaces between the bars.\n",
    "- The x-axis is just numbers, rather than bins."
   ]
  },
  {
   "cell_type": "code",
   "execution_count": 9,
   "id": "e2d4cbc5",
   "metadata": {},
   "outputs": [
    {
     "data": {
      "text/plain": [
       "<Axes: ylabel='Frequency'>"
      ]
     },
     "execution_count": 9,
     "metadata": {},
     "output_type": "execute_result"
    },
    {
     "data": {
      "image/png": "[encoded data removed]",
      "text/plain": [
       "<Figure size 640x480 with 1 Axes>"
      ]
     },
     "metadata": {},
     "output_type": "display_data"
    }
   ],
   "source": [
    "df_CO['Edad'].plot.hist()"
   ]
  },
  {
   "cell_type": "markdown",
   "id": "884c3ca7",
   "metadata": {},
   "source": [
    "## Distributions\n",
    "\n",
    " The **distribution** of a quantitative variable is similar. The counts\n",
    " are scaled so that the total area is 1.0 (or 100%)."
   ]
  },
  {
   "cell_type": "code",
   "execution_count": 10,
   "id": "f1806716",
   "metadata": {},
   "outputs": [
    {
     "data": {
      "text/plain": [
       "<Axes: ylabel='Frequency'>"
      ]
     },
     "execution_count": 10,
     "metadata": {},
     "output_type": "execute_result"
    },
    {
     "data": {
      "image/png": "[encoded data removed]",
      "text/plain": [
       "<Figure size 640x480 with 1 Axes>"
      ]
     },
     "metadata": {},
     "output_type": "display_data"
    }
   ],
   "source": [
    "df_CO['Edad'].plot.hist(density=True)"
   ]
  },
  {
   "cell_type": "markdown",
   "id": "9a96954f",
   "metadata": {},
   "source": [
    "## Summarizing a Quantitative \n",
    "\n",
    "- If you had to summarize this data using a single number, what\n",
    " number would you pick?\n",
    "    1. Center\n",
    "    2. Spread\n",
    "\n",
    "## Summaries of Center: Mean\n",
    "\n",
    "To calculate the mean of a quantitative variable $\\mathrm{x}$ with values $x_1, x_2, x_3, \\dotsc, x_n,$ we use the fomula:\n",
    "\n",
    "$$\n",
    "\\mathrm{\\bar{x}} = \\mathrm{mean(x)} = \\frac{\\sum_{i=1}^n x_i}{n}\n",
    "$$\n",
    "\n",
    "**Caution:** It is not at all obvious that this fomula should give a summary of center! "
   ]
  },
  {
   "cell_type": "code",
   "execution_count": null,
   "id": "30244448",
   "metadata": {},
   "outputs": [
    {
     "data": {
      "text/plain": [
       "np.float64(39.04742568792872)"
      ]
     },
     "execution_count": 13,
     "metadata": {},
     "output_type": "execute_result"
    }
   ],
   "source": [
    "# Calculate the mean age manually\n",
    "df_CO['Edad'].sum() / len(df_CO)\n",
    "\n",
    "# or use the built-in method\n",
    "df_CO['Edad'].mean()"
   ]
  },
  {
   "cell_type": "code",
   "execution_count": null,
   "id": "ef679795",
   "metadata": {},
   "outputs": [
    {
     "data": {
      "text/plain": [
       "np.int64(15361477)"
      ]
     },
     "execution_count": 15,
     "metadata": {},
     "output_type": "execute_result"
    }
   ],
   "source": [
    "# The mean is the value c that minimizes the sum of squared distances to the observations.\n",
    "\n",
    "((df_CO['Edad'] - 23) ** 2).sum()"
   ]
  },
  {
   "cell_type": "code",
   "execution_count": 16,
   "id": "bf0dc3e5",
   "metadata": {},
   "outputs": [
    {
     "data": {
      "text/plain": [
       "np.int64(11872105)"
      ]
     },
     "execution_count": 16,
     "metadata": {},
     "output_type": "execute_result"
    }
   ],
   "source": [
    "c = 50\n",
    "((df_CO[\"Edad\"] - c) ** 2).sum()"
   ]
  },
  {
   "cell_type": "code",
   "execution_count": null,
   "id": "5bca9632",
   "metadata": {},
   "outputs": [
    {
     "data": {
      "text/plain": [
       "<Axes: title={'center': 'Sum of Squared Distances vs. c'}>"
      ]
     },
     "execution_count": 17,
     "metadata": {},
     "output_type": "execute_result"
    },
    {
     "data": {
      "image/png": "[encoded data removed]",
      "text/plain": [
       "<Figure size 640x480 with 1 Axes>"
      ]
     },
     "metadata": {},
     "output_type": "display_data"
    }
   ],
   "source": [
    "cs = range(0, 60)\n",
    "sum_squared_distances = []\n",
    "\n",
    "for c in cs: \n",
    "    sum_squared_distances.append(((df_CO['Edad'] - c) ** 2).sum())\n",
    "\n",
    "# What is the minimum value of the sum of squared distances?\n",
    "pd.Series(sum_squared_distances, index=cs).plot.line(title='Sum of Squared Distances vs. c')"
   ]
  },
  {
   "cell_type": "markdown",
   "id": "46029015",
   "metadata": {},
   "source": [
    "## Summaries of Center: Median\n",
    "\n",
    "- the \"middle\" of the *sorted* values\n",
    "\n",
    "- To calculate the mean of a quantitative variable $\\mathrm{x}$ with values $x_1, x_2, x_3, ..., x_n,$ we do the following steps: \n",
    "\n",
    "1. Sort the values from smallest to largest: (sorted value = **order statistics**)\n",
    "\n",
    "$$\n",
    "x_(1), x_(2), x_(3), \\dotsc, x_(n)\\cdot\n",
    "$$\n",
    "\n",
    "2. The \"middle\" value depends on whether we have an odd or an even number of observations.\n",
    "   - If $n$ is odd, middle value = $x_{(\\frac{n+1}{2})}$\n",
    "   - If $n$ is even, middle values = $x_{(\\frac{n}{2})}$ and $x_{(\\frac{n}{2}+1)}$\n",
    "\n"
   ]
  },
  {
   "cell_type": "code",
   "execution_count": null,
   "id": "b9a95600",
   "metadata": {},
   "outputs": [
    {
     "data": {
      "text/plain": [
       "37.0"
      ]
     },
     "execution_count": 3,
     "metadata": {},
     "output_type": "execute_result"
    }
   ],
   "source": [
    "# calculate median manually\n",
    "# code generated by Microsoft Copilot\n",
    "\n",
    "def calculate_median(series: pd.Series) -> float:\n",
    "    # 1. 데이터를 정렬합니다.\n",
    "    sorted_series = sorted(series)\n",
    "    \n",
    "    # 2. 데이터 길이를 구합니다.\n",
    "    length = len(sorted_series)\n",
    "    \n",
    "    # 3. 길이가 짝수인지 홀수인지에 따라 다르게 처리합니다.\n",
    "    if length % 2 == 0:\n",
    "        # 짝수인 경우: 중앙에 있는 두 값의 평균을 계산\n",
    "        middle_left = sorted_series[length // 2 - 1]\n",
    "        middle_right = sorted_series[length // 2]\n",
    "        median = (middle_left + middle_right) / 2\n",
    "    else:\n",
    "        # 홀수인 경우: 중앙 값 그대로 반환\n",
    "        median = sorted_series[length // 2]\n",
    "    \n",
    "    return median\n",
    "\n",
    "calculate_median(df_CO['Edad'])"
   ]
  },
  {
   "cell_type": "code",
   "execution_count": 4,
   "id": "277deb2d",
   "metadata": {},
   "outputs": [
    {
     "data": {
      "text/plain": [
       "np.float64(37.0)"
      ]
     },
     "execution_count": 4,
     "metadata": {},
     "output_type": "execute_result"
    }
   ],
   "source": [
    "# calculate median using built-in method\n",
    "df_CO['Edad'].median()"
   ]
  },
  {
   "cell_type": "code",
   "execution_count": 5,
   "id": "7449bf46",
   "metadata": {},
   "outputs": [
    {
     "data": {
      "text/plain": [
       "(np.float64(39.04742568792872), np.float64(37.0))"
      ]
     },
     "execution_count": 5,
     "metadata": {},
     "output_type": "execute_result"
    }
   ],
   "source": [
    "df_CO_age_mean = df_CO['Edad'].mean()\n",
    "df_CO_age_median = df_CO['Edad'].median()\n",
    "# Compare the mean and median\n",
    "df_CO_age_mean, df_CO_age_median"
   ]
  },
  {
   "cell_type": "markdown",
   "id": "70bec92b",
   "metadata": {},
   "source": [
    "## Summaries of Spread: Variance\n",
    "\n",
    "The variance of a variable $\\mathrm{x}$ whose values are $x_1, x_2, x_3, \\dotsc, x_n$ is calculated using the fomula\n",
    "\n",
    "$$\n",
    "\\mathrm{var(x)} = \\frac{\\sum_{i=1}^n (x_i - \\mathrm{\\bar{x}})^2}{n - 1}\n",
    "$$\n",
    "\n",
    "단, 이럴 경우 제곱이 되어버림..."
   ]
  },
  {
   "cell_type": "code",
   "execution_count": null,
   "id": "85ed0184",
   "metadata": {},
   "outputs": [
    {
     "data": {
      "text/plain": [
       "np.float64(348.0870469898451)"
      ]
     },
     "execution_count": 6,
     "metadata": {},
     "output_type": "execute_result"
    }
   ],
   "source": [
    "# implementing the variance fomula manually\n",
    "(((df_CO['Edad'] - df_CO['Edad'].mean()) ** 2).sum() / (len(df_CO) - 1))"
   ]
  },
  {
   "cell_type": "code",
   "execution_count": 7,
   "id": "6782e731",
   "metadata": {},
   "outputs": [
    {
     "data": {
      "text/plain": [
       "np.float64(348.0870469898451)"
      ]
     },
     "execution_count": 7,
     "metadata": {},
     "output_type": "execute_result"
    }
   ],
   "source": [
    "# or use the built-in method\n",
    "df_CO['Edad'].var()"
   ]
  },
  {
   "cell_type": "markdown",
   "id": "6c33ae2f",
   "metadata": {},
   "source": [
    "## Summaries of Spread: Standard Deviation\n",
    "\n",
    "To fix the units, we take the square root to get the **standard deviation:**\n",
    "\n",
    "$$\n",
    "\\mathrm{sd(x) = \\sqrt{var(x)}}\n",
    "$$"
   ]
  },
  {
   "cell_type": "code",
   "execution_count": 8,
   "id": "b35975bf",
   "metadata": {},
   "outputs": [
    {
     "data": {
      "text/plain": [
       "np.float64(18.65709106452142)"
      ]
     },
     "execution_count": 8,
     "metadata": {},
     "output_type": "execute_result"
    }
   ],
   "source": [
    "# calculate standard deviation using the Series.std() method\n",
    "df_CO['Edad'].std()"
   ]
  }
 ],
 "metadata": {
  "kernelspec": {
   "display_name": "ai-ml-study",
   "language": "python",
   "name": "python3"
  },
  "language_info": {
   "codemirror_mode": {
    "name": "ipython",
    "version": 3
   },
   "file_extension": ".py",
   "mimetype": "text/x-python",
   "name": "python",
   "nbconvert_exporter": "python",
   "pygments_lexer": "ipython3",
   "version": "3.12.9"
  }
 },
 "nbformat": 4,
 "nbformat_minor": 5
}
