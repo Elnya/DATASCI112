{
 "cells": [
  {
   "cell_type": "markdown",
   "id": "d7e0dd4a",
   "metadata": {},
   "source": [
    "# Getting Comfortable with Latitude and Longitude\n",
    "\n",
    "In the next few lectures, we will be working with **geospatial data**---that is, data involving locations on Earth.\n",
    "\n",
    "Locations on Earth are specified using **latitude** and **longitude**.\n",
    "\n",
    "- Longitude specifies east-west position.\n",
    "- Latitude specifies north-south position.\n",
    "\n",
    "For example, the location below is at a longitude of $\\lambda = -45^\\circ$ and a latitude of $\\phi = 30^\\circ$.\n",
    "\n",
    "<img src=\"https://camo.githubusercontent.com/4be5598b5c6c48e7dee4fad2718c496985af48da3e3afe9cdc2c467ef7c51301/68747470733a2f2f6769746875622e636f6d2f646c73756e2f706f64732f626c6f622f6d61737465722f31322d47656f7370617469616c2d446174612f696d672f636f6f7264696e6174652e706e673f7261773d31\" width=\"500\">\n",
    "\n",
    "The Earth is split into:\n",
    "\n",
    "- Northern and Southern Hemispheres by the **equator** (at $0^\\circ$ latitude)\n",
    "- Eastern and Western Hemispheres by the **prime meridian** (at $0^\\circ$ longitude).\n",
    "\n",
    "Latitude and longitude represent angles relative to the equator and prime meridian, respectively.\n",
    "\n",
    "<img src=\"https://camo.githubusercontent.com/743975394143e912443d9e8c3a5331056e8b1008ad574d0181640047ab669b32/68747470733a2f2f6769746875622e636f6d2f646c73756e2f706f64732f626c6f622f6d61737465722f31322d47656f7370617469616c2d446174612f696d672f636f6f7264696e6174655f6c6162656c65642e706e673f7261773d31\" width=\"500\">\n",
    "\n",
    "Note that longitudes west of the prime meridian and latitudes south of the equator are negative."
   ]
  },
  {
   "cell_type": "markdown",
   "id": "60bff4cd",
   "metadata": {},
   "source": [
    "## World Cities Data\n",
    "\n",
    "We will work with a dataset containing the locations and populations of world \"cities\". (As you will see, some of the places in this dataset are not really cities.)"
   ]
  },
  {
   "cell_type": "code",
   "execution_count": null,
   "id": "35ee6811",
   "metadata": {},
   "outputs": [],
   "source": [
    "import pandas as pd\n",
    "df_cities = pd.read_csv(\"http://dlsun.github.io/pods/data/worldcities.csv\")\n",
    "df_cities"
   ]
  },
  {
   "cell_type": "markdown",
   "id": "db819907",
   "metadata": {},
   "source": [
    "### Exercise 1\n",
    "\n",
    "What are the northernmost and southernmost \"cities\" in the world?\n",
    "\n",
    "(You may want to try restricting to places with a population of at least 1000.)"
   ]
  },
  {
   "cell_type": "code",
   "execution_count": null,
   "id": "d632423d",
   "metadata": {},
   "outputs": [],
   "source": []
  },
  {
   "cell_type": "markdown",
   "id": "47a8e719",
   "metadata": {},
   "source": [
    "### Exercise 2\n",
    "\n",
    "Let's call a place a \"city\" if it has a population of at least 30,000. What are the westernmost and easternmost cities in the world?\n",
    "\n",
    "Look these cities up on a map. How far apart are these cities really?"
   ]
  },
  {
   "cell_type": "code",
   "execution_count": null,
   "id": "06e6a0ad",
   "metadata": {},
   "outputs": [],
   "source": []
  },
  {
   "cell_type": "markdown",
   "id": "1e5be635",
   "metadata": {},
   "source": [
    "### Exercise 3\n",
    "\n",
    "Which state in the U.S. is closest to Morocco? (Take a guess before you do this exercise.)\n",
    "\n",
    "You can answer this question by finding the closest cities in the United States to Casablanca, Morocco (made famous by the 1942 movie)."
   ]
  },
  {
   "cell_type": "code",
   "execution_count": null,
   "id": "2844dfb9",
   "metadata": {},
   "outputs": [],
   "source": []
  },
  {
   "cell_type": "markdown",
   "id": "4501078f",
   "metadata": {},
   "source": [
    "## Problems with Euclidean Distance\n",
    "\n",
    "In Exercise 3, you used Euclidean distance to measure the distance between two points $\\vec x_1 = (\\lambda_1, \\phi_1)$ and $\\vec x_2 = (\\lambda_2, \\phi_2)$. That is, you calculated the distance as:\n",
    "\n",
    "$$ d(\\vec x_1, \\vec x_2) = \\sqrt{(\\lambda_1 - \\lambda_2)^2 + (\\phi_1 - \\phi_2)^2}. $$\n",
    "\n",
    "However, there are problems with Euclidean distance, as we now explore."
   ]
  },
  {
   "cell_type": "markdown",
   "id": "231c7292",
   "metadata": {},
   "source": [
    "Which city is closer to London: Vancouver or Singapore? If we use Euclidean distance:"
   ]
  },
  {
   "cell_type": "code",
   "execution_count": null,
   "id": "8da72474",
   "metadata": {},
   "outputs": [],
   "source": [
    "from sklearn.metrics import pairwise_distances\n",
    "\n",
    "df_cities_indexed = df_cities.set_index([\"city\", \"country\"])\n",
    "cities = [(\"London\", \"United Kingdom\"),\n",
    "          (\"Vancouver\", \"Canada\"),\n",
    "          (\"Singapore\", \"Singapore\")]\n",
    "\n",
    "pairwise_distances(df_cities_indexed.loc[cities, [\"lat\", \"lng\"]])"
   ]
  },
  {
   "cell_type": "markdown",
   "id": "52922d34",
   "metadata": {},
   "source": [
    "Singapore appears to be closer than Vancouver (distance of 115 vs. 123). But is it really? A flight between London and Vancouver takes 9-10 hours; a flight between London and Singapore takes 13-15 hours."
   ]
  },
  {
   "cell_type": "markdown",
   "id": "131e0ad0",
   "metadata": {},
   "source": [
    "Because the Earth is (approximately) a sphere, the shortest path between two locations may not be a straight line, which is what Euclidean distance measures.\n",
    "\n",
    "Instead, the shortest path is along the **great circle** passing through the two points. A great circle is any line going around the Earth that divides the sphere into two equal hemispheres.\n",
    "\n",
    "<img src=\"https://camo.githubusercontent.com/445680e66ecafe2c93e04c723bdd8ee2e7c9189bb78ae90e78d5f74b66d4d642/68747470733a2f2f6769746875622e636f6d2f646c73756e2f706f64732f626c6f622f6d61737465722f31322d47656f7370617469616c2d446174612f696d672f686176657273696e652e706e673f7261773d31\" />\n",
    "\n",
    "To appreciate the difference between the shortest path and the straight line, take a look at [this app](https://academo.org/demos/geodesics/). This phenomenon is likely familiar to you if you have taken a transcontinental flight."
   ]
  },
  {
   "cell_type": "markdown",
   "id": "041af109",
   "metadata": {},
   "source": [
    "To calculate the length of the shortest path, we need a new distance metric.\n",
    "\n",
    "**Haversine distance** calculates the distance between two points on a sphere. It is defined as:\n",
    "$$ d({\\bf x}_1, {\\bf x}_2) = 2r \\arcsin\\left( \\sqrt{\\sin^2\\left( \\frac{\\phi_1 - \\phi_2}{2} \\right) + \\cos(\\phi_1) \\cos(\\phi_2) \\sin^2\\left( \\frac{\\lambda_1 - \\lambda_2}{2} \\right)} \\right),$$\n",
    "where $r$ is the radius of the sphere. Note that the latitudes $\\phi_j$ and longitudes $\\lambda_j$ must be in _radians_.\n",
    "\n",
    "Because the Earth is not actually a sphere, Haversine distance is only approximate for measuring distance between two locations on Earth. But it is much better than Euclidean distance."
   ]
  },
  {
   "cell_type": "markdown",
   "id": "433a7c83",
   "metadata": {},
   "source": [
    "We can calculate Haversine distance using Scikit-Learn by specifying `metric=\"haversine\"`. Don't forget to convert latitude and longitude, which are in degrees, to radians by multiplying by $\\pi / 180$."
   ]
  },
  {
   "cell_type": "code",
   "execution_count": null,
   "id": "f018f118",
   "metadata": {},
   "outputs": [],
   "source": [
    "# convert latitude and longitude to radians\n",
    "import numpy as np\n",
    "radians = np.pi / 180 * df_cities_indexed.loc[cities, [\"lat\", \"lng\"]]\n",
    "\n",
    "pairwise_distances(radians, metric=\"haversine\")"
   ]
  },
  {
   "cell_type": "markdown",
   "id": "82863b56",
   "metadata": {},
   "source": [
    "Now, Vancouver is correctly identified as being closer to London (distance of 1.19) than Singapore (distance of 1.70).\n",
    "\n",
    "Note that Scikit-Learn's Haversine distance assumes that the radius is $r=1$. If you want the distance in miles (kilometers), you have to multiply by the radius of the Earth, which is 3,960 miles (6,378 kilometers)."
   ]
  },
  {
   "cell_type": "markdown",
   "id": "4c806c51",
   "metadata": {},
   "source": [
    "### Exercise 4\n",
    "\n",
    "Let's do Exercise 3 again, but correctly this time. What cities in the United States are actually closest to Morocco using Haversine distance?"
   ]
  },
  {
   "cell_type": "code",
   "execution_count": null,
   "id": "4f76683c",
   "metadata": {},
   "outputs": [],
   "source": []
  }
 ],
 "metadata": {
  "language_info": {
   "name": "python"
  }
 },
 "nbformat": 4,
 "nbformat_minor": 5
}
