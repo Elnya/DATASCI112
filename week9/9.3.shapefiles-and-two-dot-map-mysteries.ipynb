{
 "cells": [
  {
   "cell_type": "markdown",
   "id": "c6a4ad35",
   "metadata": {},
   "source": [
    "# Shapefiles\n",
    "\n",
    "Shapefiles are a popular data format for geospatial data. A shapefile usually consists of several related files, such as:\n",
    "\n",
    "- a `.shp` file that stores the geometric location and shape of each feature\n",
    "- a `.prj` file that stores the map projection\n",
    "- a `.dbf` file containing tabular data about each feature"
   ]
  },
  {
   "cell_type": "markdown",
   "id": "d10161e4",
   "metadata": {},
   "source": [
    "Shapefiles are especially useful for drawing boundaries of countries, states, counties, etc. You can typically find shapefiles by searching on Google."
   ]
  },
  {
   "cell_type": "markdown",
   "id": "02593179",
   "metadata": {},
   "source": [
    "## Preparation\n",
    "\n",
    "Download the shapefile of the countries of the world from [this website](https://public.opendatasoft.com/explore/dataset/world-administrative-boundaries/export/?flg=en-us) as a `.zip` file. Upload this `.zip` file to the Colab runtime and unzip it by running the cell below."
   ]
  },
  {
   "cell_type": "code",
   "execution_count": null,
   "id": "c6025f78",
   "metadata": {},
   "outputs": [],
   "source": [
    "!unzip world-administrative-boundaries.zip"
   ]
  },
  {
   "cell_type": "markdown",
   "id": "8fc48911",
   "metadata": {},
   "source": [
    "Now, you should be able to see these files in the file browser. (If you can't, press the refresh button.)\n",
    "\n",
    "To read in a shapefile, we can use Geopandas."
   ]
  },
  {
   "cell_type": "code",
   "execution_count": null,
   "id": "806ed2b4",
   "metadata": {},
   "outputs": [],
   "source": [
    "import geopandas as gpd\n",
    "\n",
    "# You can read in any of the files in the shapefile and get the same result.\n",
    "gdf_world = gpd.read_file(\"world-administrative-boundaries.shp\")\n",
    "gdf_world"
   ]
  },
  {
   "cell_type": "markdown",
   "id": "cb7d32a7",
   "metadata": {},
   "source": [
    "Now, we can visualize this map by calling `.plot()` on this `GeoDataFrame`, as we saw in lecture."
   ]
  },
  {
   "cell_type": "code",
   "execution_count": null,
   "id": "5e5e96cb",
   "metadata": {},
   "outputs": [],
   "source": [
    "gdf_world.plot()"
   ]
  },
  {
   "cell_type": "markdown",
   "id": "59ca624a",
   "metadata": {},
   "source": [
    "We can find out the map projection that was used. (This information would have been in the `.prj` file in the shapefile.)"
   ]
  },
  {
   "cell_type": "code",
   "execution_count": null,
   "id": "99baf34b",
   "metadata": {},
   "outputs": [],
   "source": [
    "gdf_world.crs"
   ]
  },
  {
   "cell_type": "markdown",
   "id": "c69fb472",
   "metadata": {},
   "source": [
    "Can you figure out how to customize the colors of the borders and the countries?\n",
    "\n",
    "_Hint:_ Take a look at the documentation for [`.plot()`](https://geopandas.org/en/stable/docs/reference/api/geopandas.GeoDataFrame.plot.html#geopandas.GeoDataFrame.plot)."
   ]
  },
  {
   "cell_type": "markdown",
   "id": "7a312448",
   "metadata": {},
   "source": [
    "## Mystery 1\n",
    "\n",
    "The file https://datasci112.stanford.edu/data/dotmap_world.csv contains a mystery data set consisting of locations over the world.\n",
    "\n",
    "Make a **dot map** of this data on top of a world map. Can you figure out what this is a data set of?\n",
    "\n",
    "_Hint:_ https://datasci112.stanford.edu/data/dotmap_world_future.csv contains additional data, if you are stuck."
   ]
  },
  {
   "cell_type": "code",
   "execution_count": null,
   "id": "26344802",
   "metadata": {},
   "outputs": [],
   "source": []
  },
  {
   "cell_type": "markdown",
   "id": "8fc7e22c",
   "metadata": {},
   "source": [
    "## Mystery 2\n",
    "\n",
    "The file https://datasci112.stanford.edu/data/dotmap_us.csv contains a mystery data set consisting of locations in the United States.\n",
    "\n",
    "Make a dot map of this data on top of a U.S. map. You can download a shapefile of the U.S. states from [the U.S. Census Bureau website](https://www.census.gov/geographies/mapping-files/time-series/geo/cartographic-boundary.html).\n",
    "\n",
    "Can you figure out what this is a data set of?"
   ]
  },
  {
   "cell_type": "code",
   "execution_count": null,
   "id": "6649b7d5",
   "metadata": {},
   "outputs": [],
   "source": []
  }
 ],
 "metadata": {
  "language_info": {
   "name": "python"
  }
 },
 "nbformat": 4,
 "nbformat_minor": 5
}
