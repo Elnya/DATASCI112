{
 "cells": [
  {
   "cell_type": "markdown",
   "id": "52fd842e",
   "metadata": {},
   "source": [
    "# Practice Making Choropleths"
   ]
  },
  {
   "cell_type": "markdown",
   "id": "b3ab6735",
   "metadata": {},
   "source": [
    "## Map 1: U.S. Presidential Election by County"
   ]
  },
  {
   "cell_type": "markdown",
   "id": "99645e9e",
   "metadata": {},
   "source": [
    "### Part A\n",
    "\n",
    "Make a choropleth of the results from the U.S. presidential election by county.\n",
    "\n",
    "- Depending on which election you are interested in, the data is available at:\n",
    "    - https://dlsun.github.io/pods/data/election2016.csv\n",
    "    - https://dlsun.github.io/pods/data/election2020.csv\n",
    "    - https://dlsun.github.io/pods/data/election2024.csv\n",
    "- You can separately download county-level shapefiles from the [U.S. Census Bureau website](https://www.census.gov/geographies/mapping-files/time-series/geo/cartographic-boundary.html). Make sure you download the shapefiles corresponding to the year of the election!\n",
    "\n",
    "You can obtain the traditional red-blue color scheme using the option `cmap=\"RdBu\"`."
   ]
  },
  {
   "cell_type": "code",
   "execution_count": null,
   "id": "fda5ca5d",
   "metadata": {
    "vscode": {
     "languageId": "plaintext"
    }
   },
   "outputs": [],
   "source": []
  },
  {
   "cell_type": "markdown",
   "id": "431ec346",
   "metadata": {},
   "source": [
    "### Part B\n",
    "\n",
    "Notice that the color scale is automatically calculated from data so that some counties are colored red, even if the Democratic candidate won more votes!\n",
    "\n",
    "To make sure that the color hue (blue or red) corresponds to which candidate won, we will do the following:\n",
    "\n",
    "- graph the _difference_ between the percentage of votes for the Democratic candidate and the percentage of votes for the Republican candidate\n",
    "- set the min and max of the color scale so that a difference of 0 is in the middle."
   ]
  },
  {
   "cell_type": "code",
   "execution_count": null,
   "id": "32d5dbd2",
   "metadata": {
    "vscode": {
     "languageId": "plaintext"
    }
   },
   "outputs": [],
   "source": []
  },
  {
   "cell_type": "markdown",
   "id": "e2888bc6",
   "metadata": {},
   "source": [
    "## Map 2: Mystery Statistic\n",
    "\n",
    "The data set https://datasci112.stanford.edu/data/choropleth_asia.csv contains a mystery statistic, **`Proportion`**, for countries in Asia.\n",
    "\n",
    "Make a choropleth of this mystery statistic. Can you figure out what **`Proportion`** represents?\n",
    "\n",
    "You can obtain a shapefile of the countries of the world from [this website](https://public.opendatasoft.com/explore/dataset/world-administrative-boundaries/export/?flg=en-us)."
   ]
  },
  {
   "cell_type": "markdown",
   "id": "14e4d3e9",
   "metadata": {},
   "source": []
  }
 ],
 "metadata": {
  "language_info": {
   "name": "python"
  }
 },
 "nbformat": 4,
 "nbformat_minor": 5
}
